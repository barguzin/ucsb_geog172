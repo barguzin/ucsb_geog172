{
  "cells": [
    {
      "cell_type": "code",
      "execution_count": 1,
      "metadata": {
        "colab": {
          "base_uri": "https://localhost:8080/"
        },
        "id": "9eJeQ7PjsQCo",
        "outputId": "84ef6c91-9a7e-446c-af03-25fdeb75241a"
      },
      "outputs": [
        {
          "name": "stdout",
          "output_type": "stream",
          "text": [
            "Looking in indexes: https://pypi.org/simple, https://us-python.pkg.dev/colab-wheels/public/simple/\n",
            "Requirement already satisfied: geopandas in /usr/local/lib/python3.7/dist-packages (0.10.2)\n",
            "Requirement already satisfied: shapely in /usr/local/lib/python3.7/dist-packages (1.8.4)\n",
            "Requirement already satisfied: fiona in /usr/local/lib/python3.7/dist-packages (1.8.21)\n",
            "Requirement already satisfied: pyproj in /usr/local/lib/python3.7/dist-packages (3.2.1)\n",
            "Requirement already satisfied: rtree in /usr/local/lib/python3.7/dist-packages (1.0.0)\n",
            "Requirement already satisfied: pandas>=0.25.0 in /usr/local/lib/python3.7/dist-packages (from geopandas) (1.3.5)\n",
            "Requirement already satisfied: click-plugins>=1.0 in /usr/local/lib/python3.7/dist-packages (from fiona) (1.1.1)\n",
            "Requirement already satisfied: six>=1.7 in /usr/local/lib/python3.7/dist-packages (from fiona) (1.15.0)\n",
            "Requirement already satisfied: attrs>=17 in /usr/local/lib/python3.7/dist-packages (from fiona) (22.1.0)\n",
            "Requirement already satisfied: click>=4.0 in /usr/local/lib/python3.7/dist-packages (from fiona) (7.1.2)\n",
            "Requirement already satisfied: cligj>=0.5 in /usr/local/lib/python3.7/dist-packages (from fiona) (0.7.2)\n",
            "Requirement already satisfied: munch in /usr/local/lib/python3.7/dist-packages (from fiona) (2.5.0)\n",
            "Requirement already satisfied: setuptools in /usr/local/lib/python3.7/dist-packages (from fiona) (57.4.0)\n",
            "Requirement already satisfied: certifi in /usr/local/lib/python3.7/dist-packages (from fiona) (2022.6.15)\n",
            "Requirement already satisfied: pytz>=2017.3 in /usr/local/lib/python3.7/dist-packages (from pandas>=0.25.0->geopandas) (2022.2.1)\n",
            "Requirement already satisfied: numpy>=1.17.3 in /usr/local/lib/python3.7/dist-packages (from pandas>=0.25.0->geopandas) (1.21.6)\n",
            "Requirement already satisfied: python-dateutil>=2.7.3 in /usr/local/lib/python3.7/dist-packages (from pandas>=0.25.0->geopandas) (2.8.2)\n",
            "Requirement already satisfied: typing-extensions>=3.7 in /usr/local/lib/python3.7/dist-packages (from rtree) (4.1.1)\n"
          ]
        }
      ],
      "source": [
        "!pip install geopandas shapely fiona pyproj rtree"
      ]
    },
    {
      "cell_type": "code",
      "execution_count": 2,
      "metadata": {
        "id": "naPw2Y69ykIJ"
      },
      "outputs": [],
      "source": [
        "import fiona \n",
        "import pandas as pd\n",
        "import geopandas as gpd\n",
        "import matplotlib.pyplot as plt\n",
        "import seaborn as sns\n",
        "import numpy as np"
      ]
    },
    {
      "cell_type": "markdown",
      "metadata": {
        "id": "mZ_ucanwCuCV"
      },
      "source": [
        "## Getting Data"
      ]
    },
    {
      "cell_type": "markdown",
      "metadata": {
        "id": "sIJjjVcSCw5d"
      },
      "source": [
        "### Fire Perimeters"
      ]
    },
    {
      "cell_type": "code",
      "execution_count": 3,
      "metadata": {
        "colab": {
          "base_uri": "https://localhost:8080/"
        },
        "id": "FAkXT878yqJa",
        "outputId": "356ed2e4-8366-43a1-d4e2-187de8d09d45"
      },
      "outputs": [
        {
          "name": "stdout",
          "output_type": "stream",
          "text": [
            "File ‘fire_perims.zip’ already there; not retrieving.\n"
          ]
        }
      ],
      "source": [
        "! wget https://frap.fire.ca.gov/media/3ufh3ajg/fire21_1.zip -O fire_perims.zip -nc "
      ]
    },
    {
      "cell_type": "code",
      "execution_count": 4,
      "metadata": {
        "colab": {
          "base_uri": "https://localhost:8080/"
        },
        "id": "QP8F3W30yyRP",
        "outputId": "339beaf4-7551-4c8c-c79e-8a4717b7fc0d"
      },
      "outputs": [
        {
          "name": "stdout",
          "output_type": "stream",
          "text": [
            "Archive:  fire_perims.zip\n"
          ]
        }
      ],
      "source": [
        "! unzip -n fire_perims.zip "
      ]
    },
    {
      "cell_type": "code",
      "execution_count": 5,
      "metadata": {
        "colab": {
          "base_uri": "https://localhost:8080/"
        },
        "id": "HJNPYEAC1OVN",
        "outputId": "33c2d390-64ce-495e-dded-b2f93a56f929"
      },
      "outputs": [
        {
          "name": "stdout",
          "output_type": "stream",
          "text": [
            "fire21_1.gdb  fire_perims.zip  sample_data\n"
          ]
        }
      ],
      "source": [
        "! ls"
      ]
    },
    {
      "cell_type": "code",
      "execution_count": 6,
      "metadata": {
        "colab": {
          "base_uri": "https://localhost:8080/"
        },
        "id": "PyHN2l-iscGr",
        "outputId": "0e84b419-f0c0-43b9-e4b4-2565f3cf7a04"
      },
      "outputs": [
        {
          "name": "stdout",
          "output_type": "stream",
          "text": [
            "found file: firep21_1\n"
          ]
        },
        {
          "name": "stderr",
          "output_type": "stream",
          "text": [
            "WARNING:fiona._env:organizePolygons() received a polygon with more than 100 parts.  The processing may be really slow.  You can skip the processing by setting METHOD=SKIP.\n"
          ]
        }
      ],
      "source": [
        "gdb_file = 'fire21_1.gdb'\n",
        "\n",
        "# Get all the layers from the .gdb file \n",
        "layers = fiona.listlayers(gdb_file)\n",
        "\n",
        "for layer in layers:\n",
        "  if layer == 'firep21_1': # there are 3 files in gdb, we only need one\n",
        "    print(f'found file: {layer}')\n",
        "    fires = gpd.read_file(gdb_file,layer=layer)"
      ]
    },
    {
      "cell_type": "code",
      "execution_count": 7,
      "metadata": {
        "colab": {
          "base_uri": "https://localhost:8080/"
        },
        "id": "gYFXJzS2nbu-",
        "outputId": "b126ba41-032f-493d-9e34-1b5ff46c7399"
      },
      "outputs": [
        {
          "data": {
            "text/plain": [
              "(21686, 18)"
            ]
          },
          "execution_count": 7,
          "metadata": {},
          "output_type": "execute_result"
        }
      ],
      "source": [
        "fires.shape"
      ]
    },
    {
      "cell_type": "code",
      "execution_count": 8,
      "metadata": {
        "colab": {
          "base_uri": "https://localhost:8080/",
          "height": 283
        },
        "id": "WejqIBq4DQpO",
        "outputId": "2f98430f-f3bd-41be-cdf3-241f746b346a"
      },
      "outputs": [
        {
          "data": {
            "text/plain": [
              "<matplotlib.axes._subplots.AxesSubplot at 0x7fe92bd0c410>"
            ]
          },
          "execution_count": 8,
          "metadata": {},
          "output_type": "execute_result"
        },
        {
          "data": {
            "image/png": "[encoded data removed]",
            "text/plain": [
              "<Figure size 432x288 with 1 Axes>"
            ]
          },
          "metadata": {
            "needs_background": "light"
          },
          "output_type": "display_data"
        }
      ],
      "source": [
        "# there are 20k fires in the data set, lets randomly plot 1000 of them\n",
        "fires.sample(1000).plot()"
      ]
    },
    {
      "cell_type": "code",
      "execution_count": 9,
      "metadata": {
        "colab": {
          "base_uri": "https://localhost:8080/",
          "height": 206
        },
        "id": "0T97SYG3mH_c",
        "outputId": "90cde506-ca3f-4852-9758-5a09c9db8cac"
      },
      "outputs": [
        {
          "data": {
            "text/html": [
              "\n",
              "  <div id=\"df-51ed155b-43d7-4a22-960e-c44486eeab4a\">\n",
              "    <div class=\"colab-df-container\">\n",
              "      <div>\n",
              "<style scoped>\n",
              "    .dataframe tbody tr th:only-of-type {\n",
              "        vertical-align: middle;\n",
              "    }\n",
              "\n",
              "    .dataframe tbody tr th {\n",
              "        vertical-align: top;\n",
              "    }\n",
              "\n",
              "    .dataframe thead th {\n",
              "        text-align: right;\n",
              "    }\n",
              "</style>\n",
              "<table border=\"1\" class=\"dataframe\">\n",
              "  <thead>\n",
              "    <tr style=\"text-align: right;\">\n",
              "      <th></th>\n",
              "      <th>YEAR_</th>\n",
              "      <th>STATE</th>\n",
              "      <th>AGENCY</th>\n",
              "      <th>UNIT_ID</th>\n",
              "      <th>FIRE_NAME</th>\n",
              "      <th>INC_NUM</th>\n",
              "      <th>ALARM_DATE</th>\n",
              "      <th>CONT_DATE</th>\n",
              "      <th>CAUSE</th>\n",
              "      <th>COMMENTS</th>\n",
              "      <th>REPORT_AC</th>\n",
              "      <th>GIS_ACRES</th>\n",
              "      <th>C_METHOD</th>\n",
              "      <th>OBJECTIVE</th>\n",
              "      <th>FIRE_NUM</th>\n",
              "      <th>Shape_Length</th>\n",
              "      <th>Shape_Area</th>\n",
              "      <th>geometry</th>\n",
              "    </tr>\n",
              "  </thead>\n",
              "  <tbody>\n",
              "    <tr>\n",
              "      <th>0</th>\n",
              "      <td>2020</td>\n",
              "      <td>CA</td>\n",
              "      <td>CDF</td>\n",
              "      <td>NEU</td>\n",
              "      <td>NELSON</td>\n",
              "      <td>00013212</td>\n",
              "      <td>2020-06-18T00:00:00+00:00</td>\n",
              "      <td>2020-06-23T00:00:00+00:00</td>\n",
              "      <td>11.0</td>\n",
              "      <td></td>\n",
              "      <td>110.0</td>\n",
              "      <td>109.602280</td>\n",
              "      <td>1.0</td>\n",
              "      <td>1.0</td>\n",
              "      <td>None</td>\n",
              "      <td>3252.523280</td>\n",
              "      <td>4.435447e+05</td>\n",
              "      <td>MULTIPOLYGON (((-116841.251 97942.565, -116836...</td>\n",
              "    </tr>\n",
              "    <tr>\n",
              "      <th>1</th>\n",
              "      <td>2020</td>\n",
              "      <td>CA</td>\n",
              "      <td>CDF</td>\n",
              "      <td>NEU</td>\n",
              "      <td>AMORUSO</td>\n",
              "      <td>00011799</td>\n",
              "      <td>2020-06-01T00:00:00+00:00</td>\n",
              "      <td>2020-06-04T00:00:00+00:00</td>\n",
              "      <td>2.0</td>\n",
              "      <td></td>\n",
              "      <td>670.0</td>\n",
              "      <td>685.585022</td>\n",
              "      <td>1.0</td>\n",
              "      <td>1.0</td>\n",
              "      <td>None</td>\n",
              "      <td>9653.760308</td>\n",
              "      <td>2.774464e+06</td>\n",
              "      <td>MULTIPOLYGON (((-117328.400 90212.407, -117321...</td>\n",
              "    </tr>\n",
              "    <tr>\n",
              "      <th>2</th>\n",
              "      <td>2020</td>\n",
              "      <td>CA</td>\n",
              "      <td>CDF</td>\n",
              "      <td>NEU</td>\n",
              "      <td>ATHENS</td>\n",
              "      <td>00018493</td>\n",
              "      <td>2020-08-10T00:00:00+00:00</td>\n",
              "      <td>2020-03-01T00:00:00+00:00</td>\n",
              "      <td>14.0</td>\n",
              "      <td></td>\n",
              "      <td>26.0</td>\n",
              "      <td>27.300480</td>\n",
              "      <td>1.0</td>\n",
              "      <td>1.0</td>\n",
              "      <td>None</td>\n",
              "      <td>1649.643235</td>\n",
              "      <td>1.104811e+05</td>\n",
              "      <td>MULTIPOLYGON (((-115605.059 92988.787, -115585...</td>\n",
              "    </tr>\n",
              "    <tr>\n",
              "      <th>3</th>\n",
              "      <td>2020</td>\n",
              "      <td>CA</td>\n",
              "      <td>CDF</td>\n",
              "      <td>NEU</td>\n",
              "      <td>FLEMING</td>\n",
              "      <td>00007619</td>\n",
              "      <td>2020-03-31T00:00:00+00:00</td>\n",
              "      <td>2020-04-01T00:00:00+00:00</td>\n",
              "      <td>9.0</td>\n",
              "      <td></td>\n",
              "      <td>13.0</td>\n",
              "      <td>12.931545</td>\n",
              "      <td>1.0</td>\n",
              "      <td>1.0</td>\n",
              "      <td>None</td>\n",
              "      <td>1577.155857</td>\n",
              "      <td>5.233211e+04</td>\n",
              "      <td>MULTIPOLYGON (((-110213.270 105975.579, -11020...</td>\n",
              "    </tr>\n",
              "    <tr>\n",
              "      <th>4</th>\n",
              "      <td>2020</td>\n",
              "      <td>CA</td>\n",
              "      <td>CDF</td>\n",
              "      <td>NEU</td>\n",
              "      <td>MELANESE</td>\n",
              "      <td>00008471</td>\n",
              "      <td>2020-04-14T00:00:00+00:00</td>\n",
              "      <td>2020-04-19T00:00:00+00:00</td>\n",
              "      <td>18.0</td>\n",
              "      <td></td>\n",
              "      <td>10.3</td>\n",
              "      <td>10.315964</td>\n",
              "      <td>1.0</td>\n",
              "      <td>1.0</td>\n",
              "      <td>None</td>\n",
              "      <td>1035.787625</td>\n",
              "      <td>4.174722e+04</td>\n",
              "      <td>MULTIPOLYGON (((-111793.600 164243.615, -11177...</td>\n",
              "    </tr>\n",
              "  </tbody>\n",
              "</table>\n",
              "</div>\n",
              "      <button class=\"colab-df-convert\" onclick=\"convertToInteractive('df-51ed155b-43d7-4a22-960e-c44486eeab4a')\"\n",
              "              title=\"Convert this dataframe to an interactive table.\"\n",
              "              style=\"display:none;\">\n",
              "        \n",
              "  <svg xmlns=\"http://www.w3.org/2000/svg\" height=\"24px\"viewBox=\"0 0 24 24\"\n",
              "       width=\"24px\">\n",
              "    <path d=\"M0 0h24v24H0V0z\" fill=\"none\"/>\n",
              "    <path d=\"M18.56 5.44l.94 2.06.94-2.06 2.06-.94-2.06-.94-.94-2.06-.94 2.06-2.06.94zm-11 1L8.5 8.5l.94-2.06 2.06-.94-2.06-.94L8.5 2.5l-.94 2.06-2.06.94zm10 10l.94 2.06.94-2.06 2.06-.94-2.06-.94-.94-2.06-.94 2.06-2.06.94z\"/><path d=\"M17.41 7.96l-1.37-1.37c-.4-.4-.92-.59-1.43-.59-.52 0-1.04.2-1.43.59L10.3 9.45l-7.72 7.72c-.78.78-.78 2.05 0 2.83L4 21.41c.39.39.9.59 1.41.59.51 0 1.02-.2 1.41-.59l7.78-7.78 2.81-2.81c.8-.78.8-2.07 0-2.86zM5.41 20L4 18.59l7.72-7.72 1.47 1.35L5.41 20z\"/>\n",
              "  </svg>\n",
              "      </button>\n",
              "      \n",
              "  <style>\n",
              "    .colab-df-container {\n",
              "      display:flex;\n",
              "      flex-wrap:wrap;\n",
              "      gap: 12px;\n",
              "    }\n",
              "\n",
              "    .colab-df-convert {\n",
              "      background-color: #E8F0FE;\n",
              "      border: none;\n",
              "      border-radius: 50%;\n",
              "      cursor: pointer;\n",
              "      display: none;\n",
              "      fill: #1967D2;\n",
              "      height: 32px;\n",
              "      padding: 0 0 0 0;\n",
              "      width: 32px;\n",
              "    }\n",
              "\n",
              "    .colab-df-convert:hover {\n",
              "      background-color: #E2EBFA;\n",
              "      box-shadow: 0px 1px 2px rgba(60, 64, 67, 0.3), 0px 1px 3px 1px rgba(60, 64, 67, 0.15);\n",
              "      fill: #174EA6;\n",
              "    }\n",
              "\n",
              "    [theme=dark] .colab-df-convert {\n",
              "      background-color: #3B4455;\n",
              "      fill: #D2E3FC;\n",
              "    }\n",
              "\n",
              "    [theme=dark] .colab-df-convert:hover {\n",
              "      background-color: #434B5C;\n",
              "      box-shadow: 0px 1px 3px 1px rgba(0, 0, 0, 0.15);\n",
              "      filter: drop-shadow(0px 1px 2px rgba(0, 0, 0, 0.3));\n",
              "      fill: #FFFFFF;\n",
              "    }\n",
              "  </style>\n",
              "\n",
              "      <script>\n",
              "        const buttonEl =\n",
              "          document.querySelector('#df-51ed155b-43d7-4a22-960e-c44486eeab4a button.colab-df-convert');\n",
              "        buttonEl.style.display =\n",
              "          google.colab.kernel.accessAllowed ? 'block' : 'none';\n",
              "\n",
              "        async function convertToInteractive(key) {\n",
              "          const element = document.querySelector('#df-51ed155b-43d7-4a22-960e-c44486eeab4a');\n",
              "          const dataTable =\n",
              "            await google.colab.kernel.invokeFunction('convertToInteractive',\n",
              "                                                     [key], {});\n",
              "          if (!dataTable) return;\n",
              "\n",
              "          const docLinkHtml = 'Like what you see? Visit the ' +\n",
              "            '<a target=\"_blank\" href=https://colab.research.google.com/notebooks/data_table.ipynb>data table notebook</a>'\n",
              "            + ' to learn more about interactive tables.';\n",
              "          element.innerHTML = '';\n",
              "          dataTable['output_type'] = 'display_data';\n",
              "          await google.colab.output.renderOutput(dataTable, element);\n",
              "          const docLink = document.createElement('div');\n",
              "          docLink.innerHTML = docLinkHtml;\n",
              "          element.appendChild(docLink);\n",
              "        }\n",
              "      </script>\n",
              "    </div>\n",
              "  </div>\n",
              "  "
            ],
            "text/plain": [
              "  YEAR_ STATE AGENCY UNIT_ID FIRE_NAME   INC_NUM                 ALARM_DATE  \\\n",
              "0  2020    CA    CDF     NEU    NELSON  00013212  2020-06-18T00:00:00+00:00   \n",
              "1  2020    CA    CDF     NEU   AMORUSO  00011799  2020-06-01T00:00:00+00:00   \n",
              "2  2020    CA    CDF     NEU    ATHENS  00018493  2020-08-10T00:00:00+00:00   \n",
              "3  2020    CA    CDF     NEU   FLEMING  00007619  2020-03-31T00:00:00+00:00   \n",
              "4  2020    CA    CDF     NEU  MELANESE  00008471  2020-04-14T00:00:00+00:00   \n",
              "\n",
              "                   CONT_DATE  CAUSE COMMENTS  REPORT_AC   GIS_ACRES  C_METHOD  \\\n",
              "0  2020-06-23T00:00:00+00:00   11.0               110.0  109.602280       1.0   \n",
              "1  2020-06-04T00:00:00+00:00    2.0               670.0  685.585022       1.0   \n",
              "2  2020-03-01T00:00:00+00:00   14.0                26.0   27.300480       1.0   \n",
              "3  2020-04-01T00:00:00+00:00    9.0                13.0   12.931545       1.0   \n",
              "4  2020-04-19T00:00:00+00:00   18.0                10.3   10.315964       1.0   \n",
              "\n",
              "   OBJECTIVE FIRE_NUM  Shape_Length    Shape_Area  \\\n",
              "0        1.0     None   3252.523280  4.435447e+05   \n",
              "1        1.0     None   9653.760308  2.774464e+06   \n",
              "2        1.0     None   1649.643235  1.104811e+05   \n",
              "3        1.0     None   1577.155857  5.233211e+04   \n",
              "4        1.0     None   1035.787625  4.174722e+04   \n",
              "\n",
              "                                            geometry  \n",
              "0  MULTIPOLYGON (((-116841.251 97942.565, -116836...  \n",
              "1  MULTIPOLYGON (((-117328.400 90212.407, -117321...  \n",
              "2  MULTIPOLYGON (((-115605.059 92988.787, -115585...  \n",
              "3  MULTIPOLYGON (((-110213.270 105975.579, -11020...  \n",
              "4  MULTIPOLYGON (((-111793.600 164243.615, -11177...  "
            ]
          },
          "execution_count": 9,
          "metadata": {},
          "output_type": "execute_result"
        }
      ],
      "source": [
        "fires.head()"
      ]
    },
    {
      "cell_type": "code",
      "execution_count": 10,
      "metadata": {
        "colab": {
          "base_uri": "https://localhost:8080/"
        },
        "id": "R9zULe9WqyFT",
        "outputId": "efa8d956-675f-4e1a-8637-f465360d85d6"
      },
      "outputs": [
        {
          "data": {
            "text/plain": [
              "YEAR_             object\n",
              "STATE             object\n",
              "AGENCY            object\n",
              "UNIT_ID           object\n",
              "FIRE_NAME         object\n",
              "INC_NUM           object\n",
              "ALARM_DATE        object\n",
              "CONT_DATE         object\n",
              "CAUSE            float64\n",
              "COMMENTS          object\n",
              "REPORT_AC        float64\n",
              "GIS_ACRES        float64\n",
              "C_METHOD         float64\n",
              "OBJECTIVE        float64\n",
              "FIRE_NUM          object\n",
              "Shape_Length     float64\n",
              "Shape_Area       float64\n",
              "geometry        geometry\n",
              "dtype: object"
            ]
          },
          "execution_count": 10,
          "metadata": {},
          "output_type": "execute_result"
        }
      ],
      "source": [
        "fires.dtypes"
      ]
    },
    {
      "cell_type": "code",
      "execution_count": 11,
      "metadata": {
        "colab": {
          "base_uri": "https://localhost:8080/"
        },
        "id": "HdEMFI3fq8ZU",
        "outputId": "295e397e-c791-4a7e-f269-6f41672cf7e4"
      },
      "outputs": [
        {
          "name": "stdout",
          "output_type": "stream",
          "text": [
            "18\n",
            "14\n"
          ]
        }
      ],
      "source": [
        "# lets drop some variables that we will not be using \n",
        "print(fires.shape[1])\n",
        "fires.drop(['STATE', 'COMMENTS', 'C_METHOD', 'OBJECTIVE'], axis=1, inplace=True)\n",
        "print(fires.shape[1])"
      ]
    },
    {
      "cell_type": "code",
      "execution_count": 12,
      "metadata": {
        "colab": {
          "base_uri": "https://localhost:8080/",
          "height": 423
        },
        "id": "wfXYXO93omWj",
        "outputId": "d7ad4d4e-e1ea-4698-f1b3-7eefdaed665e"
      },
      "outputs": [
        {
          "data": {
            "text/html": [
              "\n",
              "  <div id=\"df-0d8f10c4-5121-496f-a255-b0c9d8fcf7d1\">\n",
              "    <div class=\"colab-df-container\">\n",
              "      <div>\n",
              "<style scoped>\n",
              "    .dataframe tbody tr th:only-of-type {\n",
              "        vertical-align: middle;\n",
              "    }\n",
              "\n",
              "    .dataframe tbody tr th {\n",
              "        vertical-align: top;\n",
              "    }\n",
              "\n",
              "    .dataframe thead th {\n",
              "        text-align: right;\n",
              "    }\n",
              "</style>\n",
              "<table border=\"1\" class=\"dataframe\">\n",
              "  <thead>\n",
              "    <tr style=\"text-align: right;\">\n",
              "      <th></th>\n",
              "      <th>YEAR_</th>\n",
              "      <th>AGENCY</th>\n",
              "      <th>UNIT_ID</th>\n",
              "      <th>FIRE_NAME</th>\n",
              "      <th>INC_NUM</th>\n",
              "      <th>ALARM_DATE</th>\n",
              "      <th>CONT_DATE</th>\n",
              "      <th>CAUSE</th>\n",
              "      <th>REPORT_AC</th>\n",
              "      <th>GIS_ACRES</th>\n",
              "      <th>FIRE_NUM</th>\n",
              "      <th>Shape_Length</th>\n",
              "      <th>Shape_Area</th>\n",
              "      <th>geometry</th>\n",
              "    </tr>\n",
              "  </thead>\n",
              "  <tbody>\n",
              "    <tr>\n",
              "      <th>0</th>\n",
              "      <td>2020</td>\n",
              "      <td>CDF</td>\n",
              "      <td>NEU</td>\n",
              "      <td>NELSON</td>\n",
              "      <td>00013212</td>\n",
              "      <td>2020-06-18</td>\n",
              "      <td>2020-06-23</td>\n",
              "      <td>11.0</td>\n",
              "      <td>110.0</td>\n",
              "      <td>109.602280</td>\n",
              "      <td>None</td>\n",
              "      <td>3.252523e+03</td>\n",
              "      <td>4.435447e+05</td>\n",
              "      <td>MULTIPOLYGON (((-116841.251 97942.565, -116836...</td>\n",
              "    </tr>\n",
              "    <tr>\n",
              "      <th>1</th>\n",
              "      <td>2020</td>\n",
              "      <td>CDF</td>\n",
              "      <td>NEU</td>\n",
              "      <td>AMORUSO</td>\n",
              "      <td>00011799</td>\n",
              "      <td>2020-06-01</td>\n",
              "      <td>2020-06-04</td>\n",
              "      <td>2.0</td>\n",
              "      <td>670.0</td>\n",
              "      <td>685.585022</td>\n",
              "      <td>None</td>\n",
              "      <td>9.653760e+03</td>\n",
              "      <td>2.774464e+06</td>\n",
              "      <td>MULTIPOLYGON (((-117328.400 90212.407, -117321...</td>\n",
              "    </tr>\n",
              "    <tr>\n",
              "      <th>2</th>\n",
              "      <td>2020</td>\n",
              "      <td>CDF</td>\n",
              "      <td>NEU</td>\n",
              "      <td>ATHENS</td>\n",
              "      <td>00018493</td>\n",
              "      <td>2020-08-10</td>\n",
              "      <td>2020-03-01</td>\n",
              "      <td>14.0</td>\n",
              "      <td>26.0</td>\n",
              "      <td>27.300480</td>\n",
              "      <td>None</td>\n",
              "      <td>1.649643e+03</td>\n",
              "      <td>1.104811e+05</td>\n",
              "      <td>MULTIPOLYGON (((-115605.059 92988.787, -115585...</td>\n",
              "    </tr>\n",
              "    <tr>\n",
              "      <th>3</th>\n",
              "      <td>2020</td>\n",
              "      <td>CDF</td>\n",
              "      <td>NEU</td>\n",
              "      <td>FLEMING</td>\n",
              "      <td>00007619</td>\n",
              "      <td>2020-03-31</td>\n",
              "      <td>2020-04-01</td>\n",
              "      <td>9.0</td>\n",
              "      <td>13.0</td>\n",
              "      <td>12.931545</td>\n",
              "      <td>None</td>\n",
              "      <td>1.577156e+03</td>\n",
              "      <td>5.233211e+04</td>\n",
              "      <td>MULTIPOLYGON (((-110213.270 105975.579, -11020...</td>\n",
              "    </tr>\n",
              "    <tr>\n",
              "      <th>4</th>\n",
              "      <td>2020</td>\n",
              "      <td>CDF</td>\n",
              "      <td>NEU</td>\n",
              "      <td>MELANESE</td>\n",
              "      <td>00008471</td>\n",
              "      <td>2020-04-14</td>\n",
              "      <td>2020-04-19</td>\n",
              "      <td>18.0</td>\n",
              "      <td>10.3</td>\n",
              "      <td>10.315964</td>\n",
              "      <td>None</td>\n",
              "      <td>1.035788e+03</td>\n",
              "      <td>4.174722e+04</td>\n",
              "      <td>MULTIPOLYGON (((-111793.600 164243.615, -11177...</td>\n",
              "    </tr>\n",
              "    <tr>\n",
              "      <th>...</th>\n",
              "      <td>...</td>\n",
              "      <td>...</td>\n",
              "      <td>...</td>\n",
              "      <td>...</td>\n",
              "      <td>...</td>\n",
              "      <td>...</td>\n",
              "      <td>...</td>\n",
              "      <td>...</td>\n",
              "      <td>...</td>\n",
              "      <td>...</td>\n",
              "      <td>...</td>\n",
              "      <td>...</td>\n",
              "      <td>...</td>\n",
              "      <td>...</td>\n",
              "    </tr>\n",
              "    <tr>\n",
              "      <th>21681</th>\n",
              "      <td>2021</td>\n",
              "      <td>USF</td>\n",
              "      <td>SQF</td>\n",
              "      <td>BOYDEN 1</td>\n",
              "      <td>00000401</td>\n",
              "      <td>2021-03-03</td>\n",
              "      <td>2021-03-18</td>\n",
              "      <td>5.0</td>\n",
              "      <td>15.0</td>\n",
              "      <td>14.573442</td>\n",
              "      <td>None</td>\n",
              "      <td>9.276290e+02</td>\n",
              "      <td>5.897663e+04</td>\n",
              "      <td>MULTIPOLYGON (((105451.745 -132832.621, 105410...</td>\n",
              "    </tr>\n",
              "    <tr>\n",
              "      <th>21682</th>\n",
              "      <td>2021</td>\n",
              "      <td>USF</td>\n",
              "      <td>INF</td>\n",
              "      <td>GLACIER NORTH</td>\n",
              "      <td>00001732</td>\n",
              "      <td>2021-07-15</td>\n",
              "      <td>2021-08-20</td>\n",
              "      <td>1.0</td>\n",
              "      <td>37.0</td>\n",
              "      <td>37.255802</td>\n",
              "      <td>None</td>\n",
              "      <td>2.334983e+03</td>\n",
              "      <td>1.507689e+05</td>\n",
              "      <td>MULTIPOLYGON (((139955.910 -95054.743, 139970....</td>\n",
              "    </tr>\n",
              "    <tr>\n",
              "      <th>21683</th>\n",
              "      <td>2021</td>\n",
              "      <td>CCO</td>\n",
              "      <td>KRN</td>\n",
              "      <td>Backus 2</td>\n",
              "      <td>02118345</td>\n",
              "      <td>2021-04-25</td>\n",
              "      <td>2021-04-25</td>\n",
              "      <td>14.0</td>\n",
              "      <td>4.0</td>\n",
              "      <td>2.897352</td>\n",
              "      <td>None</td>\n",
              "      <td>6.368478e+02</td>\n",
              "      <td>1.172517e+04</td>\n",
              "      <td>MULTIPOLYGON (((164896.149 -338556.435, 164893...</td>\n",
              "    </tr>\n",
              "    <tr>\n",
              "      <th>21684</th>\n",
              "      <td>2021</td>\n",
              "      <td>CDF</td>\n",
              "      <td>BTU</td>\n",
              "      <td>DIXIE</td>\n",
              "      <td>00009205</td>\n",
              "      <td>2021-07-14</td>\n",
              "      <td>2021-10-25</td>\n",
              "      <td>11.0</td>\n",
              "      <td>963309.0</td>\n",
              "      <td>963405.437500</td>\n",
              "      <td>None</td>\n",
              "      <td>1.533820e+06</td>\n",
              "      <td>3.898763e+09</td>\n",
              "      <td>MULTIPOLYGON (((-92538.590 256767.148, -92537....</td>\n",
              "    </tr>\n",
              "    <tr>\n",
              "      <th>21685</th>\n",
              "      <td>2021</td>\n",
              "      <td>USF</td>\n",
              "      <td>KNF</td>\n",
              "      <td>RIVER COMPLEX</td>\n",
              "      <td>00006385</td>\n",
              "      <td>2021-07-31</td>\n",
              "      <td>2021-10-25</td>\n",
              "      <td>1.0</td>\n",
              "      <td>155752.0</td>\n",
              "      <td>199354.093750</td>\n",
              "      <td>None</td>\n",
              "      <td>1.216645e+06</td>\n",
              "      <td>8.067574e+08</td>\n",
              "      <td>MULTIPOLYGON (((-259575.040 330786.059, -25957...</td>\n",
              "    </tr>\n",
              "  </tbody>\n",
              "</table>\n",
              "<p>21686 rows × 14 columns</p>\n",
              "</div>\n",
              "      <button class=\"colab-df-convert\" onclick=\"convertToInteractive('df-0d8f10c4-5121-496f-a255-b0c9d8fcf7d1')\"\n",
              "              title=\"Convert this dataframe to an interactive table.\"\n",
              "              style=\"display:none;\">\n",
              "        \n",
              "  <svg xmlns=\"http://www.w3.org/2000/svg\" height=\"24px\"viewBox=\"0 0 24 24\"\n",
              "       width=\"24px\">\n",
              "    <path d=\"M0 0h24v24H0V0z\" fill=\"none\"/>\n",
              "    <path d=\"M18.56 5.44l.94 2.06.94-2.06 2.06-.94-2.06-.94-.94-2.06-.94 2.06-2.06.94zm-11 1L8.5 8.5l.94-2.06 2.06-.94-2.06-.94L8.5 2.5l-.94 2.06-2.06.94zm10 10l.94 2.06.94-2.06 2.06-.94-2.06-.94-.94-2.06-.94 2.06-2.06.94z\"/><path d=\"M17.41 7.96l-1.37-1.37c-.4-.4-.92-.59-1.43-.59-.52 0-1.04.2-1.43.59L10.3 9.45l-7.72 7.72c-.78.78-.78 2.05 0 2.83L4 21.41c.39.39.9.59 1.41.59.51 0 1.02-.2 1.41-.59l7.78-7.78 2.81-2.81c.8-.78.8-2.07 0-2.86zM5.41 20L4 18.59l7.72-7.72 1.47 1.35L5.41 20z\"/>\n",
              "  </svg>\n",
              "      </button>\n",
              "      \n",
              "  <style>\n",
              "    .colab-df-container {\n",
              "      display:flex;\n",
              "      flex-wrap:wrap;\n",
              "      gap: 12px;\n",
              "    }\n",
              "\n",
              "    .colab-df-convert {\n",
              "      background-color: #E8F0FE;\n",
              "      border: none;\n",
              "      border-radius: 50%;\n",
              "      cursor: pointer;\n",
              "      display: none;\n",
              "      fill: #1967D2;\n",
              "      height: 32px;\n",
              "      padding: 0 0 0 0;\n",
              "      width: 32px;\n",
              "    }\n",
              "\n",
              "    .colab-df-convert:hover {\n",
              "      background-color: #E2EBFA;\n",
              "      box-shadow: 0px 1px 2px rgba(60, 64, 67, 0.3), 0px 1px 3px 1px rgba(60, 64, 67, 0.15);\n",
              "      fill: #174EA6;\n",
              "    }\n",
              "\n",
              "    [theme=dark] .colab-df-convert {\n",
              "      background-color: #3B4455;\n",
              "      fill: #D2E3FC;\n",
              "    }\n",
              "\n",
              "    [theme=dark] .colab-df-convert:hover {\n",
              "      background-color: #434B5C;\n",
              "      box-shadow: 0px 1px 3px 1px rgba(0, 0, 0, 0.15);\n",
              "      filter: drop-shadow(0px 1px 2px rgba(0, 0, 0, 0.3));\n",
              "      fill: #FFFFFF;\n",
              "    }\n",
              "  </style>\n",
              "\n",
              "      <script>\n",
              "        const buttonEl =\n",
              "          document.querySelector('#df-0d8f10c4-5121-496f-a255-b0c9d8fcf7d1 button.colab-df-convert');\n",
              "        buttonEl.style.display =\n",
              "          google.colab.kernel.accessAllowed ? 'block' : 'none';\n",
              "\n",
              "        async function convertToInteractive(key) {\n",
              "          const element = document.querySelector('#df-0d8f10c4-5121-496f-a255-b0c9d8fcf7d1');\n",
              "          const dataTable =\n",
              "            await google.colab.kernel.invokeFunction('convertToInteractive',\n",
              "                                                     [key], {});\n",
              "          if (!dataTable) return;\n",
              "\n",
              "          const docLinkHtml = 'Like what you see? Visit the ' +\n",
              "            '<a target=\"_blank\" href=https://colab.research.google.com/notebooks/data_table.ipynb>data table notebook</a>'\n",
              "            + ' to learn more about interactive tables.';\n",
              "          element.innerHTML = '';\n",
              "          dataTable['output_type'] = 'display_data';\n",
              "          await google.colab.output.renderOutput(dataTable, element);\n",
              "          const docLink = document.createElement('div');\n",
              "          docLink.innerHTML = docLinkHtml;\n",
              "          element.appendChild(docLink);\n",
              "        }\n",
              "      </script>\n",
              "    </div>\n",
              "  </div>\n",
              "  "
            ],
            "text/plain": [
              "      YEAR_ AGENCY UNIT_ID      FIRE_NAME   INC_NUM  ALARM_DATE   CONT_DATE  \\\n",
              "0      2020    CDF     NEU         NELSON  00013212  2020-06-18  2020-06-23   \n",
              "1      2020    CDF     NEU        AMORUSO  00011799  2020-06-01  2020-06-04   \n",
              "2      2020    CDF     NEU         ATHENS  00018493  2020-08-10  2020-03-01   \n",
              "3      2020    CDF     NEU        FLEMING  00007619  2020-03-31  2020-04-01   \n",
              "4      2020    CDF     NEU       MELANESE  00008471  2020-04-14  2020-04-19   \n",
              "...     ...    ...     ...            ...       ...         ...         ...   \n",
              "21681  2021    USF     SQF       BOYDEN 1  00000401  2021-03-03  2021-03-18   \n",
              "21682  2021    USF     INF  GLACIER NORTH  00001732  2021-07-15  2021-08-20   \n",
              "21683  2021    CCO     KRN       Backus 2  02118345  2021-04-25  2021-04-25   \n",
              "21684  2021    CDF     BTU          DIXIE  00009205  2021-07-14  2021-10-25   \n",
              "21685  2021    USF     KNF  RIVER COMPLEX  00006385  2021-07-31  2021-10-25   \n",
              "\n",
              "       CAUSE  REPORT_AC      GIS_ACRES FIRE_NUM  Shape_Length    Shape_Area  \\\n",
              "0       11.0      110.0     109.602280     None  3.252523e+03  4.435447e+05   \n",
              "1        2.0      670.0     685.585022     None  9.653760e+03  2.774464e+06   \n",
              "2       14.0       26.0      27.300480     None  1.649643e+03  1.104811e+05   \n",
              "3        9.0       13.0      12.931545     None  1.577156e+03  5.233211e+04   \n",
              "4       18.0       10.3      10.315964     None  1.035788e+03  4.174722e+04   \n",
              "...      ...        ...            ...      ...           ...           ...   \n",
              "21681    5.0       15.0      14.573442     None  9.276290e+02  5.897663e+04   \n",
              "21682    1.0       37.0      37.255802     None  2.334983e+03  1.507689e+05   \n",
              "21683   14.0        4.0       2.897352     None  6.368478e+02  1.172517e+04   \n",
              "21684   11.0   963309.0  963405.437500     None  1.533820e+06  3.898763e+09   \n",
              "21685    1.0   155752.0  199354.093750     None  1.216645e+06  8.067574e+08   \n",
              "\n",
              "                                                geometry  \n",
              "0      MULTIPOLYGON (((-116841.251 97942.565, -116836...  \n",
              "1      MULTIPOLYGON (((-117328.400 90212.407, -117321...  \n",
              "2      MULTIPOLYGON (((-115605.059 92988.787, -115585...  \n",
              "3      MULTIPOLYGON (((-110213.270 105975.579, -11020...  \n",
              "4      MULTIPOLYGON (((-111793.600 164243.615, -11177...  \n",
              "...                                                  ...  \n",
              "21681  MULTIPOLYGON (((105451.745 -132832.621, 105410...  \n",
              "21682  MULTIPOLYGON (((139955.910 -95054.743, 139970....  \n",
              "21683  MULTIPOLYGON (((164896.149 -338556.435, 164893...  \n",
              "21684  MULTIPOLYGON (((-92538.590 256767.148, -92537....  \n",
              "21685  MULTIPOLYGON (((-259575.040 330786.059, -25957...  \n",
              "\n",
              "[21686 rows x 14 columns]"
            ]
          },
          "execution_count": 12,
          "metadata": {},
          "output_type": "execute_result"
        }
      ],
      "source": [
        "# some mumbo jumbo with the dates \n",
        "fires['ALARM_DATE'] = fires.ALARM_DATE.str.slice(0,10)\n",
        "fires['CONT_DATE'] = fires.CONT_DATE.str.slice(0,10)\n",
        "fires"
      ]
    },
    {
      "cell_type": "code",
      "execution_count": 13,
      "metadata": {
        "colab": {
          "base_uri": "https://localhost:8080/"
        },
        "id": "6mnS6Nxcp_wb",
        "outputId": "48672c75-309a-43c4-ee84-7aa86b418e0f"
      },
      "outputs": [
        {
          "name": "stdout",
          "output_type": "stream",
          "text": [
            "number of missing records for alarm date: 5357\n",
            "number of missing records for containment date: 12666\n"
          ]
        }
      ],
      "source": [
        "# calculate the number of where date is missing\n",
        "print('number of missing records for alarm date:', fires.ALARM_DATE.isnull().sum())\n",
        "print('number of missing records for containment date:', fires.CONT_DATE.isnull().sum()) "
      ]
    },
    {
      "cell_type": "code",
      "execution_count": 14,
      "metadata": {
        "id": "MiXVzybRYI3C"
      },
      "outputs": [],
      "source": [
        "# convert variables to datetime\n",
        "fires['ALARM_DATE'] = pd.to_datetime(fires.ALARM_DATE, errors='coerce')\n",
        "fires['CONT_DATE'] = pd.to_datetime(fires.CONT_DATE, errors='coerce')"
      ]
    },
    {
      "cell_type": "code",
      "execution_count": 15,
      "metadata": {
        "colab": {
          "base_uri": "https://localhost:8080/"
        },
        "id": "clan505FnG00",
        "outputId": "f5a4b55d-878f-4269-adc5-c0ffde5d5f75"
      },
      "outputs": [
        {
          "name": "stdout",
          "output_type": "stream",
          "text": [
            "Values where alarm date is before containment date: 32\n"
          ]
        }
      ],
      "source": [
        "# calculate new variable duration \n",
        "#fires['dur_days'] = (fires.CONT_DATE - fires.ALARM_DATE).dt.days\n",
        "fires['dur_days'] = (fires.CONT_DATE - fires.ALARM_DATE).astype('timedelta64[D]')\n",
        "\n",
        "print('Values where alarm date is before containment date:', fires.loc[fires.dur_days<0].shape[0])"
      ]
    },
    {
      "cell_type": "code",
      "execution_count": 16,
      "metadata": {
        "colab": {
          "base_uri": "https://localhost:8080/"
        },
        "id": "2ki0bnogpZcG",
        "outputId": "c634bbdd-7a20-4e52-bcb6-98bb00dcfe8e"
      },
      "outputs": [
        {
          "data": {
            "text/plain": [
              "12678"
            ]
          },
          "execution_count": 16,
          "metadata": {},
          "output_type": "execute_result"
        }
      ],
      "source": [
        "fires.dur_days.isnull().sum()"
      ]
    },
    {
      "cell_type": "code",
      "execution_count": 17,
      "metadata": {
        "colab": {
          "base_uri": "https://localhost:8080/"
        },
        "id": "gEc2qTlOmKmS",
        "outputId": "0a731ff8-efe1-4161-b6e2-df0ec068a433"
      },
      "outputs": [
        {
          "name": "stdout",
          "output_type": "stream",
          "text": [
            "(21686, 15)\n",
            "(5250, 15)\n"
          ]
        }
      ],
      "source": [
        "# drop where we have missing duration\n",
        "print(fires.shape)\n",
        "fires = fires.loc[fires.dur_days>0,]\n",
        "print(fires.shape)"
      ]
    },
    {
      "cell_type": "markdown",
      "metadata": {
        "id": "90GQtDxJC0Gy"
      },
      "source": [
        "### California Counties"
      ]
    },
    {
      "cell_type": "code",
      "execution_count": 18,
      "metadata": {
        "colab": {
          "base_uri": "https://localhost:8080/",
          "height": 224
        },
        "id": "wptcBPSQC5Of",
        "outputId": "71b4c147-b917-4682-f929-07dd73cc61d5"
      },
      "outputs": [
        {
          "name": "stdout",
          "output_type": "stream",
          "text": [
            "(58, 5)\n"
          ]
        },
        {
          "data": {
            "text/html": [
              "\n",
              "  <div id=\"df-ecdaf2a8-a149-479a-9212-94505c2485dd\">\n",
              "    <div class=\"colab-df-container\">\n",
              "      <div>\n",
              "<style scoped>\n",
              "    .dataframe tbody tr th:only-of-type {\n",
              "        vertical-align: middle;\n",
              "    }\n",
              "\n",
              "    .dataframe tbody tr th {\n",
              "        vertical-align: top;\n",
              "    }\n",
              "\n",
              "    .dataframe thead th {\n",
              "        text-align: right;\n",
              "    }\n",
              "</style>\n",
              "<table border=\"1\" class=\"dataframe\">\n",
              "  <thead>\n",
              "    <tr style=\"text-align: right;\">\n",
              "      <th></th>\n",
              "      <th>name</th>\n",
              "      <th>cartodb_id</th>\n",
              "      <th>created_at</th>\n",
              "      <th>updated_at</th>\n",
              "      <th>geometry</th>\n",
              "    </tr>\n",
              "  </thead>\n",
              "  <tbody>\n",
              "    <tr>\n",
              "      <th>0</th>\n",
              "      <td>Alameda</td>\n",
              "      <td>1</td>\n",
              "      <td>2015-07-04T21:04:58+00:00</td>\n",
              "      <td>2015-07-04T21:04:58+00:00</td>\n",
              "      <td>MULTIPOLYGON (((-122.31293 37.89733, -122.2884...</td>\n",
              "    </tr>\n",
              "    <tr>\n",
              "      <th>1</th>\n",
              "      <td>Alpine</td>\n",
              "      <td>2</td>\n",
              "      <td>2015-07-04T21:04:58+00:00</td>\n",
              "      <td>2015-07-04T21:04:58+00:00</td>\n",
              "      <td>POLYGON ((-120.07239 38.70277, -119.96495 38.7...</td>\n",
              "    </tr>\n",
              "    <tr>\n",
              "      <th>2</th>\n",
              "      <td>Amador</td>\n",
              "      <td>3</td>\n",
              "      <td>2015-07-04T21:04:58+00:00</td>\n",
              "      <td>2015-07-04T21:04:58+00:00</td>\n",
              "      <td>POLYGON ((-121.02726 38.48925, -121.02741 38.5...</td>\n",
              "    </tr>\n",
              "    <tr>\n",
              "      <th>3</th>\n",
              "      <td>Butte</td>\n",
              "      <td>4</td>\n",
              "      <td>2015-07-04T21:04:58+00:00</td>\n",
              "      <td>2015-07-04T21:04:58+00:00</td>\n",
              "      <td>POLYGON ((-121.87925 39.30361, -121.90831 39.3...</td>\n",
              "    </tr>\n",
              "    <tr>\n",
              "      <th>4</th>\n",
              "      <td>Calaveras</td>\n",
              "      <td>5</td>\n",
              "      <td>2015-07-04T21:04:58+00:00</td>\n",
              "      <td>2015-07-04T21:04:58+00:00</td>\n",
              "      <td>POLYGON ((-120.87605 38.02889, -120.91875 38.0...</td>\n",
              "    </tr>\n",
              "  </tbody>\n",
              "</table>\n",
              "</div>\n",
              "      <button class=\"colab-df-convert\" onclick=\"convertToInteractive('df-ecdaf2a8-a149-479a-9212-94505c2485dd')\"\n",
              "              title=\"Convert this dataframe to an interactive table.\"\n",
              "              style=\"display:none;\">\n",
              "        \n",
              "  <svg xmlns=\"http://www.w3.org/2000/svg\" height=\"24px\"viewBox=\"0 0 24 24\"\n",
              "       width=\"24px\">\n",
              "    <path d=\"M0 0h24v24H0V0z\" fill=\"none\"/>\n",
              "    <path d=\"M18.56 5.44l.94 2.06.94-2.06 2.06-.94-2.06-.94-.94-2.06-.94 2.06-2.06.94zm-11 1L8.5 8.5l.94-2.06 2.06-.94-2.06-.94L8.5 2.5l-.94 2.06-2.06.94zm10 10l.94 2.06.94-2.06 2.06-.94-2.06-.94-.94-2.06-.94 2.06-2.06.94z\"/><path d=\"M17.41 7.96l-1.37-1.37c-.4-.4-.92-.59-1.43-.59-.52 0-1.04.2-1.43.59L10.3 9.45l-7.72 7.72c-.78.78-.78 2.05 0 2.83L4 21.41c.39.39.9.59 1.41.59.51 0 1.02-.2 1.41-.59l7.78-7.78 2.81-2.81c.8-.78.8-2.07 0-2.86zM5.41 20L4 18.59l7.72-7.72 1.47 1.35L5.41 20z\"/>\n",
              "  </svg>\n",
              "      </button>\n",
              "      \n",
              "  <style>\n",
              "    .colab-df-container {\n",
              "      display:flex;\n",
              "      flex-wrap:wrap;\n",
              "      gap: 12px;\n",
              "    }\n",
              "\n",
              "    .colab-df-convert {\n",
              "      background-color: #E8F0FE;\n",
              "      border: none;\n",
              "      border-radius: 50%;\n",
              "      cursor: pointer;\n",
              "      display: none;\n",
              "      fill: #1967D2;\n",
              "      height: 32px;\n",
              "      padding: 0 0 0 0;\n",
              "      width: 32px;\n",
              "    }\n",
              "\n",
              "    .colab-df-convert:hover {\n",
              "      background-color: #E2EBFA;\n",
              "      box-shadow: 0px 1px 2px rgba(60, 64, 67, 0.3), 0px 1px 3px 1px rgba(60, 64, 67, 0.15);\n",
              "      fill: #174EA6;\n",
              "    }\n",
              "\n",
              "    [theme=dark] .colab-df-convert {\n",
              "      background-color: #3B4455;\n",
              "      fill: #D2E3FC;\n",
              "    }\n",
              "\n",
              "    [theme=dark] .colab-df-convert:hover {\n",
              "      background-color: #434B5C;\n",
              "      box-shadow: 0px 1px 3px 1px rgba(0, 0, 0, 0.15);\n",
              "      filter: drop-shadow(0px 1px 2px rgba(0, 0, 0, 0.3));\n",
              "      fill: #FFFFFF;\n",
              "    }\n",
              "  </style>\n",
              "\n",
              "      <script>\n",
              "        const buttonEl =\n",
              "          document.querySelector('#df-ecdaf2a8-a149-479a-9212-94505c2485dd button.colab-df-convert');\n",
              "        buttonEl.style.display =\n",
              "          google.colab.kernel.accessAllowed ? 'block' : 'none';\n",
              "\n",
              "        async function convertToInteractive(key) {\n",
              "          const element = document.querySelector('#df-ecdaf2a8-a149-479a-9212-94505c2485dd');\n",
              "          const dataTable =\n",
              "            await google.colab.kernel.invokeFunction('convertToInteractive',\n",
              "                                                     [key], {});\n",
              "          if (!dataTable) return;\n",
              "\n",
              "          const docLinkHtml = 'Like what you see? Visit the ' +\n",
              "            '<a target=\"_blank\" href=https://colab.research.google.com/notebooks/data_table.ipynb>data table notebook</a>'\n",
              "            + ' to learn more about interactive tables.';\n",
              "          element.innerHTML = '';\n",
              "          dataTable['output_type'] = 'display_data';\n",
              "          await google.colab.output.renderOutput(dataTable, element);\n",
              "          const docLink = document.createElement('div');\n",
              "          docLink.innerHTML = docLinkHtml;\n",
              "          element.appendChild(docLink);\n",
              "        }\n",
              "      </script>\n",
              "    </div>\n",
              "  </div>\n",
              "  "
            ],
            "text/plain": [
              "        name  cartodb_id                 created_at  \\\n",
              "0    Alameda           1  2015-07-04T21:04:58+00:00   \n",
              "1     Alpine           2  2015-07-04T21:04:58+00:00   \n",
              "2     Amador           3  2015-07-04T21:04:58+00:00   \n",
              "3      Butte           4  2015-07-04T21:04:58+00:00   \n",
              "4  Calaveras           5  2015-07-04T21:04:58+00:00   \n",
              "\n",
              "                  updated_at  \\\n",
              "0  2015-07-04T21:04:58+00:00   \n",
              "1  2015-07-04T21:04:58+00:00   \n",
              "2  2015-07-04T21:04:58+00:00   \n",
              "3  2015-07-04T21:04:58+00:00   \n",
              "4  2015-07-04T21:04:58+00:00   \n",
              "\n",
              "                                            geometry  \n",
              "0  MULTIPOLYGON (((-122.31293 37.89733, -122.2884...  \n",
              "1  POLYGON ((-120.07239 38.70277, -119.96495 38.7...  \n",
              "2  POLYGON ((-121.02726 38.48925, -121.02741 38.5...  \n",
              "3  POLYGON ((-121.87925 39.30361, -121.90831 39.3...  \n",
              "4  POLYGON ((-120.87605 38.02889, -120.91875 38.0...  "
            ]
          },
          "execution_count": 18,
          "metadata": {},
          "output_type": "execute_result"
        }
      ],
      "source": [
        "ca_counties = gpd.read_file('https://raw.githubusercontent.com/codeforgermany/click_that_hood/main/public/data/california-counties.geojson')\n",
        "print(ca_counties.shape)\n",
        "ca_counties.head()"
      ]
    },
    {
      "cell_type": "markdown",
      "metadata": {
        "id": "rfBdlXaTOBZM"
      },
      "source": [
        "### Projections! "
      ]
    },
    {
      "cell_type": "code",
      "execution_count": 19,
      "metadata": {
        "colab": {
          "base_uri": "https://localhost:8080/"
        },
        "id": "gCzS6GlBOFsh",
        "outputId": "2d337f60-ff05-4d7e-b26c-157a54bdf1dc"
      },
      "outputs": [
        {
          "name": "stdout",
          "output_type": "stream",
          "text": [
            "epsg:3310\n",
            "epsg:4326\n"
          ]
        }
      ],
      "source": [
        "# check \n",
        "print(fires.crs)\n",
        "print(ca_counties.crs)"
      ]
    },
    {
      "cell_type": "code",
      "execution_count": 20,
      "metadata": {
        "id": "dHwOgEJxOKoh"
      },
      "outputs": [],
      "source": [
        "# let's convert both of those to epsg:3857\n",
        "# this will take a while - lots of calculations\n",
        "fires = fires.to_crs('epsg:3857')\n",
        "ca_counties = ca_counties.to_crs('epsg:3857')"
      ]
    },
    {
      "cell_type": "code",
      "execution_count": 21,
      "metadata": {
        "colab": {
          "base_uri": "https://localhost:8080/",
          "height": 621
        },
        "id": "eOqNsDd_DK96",
        "outputId": "c94eb182-ac1d-4fd7-eee6-f48f849e7705"
      },
      "outputs": [
        {
          "data": {
            "image/png": "[encoded data removed]",
            "text/plain": [
              "<Figure size 720x720 with 1 Axes>"
            ]
          },
          "metadata": {
            "needs_background": "light"
          },
          "output_type": "display_data"
        }
      ],
      "source": [
        "# plot fires on CA\n",
        "fig,ax = plt.subplots(figsize=(10,10))\n",
        "\n",
        "ca_counties.plot(ax=ax, facecolor='w', ec='k');\n",
        "fires.sample(1000).plot(fc='r', ax=ax);\n",
        "\n",
        "plt.title('1000 fires in CA');"
      ]
    },
    {
      "cell_type": "code",
      "execution_count": 22,
      "metadata": {
        "id": "ZPvBPsds3BZH"
      },
      "outputs": [],
      "source": [
        "# THIS PART OF CODE IS OPENING A FILE VIA OGR - SKIP\n",
        "# SOME LABELS ARE NOT READ BY GEOPANDAS \n",
        "# from osgeo import ogr\n",
        "\n",
        "# driver = ogr.GetDriverByName(\"OpenFileGDB\")\n",
        "# ds = driver.Open(\"fire21_1.gdb\", 0)\n",
        "# f = ds.GetLayer(\"firep21_1\")\n",
        "# print(type(f))"
      ]
    },
    {
      "cell_type": "markdown",
      "metadata": {
        "id": "vBMp1qL2OhCQ"
      },
      "source": [
        "## Measures of Location and Variation"
      ]
    },
    {
      "cell_type": "code",
      "execution_count": 23,
      "metadata": {
        "colab": {
          "base_uri": "https://localhost:8080/"
        },
        "id": "FNGLT8_ZNuKi",
        "outputId": "fbbafa52-b986-4bf7-9b0c-ecd3d830dc13"
      },
      "outputs": [
        {
          "name": "stdout",
          "output_type": "stream",
          "text": [
            "mean 4342.1049991099635\n",
            "median 135.8330841064453\n",
            "std 28498.104881528623\n"
          ]
        }
      ],
      "source": [
        "print('mean', fires.GIS_ACRES.mean())\n",
        "print('median', fires.GIS_ACRES.median())\n",
        "print('std', fires.GIS_ACRES.std())"
      ]
    },
    {
      "cell_type": "markdown",
      "metadata": {
        "id": "W_kTR6BcOmGi"
      },
      "source": [
        "## Visualizing Data"
      ]
    },
    {
      "cell_type": "markdown",
      "metadata": {
        "id": "CtgUQ8GqOrDz"
      },
      "source": [
        "### Histograms"
      ]
    },
    {
      "cell_type": "code",
      "execution_count": 24,
      "metadata": {
        "colab": {
          "base_uri": "https://localhost:8080/",
          "height": 296
        },
        "id": "qpoZW4VO_GFY",
        "outputId": "8042483d-70c2-4be4-ced5-de7a0dabcb86"
      },
      "outputs": [
        {
          "data": {
            "image/png": "[encoded data removed]",
            "text/plain": [
              "<Figure size 864x288 with 1 Axes>"
            ]
          },
          "metadata": {
            "needs_background": "light"
          },
          "output_type": "display_data"
        }
      ],
      "source": [
        "fig, ax = plt.subplots(figsize=(12,4))\n",
        "\n",
        "fires.GIS_ACRES.plot(density=True, logy=True, kind='hist', ax=ax);\n",
        "\n",
        "# changing title and labels\n",
        "ax.set_title('GIS acreage', fontsize=16);\n",
        "ax.set_ylabel('log(density)');\n"
      ]
    },
    {
      "cell_type": "code",
      "execution_count": 25,
      "metadata": {
        "colab": {
          "base_uri": "https://localhost:8080/"
        },
        "id": "vj57jvCxNrtC",
        "outputId": "16e8123f-f3a8-4528-dff0-6b840a006878"
      },
      "outputs": [
        {
          "data": {
            "text/plain": [
              "['CAUSE', 'REPORT_AC', 'GIS_ACRES', 'Shape_Length', 'Shape_Area', 'dur_days']"
            ]
          },
          "execution_count": 25,
          "metadata": {},
          "output_type": "execute_result"
        }
      ],
      "source": [
        "# create histograms for all numeric variables \n",
        "num_vars = fires.select_dtypes(include=np.number).columns.tolist()\n",
        "num_vars"
      ]
    },
    {
      "cell_type": "code",
      "execution_count": 26,
      "metadata": {
        "colab": {
          "base_uri": "https://localhost:8080/",
          "height": 892
        },
        "id": "eeRgJQDePFq1",
        "outputId": "a0d828c9-7246-4839-b398-4968fbf3f0c1"
      },
      "outputs": [
        {
          "data": {
            "image/png": "[encoded data removed]",
            "text/plain": [
              "<Figure size 1080x1080 with 6 Axes>"
            ]
          },
          "metadata": {
            "needs_background": "light"
          },
          "output_type": "display_data"
        }
      ],
      "source": [
        "fires[num_vars].hist(density=True, bins=30, figsize=(15,15));"
      ]
    },
    {
      "cell_type": "code",
      "execution_count": 27,
      "metadata": {
        "colab": {
          "base_uri": "https://localhost:8080/",
          "height": 278
        },
        "id": "7X8UPBIgRJQE",
        "outputId": "838e3940-ab1a-40de-d1e5-b858cd330a10"
      },
      "outputs": [
        {
          "data": {
            "image/png": "[encoded data removed]",
            "text/plain": [
              "<Figure size 432x288 with 1 Axes>"
            ]
          },
          "metadata": {
            "needs_background": "light"
          },
          "output_type": "display_data"
        }
      ],
      "source": [
        "# we can also call histogram from matplotlib interface \n",
        "plt.hist(fires.GIS_ACRES);"
      ]
    },
    {
      "cell_type": "markdown",
      "metadata": {
        "id": "ljKKop19rFTX"
      },
      "source": [
        "## Asking interesting questions about data \n",
        "\n",
        "1. What is the average size of wildfires in CA\n",
        "2. Does average size of fires increase over time? \n",
        "3. How many fires do we have per year? \n",
        "4. Does the number of fires increase over time? \n",
        "5. How does average fire duration change? "
      ]
    },
    {
      "cell_type": "code",
      "execution_count": 28,
      "metadata": {
        "colab": {
          "base_uri": "https://localhost:8080/"
        },
        "id": "X-iHztDQXDGn",
        "outputId": "462a553f-a804-4e7c-aee8-4b3995b453d8"
      },
      "outputs": [
        {
          "data": {
            "text/plain": [
              "28624990.462906368"
            ]
          },
          "execution_count": 28,
          "metadata": {},
          "output_type": "execute_result"
        }
      ],
      "source": [
        "# calculating average size of fires in CA \n",
        "fires.area.mean() # this is in square meters: 28,624,990"
      ]
    },
    {
      "cell_type": "code",
      "execution_count": 29,
      "metadata": {
        "colab": {
          "base_uri": "https://localhost:8080/"
        },
        "id": "egdqt_BQ0GfK",
        "outputId": "4215306a-eef5-487a-cf44-578bd1a740df"
      },
      "outputs": [
        {
          "data": {
            "text/plain": [
              "YEAR_                    int64\n",
              "AGENCY                  object\n",
              "UNIT_ID                 object\n",
              "FIRE_NAME               object\n",
              "INC_NUM                 object\n",
              "ALARM_DATE      datetime64[ns]\n",
              "CONT_DATE       datetime64[ns]\n",
              "CAUSE                  float64\n",
              "REPORT_AC              float64\n",
              "GIS_ACRES              float64\n",
              "FIRE_NUM                object\n",
              "Shape_Length           float64\n",
              "Shape_Area             float64\n",
              "geometry              geometry\n",
              "dur_days               float64\n",
              "dtype: object"
            ]
          },
          "execution_count": 29,
          "metadata": {},
          "output_type": "execute_result"
        }
      ],
      "source": [
        "# convert YEAR_ to int \n",
        "fires.YEAR_ = fires.YEAR_.astype(int)\n",
        "fires.dtypes"
      ]
    },
    {
      "cell_type": "markdown",
      "metadata": {
        "id": "diDFf00Dr1D7"
      },
      "source": [
        "### Grouping variables and summarizing"
      ]
    },
    {
      "cell_type": "code",
      "execution_count": 30,
      "metadata": {
        "colab": {
          "base_uri": "https://localhost:8080/",
          "height": 311
        },
        "id": "3tS7CD9GruzT",
        "outputId": "924fa840-cc52-4a10-99a0-e4ecc503f158"
      },
      "outputs": [
        {
          "data": {
            "image/png": "[encoded data removed]",
            "text/plain": [
              "<Figure size 864x288 with 1 Axes>"
            ]
          },
          "metadata": {
            "needs_background": "light"
          },
          "output_type": "display_data"
        }
      ],
      "source": [
        "# only use variables that you will be calculating on \n",
        "avg_acres_by_year = fires[['YEAR_', 'GIS_ACRES']].groupby('YEAR_')[\"GIS_ACRES\"].mean().reset_index()\n",
        "\n",
        "avg_acres_by_year.set_index('YEAR_', inplace=True)\n",
        "\n",
        "avg_acres_by_year.plot(figsize=(12,4), title='Average area of wildfires\\n in California', color='r', linestyle='dashed');"
      ]
    },
    {
      "cell_type": "code",
      "execution_count": 31,
      "metadata": {
        "colab": {
          "base_uri": "https://localhost:8080/",
          "height": 311
        },
        "id": "HQKJduwss3N_",
        "outputId": "1722e363-6a21-4a17-9505-fc9c1771df15"
      },
      "outputs": [
        {
          "data": {
            "image/png": "[encoded data removed]",
            "text/plain": [
              "<Figure size 864x288 with 1 Axes>"
            ]
          },
          "metadata": {
            "needs_background": "light"
          },
          "output_type": "display_data"
        }
      ],
      "source": [
        "# only use variables that you will be calculating on \n",
        "total_acres_by_year = fires[['YEAR_', 'GIS_ACRES']].groupby('YEAR_')[\"GIS_ACRES\"].sum().reset_index()\n",
        "\n",
        "total_acres_by_year.set_index('YEAR_', inplace=True)\n",
        "\n",
        "total_acres_by_year.plot(figsize=(12,4), title='Total area of wildfires\\n in California');"
      ]
    },
    {
      "cell_type": "code",
      "execution_count": 32,
      "metadata": {
        "colab": {
          "base_uri": "https://localhost:8080/"
        },
        "id": "P5jp0Gz6tb9V",
        "outputId": "4b3afaa8-dfcf-4d39-cfb7-bf9530d85012"
      },
      "outputs": [
        {
          "name": "stdout",
          "output_type": "stream",
          "text": [
            "5250\n",
            "5083\n"
          ]
        }
      ],
      "source": [
        "print(fires.shape[0]) # number of records\n",
        "print(fires.INC_NUM.count()) # number of fire_id "
      ]
    },
    {
      "cell_type": "code",
      "execution_count": 33,
      "metadata": {
        "colab": {
          "base_uri": "https://localhost:8080/",
          "height": 311
        },
        "id": "KcM9q3ESs9KC",
        "outputId": "ea4f70a7-07ef-4c64-e32a-f366a539359a"
      },
      "outputs": [
        {
          "data": {
            "image/png": "[encoded data removed]",
            "text/plain": [
              "<Figure size 864x288 with 1 Axes>"
            ]
          },
          "metadata": {
            "needs_background": "light"
          },
          "output_type": "display_data"
        }
      ],
      "source": [
        "# calculate number of fires per year \n",
        "fires_per_year = fires[['YEAR_', 'INC_NUM']].groupby('YEAR_')[\"INC_NUM\"].count().reset_index()\n",
        "\n",
        "fires_per_year.set_index('YEAR_', inplace=True)\n",
        "\n",
        "fires_per_year.plot(figsize=(12,4), title='Total number of wildfires\\n in California');"
      ]
    },
    {
      "cell_type": "code",
      "execution_count": 34,
      "metadata": {
        "colab": {
          "base_uri": "https://localhost:8080/",
          "height": 311
        },
        "id": "Wb61X5tgtttc",
        "outputId": "b8026f28-cb27-4c13-bb3a-3e34ba1aad73"
      },
      "outputs": [
        {
          "data": {
            "image/png": "[encoded data removed]",
            "text/plain": [
              "<Figure size 864x288 with 1 Axes>"
            ]
          },
          "metadata": {
            "needs_background": "light"
          },
          "output_type": "display_data"
        }
      ],
      "source": [
        "# zoom into specific years and change range on y-axis, remove legend label, change linestyle and marker style\n",
        "fires_per_year.plot(figsize=(12,4), title='Total number of wildfires\\n in California (1990-2020)', ylim=(0,350), xlim=(1989,2022), legend=False, color='k', marker='s', linestyle='-.');"
      ]
    },
    {
      "cell_type": "code",
      "execution_count": 35,
      "metadata": {
        "colab": {
          "base_uri": "https://localhost:8080/",
          "height": 311
        },
        "id": "ebM5zNdLuqfM",
        "outputId": "1b85a12f-1115-443d-95d1-f5d40b807c80"
      },
      "outputs": [
        {
          "data": {
            "image/png": "[encoded data removed]",
            "text/plain": [
              "<Figure size 864x288 with 1 Axes>"
            ]
          },
          "metadata": {
            "needs_background": "light"
          },
          "output_type": "display_data"
        }
      ],
      "source": [
        "# total duration of fires per year\n",
        "dur_per_year = fires[['YEAR_', 'dur_days']].groupby('YEAR_')[\"dur_days\"].sum().reset_index()\n",
        "\n",
        "dur_per_year.set_index('YEAR_', inplace=True)\n",
        "\n",
        "dur_per_year.plot(figsize=(12,4), title='Total duration of wildfires in days\\n in California');"
      ]
    },
    {
      "cell_type": "code",
      "execution_count": 36,
      "metadata": {
        "colab": {
          "base_uri": "https://localhost:8080/",
          "height": 224
        },
        "id": "JpQmScCZvzjt",
        "outputId": "0d97d7cd-1ee5-4492-f4be-be0761c016ee"
      },
      "outputs": [
        {
          "name": "stdout",
          "output_type": "stream",
          "text": [
            "(100, 3)\n"
          ]
        },
        {
          "data": {
            "text/html": [
              "\n",
              "  <div id=\"df-214d744e-6209-4a3b-91d6-ee21078bcb54\">\n",
              "    <div class=\"colab-df-container\">\n",
              "      <div>\n",
              "<style scoped>\n",
              "    .dataframe tbody tr th:only-of-type {\n",
              "        vertical-align: middle;\n",
              "    }\n",
              "\n",
              "    .dataframe tbody tr th {\n",
              "        vertical-align: top;\n",
              "    }\n",
              "\n",
              "    .dataframe thead th {\n",
              "        text-align: right;\n",
              "    }\n",
              "</style>\n",
              "<table border=\"1\" class=\"dataframe\">\n",
              "  <thead>\n",
              "    <tr style=\"text-align: right;\">\n",
              "      <th></th>\n",
              "      <th>0</th>\n",
              "      <th>1</th>\n",
              "      <th>2</th>\n",
              "    </tr>\n",
              "  </thead>\n",
              "  <tbody>\n",
              "    <tr>\n",
              "      <th>0</th>\n",
              "      <td>191012</td>\n",
              "      <td>57.7</td>\n",
              "      <td>0.3</td>\n",
              "    </tr>\n",
              "    <tr>\n",
              "      <th>1</th>\n",
              "      <td>191112</td>\n",
              "      <td>55.4</td>\n",
              "      <td>-2.0</td>\n",
              "    </tr>\n",
              "    <tr>\n",
              "      <th>2</th>\n",
              "      <td>191212</td>\n",
              "      <td>55.5</td>\n",
              "      <td>-1.9</td>\n",
              "    </tr>\n",
              "    <tr>\n",
              "      <th>3</th>\n",
              "      <td>191312</td>\n",
              "      <td>56.4</td>\n",
              "      <td>-1.0</td>\n",
              "    </tr>\n",
              "    <tr>\n",
              "      <th>4</th>\n",
              "      <td>191412</td>\n",
              "      <td>57.4</td>\n",
              "      <td>0.0</td>\n",
              "    </tr>\n",
              "  </tbody>\n",
              "</table>\n",
              "</div>\n",
              "      <button class=\"colab-df-convert\" onclick=\"convertToInteractive('df-214d744e-6209-4a3b-91d6-ee21078bcb54')\"\n",
              "              title=\"Convert this dataframe to an interactive table.\"\n",
              "              style=\"display:none;\">\n",
              "        \n",
              "  <svg xmlns=\"http://www.w3.org/2000/svg\" height=\"24px\"viewBox=\"0 0 24 24\"\n",
              "       width=\"24px\">\n",
              "    <path d=\"M0 0h24v24H0V0z\" fill=\"none\"/>\n",
              "    <path d=\"M18.56 5.44l.94 2.06.94-2.06 2.06-.94-2.06-.94-.94-2.06-.94 2.06-2.06.94zm-11 1L8.5 8.5l.94-2.06 2.06-.94-2.06-.94L8.5 2.5l-.94 2.06-2.06.94zm10 10l.94 2.06.94-2.06 2.06-.94-2.06-.94-.94-2.06-.94 2.06-2.06.94z\"/><path d=\"M17.41 7.96l-1.37-1.37c-.4-.4-.92-.59-1.43-.59-.52 0-1.04.2-1.43.59L10.3 9.45l-7.72 7.72c-.78.78-.78 2.05 0 2.83L4 21.41c.39.39.9.59 1.41.59.51 0 1.02-.2 1.41-.59l7.78-7.78 2.81-2.81c.8-.78.8-2.07 0-2.86zM5.41 20L4 18.59l7.72-7.72 1.47 1.35L5.41 20z\"/>\n",
              "  </svg>\n",
              "      </button>\n",
              "      \n",
              "  <style>\n",
              "    .colab-df-container {\n",
              "      display:flex;\n",
              "      flex-wrap:wrap;\n",
              "      gap: 12px;\n",
              "    }\n",
              "\n",
              "    .colab-df-convert {\n",
              "      background-color: #E8F0FE;\n",
              "      border: none;\n",
              "      border-radius: 50%;\n",
              "      cursor: pointer;\n",
              "      display: none;\n",
              "      fill: #1967D2;\n",
              "      height: 32px;\n",
              "      padding: 0 0 0 0;\n",
              "      width: 32px;\n",
              "    }\n",
              "\n",
              "    .colab-df-convert:hover {\n",
              "      background-color: #E2EBFA;\n",
              "      box-shadow: 0px 1px 2px rgba(60, 64, 67, 0.3), 0px 1px 3px 1px rgba(60, 64, 67, 0.15);\n",
              "      fill: #174EA6;\n",
              "    }\n",
              "\n",
              "    [theme=dark] .colab-df-convert {\n",
              "      background-color: #3B4455;\n",
              "      fill: #D2E3FC;\n",
              "    }\n",
              "\n",
              "    [theme=dark] .colab-df-convert:hover {\n",
              "      background-color: #434B5C;\n",
              "      box-shadow: 0px 1px 3px 1px rgba(0, 0, 0, 0.15);\n",
              "      filter: drop-shadow(0px 1px 2px rgba(0, 0, 0, 0.3));\n",
              "      fill: #FFFFFF;\n",
              "    }\n",
              "  </style>\n",
              "\n",
              "      <script>\n",
              "        const buttonEl =\n",
              "          document.querySelector('#df-214d744e-6209-4a3b-91d6-ee21078bcb54 button.colab-df-convert');\n",
              "        buttonEl.style.display =\n",
              "          google.colab.kernel.accessAllowed ? 'block' : 'none';\n",
              "\n",
              "        async function convertToInteractive(key) {\n",
              "          const element = document.querySelector('#df-214d744e-6209-4a3b-91d6-ee21078bcb54');\n",
              "          const dataTable =\n",
              "            await google.colab.kernel.invokeFunction('convertToInteractive',\n",
              "                                                     [key], {});\n",
              "          if (!dataTable) return;\n",
              "\n",
              "          const docLinkHtml = 'Like what you see? Visit the ' +\n",
              "            '<a target=\"_blank\" href=https://colab.research.google.com/notebooks/data_table.ipynb>data table notebook</a>'\n",
              "            + ' to learn more about interactive tables.';\n",
              "          element.innerHTML = '';\n",
              "          dataTable['output_type'] = 'display_data';\n",
              "          await google.colab.output.renderOutput(dataTable, element);\n",
              "          const docLink = document.createElement('div');\n",
              "          docLink.innerHTML = docLinkHtml;\n",
              "          element.appendChild(docLink);\n",
              "        }\n",
              "      </script>\n",
              "    </div>\n",
              "  </div>\n",
              "  "
            ],
            "text/plain": [
              "        0     1    2\n",
              "0  191012  57.7  0.3\n",
              "1  191112  55.4 -2.0\n",
              "2  191212  55.5 -1.9\n",
              "3  191312  56.4 -1.0\n",
              "4  191412  57.4  0.0"
            ]
          },
          "execution_count": 36,
          "metadata": {},
          "output_type": "execute_result"
        }
      ],
      "source": [
        "# get temperature \n",
        "ca_temps = pd.read_csv('https://www.ncei.noaa.gov/cag/statewide/time-series/4-tavg-12-12-1910-2022.csv?base_prd=true&begbaseyear=1901&endbaseyear=2000', skiprows=5, header=None, dtype={0:'str'}, nrows=100) # use this line if following lab instructions\n",
        "#ca_temps = pd.read_csv('https://raw.githubusercontent.com/barguzin/ucsb_geog172/main/data/ca_avg_temps.csv', skiprows=5, header=None, dtype={0:'str'}, nrows=100)\n",
        "print(ca_temps.shape)\n",
        "ca_temps.head()"
      ]
    },
    {
      "cell_type": "code",
      "execution_count": 37,
      "metadata": {
        "id": "1PlIC9HUv4TI"
      },
      "outputs": [],
      "source": [
        "ca_temps.columns = ['date_year', 'temp', 'anomaly']"
      ]
    },
    {
      "cell_type": "code",
      "execution_count": 38,
      "metadata": {
        "colab": {
          "base_uri": "https://localhost:8080/",
          "height": 237
        },
        "id": "FhzlJGkHwHZo",
        "outputId": "087ccba3-8a32-41c2-8d87-591728eeefb2"
      },
      "outputs": [
        {
          "data": {
            "text/html": [
              "\n",
              "  <div id=\"df-4e54e050-0742-4478-8444-6e1b62a84349\">\n",
              "    <div class=\"colab-df-container\">\n",
              "      <div>\n",
              "<style scoped>\n",
              "    .dataframe tbody tr th:only-of-type {\n",
              "        vertical-align: middle;\n",
              "    }\n",
              "\n",
              "    .dataframe tbody tr th {\n",
              "        vertical-align: top;\n",
              "    }\n",
              "\n",
              "    .dataframe thead th {\n",
              "        text-align: right;\n",
              "    }\n",
              "</style>\n",
              "<table border=\"1\" class=\"dataframe\">\n",
              "  <thead>\n",
              "    <tr style=\"text-align: right;\">\n",
              "      <th></th>\n",
              "      <th>temp</th>\n",
              "      <th>anomaly</th>\n",
              "    </tr>\n",
              "    <tr>\n",
              "      <th>date_year</th>\n",
              "      <th></th>\n",
              "      <th></th>\n",
              "    </tr>\n",
              "  </thead>\n",
              "  <tbody>\n",
              "    <tr>\n",
              "      <th>2005</th>\n",
              "      <td>58.6</td>\n",
              "      <td>1.2</td>\n",
              "    </tr>\n",
              "    <tr>\n",
              "      <th>2006</th>\n",
              "      <td>58.6</td>\n",
              "      <td>1.2</td>\n",
              "    </tr>\n",
              "    <tr>\n",
              "      <th>2007</th>\n",
              "      <td>58.9</td>\n",
              "      <td>1.5</td>\n",
              "    </tr>\n",
              "    <tr>\n",
              "      <th>2008</th>\n",
              "      <td>58.9</td>\n",
              "      <td>1.5</td>\n",
              "    </tr>\n",
              "    <tr>\n",
              "      <th>2009</th>\n",
              "      <td>58.8</td>\n",
              "      <td>1.4</td>\n",
              "    </tr>\n",
              "  </tbody>\n",
              "</table>\n",
              "</div>\n",
              "      <button class=\"colab-df-convert\" onclick=\"convertToInteractive('df-4e54e050-0742-4478-8444-6e1b62a84349')\"\n",
              "              title=\"Convert this dataframe to an interactive table.\"\n",
              "              style=\"display:none;\">\n",
              "        \n",
              "  <svg xmlns=\"http://www.w3.org/2000/svg\" height=\"24px\"viewBox=\"0 0 24 24\"\n",
              "       width=\"24px\">\n",
              "    <path d=\"M0 0h24v24H0V0z\" fill=\"none\"/>\n",
              "    <path d=\"M18.56 5.44l.94 2.06.94-2.06 2.06-.94-2.06-.94-.94-2.06-.94 2.06-2.06.94zm-11 1L8.5 8.5l.94-2.06 2.06-.94-2.06-.94L8.5 2.5l-.94 2.06-2.06.94zm10 10l.94 2.06.94-2.06 2.06-.94-2.06-.94-.94-2.06-.94 2.06-2.06.94z\"/><path d=\"M17.41 7.96l-1.37-1.37c-.4-.4-.92-.59-1.43-.59-.52 0-1.04.2-1.43.59L10.3 9.45l-7.72 7.72c-.78.78-.78 2.05 0 2.83L4 21.41c.39.39.9.59 1.41.59.51 0 1.02-.2 1.41-.59l7.78-7.78 2.81-2.81c.8-.78.8-2.07 0-2.86zM5.41 20L4 18.59l7.72-7.72 1.47 1.35L5.41 20z\"/>\n",
              "  </svg>\n",
              "      </button>\n",
              "      \n",
              "  <style>\n",
              "    .colab-df-container {\n",
              "      display:flex;\n",
              "      flex-wrap:wrap;\n",
              "      gap: 12px;\n",
              "    }\n",
              "\n",
              "    .colab-df-convert {\n",
              "      background-color: #E8F0FE;\n",
              "      border: none;\n",
              "      border-radius: 50%;\n",
              "      cursor: pointer;\n",
              "      display: none;\n",
              "      fill: #1967D2;\n",
              "      height: 32px;\n",
              "      padding: 0 0 0 0;\n",
              "      width: 32px;\n",
              "    }\n",
              "\n",
              "    .colab-df-convert:hover {\n",
              "      background-color: #E2EBFA;\n",
              "      box-shadow: 0px 1px 2px rgba(60, 64, 67, 0.3), 0px 1px 3px 1px rgba(60, 64, 67, 0.15);\n",
              "      fill: #174EA6;\n",
              "    }\n",
              "\n",
              "    [theme=dark] .colab-df-convert {\n",
              "      background-color: #3B4455;\n",
              "      fill: #D2E3FC;\n",
              "    }\n",
              "\n",
              "    [theme=dark] .colab-df-convert:hover {\n",
              "      background-color: #434B5C;\n",
              "      box-shadow: 0px 1px 3px 1px rgba(0, 0, 0, 0.15);\n",
              "      filter: drop-shadow(0px 1px 2px rgba(0, 0, 0, 0.3));\n",
              "      fill: #FFFFFF;\n",
              "    }\n",
              "  </style>\n",
              "\n",
              "      <script>\n",
              "        const buttonEl =\n",
              "          document.querySelector('#df-4e54e050-0742-4478-8444-6e1b62a84349 button.colab-df-convert');\n",
              "        buttonEl.style.display =\n",
              "          google.colab.kernel.accessAllowed ? 'block' : 'none';\n",
              "\n",
              "        async function convertToInteractive(key) {\n",
              "          const element = document.querySelector('#df-4e54e050-0742-4478-8444-6e1b62a84349');\n",
              "          const dataTable =\n",
              "            await google.colab.kernel.invokeFunction('convertToInteractive',\n",
              "                                                     [key], {});\n",
              "          if (!dataTable) return;\n",
              "\n",
              "          const docLinkHtml = 'Like what you see? Visit the ' +\n",
              "            '<a target=\"_blank\" href=https://colab.research.google.com/notebooks/data_table.ipynb>data table notebook</a>'\n",
              "            + ' to learn more about interactive tables.';\n",
              "          element.innerHTML = '';\n",
              "          dataTable['output_type'] = 'display_data';\n",
              "          await google.colab.output.renderOutput(dataTable, element);\n",
              "          const docLink = document.createElement('div');\n",
              "          docLink.innerHTML = docLinkHtml;\n",
              "          element.appendChild(docLink);\n",
              "        }\n",
              "      </script>\n",
              "    </div>\n",
              "  </div>\n",
              "  "
            ],
            "text/plain": [
              "           temp  anomaly\n",
              "date_year               \n",
              "2005       58.6      1.2\n",
              "2006       58.6      1.2\n",
              "2007       58.9      1.5\n",
              "2008       58.9      1.5\n",
              "2009       58.8      1.4"
            ]
          },
          "execution_count": 38,
          "metadata": {},
          "output_type": "execute_result"
        }
      ],
      "source": [
        "# prep year \n",
        "# convert to \n",
        "ca_temps.date_year = ca_temps.date_year.str.slice(0,4)\n",
        "\n",
        "ca_temps.date_year = ca_temps.date_year.astype(int)\n",
        "\n",
        "ca_temps.set_index('date_year', inplace=True)\n",
        "\n",
        "ca_temps.tail()"
      ]
    },
    {
      "cell_type": "code",
      "execution_count": 39,
      "metadata": {
        "colab": {
          "base_uri": "https://localhost:8080/"
        },
        "id": "NiybXvw720hk",
        "outputId": "b33bdcbe-99cc-41d8-8201-7c9d2ae0f291"
      },
      "outputs": [
        {
          "name": "stdout",
          "output_type": "stream",
          "text": [
            "int64\n",
            "int64\n"
          ]
        }
      ],
      "source": [
        "print(ca_temps.index.dtype)\n",
        "print(dur_per_year.index.dtype)"
      ]
    },
    {
      "cell_type": "code",
      "execution_count": 40,
      "metadata": {
        "colab": {
          "base_uri": "https://localhost:8080/",
          "height": 532
        },
        "id": "V7m9_kKWxLA-",
        "outputId": "a8147265-f875-424b-d87a-e6f55b849341"
      },
      "outputs": [
        {
          "data": {
            "text/plain": [
              "Text(0.5, 1.0, 'Total duration of wildfires in CA')"
            ]
          },
          "execution_count": 40,
          "metadata": {},
          "output_type": "execute_result"
        },
        {
          "data": {
            "image/png": "[encoded data removed]",
            "text/plain": [
              "<Figure size 864x576 with 2 Axes>"
            ]
          },
          "metadata": {
            "needs_background": "light"
          },
          "output_type": "display_data"
        }
      ],
      "source": [
        "# plot total duration of wildfires and average temps on two subplots \n",
        "\n",
        "fig, (ax1,ax2) = plt.subplots(2,1,figsize=(12,8), sharex=True)\n",
        "\n",
        "ca_temps.temp.plot(ax=ax1)\n",
        "ax1.set_title('Average Temperature in CA')\n",
        "\n",
        "dur_per_year.plot(ax=ax2)\n",
        "ax2.set_title('Total duration of wildfires in CA')"
      ]
    },
    {
      "cell_type": "markdown",
      "metadata": {
        "id": "zFFIAb7h4JJn"
      },
      "source": [
        "#### There is a problem with index alignment, we need to merge dataframes! "
      ]
    },
    {
      "cell_type": "code",
      "execution_count": 41,
      "metadata": {
        "colab": {
          "base_uri": "https://localhost:8080/",
          "height": 532
        },
        "id": "N-sg2d-pwo5U",
        "outputId": "20376b24-1920-41b6-beb7-1a6498faf1b9"
      },
      "outputs": [
        {
          "data": {
            "text/plain": [
              "Text(0.5, 1.0, 'Total duration of wildfires in CA')"
            ]
          },
          "execution_count": 41,
          "metadata": {},
          "output_type": "execute_result"
        },
        {
          "data": {
            "image/png": "[encoded data removed]",
            "text/plain": [
              "<Figure size 864x576 with 2 Axes>"
            ]
          },
          "metadata": {
            "needs_background": "light"
          },
          "output_type": "display_data"
        }
      ],
      "source": [
        "merged = ca_temps.join(dur_per_year)\n",
        "\n",
        "fig, (ax1,ax2) = plt.subplots(2,1,figsize=(12,8), sharex=True)\n",
        "\n",
        "merged.temp.plot(ax=ax1)\n",
        "ax1.set_title('Average Temperature in CA')\n",
        "\n",
        "merged.dur_days.plot(ax=ax2)\n",
        "ax2.set_title('Total duration of wildfires in CA')"
      ]
    },
    {
      "cell_type": "markdown",
      "metadata": {
        "id": "JzU7L_u-4XpV"
      },
      "source": [
        "## Spatial join and some summary statistics "
      ]
    },
    {
      "cell_type": "markdown",
      "metadata": {
        "id": "1VMc-bwP4g8j"
      },
      "source": [
        "Let's imagine you work at the county GIS Department. You are tasked to describe the wildfire situation in that county. We need to be able to subset our data set by county. For that we need to run spatial join. "
      ]
    },
    {
      "cell_type": "code",
      "execution_count": 45,
      "metadata": {
        "colab": {
          "base_uri": "https://localhost:8080/"
        },
        "id": "qgB4xnBH4W1Z",
        "outputId": "b6c42dbb-f3d3-4d45-ea00-b50ff2724266"
      },
      "outputs": [
        {
          "name": "stdout",
          "output_type": "stream",
          "text": [
            "(5250, 15)\n",
            "(5626, 17)\n"
          ]
        }
      ],
      "source": [
        "# join fires to counties \n",
        "print(fires.shape) # total number of fires before join \n",
        "sj = fires.sjoin(ca_counties[['name', 'geometry']], how='left') # only keep name and geometry other variables are not required\n",
        "print(sj.shape) # total number of fires after join - notice some were duplicated because some fires stretch several couinties! "
      ]
    },
    {
      "cell_type": "code",
      "execution_count": 43,
      "metadata": {
        "colab": {
          "base_uri": "https://localhost:8080/",
          "height": 250
        },
        "id": "sx_mUBWl5IBf",
        "outputId": "5906e186-4bb8-4d33-f70e-6c6ed135350d"
      },
      "outputs": [
        {
          "data": {
            "text/html": [
              "\n",
              "  <div id=\"df-c9a2d474-b33d-4843-a762-8540c54e25a8\">\n",
              "    <div class=\"colab-df-container\">\n",
              "      <div>\n",
              "<style scoped>\n",
              "    .dataframe tbody tr th:only-of-type {\n",
              "        vertical-align: middle;\n",
              "    }\n",
              "\n",
              "    .dataframe tbody tr th {\n",
              "        vertical-align: top;\n",
              "    }\n",
              "\n",
              "    .dataframe thead th {\n",
              "        text-align: right;\n",
              "    }\n",
              "</style>\n",
              "<table border=\"1\" class=\"dataframe\">\n",
              "  <thead>\n",
              "    <tr style=\"text-align: right;\">\n",
              "      <th></th>\n",
              "      <th>YEAR_</th>\n",
              "      <th>AGENCY</th>\n",
              "      <th>UNIT_ID</th>\n",
              "      <th>FIRE_NAME</th>\n",
              "      <th>INC_NUM</th>\n",
              "      <th>ALARM_DATE</th>\n",
              "      <th>CONT_DATE</th>\n",
              "      <th>CAUSE</th>\n",
              "      <th>REPORT_AC</th>\n",
              "      <th>GIS_ACRES</th>\n",
              "      <th>FIRE_NUM</th>\n",
              "      <th>Shape_Length</th>\n",
              "      <th>Shape_Area</th>\n",
              "      <th>geometry</th>\n",
              "      <th>dur_days</th>\n",
              "      <th>index_right</th>\n",
              "      <th>name</th>\n",
              "      <th>cartodb_id</th>\n",
              "      <th>created_at</th>\n",
              "      <th>updated_at</th>\n",
              "    </tr>\n",
              "  </thead>\n",
              "  <tbody>\n",
              "    <tr>\n",
              "      <th>0</th>\n",
              "      <td>2020</td>\n",
              "      <td>CDF</td>\n",
              "      <td>NEU</td>\n",
              "      <td>NELSON</td>\n",
              "      <td>00013212</td>\n",
              "      <td>2020-06-18</td>\n",
              "      <td>2020-06-23</td>\n",
              "      <td>11.0</td>\n",
              "      <td>110.0</td>\n",
              "      <td>109.602280</td>\n",
              "      <td>None</td>\n",
              "      <td>3252.523280</td>\n",
              "      <td>4.435447e+05</td>\n",
              "      <td>MULTIPOLYGON (((-13508442.409 4705925.209, -13...</td>\n",
              "      <td>5.0</td>\n",
              "      <td>50.0</td>\n",
              "      <td>Placer</td>\n",
              "      <td>31.0</td>\n",
              "      <td>2015-07-04T21:04:58+00:00</td>\n",
              "      <td>2015-07-04T21:04:58+00:00</td>\n",
              "    </tr>\n",
              "    <tr>\n",
              "      <th>1</th>\n",
              "      <td>2020</td>\n",
              "      <td>CDF</td>\n",
              "      <td>NEU</td>\n",
              "      <td>AMORUSO</td>\n",
              "      <td>00011799</td>\n",
              "      <td>2020-06-01</td>\n",
              "      <td>2020-06-04</td>\n",
              "      <td>2.0</td>\n",
              "      <td>670.0</td>\n",
              "      <td>685.585022</td>\n",
              "      <td>None</td>\n",
              "      <td>9653.760308</td>\n",
              "      <td>2.774464e+06</td>\n",
              "      <td>MULTIPOLYGON (((-13508926.470 4695975.605, -13...</td>\n",
              "      <td>3.0</td>\n",
              "      <td>50.0</td>\n",
              "      <td>Placer</td>\n",
              "      <td>31.0</td>\n",
              "      <td>2015-07-04T21:04:58+00:00</td>\n",
              "      <td>2015-07-04T21:04:58+00:00</td>\n",
              "    </tr>\n",
              "    <tr>\n",
              "      <th>3</th>\n",
              "      <td>2020</td>\n",
              "      <td>CDF</td>\n",
              "      <td>NEU</td>\n",
              "      <td>FLEMING</td>\n",
              "      <td>00007619</td>\n",
              "      <td>2020-03-31</td>\n",
              "      <td>2020-04-01</td>\n",
              "      <td>9.0</td>\n",
              "      <td>13.0</td>\n",
              "      <td>12.931545</td>\n",
              "      <td>None</td>\n",
              "      <td>1577.155857</td>\n",
              "      <td>5.233211e+04</td>\n",
              "      <td>MULTIPOLYGON (((-13500067.208 4716383.997, -13...</td>\n",
              "      <td>1.0</td>\n",
              "      <td>50.0</td>\n",
              "      <td>Placer</td>\n",
              "      <td>31.0</td>\n",
              "      <td>2015-07-04T21:04:58+00:00</td>\n",
              "      <td>2015-07-04T21:04:58+00:00</td>\n",
              "    </tr>\n",
              "    <tr>\n",
              "      <th>4</th>\n",
              "      <td>2020</td>\n",
              "      <td>CDF</td>\n",
              "      <td>NEU</td>\n",
              "      <td>MELANESE</td>\n",
              "      <td>00008471</td>\n",
              "      <td>2020-04-14</td>\n",
              "      <td>2020-04-19</td>\n",
              "      <td>18.0</td>\n",
              "      <td>10.3</td>\n",
              "      <td>10.315964</td>\n",
              "      <td>None</td>\n",
              "      <td>1035.787625</td>\n",
              "      <td>4.174722e+04</td>\n",
              "      <td>MULTIPOLYGON (((-13503127.052 4791691.861, -13...</td>\n",
              "      <td>5.0</td>\n",
              "      <td>42.0</td>\n",
              "      <td>Yuba</td>\n",
              "      <td>58.0</td>\n",
              "      <td>2015-07-04T21:04:58+00:00</td>\n",
              "      <td>2015-07-04T21:04:58+00:00</td>\n",
              "    </tr>\n",
              "    <tr>\n",
              "      <th>6</th>\n",
              "      <td>2020</td>\n",
              "      <td>DOD</td>\n",
              "      <td>BEA</td>\n",
              "      <td>VALLEY</td>\n",
              "      <td>00015865</td>\n",
              "      <td>2020-07-15</td>\n",
              "      <td>2020-07-16</td>\n",
              "      <td>14.0</td>\n",
              "      <td>377.0</td>\n",
              "      <td>376.910400</td>\n",
              "      <td>None</td>\n",
              "      <td>7596.639583</td>\n",
              "      <td>1.525302e+06</td>\n",
              "      <td>MULTIPOLYGON (((-13511624.004 4738027.149, -13...</td>\n",
              "      <td>1.0</td>\n",
              "      <td>42.0</td>\n",
              "      <td>Yuba</td>\n",
              "      <td>58.0</td>\n",
              "      <td>2015-07-04T21:04:58+00:00</td>\n",
              "      <td>2015-07-04T21:04:58+00:00</td>\n",
              "    </tr>\n",
              "  </tbody>\n",
              "</table>\n",
              "</div>\n",
              "      <button class=\"colab-df-convert\" onclick=\"convertToInteractive('df-c9a2d474-b33d-4843-a762-8540c54e25a8')\"\n",
              "              title=\"Convert this dataframe to an interactive table.\"\n",
              "              style=\"display:none;\">\n",
              "        \n",
              "  <svg xmlns=\"http://www.w3.org/2000/svg\" height=\"24px\"viewBox=\"0 0 24 24\"\n",
              "       width=\"24px\">\n",
              "    <path d=\"M0 0h24v24H0V0z\" fill=\"none\"/>\n",
              "    <path d=\"M18.56 5.44l.94 2.06.94-2.06 2.06-.94-2.06-.94-.94-2.06-.94 2.06-2.06.94zm-11 1L8.5 8.5l.94-2.06 2.06-.94-2.06-.94L8.5 2.5l-.94 2.06-2.06.94zm10 10l.94 2.06.94-2.06 2.06-.94-2.06-.94-.94-2.06-.94 2.06-2.06.94z\"/><path d=\"M17.41 7.96l-1.37-1.37c-.4-.4-.92-.59-1.43-.59-.52 0-1.04.2-1.43.59L10.3 9.45l-7.72 7.72c-.78.78-.78 2.05 0 2.83L4 21.41c.39.39.9.59 1.41.59.51 0 1.02-.2 1.41-.59l7.78-7.78 2.81-2.81c.8-.78.8-2.07 0-2.86zM5.41 20L4 18.59l7.72-7.72 1.47 1.35L5.41 20z\"/>\n",
              "  </svg>\n",
              "      </button>\n",
              "      \n",
              "  <style>\n",
              "    .colab-df-container {\n",
              "      display:flex;\n",
              "      flex-wrap:wrap;\n",
              "      gap: 12px;\n",
              "    }\n",
              "\n",
              "    .colab-df-convert {\n",
              "      background-color: #E8F0FE;\n",
              "      border: none;\n",
              "      border-radius: 50%;\n",
              "      cursor: pointer;\n",
              "      display: none;\n",
              "      fill: #1967D2;\n",
              "      height: 32px;\n",
              "      padding: 0 0 0 0;\n",
              "      width: 32px;\n",
              "    }\n",
              "\n",
              "    .colab-df-convert:hover {\n",
              "      background-color: #E2EBFA;\n",
              "      box-shadow: 0px 1px 2px rgba(60, 64, 67, 0.3), 0px 1px 3px 1px rgba(60, 64, 67, 0.15);\n",
              "      fill: #174EA6;\n",
              "    }\n",
              "\n",
              "    [theme=dark] .colab-df-convert {\n",
              "      background-color: #3B4455;\n",
              "      fill: #D2E3FC;\n",
              "    }\n",
              "\n",
              "    [theme=dark] .colab-df-convert:hover {\n",
              "      background-color: #434B5C;\n",
              "      box-shadow: 0px 1px 3px 1px rgba(0, 0, 0, 0.15);\n",
              "      filter: drop-shadow(0px 1px 2px rgba(0, 0, 0, 0.3));\n",
              "      fill: #FFFFFF;\n",
              "    }\n",
              "  </style>\n",
              "\n",
              "      <script>\n",
              "        const buttonEl =\n",
              "          document.querySelector('#df-c9a2d474-b33d-4843-a762-8540c54e25a8 button.colab-df-convert');\n",
              "        buttonEl.style.display =\n",
              "          google.colab.kernel.accessAllowed ? 'block' : 'none';\n",
              "\n",
              "        async function convertToInteractive(key) {\n",
              "          const element = document.querySelector('#df-c9a2d474-b33d-4843-a762-8540c54e25a8');\n",
              "          const dataTable =\n",
              "            await google.colab.kernel.invokeFunction('convertToInteractive',\n",
              "                                                     [key], {});\n",
              "          if (!dataTable) return;\n",
              "\n",
              "          const docLinkHtml = 'Like what you see? Visit the ' +\n",
              "            '<a target=\"_blank\" href=https://colab.research.google.com/notebooks/data_table.ipynb>data table notebook</a>'\n",
              "            + ' to learn more about interactive tables.';\n",
              "          element.innerHTML = '';\n",
              "          dataTable['output_type'] = 'display_data';\n",
              "          await google.colab.output.renderOutput(dataTable, element);\n",
              "          const docLink = document.createElement('div');\n",
              "          docLink.innerHTML = docLinkHtml;\n",
              "          element.appendChild(docLink);\n",
              "        }\n",
              "      </script>\n",
              "    </div>\n",
              "  </div>\n",
              "  "
            ],
            "text/plain": [
              "   YEAR_ AGENCY UNIT_ID FIRE_NAME   INC_NUM ALARM_DATE  CONT_DATE  CAUSE  \\\n",
              "0   2020    CDF     NEU    NELSON  00013212 2020-06-18 2020-06-23   11.0   \n",
              "1   2020    CDF     NEU   AMORUSO  00011799 2020-06-01 2020-06-04    2.0   \n",
              "3   2020    CDF     NEU   FLEMING  00007619 2020-03-31 2020-04-01    9.0   \n",
              "4   2020    CDF     NEU  MELANESE  00008471 2020-04-14 2020-04-19   18.0   \n",
              "6   2020    DOD     BEA    VALLEY  00015865 2020-07-15 2020-07-16   14.0   \n",
              "\n",
              "   REPORT_AC   GIS_ACRES FIRE_NUM  Shape_Length    Shape_Area  \\\n",
              "0      110.0  109.602280     None   3252.523280  4.435447e+05   \n",
              "1      670.0  685.585022     None   9653.760308  2.774464e+06   \n",
              "3       13.0   12.931545     None   1577.155857  5.233211e+04   \n",
              "4       10.3   10.315964     None   1035.787625  4.174722e+04   \n",
              "6      377.0  376.910400     None   7596.639583  1.525302e+06   \n",
              "\n",
              "                                            geometry  dur_days  index_right  \\\n",
              "0  MULTIPOLYGON (((-13508442.409 4705925.209, -13...       5.0         50.0   \n",
              "1  MULTIPOLYGON (((-13508926.470 4695975.605, -13...       3.0         50.0   \n",
              "3  MULTIPOLYGON (((-13500067.208 4716383.997, -13...       1.0         50.0   \n",
              "4  MULTIPOLYGON (((-13503127.052 4791691.861, -13...       5.0         42.0   \n",
              "6  MULTIPOLYGON (((-13511624.004 4738027.149, -13...       1.0         42.0   \n",
              "\n",
              "     name  cartodb_id                 created_at                 updated_at  \n",
              "0  Placer        31.0  2015-07-04T21:04:58+00:00  2015-07-04T21:04:58+00:00  \n",
              "1  Placer        31.0  2015-07-04T21:04:58+00:00  2015-07-04T21:04:58+00:00  \n",
              "3  Placer        31.0  2015-07-04T21:04:58+00:00  2015-07-04T21:04:58+00:00  \n",
              "4    Yuba        58.0  2015-07-04T21:04:58+00:00  2015-07-04T21:04:58+00:00  \n",
              "6    Yuba        58.0  2015-07-04T21:04:58+00:00  2015-07-04T21:04:58+00:00  "
            ]
          },
          "execution_count": 43,
          "metadata": {},
          "output_type": "execute_result"
        }
      ],
      "source": [
        "sj.head()"
      ]
    },
    {
      "cell_type": "code",
      "execution_count": 52,
      "metadata": {
        "colab": {
          "base_uri": "https://localhost:8080/",
          "height": 399
        },
        "id": "kGGpQYhI62Ch",
        "outputId": "4e90297a-97c3-4e1d-fe15-6f5fb966b6bc"
      },
      "outputs": [
        {
          "name": "stdout",
          "output_type": "stream",
          "text": [
            "(57, 2)\n",
            "top 10 counties with most fires\n"
          ]
        },
        {
          "data": {
            "text/html": [
              "\n",
              "  <div id=\"df-eca47d2e-6a17-4e74-a586-7dcfdbd8ec2c\">\n",
              "    <div class=\"colab-df-container\">\n",
              "      <div>\n",
              "<style scoped>\n",
              "    .dataframe tbody tr th:only-of-type {\n",
              "        vertical-align: middle;\n",
              "    }\n",
              "\n",
              "    .dataframe tbody tr th {\n",
              "        vertical-align: top;\n",
              "    }\n",
              "\n",
              "    .dataframe thead th {\n",
              "        text-align: right;\n",
              "    }\n",
              "</style>\n",
              "<table border=\"1\" class=\"dataframe\">\n",
              "  <thead>\n",
              "    <tr style=\"text-align: right;\">\n",
              "      <th></th>\n",
              "      <th>name</th>\n",
              "      <th>INC_NUM</th>\n",
              "    </tr>\n",
              "  </thead>\n",
              "  <tbody>\n",
              "    <tr>\n",
              "      <th>52</th>\n",
              "      <td>Tulare</td>\n",
              "      <td>360</td>\n",
              "    </tr>\n",
              "    <tr>\n",
              "      <th>45</th>\n",
              "      <td>Siskiyou</td>\n",
              "      <td>307</td>\n",
              "    </tr>\n",
              "    <tr>\n",
              "      <th>53</th>\n",
              "      <td>Tuolumne</td>\n",
              "      <td>276</td>\n",
              "    </tr>\n",
              "    <tr>\n",
              "      <th>14</th>\n",
              "      <td>Kern</td>\n",
              "      <td>274</td>\n",
              "    </tr>\n",
              "    <tr>\n",
              "      <th>24</th>\n",
              "      <td>Modoc</td>\n",
              "      <td>254</td>\n",
              "    </tr>\n",
              "    <tr>\n",
              "      <th>9</th>\n",
              "      <td>Fresno</td>\n",
              "      <td>251</td>\n",
              "    </tr>\n",
              "    <tr>\n",
              "      <th>51</th>\n",
              "      <td>Trinity</td>\n",
              "      <td>250</td>\n",
              "    </tr>\n",
              "    <tr>\n",
              "      <th>36</th>\n",
              "      <td>San Diego</td>\n",
              "      <td>246</td>\n",
              "    </tr>\n",
              "    <tr>\n",
              "      <th>35</th>\n",
              "      <td>San Bernardino</td>\n",
              "      <td>235</td>\n",
              "    </tr>\n",
              "    <tr>\n",
              "      <th>32</th>\n",
              "      <td>Riverside</td>\n",
              "      <td>216</td>\n",
              "    </tr>\n",
              "  </tbody>\n",
              "</table>\n",
              "</div>\n",
              "      <button class=\"colab-df-convert\" onclick=\"convertToInteractive('df-eca47d2e-6a17-4e74-a586-7dcfdbd8ec2c')\"\n",
              "              title=\"Convert this dataframe to an interactive table.\"\n",
              "              style=\"display:none;\">\n",
              "        \n",
              "  <svg xmlns=\"http://www.w3.org/2000/svg\" height=\"24px\"viewBox=\"0 0 24 24\"\n",
              "       width=\"24px\">\n",
              "    <path d=\"M0 0h24v24H0V0z\" fill=\"none\"/>\n",
              "    <path d=\"M18.56 5.44l.94 2.06.94-2.06 2.06-.94-2.06-.94-.94-2.06-.94 2.06-2.06.94zm-11 1L8.5 8.5l.94-2.06 2.06-.94-2.06-.94L8.5 2.5l-.94 2.06-2.06.94zm10 10l.94 2.06.94-2.06 2.06-.94-2.06-.94-.94-2.06-.94 2.06-2.06.94z\"/><path d=\"M17.41 7.96l-1.37-1.37c-.4-.4-.92-.59-1.43-.59-.52 0-1.04.2-1.43.59L10.3 9.45l-7.72 7.72c-.78.78-.78 2.05 0 2.83L4 21.41c.39.39.9.59 1.41.59.51 0 1.02-.2 1.41-.59l7.78-7.78 2.81-2.81c.8-.78.8-2.07 0-2.86zM5.41 20L4 18.59l7.72-7.72 1.47 1.35L5.41 20z\"/>\n",
              "  </svg>\n",
              "      </button>\n",
              "      \n",
              "  <style>\n",
              "    .colab-df-container {\n",
              "      display:flex;\n",
              "      flex-wrap:wrap;\n",
              "      gap: 12px;\n",
              "    }\n",
              "\n",
              "    .colab-df-convert {\n",
              "      background-color: #E8F0FE;\n",
              "      border: none;\n",
              "      border-radius: 50%;\n",
              "      cursor: pointer;\n",
              "      display: none;\n",
              "      fill: #1967D2;\n",
              "      height: 32px;\n",
              "      padding: 0 0 0 0;\n",
              "      width: 32px;\n",
              "    }\n",
              "\n",
              "    .colab-df-convert:hover {\n",
              "      background-color: #E2EBFA;\n",
              "      box-shadow: 0px 1px 2px rgba(60, 64, 67, 0.3), 0px 1px 3px 1px rgba(60, 64, 67, 0.15);\n",
              "      fill: #174EA6;\n",
              "    }\n",
              "\n",
              "    [theme=dark] .colab-df-convert {\n",
              "      background-color: #3B4455;\n",
              "      fill: #D2E3FC;\n",
              "    }\n",
              "\n",
              "    [theme=dark] .colab-df-convert:hover {\n",
              "      background-color: #434B5C;\n",
              "      box-shadow: 0px 1px 3px 1px rgba(0, 0, 0, 0.15);\n",
              "      filter: drop-shadow(0px 1px 2px rgba(0, 0, 0, 0.3));\n",
              "      fill: #FFFFFF;\n",
              "    }\n",
              "  </style>\n",
              "\n",
              "      <script>\n",
              "        const buttonEl =\n",
              "          document.querySelector('#df-eca47d2e-6a17-4e74-a586-7dcfdbd8ec2c button.colab-df-convert');\n",
              "        buttonEl.style.display =\n",
              "          google.colab.kernel.accessAllowed ? 'block' : 'none';\n",
              "\n",
              "        async function convertToInteractive(key) {\n",
              "          const element = document.querySelector('#df-eca47d2e-6a17-4e74-a586-7dcfdbd8ec2c');\n",
              "          const dataTable =\n",
              "            await google.colab.kernel.invokeFunction('convertToInteractive',\n",
              "                                                     [key], {});\n",
              "          if (!dataTable) return;\n",
              "\n",
              "          const docLinkHtml = 'Like what you see? Visit the ' +\n",
              "            '<a target=\"_blank\" href=https://colab.research.google.com/notebooks/data_table.ipynb>data table notebook</a>'\n",
              "            + ' to learn more about interactive tables.';\n",
              "          element.innerHTML = '';\n",
              "          dataTable['output_type'] = 'display_data';\n",
              "          await google.colab.output.renderOutput(dataTable, element);\n",
              "          const docLink = document.createElement('div');\n",
              "          docLink.innerHTML = docLinkHtml;\n",
              "          element.appendChild(docLink);\n",
              "        }\n",
              "      </script>\n",
              "    </div>\n",
              "  </div>\n",
              "  "
            ],
            "text/plain": [
              "              name  INC_NUM\n",
              "52          Tulare      360\n",
              "45        Siskiyou      307\n",
              "53        Tuolumne      276\n",
              "14            Kern      274\n",
              "24           Modoc      254\n",
              "9           Fresno      251\n",
              "51         Trinity      250\n",
              "36       San Diego      246\n",
              "35  San Bernardino      235\n",
              "32       Riverside      216"
            ]
          },
          "execution_count": 52,
          "metadata": {},
          "output_type": "execute_result"
        }
      ],
      "source": [
        "fires_by_county = sj.groupby(['name'])['INC_NUM'].size().reset_index()\n",
        "\n",
        "print(fires_by_county.shape)\n",
        "fires_by_county.sort_values(by='INC_NUM', inplace=True)\n",
        "print('top 10 counties with most fires')\n",
        "fires_by_county[::-1][:10]"
      ]
    },
    {
      "cell_type": "code",
      "execution_count": 54,
      "metadata": {
        "colab": {
          "base_uri": "https://localhost:8080/",
          "height": 381
        },
        "id": "sLh-gutP7VPm",
        "outputId": "f83cfb4a-03f8-439e-833a-461103ce8e78"
      },
      "outputs": [
        {
          "name": "stdout",
          "output_type": "stream",
          "text": [
            "bottom 10 counties with most fires\n"
          ]
        },
        {
          "data": {
            "text/html": [
              "\n",
              "  <div id=\"df-090a000b-f41e-4127-9302-dbb9fbb6cded\">\n",
              "    <div class=\"colab-df-container\">\n",
              "      <div>\n",
              "<style scoped>\n",
              "    .dataframe tbody tr th:only-of-type {\n",
              "        vertical-align: middle;\n",
              "    }\n",
              "\n",
              "    .dataframe tbody tr th {\n",
              "        vertical-align: top;\n",
              "    }\n",
              "\n",
              "    .dataframe thead th {\n",
              "        text-align: right;\n",
              "    }\n",
              "</style>\n",
              "<table border=\"1\" class=\"dataframe\">\n",
              "  <thead>\n",
              "    <tr style=\"text-align: right;\">\n",
              "      <th></th>\n",
              "      <th>name</th>\n",
              "      <th>INC_NUM</th>\n",
              "    </tr>\n",
              "  </thead>\n",
              "  <tbody>\n",
              "    <tr>\n",
              "      <th>33</th>\n",
              "      <td>Sacramento</td>\n",
              "      <td>2</td>\n",
              "    </tr>\n",
              "    <tr>\n",
              "      <th>39</th>\n",
              "      <td>San Mateo</td>\n",
              "      <td>3</td>\n",
              "    </tr>\n",
              "    <tr>\n",
              "      <th>49</th>\n",
              "      <td>Sutter</td>\n",
              "      <td>4</td>\n",
              "    </tr>\n",
              "    <tr>\n",
              "      <th>15</th>\n",
              "      <td>Kings</td>\n",
              "      <td>5</td>\n",
              "    </tr>\n",
              "    <tr>\n",
              "      <th>20</th>\n",
              "      <td>Marin</td>\n",
              "      <td>9</td>\n",
              "    </tr>\n",
              "    <tr>\n",
              "      <th>0</th>\n",
              "      <td>Alameda</td>\n",
              "      <td>10</td>\n",
              "    </tr>\n",
              "    <tr>\n",
              "      <th>37</th>\n",
              "      <td>San Joaquin</td>\n",
              "      <td>11</td>\n",
              "    </tr>\n",
              "    <tr>\n",
              "      <th>23</th>\n",
              "      <td>Merced</td>\n",
              "      <td>12</td>\n",
              "    </tr>\n",
              "    <tr>\n",
              "      <th>6</th>\n",
              "      <td>Contra Costa</td>\n",
              "      <td>13</td>\n",
              "    </tr>\n",
              "    <tr>\n",
              "      <th>12</th>\n",
              "      <td>Imperial</td>\n",
              "      <td>14</td>\n",
              "    </tr>\n",
              "  </tbody>\n",
              "</table>\n",
              "</div>\n",
              "      <button class=\"colab-df-convert\" onclick=\"convertToInteractive('df-090a000b-f41e-4127-9302-dbb9fbb6cded')\"\n",
              "              title=\"Convert this dataframe to an interactive table.\"\n",
              "              style=\"display:none;\">\n",
              "        \n",
              "  <svg xmlns=\"http://www.w3.org/2000/svg\" height=\"24px\"viewBox=\"0 0 24 24\"\n",
              "       width=\"24px\">\n",
              "    <path d=\"M0 0h24v24H0V0z\" fill=\"none\"/>\n",
              "    <path d=\"M18.56 5.44l.94 2.06.94-2.06 2.06-.94-2.06-.94-.94-2.06-.94 2.06-2.06.94zm-11 1L8.5 8.5l.94-2.06 2.06-.94-2.06-.94L8.5 2.5l-.94 2.06-2.06.94zm10 10l.94 2.06.94-2.06 2.06-.94-2.06-.94-.94-2.06-.94 2.06-2.06.94z\"/><path d=\"M17.41 7.96l-1.37-1.37c-.4-.4-.92-.59-1.43-.59-.52 0-1.04.2-1.43.59L10.3 9.45l-7.72 7.72c-.78.78-.78 2.05 0 2.83L4 21.41c.39.39.9.59 1.41.59.51 0 1.02-.2 1.41-.59l7.78-7.78 2.81-2.81c.8-.78.8-2.07 0-2.86zM5.41 20L4 18.59l7.72-7.72 1.47 1.35L5.41 20z\"/>\n",
              "  </svg>\n",
              "      </button>\n",
              "      \n",
              "  <style>\n",
              "    .colab-df-container {\n",
              "      display:flex;\n",
              "      flex-wrap:wrap;\n",
              "      gap: 12px;\n",
              "    }\n",
              "\n",
              "    .colab-df-convert {\n",
              "      background-color: #E8F0FE;\n",
              "      border: none;\n",
              "      border-radius: 50%;\n",
              "      cursor: pointer;\n",
              "      display: none;\n",
              "      fill: #1967D2;\n",
              "      height: 32px;\n",
              "      padding: 0 0 0 0;\n",
              "      width: 32px;\n",
              "    }\n",
              "\n",
              "    .colab-df-convert:hover {\n",
              "      background-color: #E2EBFA;\n",
              "      box-shadow: 0px 1px 2px rgba(60, 64, 67, 0.3), 0px 1px 3px 1px rgba(60, 64, 67, 0.15);\n",
              "      fill: #174EA6;\n",
              "    }\n",
              "\n",
              "    [theme=dark] .colab-df-convert {\n",
              "      background-color: #3B4455;\n",
              "      fill: #D2E3FC;\n",
              "    }\n",
              "\n",
              "    [theme=dark] .colab-df-convert:hover {\n",
              "      background-color: #434B5C;\n",
              "      box-shadow: 0px 1px 3px 1px rgba(0, 0, 0, 0.15);\n",
              "      filter: drop-shadow(0px 1px 2px rgba(0, 0, 0, 0.3));\n",
              "      fill: #FFFFFF;\n",
              "    }\n",
              "  </style>\n",
              "\n",
              "      <script>\n",
              "        const buttonEl =\n",
              "          document.querySelector('#df-090a000b-f41e-4127-9302-dbb9fbb6cded button.colab-df-convert');\n",
              "        buttonEl.style.display =\n",
              "          google.colab.kernel.accessAllowed ? 'block' : 'none';\n",
              "\n",
              "        async function convertToInteractive(key) {\n",
              "          const element = document.querySelector('#df-090a000b-f41e-4127-9302-dbb9fbb6cded');\n",
              "          const dataTable =\n",
              "            await google.colab.kernel.invokeFunction('convertToInteractive',\n",
              "                                                     [key], {});\n",
              "          if (!dataTable) return;\n",
              "\n",
              "          const docLinkHtml = 'Like what you see? Visit the ' +\n",
              "            '<a target=\"_blank\" href=https://colab.research.google.com/notebooks/data_table.ipynb>data table notebook</a>'\n",
              "            + ' to learn more about interactive tables.';\n",
              "          element.innerHTML = '';\n",
              "          dataTable['output_type'] = 'display_data';\n",
              "          await google.colab.output.renderOutput(dataTable, element);\n",
              "          const docLink = document.createElement('div');\n",
              "          docLink.innerHTML = docLinkHtml;\n",
              "          element.appendChild(docLink);\n",
              "        }\n",
              "      </script>\n",
              "    </div>\n",
              "  </div>\n",
              "  "
            ],
            "text/plain": [
              "            name  INC_NUM\n",
              "33    Sacramento        2\n",
              "39     San Mateo        3\n",
              "49        Sutter        4\n",
              "15         Kings        5\n",
              "20         Marin        9\n",
              "0        Alameda       10\n",
              "37   San Joaquin       11\n",
              "23        Merced       12\n",
              "6   Contra Costa       13\n",
              "12      Imperial       14"
            ]
          },
          "execution_count": 54,
          "metadata": {},
          "output_type": "execute_result"
        }
      ],
      "source": [
        "print('bottom 10 counties with most fires')\n",
        "fires_by_county[:10]"
      ]
    },
    {
      "cell_type": "markdown",
      "metadata": {
        "id": "p5k8RIeO7mh8"
      },
      "source": [
        "#### Optional: plot number of fires in top 10 counties in California over time"
      ]
    },
    {
      "cell_type": "code",
      "execution_count": 56,
      "metadata": {
        "colab": {
          "base_uri": "https://localhost:8080/"
        },
        "id": "jJ4T9Wjr7vx4",
        "outputId": "a48290c9-4bda-44b1-c4ce-e0b6e16e5742"
      },
      "outputs": [
        {
          "name": "stdout",
          "output_type": "stream",
          "text": [
            "/content\n",
            "Mounted at /content/drive/\n",
            "/content\n"
          ]
        }
      ],
      "source": [
        "from google.colab import drive\n",
        "import os\n",
        "\n",
        "# if you want to save file to your google drive \n",
        "drive.mount('/content/drive/')"
      ]
    },
    {
      "cell_type": "code",
      "execution_count": 60,
      "metadata": {
        "id": "GPWtzcfc9fIA"
      },
      "outputs": [],
      "source": [
        "# save to Drive\n",
        "fires.to_file('/content/drive/MyDrive/geog172/fires.geojson')"
      ]
    },
    {
      "cell_type": "code",
      "execution_count": 61,
      "metadata": {
        "id": "bH_6SB_G9gfR"
      },
      "outputs": [],
      "source": [
        "# we can also save it to the content of the GC session and then right click and download to local computer \n",
        "fires.to_file('fires.geojson')"
      ]
    }
  ],
  "metadata": {
    "colab": {
      "provenance": []
    },
    "kernelspec": {
      "display_name": "Python 3",
      "name": "python3"
    },
    "language_info": {
      "name": "python"
    }
  },
  "nbformat": 4,
  "nbformat_minor": 0
}
