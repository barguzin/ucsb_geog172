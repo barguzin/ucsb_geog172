{
 "cells": [
  {
   "cell_type": "markdown",
   "id": "f3d89c8f",
   "metadata": {
    "slideshow": {
     "slide_type": "slide"
    }
   },
   "source": [
    "<h1> <center> GEOG 172: INTERMEDIATE GEOGRAPHICAL ANALYSIS </h1>\n",
    "    <h2> <center> Evgeny Noi </h2>\n",
    "        <h3> <center> Lecture 15: Linear Regression </h3>"
   ]
  },
  {
   "cell_type": "markdown",
   "id": "1b6aa379",
   "metadata": {
    "slideshow": {
     "slide_type": "slide"
    }
   },
   "source": [
    "# Correction  \n",
    "\n",
    "#### The optimal number of clusters on this plot is 3! (The closer to +1 the better). \n",
    "\n",
    "<img src=\"sil_plot.PNG\">"
   ]
  },
  {
   "cell_type": "markdown",
   "id": "4a7431cf",
   "metadata": {
    "slideshow": {
     "slide_type": "slide"
    }
   },
   "source": [
    "# Announcements \n",
    "\n",
    "* No labs this week (STRIKE) \n",
    "* Extended office hours (M:2-6pm, W:1-3pm) \n",
    "* Interim report due **W: midnight**"
   ]
  },
  {
   "cell_type": "markdown",
   "id": "ed375f99",
   "metadata": {
    "slideshow": {
     "slide_type": "slide"
    }
   },
   "source": [
    "# Correlation Refresher \n",
    "\n",
    "* Correlation - is linear relationship between two variables (bivariate). \n",
    "* Standardized measure (+1 / -1)\n",
    "* Slope of the line between scatter points on a scatter plot "
   ]
  },
  {
   "cell_type": "markdown",
   "id": "9215fc82",
   "metadata": {
    "slideshow": {
     "slide_type": "slide"
    }
   },
   "source": [
    "# Different Ways to Understand Regression \n",
    "\n",
    "* Fancy correlation \n",
    "* Optimization problem \n",
    "* statistical framework for modeling "
   ]
  },
  {
   "cell_type": "code",
   "execution_count": 1,
   "id": "fef0b837",
   "metadata": {
    "slideshow": {
     "slide_type": "slide"
    }
   },
   "outputs": [
    {
     "name": "stdout",
     "output_type": "stream",
     "text": [
      "\n",
      "Saved under regression_db (1).geojson\n"
     ]
    }
   ],
   "source": [
    "!python -m wget https://geographicdata.science/book/_downloads/dcd429d1761a2d0efdbc4532e141ba14/regression_db.geojson"
   ]
  },
  {
   "cell_type": "code",
   "execution_count": 2,
   "id": "67b74388",
   "metadata": {
    "slideshow": {
     "slide_type": "subslide"
    }
   },
   "outputs": [
    {
     "name": "stderr",
     "output_type": "stream",
     "text": [
      "C:\\Users\\noibar\\anaconda3\\envs\\geo_env\\lib\\site-packages\\outdated\\utils.py:14: OutdatedPackageWarning: The package outdated is out of date. Your version is 0.2.1, the latest is 0.2.2.\n",
      "Set the environment variable OUTDATED_IGNORE=1 to disable these warnings.\n",
      "  return warn(\n"
     ]
    }
   ],
   "source": [
    "import pandas as pd\n",
    "import geopandas as gpd\n",
    "import matplotlib.pyplot as plt \n",
    "import seaborn as sns\n",
    "import pingouin as pg"
   ]
  },
  {
   "cell_type": "code",
   "execution_count": 3,
   "id": "0f537fa2",
   "metadata": {
    "slideshow": {
     "slide_type": "subslide"
    }
   },
   "outputs": [
    {
     "name": "stdout",
     "output_type": "stream",
     "text": [
      "(6110, 20)\n"
     ]
    },
    {
     "data": {
      "text/html": [
       "<div>\n",
       "<style scoped>\n",
       "    .dataframe tbody tr th:only-of-type {\n",
       "        vertical-align: middle;\n",
       "    }\n",
       "\n",
       "    .dataframe tbody tr th {\n",
       "        vertical-align: top;\n",
       "    }\n",
       "\n",
       "    .dataframe thead th {\n",
       "        text-align: right;\n",
       "    }\n",
       "</style>\n",
       "<table border=\"1\" class=\"dataframe\">\n",
       "  <thead>\n",
       "    <tr style=\"text-align: right;\">\n",
       "      <th></th>\n",
       "      <th>accommodates</th>\n",
       "      <th>bathrooms</th>\n",
       "      <th>bedrooms</th>\n",
       "      <th>beds</th>\n",
       "      <th>neighborhood</th>\n",
       "      <th>pool</th>\n",
       "      <th>d2balboa</th>\n",
       "      <th>coastal</th>\n",
       "      <th>price</th>\n",
       "      <th>log_price</th>\n",
       "      <th>id</th>\n",
       "      <th>pg_Apartment</th>\n",
       "      <th>pg_Condominium</th>\n",
       "      <th>pg_House</th>\n",
       "      <th>pg_Other</th>\n",
       "      <th>pg_Townhouse</th>\n",
       "      <th>rt_Entire_home/apt</th>\n",
       "      <th>rt_Private_room</th>\n",
       "      <th>rt_Shared_room</th>\n",
       "      <th>geometry</th>\n",
       "    </tr>\n",
       "  </thead>\n",
       "  <tbody>\n",
       "    <tr>\n",
       "      <th>0</th>\n",
       "      <td>5</td>\n",
       "      <td>2.0</td>\n",
       "      <td>2.0</td>\n",
       "      <td>2.0</td>\n",
       "      <td>North Hills</td>\n",
       "      <td>0</td>\n",
       "      <td>2.972077</td>\n",
       "      <td>0</td>\n",
       "      <td>425.0</td>\n",
       "      <td>6.052089</td>\n",
       "      <td>6</td>\n",
       "      <td>0</td>\n",
       "      <td>0</td>\n",
       "      <td>1</td>\n",
       "      <td>0</td>\n",
       "      <td>0</td>\n",
       "      <td>1</td>\n",
       "      <td>0</td>\n",
       "      <td>0</td>\n",
       "      <td>POINT (-117.12971 32.75399)</td>\n",
       "    </tr>\n",
       "    <tr>\n",
       "      <th>1</th>\n",
       "      <td>6</td>\n",
       "      <td>1.0</td>\n",
       "      <td>2.0</td>\n",
       "      <td>4.0</td>\n",
       "      <td>Mission Bay</td>\n",
       "      <td>0</td>\n",
       "      <td>11.501385</td>\n",
       "      <td>1</td>\n",
       "      <td>205.0</td>\n",
       "      <td>5.323010</td>\n",
       "      <td>5570</td>\n",
       "      <td>0</td>\n",
       "      <td>1</td>\n",
       "      <td>0</td>\n",
       "      <td>0</td>\n",
       "      <td>0</td>\n",
       "      <td>1</td>\n",
       "      <td>0</td>\n",
       "      <td>0</td>\n",
       "      <td>POINT (-117.25253 32.78421)</td>\n",
       "    </tr>\n",
       "    <tr>\n",
       "      <th>2</th>\n",
       "      <td>2</td>\n",
       "      <td>1.0</td>\n",
       "      <td>1.0</td>\n",
       "      <td>1.0</td>\n",
       "      <td>North Hills</td>\n",
       "      <td>0</td>\n",
       "      <td>2.493893</td>\n",
       "      <td>0</td>\n",
       "      <td>99.0</td>\n",
       "      <td>4.595120</td>\n",
       "      <td>9553</td>\n",
       "      <td>1</td>\n",
       "      <td>0</td>\n",
       "      <td>0</td>\n",
       "      <td>0</td>\n",
       "      <td>0</td>\n",
       "      <td>0</td>\n",
       "      <td>1</td>\n",
       "      <td>0</td>\n",
       "      <td>POINT (-117.14121 32.75327)</td>\n",
       "    </tr>\n",
       "    <tr>\n",
       "      <th>3</th>\n",
       "      <td>2</td>\n",
       "      <td>1.0</td>\n",
       "      <td>1.0</td>\n",
       "      <td>1.0</td>\n",
       "      <td>Mira Mesa</td>\n",
       "      <td>0</td>\n",
       "      <td>22.293757</td>\n",
       "      <td>0</td>\n",
       "      <td>72.0</td>\n",
       "      <td>4.276666</td>\n",
       "      <td>14668</td>\n",
       "      <td>0</td>\n",
       "      <td>0</td>\n",
       "      <td>1</td>\n",
       "      <td>0</td>\n",
       "      <td>0</td>\n",
       "      <td>0</td>\n",
       "      <td>1</td>\n",
       "      <td>0</td>\n",
       "      <td>POINT (-117.15269 32.93110)</td>\n",
       "    </tr>\n",
       "    <tr>\n",
       "      <th>4</th>\n",
       "      <td>2</td>\n",
       "      <td>1.0</td>\n",
       "      <td>1.0</td>\n",
       "      <td>1.0</td>\n",
       "      <td>Roseville</td>\n",
       "      <td>0</td>\n",
       "      <td>6.829451</td>\n",
       "      <td>0</td>\n",
       "      <td>55.0</td>\n",
       "      <td>4.007333</td>\n",
       "      <td>38245</td>\n",
       "      <td>0</td>\n",
       "      <td>0</td>\n",
       "      <td>1</td>\n",
       "      <td>0</td>\n",
       "      <td>0</td>\n",
       "      <td>0</td>\n",
       "      <td>1</td>\n",
       "      <td>0</td>\n",
       "      <td>POINT (-117.21870 32.74202)</td>\n",
       "    </tr>\n",
       "  </tbody>\n",
       "</table>\n",
       "</div>"
      ],
      "text/plain": [
       "   accommodates  bathrooms  bedrooms  beds neighborhood  pool   d2balboa  \\\n",
       "0             5        2.0       2.0   2.0  North Hills     0   2.972077   \n",
       "1             6        1.0       2.0   4.0  Mission Bay     0  11.501385   \n",
       "2             2        1.0       1.0   1.0  North Hills     0   2.493893   \n",
       "3             2        1.0       1.0   1.0    Mira Mesa     0  22.293757   \n",
       "4             2        1.0       1.0   1.0    Roseville     0   6.829451   \n",
       "\n",
       "   coastal  price  log_price     id  pg_Apartment  pg_Condominium  pg_House  \\\n",
       "0        0  425.0   6.052089      6             0               0         1   \n",
       "1        1  205.0   5.323010   5570             0               1         0   \n",
       "2        0   99.0   4.595120   9553             1               0         0   \n",
       "3        0   72.0   4.276666  14668             0               0         1   \n",
       "4        0   55.0   4.007333  38245             0               0         1   \n",
       "\n",
       "   pg_Other  pg_Townhouse  rt_Entire_home/apt  rt_Private_room  \\\n",
       "0         0             0                   1                0   \n",
       "1         0             0                   1                0   \n",
       "2         0             0                   0                1   \n",
       "3         0             0                   0                1   \n",
       "4         0             0                   0                1   \n",
       "\n",
       "   rt_Shared_room                     geometry  \n",
       "0               0  POINT (-117.12971 32.75399)  \n",
       "1               0  POINT (-117.25253 32.78421)  \n",
       "2               0  POINT (-117.14121 32.75327)  \n",
       "3               0  POINT (-117.15269 32.93110)  \n",
       "4               0  POINT (-117.21870 32.74202)  "
      ]
     },
     "execution_count": 3,
     "metadata": {},
     "output_type": "execute_result"
    }
   ],
   "source": [
    "db = gpd.read_file(\"regression_db.geojson\")\n",
    "print(db.shape) \n",
    "db.head()"
   ]
  },
  {
   "cell_type": "code",
   "execution_count": 4,
   "id": "4b088c19",
   "metadata": {
    "slideshow": {
     "slide_type": "subslide"
    }
   },
   "outputs": [],
   "source": [
    "variable_names = [\n",
    "    \"accommodates\",  # Number of people it accommodates\n",
    "    \"bathrooms\",  # Number of bathrooms\n",
    "    \"bedrooms\",  # Number of bedrooms\n",
    "    \"beds\",  # Number of beds\n",
    "    # Below are binary variables, 1 True, 0 False\n",
    "    \"rt_Private_room\",  # Room type: private room\n",
    "    \"rt_Shared_room\",  # Room type: shared room\n",
    "    \"pg_Condominium\",  # Property group: condo\n",
    "    \"pg_House\",  # Property group: house\n",
    "    \"pg_Other\",  # Property group: other\n",
    "    \"pg_Townhouse\",  # Property group: townhouse\n",
    "]"
   ]
  },
  {
   "cell_type": "markdown",
   "id": "8a1ea884",
   "metadata": {
    "slideshow": {
     "slide_type": "slide"
    }
   },
   "source": [
    "# How do we do analysis on this data? \n",
    "\n",
    "1. Visualize \n",
    "2. Run pairwise correlations \n",
    "3. Run Global Moran's I (and local if necessary) \n",
    "4. Run clustering (to investigate any patterns in multivariate data)\n",
    "5. **RUN REGRESSION** (today) "
   ]
  },
  {
   "cell_type": "code",
   "execution_count": 5,
   "id": "590ddb69",
   "metadata": {
    "slideshow": {
     "slide_type": "subslide"
    }
   },
   "outputs": [],
   "source": [
    "fig, ax = plt.subplots(figsize=(7,7))\n",
    "sns.heatmap(db.corr(), annot=True, ax=ax, \n",
    "            fmt=\".1f\", annot_kws={\"size\": 8}, \n",
    "           cmap='vlag', vmin=db.corr().min().min(), vmax=db.corr().max().max());\n",
    "#plt.gcf().subplots_adjust(left=0.15)\n",
    "fig.savefig('corr_matrix.png', bbox_inches='tight') \n",
    "plt.close()"
   ]
  },
  {
   "cell_type": "code",
   "execution_count": 6,
   "id": "8700e31b",
   "metadata": {
    "slideshow": {
     "slide_type": "subslide"
    }
   },
   "outputs": [
    {
     "data": {
      "image/png": "[encoded data removed]",
      "text/plain": [
       "<IPython.core.display.Image object>"
      ]
     },
     "execution_count": 6,
     "metadata": {
      "filenames": {
       "image/png": "D:\\gits\\ucsb_geog172\\_build\\jupyter_execute\\lectures\\lecture15_11_0.png"
      }
     },
     "output_type": "execute_result"
    }
   ],
   "source": [
    "from IPython.display import Image\n",
    "Image(filename='corr_matrix.png') "
   ]
  },
  {
   "cell_type": "code",
   "execution_count": 7,
   "id": "2d1ddb0b",
   "metadata": {
    "slideshow": {
     "slide_type": "subslide"
    }
   },
   "outputs": [
    {
     "data": {
      "text/html": [
       "<div>\n",
       "<style scoped>\n",
       "    .dataframe tbody tr th:only-of-type {\n",
       "        vertical-align: middle;\n",
       "    }\n",
       "\n",
       "    .dataframe tbody tr th {\n",
       "        vertical-align: top;\n",
       "    }\n",
       "\n",
       "    .dataframe thead th {\n",
       "        text-align: right;\n",
       "    }\n",
       "</style>\n",
       "<table border=\"1\" class=\"dataframe\">\n",
       "  <thead>\n",
       "    <tr style=\"text-align: right;\">\n",
       "      <th></th>\n",
       "      <th>X</th>\n",
       "      <th>Y</th>\n",
       "      <th>r</th>\n",
       "      <th>p-unc</th>\n",
       "    </tr>\n",
       "  </thead>\n",
       "  <tbody>\n",
       "    <tr>\n",
       "      <th>115</th>\n",
       "      <td>log_price</td>\n",
       "      <td>rt_Private_room</td>\n",
       "      <td>-0.525523</td>\n",
       "      <td>0.000000e+00</td>\n",
       "    </tr>\n",
       "    <tr>\n",
       "      <th>116</th>\n",
       "      <td>log_price</td>\n",
       "      <td>rt_Shared_room</td>\n",
       "      <td>-0.277179</td>\n",
       "      <td>3.452531e-108</td>\n",
       "    </tr>\n",
       "    <tr>\n",
       "      <th>109</th>\n",
       "      <td>log_price</td>\n",
       "      <td>pg_Apartment</td>\n",
       "      <td>-0.140333</td>\n",
       "      <td>3.004493e-28</td>\n",
       "    </tr>\n",
       "    <tr>\n",
       "      <th>113</th>\n",
       "      <td>log_price</td>\n",
       "      <td>pg_Townhouse</td>\n",
       "      <td>0.005033</td>\n",
       "      <td>6.940470e-01</td>\n",
       "    </tr>\n",
       "    <tr>\n",
       "      <th>108</th>\n",
       "      <td>log_price</td>\n",
       "      <td>id</td>\n",
       "      <td>0.015802</td>\n",
       "      <td>2.168407e-01</td>\n",
       "    </tr>\n",
       "    <tr>\n",
       "      <th>65</th>\n",
       "      <td>pool</td>\n",
       "      <td>log_price</td>\n",
       "      <td>0.018576</td>\n",
       "      <td>1.465442e-01</td>\n",
       "    </tr>\n",
       "    <tr>\n",
       "      <th>112</th>\n",
       "      <td>log_price</td>\n",
       "      <td>pg_Other</td>\n",
       "      <td>0.031385</td>\n",
       "      <td>1.415184e-02</td>\n",
       "    </tr>\n",
       "    <tr>\n",
       "      <th>111</th>\n",
       "      <td>log_price</td>\n",
       "      <td>pg_House</td>\n",
       "      <td>0.073500</td>\n",
       "      <td>8.828480e-09</td>\n",
       "    </tr>\n",
       "    <tr>\n",
       "      <th>110</th>\n",
       "      <td>log_price</td>\n",
       "      <td>pg_Condominium</td>\n",
       "      <td>0.074952</td>\n",
       "      <td>4.469152e-09</td>\n",
       "    </tr>\n",
       "    <tr>\n",
       "      <th>77</th>\n",
       "      <td>d2balboa</td>\n",
       "      <td>log_price</td>\n",
       "      <td>0.132289</td>\n",
       "      <td>2.927701e-25</td>\n",
       "    </tr>\n",
       "    <tr>\n",
       "      <th>88</th>\n",
       "      <td>coastal</td>\n",
       "      <td>log_price</td>\n",
       "      <td>0.332528</td>\n",
       "      <td>1.165628e-157</td>\n",
       "    </tr>\n",
       "    <tr>\n",
       "      <th>52</th>\n",
       "      <td>beds</td>\n",
       "      <td>log_price</td>\n",
       "      <td>0.597273</td>\n",
       "      <td>0.000000e+00</td>\n",
       "    </tr>\n",
       "    <tr>\n",
       "      <th>23</th>\n",
       "      <td>bathrooms</td>\n",
       "      <td>log_price</td>\n",
       "      <td>0.605840</td>\n",
       "      <td>0.000000e+00</td>\n",
       "    </tr>\n",
       "    <tr>\n",
       "      <th>114</th>\n",
       "      <td>log_price</td>\n",
       "      <td>rt_Entire_home/apt</td>\n",
       "      <td>0.610318</td>\n",
       "      <td>0.000000e+00</td>\n",
       "    </tr>\n",
       "    <tr>\n",
       "      <th>38</th>\n",
       "      <td>bedrooms</td>\n",
       "      <td>log_price</td>\n",
       "      <td>0.670055</td>\n",
       "      <td>0.000000e+00</td>\n",
       "    </tr>\n",
       "    <tr>\n",
       "      <th>7</th>\n",
       "      <td>accommodates</td>\n",
       "      <td>log_price</td>\n",
       "      <td>0.727280</td>\n",
       "      <td>0.000000e+00</td>\n",
       "    </tr>\n",
       "    <tr>\n",
       "      <th>98</th>\n",
       "      <td>price</td>\n",
       "      <td>log_price</td>\n",
       "      <td>0.789370</td>\n",
       "      <td>0.000000e+00</td>\n",
       "    </tr>\n",
       "  </tbody>\n",
       "</table>\n",
       "</div>"
      ],
      "text/plain": [
       "                X                   Y         r          p-unc\n",
       "115     log_price     rt_Private_room -0.525523   0.000000e+00\n",
       "116     log_price      rt_Shared_room -0.277179  3.452531e-108\n",
       "109     log_price        pg_Apartment -0.140333   3.004493e-28\n",
       "113     log_price        pg_Townhouse  0.005033   6.940470e-01\n",
       "108     log_price                  id  0.015802   2.168407e-01\n",
       "65           pool           log_price  0.018576   1.465442e-01\n",
       "112     log_price            pg_Other  0.031385   1.415184e-02\n",
       "111     log_price            pg_House  0.073500   8.828480e-09\n",
       "110     log_price      pg_Condominium  0.074952   4.469152e-09\n",
       "77       d2balboa           log_price  0.132289   2.927701e-25\n",
       "88        coastal           log_price  0.332528  1.165628e-157\n",
       "52           beds           log_price  0.597273   0.000000e+00\n",
       "23      bathrooms           log_price  0.605840   0.000000e+00\n",
       "114     log_price  rt_Entire_home/apt  0.610318   0.000000e+00\n",
       "38       bedrooms           log_price  0.670055   0.000000e+00\n",
       "7    accommodates           log_price  0.727280   0.000000e+00\n",
       "98          price           log_price  0.789370   0.000000e+00"
      ]
     },
     "execution_count": 7,
     "metadata": {},
     "output_type": "execute_result"
    }
   ],
   "source": [
    "# now the same with the table \n",
    "db_corr = pg.pairwise_corr(db, method='pearson').sort_values(by='r')\n",
    "db_corr.loc[(db_corr.X == 'log_price')|(db_corr.Y == 'log_price'), ['X', 'Y', 'r', 'p-unc']]"
   ]
  },
  {
   "cell_type": "code",
   "execution_count": 8,
   "id": "0dc5464b",
   "metadata": {
    "slideshow": {
     "slide_type": "subslide"
    }
   },
   "outputs": [
    {
     "data": {
      "image/png": "[encoded data removed]",
      "text/plain": [
       "<Figure size 432x288 with 1 Axes>"
      ]
     },
     "metadata": {
      "filenames": {
       "image/png": "D:\\gits\\ucsb_geog172\\_build\\jupyter_execute\\lectures\\lecture15_13_0.png"
      },
      "needs_background": "light"
     },
     "output_type": "display_data"
    }
   ],
   "source": [
    "fig, ax = plt.subplots() \n",
    "sns.scatterplot(data=db, x='log_price', y='accommodates', ax=ax, \n",
    "                hue='rt_Entire_home/apt', alpha=.5, s=15, \n",
    "               style='rt_Private_room');"
   ]
  },
  {
   "cell_type": "code",
   "execution_count": 9,
   "id": "30bc5e1b",
   "metadata": {
    "slideshow": {
     "slide_type": "subslide"
    }
   },
   "outputs": [
    {
     "data": {
      "image/png": "[encoded data removed]",
      "text/plain": [
       "<Figure size 432x288 with 1 Axes>"
      ]
     },
     "metadata": {
      "filenames": {
       "image/png": "D:\\gits\\ucsb_geog172\\_build\\jupyter_execute\\lectures\\lecture15_14_0.png"
      },
      "needs_background": "light"
     },
     "output_type": "display_data"
    }
   ],
   "source": [
    "fig, ax = plt.subplots() \n",
    "sns.regplot(data=db, x='log_price', y='accommodates', ax=ax);"
   ]
  },
  {
   "cell_type": "markdown",
   "id": "a7815f62",
   "metadata": {
    "slideshow": {
     "slide_type": "slide"
    }
   },
   "source": [
    "# Regression \n",
    "\n",
    "> Finding the best fitting line for the set of points (2d case) - GEOMETRIC SENSE!\n",
    "\n",
    "#### Regression implies modeling **dependent** variable (outcome) using one or more **independent** variables (predictors) "
   ]
  },
  {
   "cell_type": "markdown",
   "id": "4a47bc44",
   "metadata": {
    "slideshow": {
     "slide_type": "subslide"
    }
   },
   "source": [
    "# The Modeling (statistical) Framework \n",
    "\n",
    "* outcome - price of AirBnb in San Diego, predictors - # of bedrooms, bathrooms, type of property, etc. \n",
    "\n",
    "> We are trying to explain 'variance' in the outcome by 'variance' in predictors"
   ]
  },
  {
   "cell_type": "markdown",
   "id": "d8303442",
   "metadata": {
    "slideshow": {
     "slide_type": "subslide"
    }
   },
   "source": [
    "# Combining statistical + geometric framework \n",
    "\n",
    "$$\n",
    "\\hat{Y_i} = b_0 + b_1 X_i + \\epsilon_i\n",
    "$$\n",
    "\n",
    "where $\\hat{Y_i}$ denotes our prediction (line), $X_i$ predictor variable value for $i$th observations, $\\beta_0$ is the intercept, and $\\beta_1$ is the regression coefficient. And $\\epsilon_i = \\hat{Y_i} - Y_i$ (residuals/errors = predicted - actual values). "
   ]
  },
  {
   "cell_type": "markdown",
   "id": "a73c5a05",
   "metadata": {
    "slideshow": {
     "slide_type": "subslide"
    }
   },
   "source": [
    "<img src=\"https://ethanweed.github.io/pythonbook/_images/05.04-regression_12_0.png\">"
   ]
  },
  {
   "cell_type": "markdown",
   "id": "be02d9ad",
   "metadata": {
    "slideshow": {
     "slide_type": "subslide"
    }
   },
   "source": [
    "# Geometry + Optimization\n",
    "\n",
    "* We want our combined $\\epsilon$ (error/residuals) to be as small as possible. \n",
    "\n",
    "> The estimated regression coefficients $\\hat{\\beta_0}$ and $\\hat{\\beta_1}$ are those that **minimise the sum of the squared residuals** \n",
    "\n",
    "$$\n",
    "\\sum_i (Y_i - \\hat{Y}_i)^2\n",
    "$$"
   ]
  },
  {
   "cell_type": "code",
   "execution_count": 10,
   "id": "5bd268cb",
   "metadata": {
    "slideshow": {
     "slide_type": "slide"
    }
   },
   "outputs": [
    {
     "data": {
      "text/html": [
       "<div>\n",
       "<style scoped>\n",
       "    .dataframe tbody tr th:only-of-type {\n",
       "        vertical-align: middle;\n",
       "    }\n",
       "\n",
       "    .dataframe tbody tr th {\n",
       "        vertical-align: top;\n",
       "    }\n",
       "\n",
       "    .dataframe thead th {\n",
       "        text-align: right;\n",
       "    }\n",
       "</style>\n",
       "<table border=\"1\" class=\"dataframe\">\n",
       "  <thead>\n",
       "    <tr style=\"text-align: right;\">\n",
       "      <th></th>\n",
       "      <th>names</th>\n",
       "      <th>coef</th>\n",
       "      <th>se</th>\n",
       "      <th>T</th>\n",
       "      <th>pval</th>\n",
       "      <th>r2</th>\n",
       "      <th>adj_r2</th>\n",
       "      <th>CI[2.5%]</th>\n",
       "      <th>CI[97.5%]</th>\n",
       "    </tr>\n",
       "  </thead>\n",
       "  <tbody>\n",
       "    <tr>\n",
       "      <th>0</th>\n",
       "      <td>Intercept</td>\n",
       "      <td>4.123498</td>\n",
       "      <td>0.012696</td>\n",
       "      <td>324.794585</td>\n",
       "      <td>0.0</td>\n",
       "      <td>0.528936</td>\n",
       "      <td>0.528859</td>\n",
       "      <td>4.098610</td>\n",
       "      <td>4.148386</td>\n",
       "    </tr>\n",
       "    <tr>\n",
       "      <th>1</th>\n",
       "      <td>accommodates</td>\n",
       "      <td>0.206661</td>\n",
       "      <td>0.002495</td>\n",
       "      <td>82.815413</td>\n",
       "      <td>0.0</td>\n",
       "      <td>0.528936</td>\n",
       "      <td>0.528859</td>\n",
       "      <td>0.201769</td>\n",
       "      <td>0.211553</td>\n",
       "    </tr>\n",
       "  </tbody>\n",
       "</table>\n",
       "</div>"
      ],
      "text/plain": [
       "          names      coef        se           T  pval        r2    adj_r2  \\\n",
       "0     Intercept  4.123498  0.012696  324.794585   0.0  0.528936  0.528859   \n",
       "1  accommodates  0.206661  0.002495   82.815413   0.0  0.528936  0.528859   \n",
       "\n",
       "   CI[2.5%]  CI[97.5%]  \n",
       "0  4.098610   4.148386  \n",
       "1  0.201769   0.211553  "
      ]
     },
     "execution_count": 10,
     "metadata": {},
     "output_type": "execute_result"
    }
   ],
   "source": [
    "mod1 = pg.linear_regression(db['accommodates'], db['log_price'])\n",
    "mod1"
   ]
  },
  {
   "cell_type": "code",
   "execution_count": 11,
   "id": "86278338",
   "metadata": {
    "slideshow": {
     "slide_type": "subslide"
    }
   },
   "outputs": [
    {
     "data": {
      "image/png": "[encoded data removed]",
      "text/plain": [
       "<Figure size 432x288 with 1 Axes>"
      ]
     },
     "metadata": {
      "filenames": {
       "image/png": "D:\\gits\\ucsb_geog172\\_build\\jupyter_execute\\lectures\\lecture15_21_0.png"
      },
      "needs_background": "light"
     },
     "output_type": "display_data"
    }
   ],
   "source": [
    "sns.scatterplot(data=db, x='price', y='log_price');"
   ]
  },
  {
   "cell_type": "markdown",
   "id": "2170dc58",
   "metadata": {
    "slideshow": {
     "slide_type": "subslide"
    }
   },
   "source": [
    "# Understanding Regression Equation \n",
    "\n",
    "$$\n",
    "\\hat{Y}_i = b_0 + b_1 X_i = 4.1 + 0.2 \\ X_i  \n",
    "$$\n",
    "\n",
    "> For 1-unit increase in the number of people that the Airbnb property accommodates, we expect the log(price) to go up by .2\n",
    "\n",
    "> The expected value of $\\hat{Y_i}$ when $X_i = 0$ is 4.1"
   ]
  },
  {
   "cell_type": "markdown",
   "id": "5e0637f2",
   "metadata": {
    "slideshow": {
     "slide_type": "slide"
    }
   },
   "source": [
    "# Caution ⚠️\n",
    "\n",
    "#### Order in regression matters (typically, predictor goes first and outcome goes second)! We are modeling the log(price) as a function of the number of people that the apartment from the listing can accommodate. "
   ]
  },
  {
   "cell_type": "markdown",
   "id": "6c13dd61",
   "metadata": {
    "slideshow": {
     "slide_type": "slide"
    }
   },
   "source": [
    "# Multiple Regression\n",
    "\n",
    "* Adding terms to our equations (from *bivariate* to *multivariate*) \n",
    "\n",
    "$$\n",
    "Y_i = b_2 X_{i2} + b_1 X_{i1} + b_0 + \\epsilon_i\n",
    "$$"
   ]
  },
  {
   "cell_type": "code",
   "execution_count": 12,
   "id": "3fe5ce9f",
   "metadata": {
    "slideshow": {
     "slide_type": "subslide"
    }
   },
   "outputs": [
    {
     "data": {
      "text/html": [
       "<div>\n",
       "<style scoped>\n",
       "    .dataframe tbody tr th:only-of-type {\n",
       "        vertical-align: middle;\n",
       "    }\n",
       "\n",
       "    .dataframe tbody tr th {\n",
       "        vertical-align: top;\n",
       "    }\n",
       "\n",
       "    .dataframe thead th {\n",
       "        text-align: right;\n",
       "    }\n",
       "</style>\n",
       "<table border=\"1\" class=\"dataframe\">\n",
       "  <thead>\n",
       "    <tr style=\"text-align: right;\">\n",
       "      <th></th>\n",
       "      <th>names</th>\n",
       "      <th>coef</th>\n",
       "      <th>se</th>\n",
       "      <th>T</th>\n",
       "      <th>pval</th>\n",
       "      <th>r2</th>\n",
       "      <th>adj_r2</th>\n",
       "      <th>CI[2.5%]</th>\n",
       "      <th>CI[97.5%]</th>\n",
       "    </tr>\n",
       "  </thead>\n",
       "  <tbody>\n",
       "    <tr>\n",
       "      <th>0</th>\n",
       "      <td>Intercept</td>\n",
       "      <td>4.10</td>\n",
       "      <td>0.01</td>\n",
       "      <td>323.10</td>\n",
       "      <td>0.0</td>\n",
       "      <td>0.54</td>\n",
       "      <td>0.54</td>\n",
       "      <td>4.07</td>\n",
       "      <td>4.12</td>\n",
       "    </tr>\n",
       "    <tr>\n",
       "      <th>1</th>\n",
       "      <td>accommodates</td>\n",
       "      <td>0.16</td>\n",
       "      <td>0.00</td>\n",
       "      <td>35.33</td>\n",
       "      <td>0.0</td>\n",
       "      <td>0.54</td>\n",
       "      <td>0.54</td>\n",
       "      <td>0.15</td>\n",
       "      <td>0.17</td>\n",
       "    </tr>\n",
       "    <tr>\n",
       "      <th>2</th>\n",
       "      <td>bedrooms</td>\n",
       "      <td>0.15</td>\n",
       "      <td>0.01</td>\n",
       "      <td>13.44</td>\n",
       "      <td>0.0</td>\n",
       "      <td>0.54</td>\n",
       "      <td>0.54</td>\n",
       "      <td>0.13</td>\n",
       "      <td>0.17</td>\n",
       "    </tr>\n",
       "  </tbody>\n",
       "</table>\n",
       "</div>"
      ],
      "text/plain": [
       "          names  coef    se       T  pval    r2  adj_r2  CI[2.5%]  CI[97.5%]\n",
       "0     Intercept  4.10  0.01  323.10   0.0  0.54    0.54      4.07       4.12\n",
       "1  accommodates  0.16  0.00   35.33   0.0  0.54    0.54      0.15       0.17\n",
       "2      bedrooms  0.15  0.01   13.44   0.0  0.54    0.54      0.13       0.17"
      ]
     },
     "execution_count": 12,
     "metadata": {},
     "output_type": "execute_result"
    }
   ],
   "source": [
    "mod2 = pg.linear_regression(db[['accommodates', 'bedrooms']], db['log_price'])\n",
    "mod2.round(2)"
   ]
  },
  {
   "cell_type": "markdown",
   "id": "f4c80d3b",
   "metadata": {
    "slideshow": {
     "slide_type": "subslide"
    }
   },
   "source": [
    "# Regression Equation\n",
    "\n",
    "$$\n",
    "\\hat{Y}_i = 4.10 + 0.16 \\ X_{i1} + 0.15 \\ X_{i2}  \n",
    "$$\n"
   ]
  },
  {
   "cell_type": "markdown",
   "id": "2ebec715",
   "metadata": {
    "slideshow": {
     "slide_type": "subslide"
    }
   },
   "source": [
    "# Multivariate (general) Case\n",
    "\n",
    "$$\n",
    "Y_i = \\left( \\sum_{k=1}^K b_{k} X_{ik} \\right) + b_0 + \\epsilon_i\n",
    "$$"
   ]
  },
  {
   "cell_type": "markdown",
   "id": "e61a54f7",
   "metadata": {
    "slideshow": {
     "slide_type": "slide"
    }
   },
   "source": [
    "# Quantifying the Fit of the Regression \n",
    "\n",
    "$$\n",
    "\\mbox{SS}_{res} = \\sum_i (Y_i - \\hat{Y}_i)^2 \\quad \\text{sum of squared residuals}\n",
    "$$\n",
    "\n",
    "$$\n",
    "\\mbox{SS}_{tot} = \\sum_i (Y_i - \\bar{Y})^2 \\quad \\text{total variability}\n",
    "$$"
   ]
  },
  {
   "cell_type": "code",
   "execution_count": 13,
   "id": "d7918696",
   "metadata": {
    "slideshow": {
     "slide_type": "subslide"
    }
   },
   "outputs": [
    {
     "data": {
      "text/plain": [
       "0       5.156802\n",
       "1       5.363463\n",
       "2       4.536820\n",
       "3       4.536820\n",
       "4       4.536820\n",
       "          ...   \n",
       "6105    4.536820\n",
       "6106    5.363463\n",
       "6107    4.330159\n",
       "6108    4.743481\n",
       "6109    4.743481\n",
       "Name: accommodates, Length: 6110, dtype: float64"
      ]
     },
     "execution_count": 13,
     "metadata": {},
     "output_type": "execute_result"
    }
   ],
   "source": [
    "# calculate \n",
    "Y_pred = mod1.loc[mod1.names=='Intercept','coef'].values + db['accommodates'] \\\n",
    "    * mod1.loc[mod1.names=='accommodates','coef'].values\n",
    "Y_pred"
   ]
  },
  {
   "cell_type": "code",
   "execution_count": 14,
   "id": "7cf4ef26",
   "metadata": {
    "slideshow": {
     "slide_type": "subslide"
    }
   },
   "outputs": [
    {
     "ename": "NameError",
     "evalue": "name 'np' is not defined",
     "output_type": "error",
     "traceback": [
      "\u001b[1;31m---------------------------------------------------------------------------\u001b[0m",
      "\u001b[1;31mNameError\u001b[0m                                 Traceback (most recent call last)",
      "Input \u001b[1;32mIn [14]\u001b[0m, in \u001b[0;36m<cell line: 2>\u001b[1;34m()\u001b[0m\n\u001b[0;32m      1\u001b[0m SS_resid \u001b[38;5;241m=\u001b[39m \u001b[38;5;28msum\u001b[39m( (db\u001b[38;5;241m.\u001b[39mlog_price \u001b[38;5;241m-\u001b[39m Y_pred)\u001b[38;5;241m*\u001b[39m\u001b[38;5;241m*\u001b[39m\u001b[38;5;241m2\u001b[39m )\n\u001b[1;32m----> 2\u001b[0m SS_tot \u001b[38;5;241m=\u001b[39m \u001b[38;5;28msum\u001b[39m( (db\u001b[38;5;241m.\u001b[39mlog_price \u001b[38;5;241m-\u001b[39m \u001b[43mnp\u001b[49m\u001b[38;5;241m.\u001b[39mmean(db\u001b[38;5;241m.\u001b[39mlog_price))\u001b[38;5;241m*\u001b[39m\u001b[38;5;241m*\u001b[39m\u001b[38;5;241m2\u001b[39m )\n\u001b[0;32m      3\u001b[0m \u001b[38;5;28mprint\u001b[39m(\u001b[38;5;124mf\u001b[39m\u001b[38;5;124m'\u001b[39m\u001b[38;5;124mSquared residuals: \u001b[39m\u001b[38;5;132;01m{\u001b[39;00mSS_resid\u001b[38;5;132;01m}\u001b[39;00m\u001b[38;5;124m'\u001b[39m)\n\u001b[0;32m      4\u001b[0m \u001b[38;5;28mprint\u001b[39m(\u001b[38;5;124mf\u001b[39m\u001b[38;5;124m'\u001b[39m\u001b[38;5;124mtotal variation: \u001b[39m\u001b[38;5;132;01m{\u001b[39;00mSS_tot\u001b[38;5;132;01m}\u001b[39;00m\u001b[38;5;124m'\u001b[39m)\n",
      "\u001b[1;31mNameError\u001b[0m: name 'np' is not defined"
     ]
    }
   ],
   "source": [
    "SS_resid = sum( (db.log_price - Y_pred)**2 )\n",
    "SS_tot = sum( (db.log_price - np.mean(db.log_price))**2 )\n",
    "print(f'Squared residuals: {SS_resid}')\n",
    "print(f'total variation: {SS_tot}')"
   ]
  },
  {
   "cell_type": "markdown",
   "id": "0f99f1ec",
   "metadata": {},
   "source": [
    "# Making Fit Interpretable - R-squared\n",
    "\n",
    "* Get standardized value (something similar to (auto)correlation coefficient)\n",
    "* Make standardize value meaningful (good/bad) fit: +1 (good fit), 0 (no fit) \n",
    "\n",
    "$$\n",
    "R^2 = 1 - \\frac{SS_{res}}{SS_{tot}}\n",
    "$$"
   ]
  },
  {
   "cell_type": "code",
   "execution_count": 90,
   "id": "e704c56d",
   "metadata": {
    "slideshow": {
     "slide_type": "subslide"
    }
   },
   "outputs": [
    {
     "data": {
      "text/plain": [
       "0.5289360594305659"
      ]
     },
     "execution_count": 90,
     "metadata": {},
     "output_type": "execute_result"
    }
   ],
   "source": [
    "R2 = 1- (SS_resid / SS_tot)\n",
    "R2"
   ]
  },
  {
   "cell_type": "markdown",
   "id": "124accb7",
   "metadata": {
    "slideshow": {
     "slide_type": "subslide"
    }
   },
   "source": [
    "# Interpreting R-squared\n",
    "\n",
    "> $R^2$ is the proportion of the variance in the outcome variable that can be accounted for by the predictor. The number of people accommodated per listing explains 52.9% of the variation in the price of the listing. "
   ]
  },
  {
   "cell_type": "markdown",
   "id": "06150a51",
   "metadata": {
    "slideshow": {
     "slide_type": "slide"
    }
   },
   "source": [
    "# Adjusted R-squared \n",
    "\n",
    "* Adding variables to the model will always increase $R^2$! BUT, we need to take degrees of freedom into account! \n",
    "* The adjusted value will only increase if the new variables improve the model performance more than you’d expect by chance. \n",
    "* We loose elegant interpretation about explained variability!\n",
    "\n",
    "$$\n",
    "\\mbox{adj. } R^2 = 1 - \\left(\\frac{\\mbox{SS}_{res}}{\\mbox{SS}_{tot}} \\times \\frac{N-1}{N-K-1} \\right)\n",
    "$$\n",
    "\n",
    "where $N$ - is the number of observations, $K$ - number of predictors"
   ]
  },
  {
   "cell_type": "markdown",
   "id": "5a2ade6e",
   "metadata": {
    "slideshow": {
     "slide_type": "slide"
    }
   },
   "source": [
    "# Correlation and Regression Connection \n",
    "\n",
    "> $R^2$ is the same as $r_p$"
   ]
  },
  {
   "cell_type": "markdown",
   "id": "2e3d60ff",
   "metadata": {
    "slideshow": {
     "slide_type": "slide"
    }
   },
   "source": [
    "# Running regression with all predictors"
   ]
  },
  {
   "cell_type": "code",
   "execution_count": 98,
   "id": "3d194044",
   "metadata": {
    "slideshow": {
     "slide_type": "subslide"
    }
   },
   "outputs": [],
   "source": [
    "from pysal.model import spreg\n",
    "\n",
    "# Fit OLS model\n",
    "m1 = spreg.OLS(\n",
    "    # Dependent variable\n",
    "    db[[\"log_price\"]].values,\n",
    "    # Independent variables\n",
    "    db[variable_names].values,\n",
    "    # Dependent variable name\n",
    "    name_y=\"log_price\",\n",
    "    # Independent variable name\n",
    "    name_x=variable_names,\n",
    ")"
   ]
  },
  {
   "cell_type": "code",
   "execution_count": 100,
   "id": "07b1c8d1",
   "metadata": {
    "slideshow": {
     "slide_type": "subslide"
    }
   },
   "outputs": [],
   "source": [
    "with open('reg1.txt', 'w') as f:\n",
    "    print(m1.summary, file=f)  # Python 3.x"
   ]
  },
  {
   "cell_type": "code",
   "execution_count": 102,
   "id": "fa1c479c",
   "metadata": {
    "slideshow": {
     "slide_type": "subslide"
    }
   },
   "outputs": [
    {
     "name": "stdout",
     "output_type": "stream",
     "text": [
      "0.6683445024123358\n",
      "0.667800715729949\n"
     ]
    }
   ],
   "source": [
    "print(m1.r2)\n",
    "print(m1.ar2)"
   ]
  },
  {
   "cell_type": "markdown",
   "id": "16b7d1d8",
   "metadata": {},
   "source": [
    "# Hypothesis Testing and Regression \n",
    "\n",
    "* $H_0$: $H_0: Y_i = b_0 + \\epsilon_i$ (there is no relationship)\n",
    "* $H_a$: $H_1: Y_i = \\left( \\sum_{k=1}^K b_{k} X_{ik} \\right) + b_0 + \\epsilon_i$ (our proposed model is valid) "
   ]
  },
  {
   "cell_type": "markdown",
   "id": "685aee26",
   "metadata": {},
   "source": [
    "# Hypothesis Testing (Calculation) \n",
    "\n",
    "$$\n",
    "\\mbox{SS}_{mod} = \\mbox{SS}_{tot} - \\mbox{SS}_{res}\n",
    "$$\n",
    "\n",
    "$$\n",
    "\\begin{split}\n",
    "\\begin{array}{rcl}\n",
    "\\mbox{MS}_{mod} &=& \\displaystyle\\frac{\\mbox{SS}_{mod} }{df_{mod}} \\\\ \\\\\n",
    "\\mbox{MS}_{res} &=& \\displaystyle\\frac{\\mbox{SS}_{res} }{df_{res} }\n",
    "\\end{array}\n",
    "\\end{split}\n",
    "$$\n",
    "\n",
    "where $df_{res} = N -K - 1$"
   ]
  },
  {
   "cell_type": "markdown",
   "id": "d1f102f0",
   "metadata": {
    "slideshow": {
     "slide_type": "subslide"
    }
   },
   "source": [
    "# Hypothesis Testing (Calculation) \n",
    "\n",
    "$$\n",
    "F =  \\frac{\\mbox{MS}_{mod}}{\\mbox{MS}_{res}}\n",
    "$$\n",
    "\n",
    "> Pingouin cannot calculate $F$ statistic. Instead we can use the summary table from spreg. "
   ]
  },
  {
   "cell_type": "markdown",
   "id": "07b88344",
   "metadata": {
    "slideshow": {
     "slide_type": "slide"
    }
   },
   "source": [
    "# Other Hypothesis Tests (not covered in class) \n",
    "\n",
    "* Test for individual coefficients \n",
    "* Testing significance of correlation (both single and all pairwise) \n",
    "\n",
    "### See [this tutorial](https://ethanweed.github.io/pythonbook/05.04-regression.html#linear-regression-with-python) for more details"
   ]
  },
  {
   "cell_type": "markdown",
   "id": "20db5dc1",
   "metadata": {
    "slideshow": {
     "slide_type": "slide"
    }
   },
   "source": [
    "# Assumptions of the regression \n",
    "\n",
    "* **Normality**. Standard linear regression relies on an assumption of normality. Specifically, it assumes that the residuals are normally distributed. It’s actually okay if the predictors and the outcome are non-normal, so long as the residuals are normal.\n",
    "* **Linearity**. Relationship between $X$ and $Y$ are assumed linear! Regardless of whether it’s a simple regression or a multiple regression, we assume that the relatiships involved are linear.\n",
    "* **Homogeneity of variance**. Each residual is generated from a normal distribution with mean 0, and with a standard deviation that is the same for every single residual. Standard deviation of the residual should be the same for all values of $\\hat{Y_i}$."
   ]
  },
  {
   "cell_type": "markdown",
   "id": "8db5a7ef",
   "metadata": {
    "slideshow": {
     "slide_type": "subslide"
    }
   },
   "source": [
    "# Assumptions of the regression 2\n",
    "\n",
    "* **Uncorrelated predictors**. We don’t want predictors to be too strongly correlated with each other. Predictors that are too strongly correlated with each other (referred to as “collinearity”) can cause problems when evaluating the model\n",
    "* **Residuals are independent of each other**. Check residuals for irregularity in variance. Some irregularity would normally point to the omitted variable or OMITTED GEOGRAPHIC EFFECT!. \n",
    "* **Outliers**. Implicit assumption that regression model should not be too strongly influenced by one or two anomalous data points; since this raises questions about the adequacy of the model, and the trustworthiness of the data in some cases."
   ]
  },
  {
   "cell_type": "markdown",
   "id": "e5aa0661",
   "metadata": {
    "slideshow": {
     "slide_type": "slide"
    }
   },
   "source": [
    "# Questions? "
   ]
  }
 ],
 "metadata": {
  "celltoolbar": "Slideshow",
  "kernelspec": {
   "display_name": "Python (geo_env)",
   "language": "python",
   "name": "geo_env"
  },
  "language_info": {
   "codemirror_mode": {
    "name": "ipython",
    "version": 3
   },
   "file_extension": ".py",
   "mimetype": "text/x-python",
   "name": "python",
   "nbconvert_exporter": "python",
   "pygments_lexer": "ipython3",
   "version": "3.10.5"
  },
  "varInspector": {
   "cols": {
    "lenName": 16,
    "lenType": 16,
    "lenVar": 40
   },
   "kernels_config": {
    "python": {
     "delete_cmd_postfix": "",
     "delete_cmd_prefix": "del ",
     "library": "var_list.py",
     "varRefreshCmd": "print(var_dic_list())"
    },
    "r": {
     "delete_cmd_postfix": ") ",
     "delete_cmd_prefix": "rm(",
     "library": "var_list.r",
     "varRefreshCmd": "cat(var_dic_list()) "
    }
   },
   "types_to_exclude": [
    "module",
    "function",
    "builtin_function_or_method",
    "instance",
    "_Feature"
   ],
   "window_display": false
  }
 },
 "nbformat": 4,
 "nbformat_minor": 5
}