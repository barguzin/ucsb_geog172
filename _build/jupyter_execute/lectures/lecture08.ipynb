{
 "cells": [
  {
   "cell_type": "markdown",
   "id": "233828cd",
   "metadata": {
    "slideshow": {
     "slide_type": "slide"
    }
   },
   "source": [
    "<h1> <center> GEOG 172: INTERMEDIATE GEOGRAPHICAL ANALYSIS </h1>\n",
    "    <h2> <center> Evgeny Noi </h2>\n",
    "        <h3> <center> Lecture 8: Comparing Means (t-tests and ANOVA) </h3>"
   ]
  },
  {
   "cell_type": "markdown",
   "id": "1f2477a3",
   "metadata": {
    "slideshow": {
     "slide_type": "slide"
    }
   },
   "source": [
    "# Last Lecture Review (Distributions) \n",
    "\n",
    "* RV can be continuous (PDF) and discrete (PMF)\n",
    "* Each distribution can be parametrized by their corresponding density functions "
   ]
  },
  {
   "cell_type": "markdown",
   "id": "2c5dbc06",
   "metadata": {
    "slideshow": {
     "slide_type": "subslide"
    }
   },
   "source": [
    "# Last Lecture Review ($z$ and $t$) \n",
    "\n",
    "* We can convert normally distributed RVs into standard normal distribution ($z$-score) \n",
    "* We can use the $z$-score to assess probability of observing data at or below the $z$. Use the $z$-table to look up probability values. \n",
    "* We use $t$ when the population SD is not known (most real-life situations) or when sample size is below 30. Use the $t$-table  to look up probability values. "
   ]
  },
  {
   "cell_type": "markdown",
   "id": "7dd6c3ab",
   "metadata": {
    "slideshow": {
     "slide_type": "subslide"
    }
   },
   "source": [
    "## $z$-score \n",
    "\n",
    "$$\n",
    "z = \\frac{\\bar{x}-\\mu}{\\frac{\\sigma}{\\sqrt{n}}}\n",
    "$$\n",
    "\n",
    "## $t$-score\n",
    "\n",
    "$$\n",
    "t = \\frac{\\bar{x}-\\mu}{\\frac{s}{\\sqrt{n}}}\n",
    "$$\n",
    "\n",
    "where $s$ is the sample variance, $\\sigma$ is the population variance, $\\bar{x}$ is the sample mean, and $\\mu$ is the population mean. "
   ]
  },
  {
   "cell_type": "markdown",
   "id": "b1b876e6",
   "metadata": {
    "slideshow": {
     "slide_type": "subslide"
    }
   },
   "source": [
    "<img src=\"https://www.jmp.com/en_us/statistics-knowledge-portal/t-test/t-distribution/_jcr_content/par/styledcontainer_2069_1940499363/par/image.img.png/1580489179006.png\">"
   ]
  },
  {
   "cell_type": "markdown",
   "id": "3b2f3abb",
   "metadata": {
    "slideshow": {
     "slide_type": "subslide"
    }
   },
   "source": [
    "# Last Lecture Review (CI)\n",
    "\n",
    "* We can estimate population mean ($\\mu$) and variance ($\\sigma^2$) from sample mean ($\\bar{x}$) and sample variance ($s^2$)\n",
    "* We can provide confidence intervals for population mean using formulas $\\bar{x} \\pm t_{\\alpha/2} \\frac{s}{\\sqrt{n}}$ with $df=n-1$\n",
    "* Interpret the CI: We are $(1-\\alpha)100%$ sure that the population mean, $\\mu$, is between $\\bar{x} - t_{\\alpha/2} \\frac{s}{\\sqrt{n}}$ and $\\bar{x} + t_{\\alpha/2} \\frac{s}{\\sqrt{n}}$ "
   ]
  },
  {
   "cell_type": "markdown",
   "id": "30461a12",
   "metadata": {
    "slideshow": {
     "slide_type": "subslide"
    }
   },
   "source": [
    "# Last Lecture Review (QQ-Plot) \n",
    "\n",
    "> In statistics, a Q–Q plot (quantile-quantile plot) is a probability plot, a graphical method for comparing two probability distributions by plotting their quantiles against each other. If the two distributions being compared are similar, the points in the Q–Q plot will approximately lie on the identity line $y = x$. \n",
    "\n",
    "<img src=\"https://condor.depaul.edu/sjost/it223/documents/nplots.gif\" width=\"300px\">"
   ]
  },
  {
   "cell_type": "markdown",
   "id": "012353c8",
   "metadata": {
    "slideshow": {
     "slide_type": "subslide"
    }
   },
   "source": [
    "# Last Lecture Review (Hypotheses)\n",
    "\n",
    "* **Null hypothesis** - is assumed to be true until there is evidence to suggest otherwise. \n",
    "* **Alternative hypothesis** - research hypotehsis. \n",
    "\n",
    "> The goal of hypothesis testing is to see if there is enough evidence against the null hypothesis. If there is not enough evidence, then we fail to reject the null hypothesis"
   ]
  },
  {
   "cell_type": "markdown",
   "id": "35300d1c",
   "metadata": {
    "slideshow": {
     "slide_type": "subslide"
    }
   },
   "source": [
    "# Last Lecture Review (Errors) \n",
    "\n",
    "* Null is **true**, the mean in the urban area is indeed 3.1 (as demonstrated on the sample). \n",
    "    * Reject **true** null (Type I error): $\\alpha$ (**False positive**, i.e. 'falsely rejecting true null') \n",
    "    * Accept **true** null: $1 - \\alpha$ (**True Positive**) \n",
    "* Null is **false**, the mean in the urban area is not 3.1 (biased sample, wrong conjecture in the first place, rare event). \n",
    "    * Reject **false** null: $1 - \\beta$ (**True negative**) \n",
    "    * Accept **false** null (Type II error): $\\beta$ (**False negative**, i.e. 'falsely accepting false null') \n",
    "    \n",
    "> **We can decrease the magnitude of errors by increasing a sample size!**"
   ]
  },
  {
   "cell_type": "markdown",
   "id": "eb3bbca8",
   "metadata": {
    "slideshow": {
     "slide_type": "slide"
    }
   },
   "source": [
    "# Six Steps of Hypothesis Tests\n",
    "\n",
    "1. Set up hypothesis and check conditions (normality, independence) \n",
    "2. Decide on the significance level $\\alpha$ (probability cutoff for making decisions about null hypothesis). The probability we are willing to place on our test for making an incorrect decision rejecting the null hypothesis. \n",
    "3. Calculate test statistic. "
   ]
  },
  {
   "cell_type": "markdown",
   "id": "dbb9accc",
   "metadata": {
    "slideshow": {
     "slide_type": "subslide"
    }
   },
   "source": [
    "# Six Steps of Hypothesis Tests\n",
    "\n",
    "4. Calculate probability value ($p$-value) or find the rejection region\n",
    "5. Make decision about the null (reject of fail to reject) \n",
    "6. State overall conclusion. "
   ]
  },
  {
   "cell_type": "markdown",
   "id": "b235d963",
   "metadata": {
    "slideshow": {
     "slide_type": "slide"
    }
   },
   "source": [
    "# Setting-up Hypothesis Tests \n",
    "\n",
    "* Is the population mean different from $\\mu_0$? (Two-tailed, non-directional)\n",
    "    * $H_0$: $\\mu = \\mu_0$ \n",
    "    * $H_a$: $\\mu \\neq \\mu_0$ \n",
    "* Is the population mean greater than $\\mu_0$? (Right-tailed, directional)\n",
    "    * $H_0$: $\\mu = \\mu_0$ \n",
    "    * $H_a$: $\\mu > \\mu_0$ \n",
    "* Is the population mean less than $\\mu_0$? (Left-tailed, directional)\n",
    "    * $H_0$: $\\mu = \\mu_0$ \n",
    "    * $H_a$: $\\mu < \\mu_0$ "
   ]
  },
  {
   "cell_type": "markdown",
   "id": "02f1a728",
   "metadata": {
    "slideshow": {
     "slide_type": "subslide"
    }
   },
   "source": [
    "<img src=\"https://ars.els-cdn.com/content/image/3-s2.0-B9780128008522000092-f09-06-9780128008522.jpg\">"
   ]
  },
  {
   "cell_type": "markdown",
   "id": "91d9d087",
   "metadata": {
    "slideshow": {
     "slide_type": "slide"
    }
   },
   "source": [
    "# One Sample t-Tests"
   ]
  },
  {
   "cell_type": "markdown",
   "id": "6dc8624b",
   "metadata": {
    "slideshow": {
     "slide_type": "subslide"
    }
   },
   "source": [
    "# Steps 1-3 \n",
    "\n",
    "* Set up hypothesis (see previous slide) and set $\\mu_0=8.5$ (hypothesized population mean). The data comes from normal distribution of size = 30\n",
    "* $\\alpha=0.05$ \n",
    "* Calculate the test statistic"
   ]
  },
  {
   "cell_type": "markdown",
   "id": "25af1f78",
   "metadata": {
    "slideshow": {
     "slide_type": "subslide"
    }
   },
   "source": [
    "# Steps 4-6 (Critical Region) \n",
    "\n",
    "* Find critical values (tables). Rejection regions: \n",
    "    * left-handed: reject $H_0$ if $t^* \\leq t_{\\alpha}$\n",
    "    * right-handed: reject $H_0$ if $t^* \\geq t_{\\alpha}$\n",
    "    * two-tailed: reject $H_0$ if $|t^*| \\geq |t_{\\alpha/2}|$\n",
    "* Make decision about the null\n",
    "* State an overall conclusion"
   ]
  },
  {
   "cell_type": "markdown",
   "id": "25de96d6",
   "metadata": {
    "slideshow": {
     "slide_type": "subslide"
    }
   },
   "source": [
    "# Steps 4-6 ($p$-values)\n",
    "\n",
    "* Computing p-value\n",
    "    * If $H_a$ is right-tailed, then the p-value is the probability the sample data produces a value equal to or greater than the observed test statistic. $P(t\\leq t^*)$ \n",
    "    * If $H_a$ is left-tailed, then the p-value is the probability the sample data produces a value equal to or less than the observed test statistic. $P(t\\geq t^*)$\n",
    "    * If $H_a$ is two-tailed, then the p-value is two times the probability the sample data produces a value equal to or greater than the absolute value of the observed test statistic. $2 \\times P(t\\geq |t^*|)$\n",
    "* Make decision about the null. If the p-value is less than the significance level, $\\alpha$, then reject $H_0$ (and conclude $H_a$)\n",
    "* State an overall conclusion"
   ]
  },
  {
   "cell_type": "markdown",
   "id": "a24acfaa",
   "metadata": {
    "slideshow": {
     "slide_type": "slide"
    }
   },
   "source": [
    "# Example \n",
    "\n",
    "> The mean length of the lumber is supposed to be 8.5 feet. A builder wants to check whether the shipment of lumber she receives has a mean length different from 8.5 feet. If the builder observes that the sample mean of 61 pieces of lumber is 8.3 feet with a sample standard deviation of 1.2 feet. What will she conclude? Is 8.3 very different from 8.5?"
   ]
  },
  {
   "cell_type": "markdown",
   "id": "fefcacf1",
   "metadata": {
    "slideshow": {
     "slide_type": "subslide"
    }
   },
   "source": [
    "$$\n",
    "\\begin{align}\n",
    "t^* &= \\frac{\\bar{x}-\\mu}{\\frac{s}{\\sqrt{n}}} \\\\\n",
    " &= \\frac{8.3-8.5}{\\frac{1.2}{\\sqrt{61}}} \\\\\n",
    " &= -1.3\n",
    "\\end{align}\n",
    "$$\n",
    "\n",
    "Thus, we are asking if $-1.3$ is very far away from zero, since that corresponds to the case when $\\bar{x}$ is equal to $\\mu_0$. If it is far away, then it is unlikely that the null hypothesis is true and one rejects it. Otherwise, one cannot reject the null hypothesis."
   ]
  },
  {
   "cell_type": "markdown",
   "id": "b962e359",
   "metadata": {
    "slideshow": {
     "slide_type": "subslide"
    }
   },
   "source": [
    "1. $H_0$: $\\mu = 8.5$; $H_a$: $\\mu \\neq 8.5$\n",
    "2. $\\alpha=.01$\n",
    "3. $t^* = -1.3$"
   ]
  },
  {
   "cell_type": "markdown",
   "id": "e783a8d6",
   "metadata": {
    "slideshow": {
     "slide_type": "subslide"
    }
   },
   "source": [
    "# Rejection region approach\n",
    "\n",
    "4. $df = 61-60 = 60$, the critical value is $t_{\\alpha/2} = 2.660$, thus $t^*$ is not within $\\pm 2.660$\n",
    "5. $t^*$ is not within rejection region, we fail to reject null hypothesis. \n",
    "6. With a test statistic of $-1.3$ and critical value of $\\pm 2.660$ at a 1\\% level of significance, we do not have enough statistical evidence to reject the null hypothesis. We conclude that there is not enough statistical evidence that indicates that the mean length of lumber differs from $8.5$ feet."
   ]
  },
  {
   "cell_type": "markdown",
   "id": "ea7f81b9",
   "metadata": {
    "slideshow": {
     "slide_type": "subslide"
    }
   },
   "source": [
    "# P-value approach\n",
    "\n",
    "4. Without software to find a more exact probability, the best we can do from the t-table is find a range. We do see that the value falls between 1.296 and 1.671. These two t-values correspond to right-tail probabilities of 0.1 and 0.05, respectively. Since 1.3 is between these two t-values, then it stands to reason that the probability to the right of 1.3 would fall between 0.05 and 0.1. Therefore, the p-value would be = 2×(0.05 and 0.1) or from 0.1 to 0.2.\n",
    "5. Fail to reject the null\n",
    "6. With a test statistic of - 1.3 and p-value between 0.1 to 0.2, we fail to reject the null hypothesis at a 1% level of significance since the p-value would exceed our significance level. We conclude that there is not enough statistical evidence that indicates that the mean length of lumber differs from 8.5 feet.\n"
   ]
  },
  {
   "cell_type": "markdown",
   "id": "d5bb2572",
   "metadata": {
    "slideshow": {
     "slide_type": "slide"
    }
   },
   "source": [
    "# P-value\n",
    "\n",
    "> $p$-value is defined to be the smallest Type I error rate ($\\alpha$) that you have to be willing to tolerate if you want to reject the null hypothesis.\n",
    "\n",
    "> $p$-value (or probability value) is the probability that the test statistic equals the observed value or a more extreme value under the assumption that the null hypothesis is true. \n",
    "\n",
    "If our p-value is less than or equal to $\\alpha$, then there is enough evidence to reject the null hypothesis.\n",
    "If our p-value is greater than $\\alpha$, there is not enough evidence to reject the null hypothesis."
   ]
  },
  {
   "cell_type": "markdown",
   "id": "af6123e5",
   "metadata": {
    "slideshow": {
     "slide_type": "slide"
    }
   },
   "source": [
    "# Penguins Data\n",
    "\n",
    "|||\n",
    "|---|---|\n",
    "|<img src=\"https://github.com/allisonhorst/palmerpenguins/raw/main/man/figures/lter_penguins.png\" width=\"300px\">|<img src=\"https://github.com/allisonhorst/palmerpenguins/raw/main/man/figures/culmen_depth.png\" width=\"300px\">|\n",
    "\n",
    "[Source](https://github.com/allisonhorst/palmerpenguins)"
   ]
  },
  {
   "cell_type": "code",
   "execution_count": 1,
   "id": "f5a3f5e1",
   "metadata": {
    "slideshow": {
     "slide_type": "subslide"
    }
   },
   "outputs": [
    {
     "data": {
      "text/html": [
       "<div>\n",
       "<style scoped>\n",
       "    .dataframe tbody tr th:only-of-type {\n",
       "        vertical-align: middle;\n",
       "    }\n",
       "\n",
       "    .dataframe tbody tr th {\n",
       "        vertical-align: top;\n",
       "    }\n",
       "\n",
       "    .dataframe thead th {\n",
       "        text-align: right;\n",
       "    }\n",
       "</style>\n",
       "<table border=\"1\" class=\"dataframe\">\n",
       "  <thead>\n",
       "    <tr style=\"text-align: right;\">\n",
       "      <th></th>\n",
       "      <th>species</th>\n",
       "      <th>island</th>\n",
       "      <th>bill_length_mm</th>\n",
       "      <th>bill_depth_mm</th>\n",
       "      <th>flipper_length_mm</th>\n",
       "      <th>body_mass_g</th>\n",
       "      <th>sex</th>\n",
       "    </tr>\n",
       "  </thead>\n",
       "  <tbody>\n",
       "    <tr>\n",
       "      <th>0</th>\n",
       "      <td>Adelie</td>\n",
       "      <td>Torgersen</td>\n",
       "      <td>39.1</td>\n",
       "      <td>18.7</td>\n",
       "      <td>181.0</td>\n",
       "      <td>3750.0</td>\n",
       "      <td>Male</td>\n",
       "    </tr>\n",
       "    <tr>\n",
       "      <th>1</th>\n",
       "      <td>Adelie</td>\n",
       "      <td>Torgersen</td>\n",
       "      <td>39.5</td>\n",
       "      <td>17.4</td>\n",
       "      <td>186.0</td>\n",
       "      <td>3800.0</td>\n",
       "      <td>Female</td>\n",
       "    </tr>\n",
       "    <tr>\n",
       "      <th>2</th>\n",
       "      <td>Adelie</td>\n",
       "      <td>Torgersen</td>\n",
       "      <td>40.3</td>\n",
       "      <td>18.0</td>\n",
       "      <td>195.0</td>\n",
       "      <td>3250.0</td>\n",
       "      <td>Female</td>\n",
       "    </tr>\n",
       "    <tr>\n",
       "      <th>3</th>\n",
       "      <td>Adelie</td>\n",
       "      <td>Torgersen</td>\n",
       "      <td>NaN</td>\n",
       "      <td>NaN</td>\n",
       "      <td>NaN</td>\n",
       "      <td>NaN</td>\n",
       "      <td>NaN</td>\n",
       "    </tr>\n",
       "    <tr>\n",
       "      <th>4</th>\n",
       "      <td>Adelie</td>\n",
       "      <td>Torgersen</td>\n",
       "      <td>36.7</td>\n",
       "      <td>19.3</td>\n",
       "      <td>193.0</td>\n",
       "      <td>3450.0</td>\n",
       "      <td>Female</td>\n",
       "    </tr>\n",
       "    <tr>\n",
       "      <th>...</th>\n",
       "      <td>...</td>\n",
       "      <td>...</td>\n",
       "      <td>...</td>\n",
       "      <td>...</td>\n",
       "      <td>...</td>\n",
       "      <td>...</td>\n",
       "      <td>...</td>\n",
       "    </tr>\n",
       "    <tr>\n",
       "      <th>339</th>\n",
       "      <td>Gentoo</td>\n",
       "      <td>Biscoe</td>\n",
       "      <td>NaN</td>\n",
       "      <td>NaN</td>\n",
       "      <td>NaN</td>\n",
       "      <td>NaN</td>\n",
       "      <td>NaN</td>\n",
       "    </tr>\n",
       "    <tr>\n",
       "      <th>340</th>\n",
       "      <td>Gentoo</td>\n",
       "      <td>Biscoe</td>\n",
       "      <td>46.8</td>\n",
       "      <td>14.3</td>\n",
       "      <td>215.0</td>\n",
       "      <td>4850.0</td>\n",
       "      <td>Female</td>\n",
       "    </tr>\n",
       "    <tr>\n",
       "      <th>341</th>\n",
       "      <td>Gentoo</td>\n",
       "      <td>Biscoe</td>\n",
       "      <td>50.4</td>\n",
       "      <td>15.7</td>\n",
       "      <td>222.0</td>\n",
       "      <td>5750.0</td>\n",
       "      <td>Male</td>\n",
       "    </tr>\n",
       "    <tr>\n",
       "      <th>342</th>\n",
       "      <td>Gentoo</td>\n",
       "      <td>Biscoe</td>\n",
       "      <td>45.2</td>\n",
       "      <td>14.8</td>\n",
       "      <td>212.0</td>\n",
       "      <td>5200.0</td>\n",
       "      <td>Female</td>\n",
       "    </tr>\n",
       "    <tr>\n",
       "      <th>343</th>\n",
       "      <td>Gentoo</td>\n",
       "      <td>Biscoe</td>\n",
       "      <td>49.9</td>\n",
       "      <td>16.1</td>\n",
       "      <td>213.0</td>\n",
       "      <td>5400.0</td>\n",
       "      <td>Male</td>\n",
       "    </tr>\n",
       "  </tbody>\n",
       "</table>\n",
       "<p>344 rows × 7 columns</p>\n",
       "</div>"
      ],
      "text/plain": [
       "    species     island  bill_length_mm  bill_depth_mm  flipper_length_mm  \\\n",
       "0    Adelie  Torgersen            39.1           18.7              181.0   \n",
       "1    Adelie  Torgersen            39.5           17.4              186.0   \n",
       "2    Adelie  Torgersen            40.3           18.0              195.0   \n",
       "3    Adelie  Torgersen             NaN            NaN                NaN   \n",
       "4    Adelie  Torgersen            36.7           19.3              193.0   \n",
       "..      ...        ...             ...            ...                ...   \n",
       "339  Gentoo     Biscoe             NaN            NaN                NaN   \n",
       "340  Gentoo     Biscoe            46.8           14.3              215.0   \n",
       "341  Gentoo     Biscoe            50.4           15.7              222.0   \n",
       "342  Gentoo     Biscoe            45.2           14.8              212.0   \n",
       "343  Gentoo     Biscoe            49.9           16.1              213.0   \n",
       "\n",
       "     body_mass_g     sex  \n",
       "0         3750.0    Male  \n",
       "1         3800.0  Female  \n",
       "2         3250.0  Female  \n",
       "3            NaN     NaN  \n",
       "4         3450.0  Female  \n",
       "..           ...     ...  \n",
       "339          NaN     NaN  \n",
       "340       4850.0  Female  \n",
       "341       5750.0    Male  \n",
       "342       5200.0  Female  \n",
       "343       5400.0    Male  \n",
       "\n",
       "[344 rows x 7 columns]"
      ]
     },
     "execution_count": 1,
     "metadata": {},
     "output_type": "execute_result"
    }
   ],
   "source": [
    "import seaborn as sns\n",
    "penguins = sns.load_dataset(\"penguins\")\n",
    "penguins"
   ]
  },
  {
   "cell_type": "code",
   "execution_count": 2,
   "id": "4c7e8ebf",
   "metadata": {
    "slideshow": {
     "slide_type": "subslide"
    }
   },
   "outputs": [
    {
     "data": {
      "image/png": "[encoded data removed]",
      "text/plain": [
       "<Figure size 288x288 with 14 Axes>"
      ]
     },
     "metadata": {
      "filenames": {
       "image/png": "D:\\gits\\ucsb_geog172\\_build\\jupyter_execute\\lectures\\lecture08_25_0.png"
      },
      "needs_background": "light"
     },
     "output_type": "display_data"
    }
   ],
   "source": [
    "import matplotlib.pyplot as plt\n",
    "g = sns.pairplot(penguins, corner=True, diag_kind='kde')\n",
    "g.fig.set_size_inches(4,4)"
   ]
  },
  {
   "cell_type": "code",
   "execution_count": 3,
   "id": "e5c15a59",
   "metadata": {
    "slideshow": {
     "slide_type": "subslide"
    }
   },
   "outputs": [
    {
     "data": {
      "text/plain": [
       "<AxesSubplot:ylabel='Frequency'>"
      ]
     },
     "execution_count": 3,
     "metadata": {},
     "output_type": "execute_result"
    },
    {
     "data": {
      "image/png": "[encoded data removed]",
      "text/plain": [
       "<Figure size 432x288 with 1 Axes>"
      ]
     },
     "metadata": {
      "filenames": {
       "image/png": "D:\\gits\\ucsb_geog172\\_build\\jupyter_execute\\lectures\\lecture08_26_1.png"
      },
      "needs_background": "light"
     },
     "output_type": "display_data"
    }
   ],
   "source": [
    "penguins.body_mass_g.dropna().plot(kind='hist')"
   ]
  },
  {
   "cell_type": "markdown",
   "id": "827ef6a1",
   "metadata": {
    "slideshow": {
     "slide_type": "slide"
    }
   },
   "source": [
    "# One sample test for penguins \n",
    "\n",
    "* $H_0$: the mean body mass of penguins is 4201 grams\n",
    "* $H_a$: the mean body mass of penguins is not 4201\n",
    "\n",
    "> What kind of t-test is this? "
   ]
  },
  {
   "cell_type": "code",
   "execution_count": 4,
   "id": "7bb76953",
   "metadata": {
    "slideshow": {
     "slide_type": "subslide"
    }
   },
   "outputs": [
    {
     "name": "stdout",
     "output_type": "stream",
     "text": [
      "Ttest_1sampResult(statistic=0.01739630065824133, pvalue=0.9861306342800811)\n",
      "Our p-value is not below alpha, thus we cannot reject the null hypothesis.\n",
      "We do not have enough statistical evidence to reject the null hypothesis.\n",
      "We conclude that there is not enough statistical evidence that indicates that the mean\n",
      " mass of penguins differs from  4201 g.\n"
     ]
    }
   ],
   "source": [
    "from scipy import stats\n",
    "\n",
    "print(stats.ttest_1samp(penguins.body_mass_g.dropna(), popmean=4201))\n",
    "print('Our p-value is not below alpha, thus we cannot reject the null hypothesis.')\n",
    "print(f'We do not have enough statistical evidence to reject the null hypothesis.')\n",
    "print('We conclude that there is not enough statistical evidence that indicates that the mean\\n mass of penguins differs from  4201 g.')"
   ]
  },
  {
   "cell_type": "markdown",
   "id": "9290af98",
   "metadata": {
    "slideshow": {
     "slide_type": "subslide"
    }
   },
   "source": [
    "# One sample test for penguins (v2)\n",
    "\n",
    "* $H_0$: the mean body mass of penguins is 4300 grams\n",
    "* $H_a$: the mean body mass of penguins is less than 4300\n",
    "\n",
    "> What kind of t-test is this? "
   ]
  },
  {
   "cell_type": "code",
   "execution_count": 5,
   "id": "ed75a73d",
   "metadata": {
    "slideshow": {
     "slide_type": "subslide"
    }
   },
   "outputs": [
    {
     "name": "stdout",
     "output_type": "stream",
     "text": [
      "Ttest_1sampResult(statistic=-2.265564736887436, pvalue=0.012052359189978712)\n",
      "Our p-value is below **alpha**, thus we cannot accept the null hypothesis.\n",
      "We do not have enough statistical evidence to accept the null hypothesis.\n",
      "We conclude that there is enough statistical evidence that indicates that the mean\n",
      " mass of penguins is less than 4300 g.\n"
     ]
    }
   ],
   "source": [
    "from scipy import stats\n",
    "\n",
    "print(stats.ttest_1samp(penguins.body_mass_g.dropna(), popmean=4300, alternative='less'))\n",
    "print('Our p-value is below **alpha**, thus we cannot accept the null hypothesis.')\n",
    "print(f'We do not have enough statistical evidence to accept the null hypothesis.')\n",
    "print('We conclude that there is enough statistical evidence that indicates that the mean\\n mass of penguins is less than 4300 g.')"
   ]
  },
  {
   "cell_type": "markdown",
   "id": "5a885f2e",
   "metadata": {
    "slideshow": {
     "slide_type": "slide"
    }
   },
   "source": [
    "# Independent Samples t-Test\n",
    "\n",
    "* Let's assume that our *penguins* data is a combination of two independent samples: one for male penguins and another for female penguins. \n",
    "* We can use a $t$-test to compare the means between the groups and state whether those are statistically different from one another. \n",
    "* Be a good data scientist and check normality assumptions on the data sample. \n",
    "\n",
    "> BIG QUESTION: Does flipper length vary depending on the sex of the penguin? "
   ]
  },
  {
   "cell_type": "code",
   "execution_count": 6,
   "id": "2d0f67f5",
   "metadata": {
    "slideshow": {
     "slide_type": "subslide"
    }
   },
   "outputs": [
    {
     "data": {
      "image/png": "[encoded data removed]",
      "text/plain": [
       "<Figure size 360x288 with 1 Axes>"
      ]
     },
     "metadata": {
      "filenames": {
       "image/png": "D:\\gits\\ucsb_geog172\\_build\\jupyter_execute\\lectures\\lecture08_32_0.png"
      },
      "needs_background": "light"
     },
     "output_type": "display_data"
    }
   ],
   "source": [
    "# QQPLOT \n",
    "import pingouin as pg\n",
    "ax = pg.qqplot(penguins.flipper_length_mm, dist='norm')"
   ]
  },
  {
   "cell_type": "code",
   "execution_count": 7,
   "id": "59b48922",
   "metadata": {
    "slideshow": {
     "slide_type": "subslide"
    }
   },
   "outputs": [
    {
     "data": {
      "text/plain": [
       "ShapiroResult(statistic=0.9515451788902283, pvalue=3.540273851854181e-09)"
      ]
     },
     "execution_count": 7,
     "metadata": {},
     "output_type": "execute_result"
    }
   ],
   "source": [
    "# Shapiro-Wilk test\n",
    "from scipy.stats import shapiro\n",
    "shapiro(penguins.flipper_length_mm.dropna()) # p-val<0.05 - departure from normality"
   ]
  },
  {
   "cell_type": "markdown",
   "id": "d81bc153",
   "metadata": {
    "slideshow": {
     "slide_type": "subslide"
    }
   },
   "source": [
    "# Our data is not normal, but we will still proceed with the outlined tests to demonstrate Python functionality. \n",
    "\n",
    "## We will see later what tests to use when we see non-normal data "
   ]
  },
  {
   "cell_type": "code",
   "execution_count": 8,
   "id": "533a9f0c",
   "metadata": {
    "slideshow": {
     "slide_type": "subslide"
    }
   },
   "outputs": [
    {
     "data": {
      "image/png": "[encoded data removed]",
      "text/plain": [
       "<Figure size 432x288 with 1 Axes>"
      ]
     },
     "metadata": {
      "filenames": {
       "image/png": "D:\\gits\\ucsb_geog172\\_build\\jupyter_execute\\lectures\\lecture08_35_0.png"
      },
      "needs_background": "light"
     },
     "output_type": "display_data"
    }
   ],
   "source": [
    "# visualize difference with a plot\n",
    "sns.pointplot(x = 'sex', y = 'flipper_length_mm', data = penguins)\n",
    "sns.despine()"
   ]
  },
  {
   "cell_type": "markdown",
   "id": "a8eb63f2",
   "metadata": {
    "slideshow": {
     "slide_type": "slide"
    }
   },
   "source": [
    "# Comparing means between independendent samples \n",
    "\n",
    "> **SAMPLES ARE NOT PAIRED AND NOT RELATED IN ANY WAY TO ANOTHER!**\n",
    "\n",
    "Pooled standard deviation: \n",
    "\n",
    "$$\n",
    "s_p = \\sqrt{\\frac{(n_1-1)s_1^2 + (n_2-1)s_2^2}{n1+n2-2}}\n",
    "$$"
   ]
  },
  {
   "cell_type": "markdown",
   "id": "5201facb",
   "metadata": {
    "slideshow": {
     "slide_type": "subslide"
    }
   },
   "source": [
    "### Sample stastistic (Unpooled Variance)\n",
    "\n",
    "$$\n",
    "t = \\frac{\\bar{x_1} - \\bar{x_2} - 0}{s_p \\sqrt{\\frac{1}{n_1} + \\frac{1}{n_2}}}\n",
    "$$\n",
    "\n",
    "### Confidence intervals\n",
    "\n",
    "$$\n",
    "\\bar{x}_1-\\bar{x}_2\\pm t_{\\alpha/2}s_p\\sqrt{\\frac{1}{n_1}+\\frac{1}{n_2}}\n",
    "$$"
   ]
  },
  {
   "cell_type": "markdown",
   "id": "26f0733d",
   "metadata": {
    "slideshow": {
     "slide_type": "subslide"
    }
   },
   "source": [
    "# Hypothesis tests \n",
    "\n",
    "* $H_0$: $\\mu_1 - \\mu_2 = 0$; $H_a$: $\\mu_1 - \\mu_2 \\neq 0$, with $df=n_1+n_2 - 2$ "
   ]
  },
  {
   "cell_type": "code",
   "execution_count": 9,
   "id": "b6e37b3c",
   "metadata": {},
   "outputs": [
    {
     "data": {
      "text/html": [
       "<div>\n",
       "<style scoped>\n",
       "    .dataframe tbody tr th:only-of-type {\n",
       "        vertical-align: middle;\n",
       "    }\n",
       "\n",
       "    .dataframe tbody tr th {\n",
       "        vertical-align: top;\n",
       "    }\n",
       "\n",
       "    .dataframe thead th {\n",
       "        text-align: right;\n",
       "    }\n",
       "</style>\n",
       "<table border=\"1\" class=\"dataframe\">\n",
       "  <thead>\n",
       "    <tr style=\"text-align: right;\">\n",
       "      <th></th>\n",
       "      <th>species</th>\n",
       "      <th>island</th>\n",
       "      <th>bill_length_mm</th>\n",
       "      <th>bill_depth_mm</th>\n",
       "      <th>flipper_length_mm</th>\n",
       "      <th>body_mass_g</th>\n",
       "      <th>sex</th>\n",
       "    </tr>\n",
       "  </thead>\n",
       "  <tbody>\n",
       "    <tr>\n",
       "      <th>0</th>\n",
       "      <td>Adelie</td>\n",
       "      <td>Torgersen</td>\n",
       "      <td>39.1</td>\n",
       "      <td>18.7</td>\n",
       "      <td>181.0</td>\n",
       "      <td>3750.0</td>\n",
       "      <td>Male</td>\n",
       "    </tr>\n",
       "    <tr>\n",
       "      <th>1</th>\n",
       "      <td>Adelie</td>\n",
       "      <td>Torgersen</td>\n",
       "      <td>39.5</td>\n",
       "      <td>17.4</td>\n",
       "      <td>186.0</td>\n",
       "      <td>3800.0</td>\n",
       "      <td>Female</td>\n",
       "    </tr>\n",
       "    <tr>\n",
       "      <th>2</th>\n",
       "      <td>Adelie</td>\n",
       "      <td>Torgersen</td>\n",
       "      <td>40.3</td>\n",
       "      <td>18.0</td>\n",
       "      <td>195.0</td>\n",
       "      <td>3250.0</td>\n",
       "      <td>Female</td>\n",
       "    </tr>\n",
       "    <tr>\n",
       "      <th>3</th>\n",
       "      <td>Adelie</td>\n",
       "      <td>Torgersen</td>\n",
       "      <td>NaN</td>\n",
       "      <td>NaN</td>\n",
       "      <td>NaN</td>\n",
       "      <td>NaN</td>\n",
       "      <td>NaN</td>\n",
       "    </tr>\n",
       "    <tr>\n",
       "      <th>4</th>\n",
       "      <td>Adelie</td>\n",
       "      <td>Torgersen</td>\n",
       "      <td>36.7</td>\n",
       "      <td>19.3</td>\n",
       "      <td>193.0</td>\n",
       "      <td>3450.0</td>\n",
       "      <td>Female</td>\n",
       "    </tr>\n",
       "    <tr>\n",
       "      <th>...</th>\n",
       "      <td>...</td>\n",
       "      <td>...</td>\n",
       "      <td>...</td>\n",
       "      <td>...</td>\n",
       "      <td>...</td>\n",
       "      <td>...</td>\n",
       "      <td>...</td>\n",
       "    </tr>\n",
       "    <tr>\n",
       "      <th>339</th>\n",
       "      <td>Gentoo</td>\n",
       "      <td>Biscoe</td>\n",
       "      <td>NaN</td>\n",
       "      <td>NaN</td>\n",
       "      <td>NaN</td>\n",
       "      <td>NaN</td>\n",
       "      <td>NaN</td>\n",
       "    </tr>\n",
       "    <tr>\n",
       "      <th>340</th>\n",
       "      <td>Gentoo</td>\n",
       "      <td>Biscoe</td>\n",
       "      <td>46.8</td>\n",
       "      <td>14.3</td>\n",
       "      <td>215.0</td>\n",
       "      <td>4850.0</td>\n",
       "      <td>Female</td>\n",
       "    </tr>\n",
       "    <tr>\n",
       "      <th>341</th>\n",
       "      <td>Gentoo</td>\n",
       "      <td>Biscoe</td>\n",
       "      <td>50.4</td>\n",
       "      <td>15.7</td>\n",
       "      <td>222.0</td>\n",
       "      <td>5750.0</td>\n",
       "      <td>Male</td>\n",
       "    </tr>\n",
       "    <tr>\n",
       "      <th>342</th>\n",
       "      <td>Gentoo</td>\n",
       "      <td>Biscoe</td>\n",
       "      <td>45.2</td>\n",
       "      <td>14.8</td>\n",
       "      <td>212.0</td>\n",
       "      <td>5200.0</td>\n",
       "      <td>Female</td>\n",
       "    </tr>\n",
       "    <tr>\n",
       "      <th>343</th>\n",
       "      <td>Gentoo</td>\n",
       "      <td>Biscoe</td>\n",
       "      <td>49.9</td>\n",
       "      <td>16.1</td>\n",
       "      <td>213.0</td>\n",
       "      <td>5400.0</td>\n",
       "      <td>Male</td>\n",
       "    </tr>\n",
       "  </tbody>\n",
       "</table>\n",
       "<p>344 rows × 7 columns</p>\n",
       "</div>"
      ],
      "text/plain": [
       "    species     island  bill_length_mm  bill_depth_mm  flipper_length_mm  \\\n",
       "0    Adelie  Torgersen            39.1           18.7              181.0   \n",
       "1    Adelie  Torgersen            39.5           17.4              186.0   \n",
       "2    Adelie  Torgersen            40.3           18.0              195.0   \n",
       "3    Adelie  Torgersen             NaN            NaN                NaN   \n",
       "4    Adelie  Torgersen            36.7           19.3              193.0   \n",
       "..      ...        ...             ...            ...                ...   \n",
       "339  Gentoo     Biscoe             NaN            NaN                NaN   \n",
       "340  Gentoo     Biscoe            46.8           14.3              215.0   \n",
       "341  Gentoo     Biscoe            50.4           15.7              222.0   \n",
       "342  Gentoo     Biscoe            45.2           14.8              212.0   \n",
       "343  Gentoo     Biscoe            49.9           16.1              213.0   \n",
       "\n",
       "     body_mass_g     sex  \n",
       "0         3750.0    Male  \n",
       "1         3800.0  Female  \n",
       "2         3250.0  Female  \n",
       "3            NaN     NaN  \n",
       "4         3450.0  Female  \n",
       "..           ...     ...  \n",
       "339          NaN     NaN  \n",
       "340       4850.0  Female  \n",
       "341       5750.0    Male  \n",
       "342       5200.0  Female  \n",
       "343       5400.0    Male  \n",
       "\n",
       "[344 rows x 7 columns]"
      ]
     },
     "execution_count": 9,
     "metadata": {},
     "output_type": "execute_result"
    }
   ],
   "source": [
    "penguins"
   ]
  },
  {
   "cell_type": "code",
   "execution_count": 10,
   "id": "775a22f6",
   "metadata": {
    "slideshow": {
     "slide_type": "subslide"
    }
   },
   "outputs": [
    {
     "name": "stdout",
     "output_type": "stream",
     "text": [
      "(0,) (0,)\n"
     ]
    },
    {
     "ename": "AssertionError",
     "evalue": "y cannot be an empty list or array.",
     "output_type": "error",
     "traceback": [
      "\u001b[1;31m---------------------------------------------------------------------------\u001b[0m",
      "\u001b[1;31mAssertionError\u001b[0m                            Traceback (most recent call last)",
      "Input \u001b[1;32mIn [10]\u001b[0m, in \u001b[0;36m<cell line: 6>\u001b[1;34m()\u001b[0m\n\u001b[0;32m      4\u001b[0m females \u001b[38;5;241m=\u001b[39m penguins\u001b[38;5;241m.\u001b[39mloc[penguins\u001b[38;5;241m.\u001b[39msex\u001b[38;5;241m==\u001b[39m\u001b[38;5;124m'\u001b[39m\u001b[38;5;124mFEMALE\u001b[39m\u001b[38;5;124m'\u001b[39m, \u001b[38;5;124m'\u001b[39m\u001b[38;5;124mflipper_length_mm\u001b[39m\u001b[38;5;124m'\u001b[39m] \n\u001b[0;32m      5\u001b[0m \u001b[38;5;28mprint\u001b[39m(males\u001b[38;5;241m.\u001b[39mshape, females\u001b[38;5;241m.\u001b[39mshape)\n\u001b[1;32m----> 6\u001b[0m \u001b[43mttest\u001b[49m\u001b[43m(\u001b[49m\u001b[43mmales\u001b[49m\u001b[43m,\u001b[49m\u001b[43m \u001b[49m\u001b[43mfemales\u001b[49m\u001b[43m)\u001b[49m\n",
      "File \u001b[1;32m~\\anaconda3\\envs\\geo_env\\lib\\site-packages\\pingouin\\parametric.py:231\u001b[0m, in \u001b[0;36mttest\u001b[1;34m(x, y, paired, alternative, correction, r, confidence)\u001b[0m\n\u001b[0;32m    228\u001b[0m     paired \u001b[38;5;241m=\u001b[39m \u001b[38;5;28;01mFalse\u001b[39;00m\n\u001b[0;32m    230\u001b[0m \u001b[38;5;66;03m# Remove rows with missing values\u001b[39;00m\n\u001b[1;32m--> 231\u001b[0m x, y \u001b[38;5;241m=\u001b[39m \u001b[43mremove_na\u001b[49m\u001b[43m(\u001b[49m\u001b[43mx\u001b[49m\u001b[43m,\u001b[49m\u001b[43m \u001b[49m\u001b[43my\u001b[49m\u001b[43m,\u001b[49m\u001b[43m \u001b[49m\u001b[43mpaired\u001b[49m\u001b[38;5;241;43m=\u001b[39;49m\u001b[43mpaired\u001b[49m\u001b[43m)\u001b[49m\n\u001b[0;32m    232\u001b[0m nx, ny \u001b[38;5;241m=\u001b[39m x\u001b[38;5;241m.\u001b[39msize, y\u001b[38;5;241m.\u001b[39msize\n\u001b[0;32m    234\u001b[0m \u001b[38;5;28;01mif\u001b[39;00m ny \u001b[38;5;241m==\u001b[39m \u001b[38;5;241m1\u001b[39m:\n\u001b[0;32m    235\u001b[0m     \u001b[38;5;66;03m# Case one sample T-test\u001b[39;00m\n",
      "File \u001b[1;32m~\\anaconda3\\envs\\geo_env\\lib\\site-packages\\pingouin\\utils.py:236\u001b[0m, in \u001b[0;36mremove_na\u001b[1;34m(x, y, paired, axis)\u001b[0m\n\u001b[0;32m    234\u001b[0m \u001b[38;5;28;01melse\u001b[39;00m:  \u001b[38;5;66;03m# y is list, np.array, pd.Series\u001b[39;00m\n\u001b[0;32m    235\u001b[0m     y \u001b[38;5;241m=\u001b[39m np\u001b[38;5;241m.\u001b[39masarray(y)\n\u001b[1;32m--> 236\u001b[0m     \u001b[38;5;28;01massert\u001b[39;00m y\u001b[38;5;241m.\u001b[39msize \u001b[38;5;241m!=\u001b[39m \u001b[38;5;241m0\u001b[39m, \u001b[38;5;124m\"\u001b[39m\u001b[38;5;124my cannot be an empty list or array.\u001b[39m\u001b[38;5;124m\"\u001b[39m\n\u001b[0;32m    237\u001b[0m     \u001b[38;5;66;03m# Make sure that we just pass-through if y have only 1 element\u001b[39;00m\n\u001b[0;32m    238\u001b[0m     \u001b[38;5;28;01mif\u001b[39;00m y\u001b[38;5;241m.\u001b[39msize \u001b[38;5;241m==\u001b[39m \u001b[38;5;241m1\u001b[39m:\n",
      "\u001b[1;31mAssertionError\u001b[0m: y cannot be an empty list or array."
     ]
    }
   ],
   "source": [
    "from pingouin import ttest, mwu\n",
    "penguins.dropna(inplace=True) # drop null values \n",
    "males = penguins.loc[penguins.sex=='MALE', 'flipper_length_mm']\n",
    "females = penguins.loc[penguins.sex=='FEMALE', 'flipper_length_mm'] \n",
    "print(males.shape, females.shape)\n",
    "ttest(males, females) "
   ]
  },
  {
   "cell_type": "code",
   "execution_count": 14,
   "id": "c4588467",
   "metadata": {
    "slideshow": {
     "slide_type": "subslide"
    }
   },
   "outputs": [
    {
     "data": {
      "text/html": [
       "<div>\n",
       "<style scoped>\n",
       "    .dataframe tbody tr th:only-of-type {\n",
       "        vertical-align: middle;\n",
       "    }\n",
       "\n",
       "    .dataframe tbody tr th {\n",
       "        vertical-align: top;\n",
       "    }\n",
       "\n",
       "    .dataframe thead th {\n",
       "        text-align: right;\n",
       "    }\n",
       "</style>\n",
       "<table border=\"1\" class=\"dataframe\">\n",
       "  <thead>\n",
       "    <tr style=\"text-align: right;\">\n",
       "      <th></th>\n",
       "      <th>U-val</th>\n",
       "      <th>alternative</th>\n",
       "      <th>p-val</th>\n",
       "      <th>RBC</th>\n",
       "      <th>CLES</th>\n",
       "    </tr>\n",
       "  </thead>\n",
       "  <tbody>\n",
       "    <tr>\n",
       "      <th>MWU</th>\n",
       "      <td>18173.0</td>\n",
       "      <td>two-sided</td>\n",
       "      <td>9.011341e-07</td>\n",
       "      <td>-0.311183</td>\n",
       "      <td>0.655592</td>\n",
       "    </tr>\n",
       "  </tbody>\n",
       "</table>\n",
       "</div>"
      ],
      "text/plain": [
       "       U-val alternative         p-val       RBC      CLES\n",
       "MWU  18173.0   two-sided  9.011341e-07 -0.311183  0.655592"
      ]
     },
     "execution_count": 14,
     "metadata": {},
     "output_type": "execute_result"
    }
   ],
   "source": [
    "# use Mann-Whitney non-parametric test (to account for non-normal data)\n",
    "mwu(males, females, alternative='two-sided')"
   ]
  },
  {
   "cell_type": "markdown",
   "id": "e3bf1b65",
   "metadata": {
    "slideshow": {
     "slide_type": "subslide"
    }
   },
   "source": [
    "# Interpreting \n",
    "\n",
    "##### With a $p$-value of 9.011e-07 we have enough evidence to reject null hypothesis. The average flipper length between male and female penguins is different. "
   ]
  },
  {
   "cell_type": "markdown",
   "id": "4e862505",
   "metadata": {
    "slideshow": {
     "slide_type": "slide"
    }
   },
   "source": [
    "# Comparing two population variances \n",
    "\n",
    "* $H_0$: $\\frac{\\sigma_1^2}{\\sigma_2^2}=1$; $H_a$: $\\frac{\\sigma_1^2}{\\sigma_2^2} \\neq 1$\n",
    "* F-test: assumes two samples come from populations that are normally distributed \n",
    "* Bartlett's test\n",
    "* Levene's test"
   ]
  },
  {
   "cell_type": "code",
   "execution_count": 15,
   "id": "058312c9",
   "metadata": {
    "slideshow": {
     "slide_type": "subslide"
    }
   },
   "outputs": [
    {
     "name": "stdout",
     "output_type": "stream",
     "text": [
      "the p-value: 0.05197230787956047\n",
      "populations have equal variances at alpha=0.05\n"
     ]
    }
   ],
   "source": [
    "from scipy.stats import bartlett\n",
    "stat, p = bartlett(males, females)\n",
    "print(f'the p-value: {p}')\n",
    "print('populations have equal variances at alpha=0.05')"
   ]
  },
  {
   "cell_type": "markdown",
   "id": "9ff9196c",
   "metadata": {
    "slideshow": {
     "slide_type": "slide"
    }
   },
   "source": [
    "# ANOVA \n",
    "\n",
    "> Analysis of Variance "
   ]
  },
  {
   "cell_type": "markdown",
   "id": "396e9b87",
   "metadata": {
    "slideshow": {
     "slide_type": "subslide"
    }
   },
   "source": [
    "# Hypothesis Testing \n",
    "\n",
    "* We are ONCE AGAIN comparing **MEANS** from $t$ different samples\n",
    "* $H_0$: $\\mu_1 = \\mu_2 = ... = \\mu_k$ \n",
    "* at least one mean is different OR not all the means are equal "
   ]
  },
  {
   "cell_type": "markdown",
   "id": "85a5b882",
   "metadata": {
    "slideshow": {
     "slide_type": "subslide"
    }
   },
   "source": [
    "# Test statistic for a One-Way ANOVA \n",
    "\n",
    "$$\n",
    "F = \\frac{\\text{between group variance}}{\\text{within group variance}} = \\frac{MS_{\\text{effect}}}{MS_{\\text{error}}}\n",
    "$$\n",
    "\n",
    "Under the null, the $F$ should be close to 1, if the ratio is large, we have evidence against teh null. "
   ]
  },
  {
   "cell_type": "markdown",
   "id": "b44b54de",
   "metadata": {
    "slideshow": {
     "slide_type": "subslide"
    }
   },
   "source": [
    "# Variance \n",
    "\n",
    "$$\n",
    "\\mbox{Var}(Y) = \\frac{1}{N} \\sum_{k=1}^G \\sum_{i=1}^{N_k} \\left(Y_{ik} - \\bar{Y} \\right)^2\n",
    "$$\n",
    "\n",
    "where $G$ is the number of groups, $N$ is the number of observations (penguins), Y_{ik} is the total body mass of k-group (species) of an $i$th individual"
   ]
  },
  {
   "cell_type": "markdown",
   "id": "c9199deb",
   "metadata": {
    "slideshow": {
     "slide_type": "subslide"
    }
   },
   "source": [
    "# Sum of Squares \n",
    "\n",
    "$$\n",
    "\\mbox{SS}_{tot} = \\sum_{k=1}^G \\sum_{i=1}^{N_k} \\left(Y_{ik} - \\bar{Y} \\right)^2 \\quad \\text{- total sum of squares}\n",
    "$$\n",
    "\n",
    "$$\n",
    "\\mbox{SS}_w = \\sum_{k=1}^G \\sum_{i=1}^{N_k} \\left( Y_{ik} - \\bar{Y}_k \\right)^2 \\quad \\text{- within-group SS}\n",
    "$$\n",
    "\n",
    "$$\n",
    "{SS}_{b} = \\sum_{k=1}^{G} \\sum_{k=1}^G N_k \\left( \\bar{Y}_k - \\bar{Y} \\right)^2\n",
    "$$"
   ]
  },
  {
   "cell_type": "markdown",
   "id": "05a54cb7",
   "metadata": {
    "slideshow": {
     "slide_type": "subslide"
    }
   },
   "source": [
    "$$\n",
    "\\mbox{SS}_w  + \\mbox{SS}_{b} = \\mbox{SS}_{tot}\n",
    "$$\n",
    "\n",
    "<img src=\"https://ethanweed.github.io/pythonbook/_images/05.03-anova_19_1.png\">"
   ]
  },
  {
   "cell_type": "markdown",
   "id": "9c517605",
   "metadata": {
    "slideshow": {
     "slide_type": "subslide"
    }
   },
   "source": [
    "# From SS to an F-test\n",
    "\n",
    "* $df_b = G-1$, $df_w = N-G$\n",
    "* $MS_b = \\frac{SS_b}{df_b}$, $MS_w = \\frac{SS_w}{df_w}$\n",
    "* $F=\\frac{MS_b}{MS_w}$"
   ]
  },
  {
   "cell_type": "markdown",
   "id": "5b46b2e4",
   "metadata": {
    "slideshow": {
     "slide_type": "subslide"
    }
   },
   "source": [
    "# ANOVA assumptions \n",
    "\n",
    "* Responses for each factor level have normal population distribution \n",
    "* the distributions have the same variance \n",
    "* **the data are independent**!"
   ]
  },
  {
   "cell_type": "code",
   "execution_count": 16,
   "id": "9a20a463",
   "metadata": {
    "slideshow": {
     "slide_type": "subslide"
    }
   },
   "outputs": [
    {
     "data": {
      "text/html": [
       "<div>\n",
       "<style scoped>\n",
       "    .dataframe tbody tr th:only-of-type {\n",
       "        vertical-align: middle;\n",
       "    }\n",
       "\n",
       "    .dataframe tbody tr th {\n",
       "        vertical-align: top;\n",
       "    }\n",
       "\n",
       "    .dataframe thead th {\n",
       "        text-align: right;\n",
       "    }\n",
       "</style>\n",
       "<table border=\"1\" class=\"dataframe\">\n",
       "  <thead>\n",
       "    <tr style=\"text-align: right;\">\n",
       "      <th></th>\n",
       "      <th>mean</th>\n",
       "      <th>std</th>\n",
       "      <th>size</th>\n",
       "    </tr>\n",
       "    <tr>\n",
       "      <th>species</th>\n",
       "      <th></th>\n",
       "      <th></th>\n",
       "      <th></th>\n",
       "    </tr>\n",
       "  </thead>\n",
       "  <tbody>\n",
       "    <tr>\n",
       "      <th>Adelie</th>\n",
       "      <td>3706.164384</td>\n",
       "      <td>458.620135</td>\n",
       "      <td>146</td>\n",
       "    </tr>\n",
       "    <tr>\n",
       "      <th>Chinstrap</th>\n",
       "      <td>3733.088235</td>\n",
       "      <td>384.335081</td>\n",
       "      <td>68</td>\n",
       "    </tr>\n",
       "    <tr>\n",
       "      <th>Gentoo</th>\n",
       "      <td>5092.436975</td>\n",
       "      <td>501.476154</td>\n",
       "      <td>119</td>\n",
       "    </tr>\n",
       "  </tbody>\n",
       "</table>\n",
       "</div>"
      ],
      "text/plain": [
       "                  mean         std  size\n",
       "species                                 \n",
       "Adelie     3706.164384  458.620135   146\n",
       "Chinstrap  3733.088235  384.335081    68\n",
       "Gentoo     5092.436975  501.476154   119"
      ]
     },
     "execution_count": 16,
     "metadata": {},
     "output_type": "execute_result"
    }
   ],
   "source": [
    "penguins.groupby('species')['body_mass_g'].agg(['mean', 'std', 'size'])"
   ]
  },
  {
   "cell_type": "code",
   "execution_count": 17,
   "id": "5f55f89e",
   "metadata": {
    "slideshow": {
     "slide_type": "subslide"
    }
   },
   "outputs": [
    {
     "data": {
      "text/plain": [
       "<AxesSubplot: xlabel='species', ylabel='body_mass_g'>"
      ]
     },
     "execution_count": 17,
     "metadata": {},
     "output_type": "execute_result"
    },
    {
     "data": {
      "image/png": "[encoded data removed]",
      "text/plain": [
       "<Figure size 640x480 with 1 Axes>"
      ]
     },
     "metadata": {
      "filenames": {
       "image/png": "D:\\gits\\ucsb_geog172\\_build\\jupyter_execute\\lectures\\lecture08_54_1.png"
      }
     },
     "output_type": "display_data"
    }
   ],
   "source": [
    "sns.boxplot(data=penguins, x='species', y='body_mass_g', hue='sex')"
   ]
  },
  {
   "cell_type": "code",
   "execution_count": 18,
   "id": "29800dff",
   "metadata": {
    "slideshow": {
     "slide_type": "subslide"
    }
   },
   "outputs": [
    {
     "name": "stderr",
     "output_type": "stream",
     "text": [
      "C:\\Users\\barguzin\\Anaconda3\\envs\\geo_env\\lib\\site-packages\\pingouin\\parametric.py:992: FutureWarning: Not prepending group keys to the result index of transform-like apply. In the future, the group keys will be included in the index, regardless of whether the applied function returns a like-indexed object.\n",
      "To preserve the previous behavior, use\n",
      "\n",
      "\t>>> .groupby(..., group_keys=False)\n",
      "\n",
      "To adopt the future behavior and silence this warning, use \n",
      "\n",
      "\t>>> .groupby(..., group_keys=True)\n",
      "  sserror = grp.apply(lambda x: (x - x.mean()) ** 2).sum()\n"
     ]
    },
    {
     "data": {
      "text/html": [
       "<div>\n",
       "<style scoped>\n",
       "    .dataframe tbody tr th:only-of-type {\n",
       "        vertical-align: middle;\n",
       "    }\n",
       "\n",
       "    .dataframe tbody tr th {\n",
       "        vertical-align: top;\n",
       "    }\n",
       "\n",
       "    .dataframe thead th {\n",
       "        text-align: right;\n",
       "    }\n",
       "</style>\n",
       "<table border=\"1\" class=\"dataframe\">\n",
       "  <thead>\n",
       "    <tr style=\"text-align: right;\">\n",
       "      <th></th>\n",
       "      <th>Source</th>\n",
       "      <th>ddof1</th>\n",
       "      <th>ddof2</th>\n",
       "      <th>F</th>\n",
       "      <th>p-unc</th>\n",
       "      <th>np2</th>\n",
       "    </tr>\n",
       "  </thead>\n",
       "  <tbody>\n",
       "    <tr>\n",
       "      <th>0</th>\n",
       "      <td>species</td>\n",
       "      <td>2</td>\n",
       "      <td>330</td>\n",
       "      <td>341.894895</td>\n",
       "      <td>3.744505e-81</td>\n",
       "      <td>0.674489</td>\n",
       "    </tr>\n",
       "  </tbody>\n",
       "</table>\n",
       "</div>"
      ],
      "text/plain": [
       "    Source  ddof1  ddof2           F         p-unc       np2\n",
       "0  species      2    330  341.894895  3.744505e-81  0.674489"
      ]
     },
     "execution_count": 18,
     "metadata": {},
     "output_type": "execute_result"
    }
   ],
   "source": [
    "#ANOVA \n",
    "import pingouin as pg\n",
    "penguins.anova(dv='body_mass_g', between='species', detailed=False)"
   ]
  },
  {
   "cell_type": "code",
   "execution_count": 19,
   "id": "512a4fcb",
   "metadata": {
    "slideshow": {
     "slide_type": "subslide"
    }
   },
   "outputs": [
    {
     "name": "stdout",
     "output_type": "stream",
     "text": [
      "341.8948949481461 3.74450512630046e-81\n"
     ]
    }
   ],
   "source": [
    "# ANOVA VIA SCIPY \n",
    "import scipy.stats as stats\n",
    "# stats f_oneway functions takes the groups as input and returns ANOVA F and p value\n",
    "fvalue, pvalue = stats.f_oneway(penguins.loc[penguins.species=='Adelie', 'body_mass_g'], \n",
    "                                penguins.loc[penguins.species=='Chinstrap', 'body_mass_g'], \n",
    "                                penguins.loc[penguins.species=='Gentoo', 'body_mass_g'])\n",
    "print(fvalue, pvalue)"
   ]
  },
  {
   "cell_type": "code",
   "execution_count": 20,
   "id": "4caa3598",
   "metadata": {
    "slideshow": {
     "slide_type": "subslide"
    }
   },
   "outputs": [
    {
     "data": {
      "text/html": [
       "<div>\n",
       "<style scoped>\n",
       "    .dataframe tbody tr th:only-of-type {\n",
       "        vertical-align: middle;\n",
       "    }\n",
       "\n",
       "    .dataframe tbody tr th {\n",
       "        vertical-align: top;\n",
       "    }\n",
       "\n",
       "    .dataframe thead th {\n",
       "        text-align: right;\n",
       "    }\n",
       "</style>\n",
       "<table border=\"1\" class=\"dataframe\">\n",
       "  <thead>\n",
       "    <tr style=\"text-align: right;\">\n",
       "      <th></th>\n",
       "      <th>sum_sq</th>\n",
       "      <th>df</th>\n",
       "      <th>F</th>\n",
       "      <th>PR(&gt;F)</th>\n",
       "    </tr>\n",
       "  </thead>\n",
       "  <tbody>\n",
       "    <tr>\n",
       "      <th>C(species)</th>\n",
       "      <td>1.451902e+08</td>\n",
       "      <td>2.0</td>\n",
       "      <td>341.894895</td>\n",
       "      <td>3.744505e-81</td>\n",
       "    </tr>\n",
       "    <tr>\n",
       "      <th>Residual</th>\n",
       "      <td>7.006945e+07</td>\n",
       "      <td>330.0</td>\n",
       "      <td>NaN</td>\n",
       "      <td>NaN</td>\n",
       "    </tr>\n",
       "  </tbody>\n",
       "</table>\n",
       "</div>"
      ],
      "text/plain": [
       "                  sum_sq     df           F        PR(>F)\n",
       "C(species)  1.451902e+08    2.0  341.894895  3.744505e-81\n",
       "Residual    7.006945e+07  330.0         NaN           NaN"
      ]
     },
     "execution_count": 20,
     "metadata": {},
     "output_type": "execute_result"
    }
   ],
   "source": [
    "import statsmodels.api as sm\n",
    "from statsmodels.formula.api import ols\n",
    "\n",
    "model = ols('body_mass_g ~ C(species)', data=penguins).fit()\n",
    "anova_table = sm.stats.anova_lm(model, typ=2)\n",
    "anova_table"
   ]
  },
  {
   "cell_type": "markdown",
   "id": "c5d57020",
   "metadata": {
    "slideshow": {
     "slide_type": "slide"
    }
   },
   "source": [
    "# Questions? "
   ]
  },
  {
   "cell_type": "markdown",
   "id": "6ac96a07",
   "metadata": {
    "slideshow": {
     "slide_type": "slide"
    }
   },
   "source": [
    "# References\n",
    "\n",
    "[Banerjee, A., Chitnis, U. B., Jadhav, S. L., Bhawalkar, J. S., & Chaudhury, S. (2009). Hypothesis testing, type I and type II errors. Industrial psychiatry journal, 18(2), 127.](https://www.ncbi.nlm.nih.gov/pmc/articles/PMC2996198/)\n",
    "\n",
    "\n",
    "[Rogerson, P. A. (2019). Statistical methods for geography: a student’s guide. Sage.](https://search.library.ucsb.edu/permalink/01UCSB_INST/1aqck9j/alma990022376840203776) \n",
    "\n",
    "[Penn State STAT 500: Applied Statistics Course Materials](https://online.stat.psu.edu/stat500/)\n",
    "\n",
    "[Learning Statistics with Python](https://ethanweed.github.io/pythonbook/landingpage.html)"
   ]
  }
 ],
 "metadata": {
  "celltoolbar": "Slideshow",
  "kernelspec": {
   "display_name": "Python (geo_env)",
   "language": "python",
   "name": "geo_env"
  },
  "language_info": {
   "codemirror_mode": {
    "name": "ipython",
    "version": 3
   },
   "file_extension": ".py",
   "mimetype": "text/x-python",
   "name": "python",
   "nbconvert_exporter": "python",
   "pygments_lexer": "ipython3",
   "version": "3.10.5"
  }
 },
 "nbformat": 4,
 "nbformat_minor": 5
}