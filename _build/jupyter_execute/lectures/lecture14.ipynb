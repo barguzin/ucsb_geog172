{
 "cells": [
  {
   "cell_type": "markdown",
   "id": "46a0db3e",
   "metadata": {
    "slideshow": {
     "slide_type": "slide"
    }
   },
   "source": [
    "<h1> <center> GEOG 172: INTERMEDIATE GEOGRAPHICAL ANALYSIS </h1>\n",
    "    <h2> <center> Evgeny Noi </h2>\n",
    "        <h3> <center> Lecture 14: Clustering as Optimization and Clustering Diagnostics </h3>"
   ]
  },
  {
   "cell_type": "markdown",
   "id": "7255cab4",
   "metadata": {
    "slideshow": {
     "slide_type": "slide"
    }
   },
   "source": [
    "# Review \n",
    "\n",
    "* Clustering is unsupervised partitioning of the data \n",
    "* Clustering (regionalization) looks at attribute simularity (and spatial proximity) \n",
    "* CLustering search for latent patterns in our data"
   ]
  },
  {
   "cell_type": "markdown",
   "id": "f0be68c4",
   "metadata": {
    "slideshow": {
     "slide_type": "slide"
    }
   },
   "source": [
    "# Note on LISA Clusters and Cluster Clusters\n",
    "\n",
    "* LISA (Local indicators of spatial association) break down our observations into two groups based on **univariate** similarity and **geographic proximity**: \n",
    "    * spatial clusters (hotspots and coldspots) or (HH and LL)\n",
    "    * spatial outliers (HL and LH) \n",
    "* Clustering algorithms break down data into clusters / groups / partitions based on **mutlivariate** similarity\n",
    "* Regionalization algorithms break down data into clusters / groups / partitions based on **multivariate** similarity and **geographic proximity** "
   ]
  },
  {
   "cell_type": "markdown",
   "id": "5445b2e3",
   "metadata": {
    "slideshow": {
     "slide_type": "subslide"
    }
   },
   "source": [
    "# LISA Clusters $\\neq$ Cluster Clusters"
   ]
  },
  {
   "cell_type": "markdown",
   "id": "9fd166b1",
   "metadata": {
    "slideshow": {
     "slide_type": "slide"
    }
   },
   "source": [
    "# Plan for today\n",
    "\n",
    "1. Clustering types and associated pros/cons \n",
    "2. Clustering as spatial optimization \n",
    "3. Clustering diagnostics "
   ]
  },
  {
   "cell_type": "markdown",
   "id": "a3759ee0",
   "metadata": {
    "slideshow": {
     "slide_type": "slide"
    }
   },
   "source": [
    "# Partitional Clustering (k-means and k-medoids) \n",
    "\n",
    "### Strengths: \n",
    "* Work well for spherical shape \n",
    "* Scalable with respect to algorithm complexity \n",
    "\n",
    "### Weaknesses: \n",
    "* Not suited for complex shape\n",
    "* Do not work for clusters with different density "
   ]
  },
  {
   "cell_type": "markdown",
   "id": "fa48c406",
   "metadata": {
    "slideshow": {
     "slide_type": "slide"
    }
   },
   "source": [
    "# Hierarchical Clustering (AHC) \n",
    "\n",
    "### Strengths: \n",
    "* Reveal finer level details about the data \n",
    "* Interpretable dendrogram \n",
    "\n",
    "### Weaknesses: \n",
    "* Computationally expensive with respect to algorithm complexity \n",
    "* Sensitive to noise and outliers "
   ]
  },
  {
   "cell_type": "markdown",
   "id": "309476ed",
   "metadata": {
    "slideshow": {
     "slide_type": "slide"
    }
   },
   "source": [
    "# Density-based Clustering (DBSCAN) \n",
    "\n",
    "### Strengths: \n",
    "* Capture clusters of non-spherical shape\n",
    "* Resistant to outliers\n",
    "\n",
    "### Weaknesses: \n",
    "* Not suited for clustering in high-dimensional spaces \n",
    "* Troble capturing the clusters of varying densities"
   ]
  },
  {
   "cell_type": "markdown",
   "id": "0c7d31d7",
   "metadata": {
    "slideshow": {
     "slide_type": "subslide"
    }
   },
   "source": [
    "# Clustering Diagnostics \n",
    "\n",
    "* Most of the algorithms we ran on data had a pre-determined number of clusters, **BUT** the number of clusters must be tailored to data that we are working with. \n",
    "* Many different diagnostics "
   ]
  },
  {
   "cell_type": "markdown",
   "id": "9c8afd8f",
   "metadata": {
    "slideshow": {
     "slide_type": "slide"
    }
   },
   "source": [
    "# Elbow Method \n",
    "\n",
    "* Clustering is run for different number of $k$ clusters - mapped onto $x$-axis \n",
    "* Sum of squared error (SSE) - sum of the squared Euclidean distances of each point to its closest centroid - mapped onto $y$-axis\n",
    "* The elbow point denotes the optimal number of clusters"
   ]
  },
  {
   "cell_type": "code",
   "execution_count": 1,
   "id": "9292b755",
   "metadata": {
    "slideshow": {
     "slide_type": "subslide"
    }
   },
   "outputs": [
    {
     "name": "stderr",
     "output_type": "stream",
     "text": [
      "C:\\Users\\noibar\\anaconda3\\envs\\geo_env\\lib\\site-packages\\outdated\\utils.py:14: OutdatedPackageWarning: The package outdated is out of date. Your version is 0.2.1, the latest is 0.2.2.\n",
      "Set the environment variable OUTDATED_IGNORE=1 to disable these warnings.\n",
      "  return warn(\n"
     ]
    }
   ],
   "source": [
    "import pandas as pd\n",
    "import geopandas as gpd\n",
    "from esda.moran import Moran\n",
    "from libpysal.weights import Queen, KNN\n",
    "import numpy as np\n",
    "import matplotlib.pyplot as plt\n",
    "import seaborn as sns\n",
    "import pingouin as pg\n",
    "from sklearn.cluster import AgglomerativeClustering\n",
    "from sklearn_extra.cluster import KMedoids"
   ]
  },
  {
   "cell_type": "code",
   "execution_count": 2,
   "id": "53b2167a",
   "metadata": {
    "slideshow": {
     "slide_type": "subslide"
    }
   },
   "outputs": [
    {
     "name": "stdout",
     "output_type": "stream",
     "text": [
      "Example not available: Cincinnati\n"
     ]
    },
    {
     "name": "stdout",
     "output_type": "stream",
     "text": [
      "Example not downloaded: Chicago parcels\n",
      "Example not downloaded: Chile Migration\n",
      "Example not downloaded: Spirals\n"
     ]
    },
    {
     "data": {
      "text/plain": [
       "['C:\\\\Users\\\\noibar\\\\AppData\\\\Local\\\\pysal\\\\pysal\\\\Cincinnati\\\\walnuthills_updated\\\\.DS_Store',\n",
       " 'C:\\\\Users\\\\noibar\\\\AppData\\\\Local\\\\pysal\\\\pysal\\\\Cincinnati\\\\walnuthills_updated\\\\cincinnati.dbf',\n",
       " 'C:\\\\Users\\\\noibar\\\\AppData\\\\Local\\\\pysal\\\\pysal\\\\Cincinnati\\\\walnuthills_updated\\\\cincinnati.prj',\n",
       " 'C:\\\\Users\\\\noibar\\\\AppData\\\\Local\\\\pysal\\\\pysal\\\\Cincinnati\\\\walnuthills_updated\\\\cincinnati.shp',\n",
       " 'C:\\\\Users\\\\noibar\\\\AppData\\\\Local\\\\pysal\\\\pysal\\\\Cincinnati\\\\walnuthills_updated\\\\cincinnati.shx',\n",
       " 'C:\\\\Users\\\\noibar\\\\AppData\\\\Local\\\\pysal\\\\pysal\\\\Cincinnati\\\\__MACOSX\\\\walnuthills_updated\\\\._.DS_Store']"
      ]
     },
     "execution_count": 2,
     "metadata": {},
     "output_type": "execute_result"
    }
   ],
   "source": [
    "from libpysal.examples import load_example, available\n",
    "\n",
    "cin = load_example('Cincinnati')\n",
    "cin.get_file_list()"
   ]
  },
  {
   "cell_type": "code",
   "execution_count": 3,
   "id": "975a1bb5",
   "metadata": {
    "slideshow": {
     "slide_type": "subslide"
    }
   },
   "outputs": [
    {
     "name": "stdout",
     "output_type": "stream",
     "text": [
      "(457, 73)\n"
     ]
    },
    {
     "data": {
      "text/html": [
       "<div>\n",
       "<style scoped>\n",
       "    .dataframe tbody tr th:only-of-type {\n",
       "        vertical-align: middle;\n",
       "    }\n",
       "\n",
       "    .dataframe tbody tr th {\n",
       "        vertical-align: top;\n",
       "    }\n",
       "\n",
       "    .dataframe thead th {\n",
       "        text-align: right;\n",
       "    }\n",
       "</style>\n",
       "<table border=\"1\" class=\"dataframe\">\n",
       "  <thead>\n",
       "    <tr style=\"text-align: right;\">\n",
       "      <th></th>\n",
       "      <th>ID</th>\n",
       "      <th>AREA</th>\n",
       "      <th>BLOCK</th>\n",
       "      <th>BG</th>\n",
       "      <th>TRACT</th>\n",
       "      <th>COUNTY</th>\n",
       "      <th>MSA</th>\n",
       "      <th>POPULATION</th>\n",
       "      <th>MALE</th>\n",
       "      <th>FEMALE</th>\n",
       "      <th>...</th>\n",
       "      <th>OWNER_SIZE</th>\n",
       "      <th>RENTER_SIZ</th>\n",
       "      <th>DENSITY</th>\n",
       "      <th>BURGLARY</th>\n",
       "      <th>ASSAULT</th>\n",
       "      <th>THEFT</th>\n",
       "      <th>BURG_D</th>\n",
       "      <th>ASSALT_D</th>\n",
       "      <th>THEFT_D</th>\n",
       "      <th>geometry</th>\n",
       "    </tr>\n",
       "  </thead>\n",
       "  <tbody>\n",
       "    <tr>\n",
       "      <th>0</th>\n",
       "      <td>726907.0</td>\n",
       "      <td>0.09</td>\n",
       "      <td>390610042002001</td>\n",
       "      <td>390610042002</td>\n",
       "      <td>39061004200</td>\n",
       "      <td>39061</td>\n",
       "      <td>1640</td>\n",
       "      <td>479.0</td>\n",
       "      <td>221.0</td>\n",
       "      <td>258.0</td>\n",
       "      <td>...</td>\n",
       "      <td>1.46</td>\n",
       "      <td>1.42</td>\n",
       "      <td>5384.7901</td>\n",
       "      <td>1</td>\n",
       "      <td>0</td>\n",
       "      <td>4</td>\n",
       "      <td>1.0</td>\n",
       "      <td>0.0</td>\n",
       "      <td>1.0</td>\n",
       "      <td>POLYGON ((1407302.966 415693.734, 1407473.141 ...</td>\n",
       "    </tr>\n",
       "    <tr>\n",
       "      <th>1</th>\n",
       "      <td>695744.0</td>\n",
       "      <td>0.01</td>\n",
       "      <td>390610022004003</td>\n",
       "      <td>390610022004</td>\n",
       "      <td>39061002200</td>\n",
       "      <td>39061</td>\n",
       "      <td>1640</td>\n",
       "      <td>85.0</td>\n",
       "      <td>39.0</td>\n",
       "      <td>46.0</td>\n",
       "      <td>...</td>\n",
       "      <td>3.22</td>\n",
       "      <td>2.15</td>\n",
       "      <td>6643.1423</td>\n",
       "      <td>0</td>\n",
       "      <td>2</td>\n",
       "      <td>2</td>\n",
       "      <td>0.0</td>\n",
       "      <td>1.0</td>\n",
       "      <td>1.0</td>\n",
       "      <td>POLYGON ((1398841.243 416718.444, 1399605.382 ...</td>\n",
       "    </tr>\n",
       "    <tr>\n",
       "      <th>2</th>\n",
       "      <td>695762.0</td>\n",
       "      <td>0.01</td>\n",
       "      <td>390610033002017</td>\n",
       "      <td>390610033002</td>\n",
       "      <td>39061003300</td>\n",
       "      <td>39061</td>\n",
       "      <td>1640</td>\n",
       "      <td>29.0</td>\n",
       "      <td>18.0</td>\n",
       "      <td>11.0</td>\n",
       "      <td>...</td>\n",
       "      <td>1.00</td>\n",
       "      <td>1.33</td>\n",
       "      <td>4326.5018</td>\n",
       "      <td>0</td>\n",
       "      <td>0</td>\n",
       "      <td>0</td>\n",
       "      <td>0.0</td>\n",
       "      <td>0.0</td>\n",
       "      <td>0.0</td>\n",
       "      <td>POLYGON ((1398733.468 416975.853, 1398794.240 ...</td>\n",
       "    </tr>\n",
       "    <tr>\n",
       "      <th>3</th>\n",
       "      <td>695780.0</td>\n",
       "      <td>0.01</td>\n",
       "      <td>390610022004002</td>\n",
       "      <td>390610022004</td>\n",
       "      <td>39061002200</td>\n",
       "      <td>39061</td>\n",
       "      <td>1640</td>\n",
       "      <td>117.0</td>\n",
       "      <td>59.0</td>\n",
       "      <td>58.0</td>\n",
       "      <td>...</td>\n",
       "      <td>2.57</td>\n",
       "      <td>2.25</td>\n",
       "      <td>20784.6991</td>\n",
       "      <td>2</td>\n",
       "      <td>3</td>\n",
       "      <td>4</td>\n",
       "      <td>1.0</td>\n",
       "      <td>1.0</td>\n",
       "      <td>1.0</td>\n",
       "      <td>POLYGON ((1399564.078 416046.633, 1399605.382 ...</td>\n",
       "    </tr>\n",
       "    <tr>\n",
       "      <th>4</th>\n",
       "      <td>695798.0</td>\n",
       "      <td>0.02</td>\n",
       "      <td>390610033001009</td>\n",
       "      <td>390610033001</td>\n",
       "      <td>39061003300</td>\n",
       "      <td>39061</td>\n",
       "      <td>1640</td>\n",
       "      <td>96.0</td>\n",
       "      <td>51.0</td>\n",
       "      <td>45.0</td>\n",
       "      <td>...</td>\n",
       "      <td>1.00</td>\n",
       "      <td>1.42</td>\n",
       "      <td>4019.0506</td>\n",
       "      <td>0</td>\n",
       "      <td>0</td>\n",
       "      <td>2</td>\n",
       "      <td>0.0</td>\n",
       "      <td>0.0</td>\n",
       "      <td>1.0</td>\n",
       "      <td>POLYGON ((1398841.243 416718.444, 1398733.468 ...</td>\n",
       "    </tr>\n",
       "  </tbody>\n",
       "</table>\n",
       "<p>5 rows × 73 columns</p>\n",
       "</div>"
      ],
      "text/plain": [
       "         ID  AREA            BLOCK            BG        TRACT COUNTY   MSA  \\\n",
       "0  726907.0  0.09  390610042002001  390610042002  39061004200  39061  1640   \n",
       "1  695744.0  0.01  390610022004003  390610022004  39061002200  39061  1640   \n",
       "2  695762.0  0.01  390610033002017  390610033002  39061003300  39061  1640   \n",
       "3  695780.0  0.01  390610022004002  390610022004  39061002200  39061  1640   \n",
       "4  695798.0  0.02  390610033001009  390610033001  39061003300  39061  1640   \n",
       "\n",
       "   POPULATION   MALE  FEMALE  ...  OWNER_SIZE  RENTER_SIZ     DENSITY  \\\n",
       "0       479.0  221.0   258.0  ...        1.46        1.42   5384.7901   \n",
       "1        85.0   39.0    46.0  ...        3.22        2.15   6643.1423   \n",
       "2        29.0   18.0    11.0  ...        1.00        1.33   4326.5018   \n",
       "3       117.0   59.0    58.0  ...        2.57        2.25  20784.6991   \n",
       "4        96.0   51.0    45.0  ...        1.00        1.42   4019.0506   \n",
       "\n",
       "   BURGLARY  ASSAULT  THEFT  BURG_D  ASSALT_D  THEFT_D  \\\n",
       "0         1        0      4     1.0       0.0      1.0   \n",
       "1         0        2      2     0.0       1.0      1.0   \n",
       "2         0        0      0     0.0       0.0      0.0   \n",
       "3         2        3      4     1.0       1.0      1.0   \n",
       "4         0        0      2     0.0       0.0      1.0   \n",
       "\n",
       "                                            geometry  \n",
       "0  POLYGON ((1407302.966 415693.734, 1407473.141 ...  \n",
       "1  POLYGON ((1398841.243 416718.444, 1399605.382 ...  \n",
       "2  POLYGON ((1398733.468 416975.853, 1398794.240 ...  \n",
       "3  POLYGON ((1399564.078 416046.633, 1399605.382 ...  \n",
       "4  POLYGON ((1398841.243 416718.444, 1398733.468 ...  \n",
       "\n",
       "[5 rows x 73 columns]"
      ]
     },
     "execution_count": 3,
     "metadata": {},
     "output_type": "execute_result"
    }
   ],
   "source": [
    "cin_df = gpd.read_file(cin.get_path('cincinnati.shp'))\n",
    "print(cin_df.shape)\n",
    "cin_df.head()"
   ]
  },
  {
   "cell_type": "code",
   "execution_count": 4,
   "id": "6344d641",
   "metadata": {
    "slideshow": {
     "slide_type": "subslide"
    }
   },
   "outputs": [],
   "source": [
    "cin_df2 = cin_df.copy()\n",
    "# calculate centroid locs\n",
    "cin_df2['lng'] = cin_df2.centroid.x\n",
    "cin_df2['lat'] = cin_df2.centroid.y\n",
    "# pct vars \n",
    "cin_df2['pct_nhwhite'] = cin_df2.NH_WHITE / cin_df2.POPULATION\n",
    "cin_df2['pct_elder']  = cin_df2.AGE_65 / cin_df2.POPULATION\n",
    "cin_df2['pct_own'] = cin_df2.OCCHU_OWNE / cin_df2.HSNG_UNITS\n",
    "cin_df2['pct_rent'] = cin_df2.OCCHU_RENT / cin_df2.HSNG_UNITS\n",
    "cin_df2['pct_vac'] = cin_df2.HU_VACANT / cin_df2.HSNG_UNITS\n",
    "cin_df2 = cin_df2.fillna(0)\n",
    "new_predictors = ['POPULATION', 'MEDIAN_AGE', 'lng', 'lat', 'pct_elder', 'pct_own', 'pct_rent', 'pct_vac']"
   ]
  },
  {
   "cell_type": "code",
   "execution_count": 5,
   "id": "e6d4c1c3",
   "metadata": {
    "slideshow": {
     "slide_type": "subslide"
    }
   },
   "outputs": [
    {
     "data": {
      "text/html": [
       "<div>\n",
       "<style scoped>\n",
       "    .dataframe tbody tr th:only-of-type {\n",
       "        vertical-align: middle;\n",
       "    }\n",
       "\n",
       "    .dataframe tbody tr th {\n",
       "        vertical-align: top;\n",
       "    }\n",
       "\n",
       "    .dataframe thead th {\n",
       "        text-align: right;\n",
       "    }\n",
       "</style>\n",
       "<table border=\"1\" class=\"dataframe\">\n",
       "  <thead>\n",
       "    <tr style=\"text-align: right;\">\n",
       "      <th></th>\n",
       "      <th>POPULATION</th>\n",
       "      <th>MEDIAN_AGE</th>\n",
       "      <th>lng</th>\n",
       "      <th>lat</th>\n",
       "      <th>pct_elder</th>\n",
       "      <th>pct_own</th>\n",
       "      <th>pct_rent</th>\n",
       "      <th>pct_vac</th>\n",
       "    </tr>\n",
       "  </thead>\n",
       "  <tbody>\n",
       "    <tr>\n",
       "      <th>count</th>\n",
       "      <td>457.00</td>\n",
       "      <td>457.00</td>\n",
       "      <td>457.00</td>\n",
       "      <td>457.00</td>\n",
       "      <td>457.00</td>\n",
       "      <td>457.00</td>\n",
       "      <td>457.00</td>\n",
       "      <td>457.00</td>\n",
       "    </tr>\n",
       "    <tr>\n",
       "      <th>mean</th>\n",
       "      <td>84.71</td>\n",
       "      <td>27.19</td>\n",
       "      <td>1401850.14</td>\n",
       "      <td>417557.33</td>\n",
       "      <td>0.09</td>\n",
       "      <td>0.19</td>\n",
       "      <td>0.49</td>\n",
       "      <td>0.16</td>\n",
       "    </tr>\n",
       "    <tr>\n",
       "      <th>std</th>\n",
       "      <td>131.43</td>\n",
       "      <td>15.98</td>\n",
       "      <td>3273.84</td>\n",
       "      <td>2996.38</td>\n",
       "      <td>0.12</td>\n",
       "      <td>0.22</td>\n",
       "      <td>0.32</td>\n",
       "      <td>0.18</td>\n",
       "    </tr>\n",
       "    <tr>\n",
       "      <th>min</th>\n",
       "      <td>0.00</td>\n",
       "      <td>0.00</td>\n",
       "      <td>1393996.51</td>\n",
       "      <td>411393.22</td>\n",
       "      <td>0.00</td>\n",
       "      <td>0.00</td>\n",
       "      <td>0.00</td>\n",
       "      <td>0.00</td>\n",
       "    </tr>\n",
       "    <tr>\n",
       "      <th>25%</th>\n",
       "      <td>12.00</td>\n",
       "      <td>21.20</td>\n",
       "      <td>1399599.35</td>\n",
       "      <td>415586.99</td>\n",
       "      <td>0.00</td>\n",
       "      <td>0.00</td>\n",
       "      <td>0.21</td>\n",
       "      <td>0.00</td>\n",
       "    </tr>\n",
       "    <tr>\n",
       "      <th>50%</th>\n",
       "      <td>46.00</td>\n",
       "      <td>28.50</td>\n",
       "      <td>1401991.01</td>\n",
       "      <td>417271.52</td>\n",
       "      <td>0.06</td>\n",
       "      <td>0.13</td>\n",
       "      <td>0.55</td>\n",
       "      <td>0.12</td>\n",
       "    </tr>\n",
       "    <tr>\n",
       "      <th>75%</th>\n",
       "      <td>105.00</td>\n",
       "      <td>36.50</td>\n",
       "      <td>1403949.00</td>\n",
       "      <td>419286.57</td>\n",
       "      <td>0.12</td>\n",
       "      <td>0.29</td>\n",
       "      <td>0.74</td>\n",
       "      <td>0.21</td>\n",
       "    </tr>\n",
       "    <tr>\n",
       "      <th>max</th>\n",
       "      <td>1451.00</td>\n",
       "      <td>83.00</td>\n",
       "      <td>1411132.54</td>\n",
       "      <td>425511.77</td>\n",
       "      <td>1.00</td>\n",
       "      <td>1.00</td>\n",
       "      <td>1.00</td>\n",
       "      <td>1.00</td>\n",
       "    </tr>\n",
       "  </tbody>\n",
       "</table>\n",
       "</div>"
      ],
      "text/plain": [
       "       POPULATION  MEDIAN_AGE         lng        lat  pct_elder  pct_own  \\\n",
       "count      457.00      457.00      457.00     457.00     457.00   457.00   \n",
       "mean        84.71       27.19  1401850.14  417557.33       0.09     0.19   \n",
       "std        131.43       15.98     3273.84    2996.38       0.12     0.22   \n",
       "min          0.00        0.00  1393996.51  411393.22       0.00     0.00   \n",
       "25%         12.00       21.20  1399599.35  415586.99       0.00     0.00   \n",
       "50%         46.00       28.50  1401991.01  417271.52       0.06     0.13   \n",
       "75%        105.00       36.50  1403949.00  419286.57       0.12     0.29   \n",
       "max       1451.00       83.00  1411132.54  425511.77       1.00     1.00   \n",
       "\n",
       "       pct_rent  pct_vac  \n",
       "count    457.00   457.00  \n",
       "mean       0.49     0.16  \n",
       "std        0.32     0.18  \n",
       "min        0.00     0.00  \n",
       "25%        0.21     0.00  \n",
       "50%        0.55     0.12  \n",
       "75%        0.74     0.21  \n",
       "max        1.00     1.00  "
      ]
     },
     "execution_count": 5,
     "metadata": {},
     "output_type": "execute_result"
    }
   ],
   "source": [
    "cin_df2[new_predictors].describe().round(2)"
   ]
  },
  {
   "cell_type": "code",
   "execution_count": 6,
   "id": "f14029ec",
   "metadata": {
    "slideshow": {
     "slide_type": "subslide"
    }
   },
   "outputs": [
    {
     "data": {
      "text/html": [
       "<div>\n",
       "<style scoped>\n",
       "    .dataframe tbody tr th:only-of-type {\n",
       "        vertical-align: middle;\n",
       "    }\n",
       "\n",
       "    .dataframe tbody tr th {\n",
       "        vertical-align: top;\n",
       "    }\n",
       "\n",
       "    .dataframe thead th {\n",
       "        text-align: right;\n",
       "    }\n",
       "</style>\n",
       "<table border=\"1\" class=\"dataframe\">\n",
       "  <thead>\n",
       "    <tr style=\"text-align: right;\">\n",
       "      <th></th>\n",
       "      <th>POPULATION</th>\n",
       "      <th>MEDIAN_AGE</th>\n",
       "      <th>lng</th>\n",
       "      <th>lat</th>\n",
       "      <th>pct_elder</th>\n",
       "      <th>pct_own</th>\n",
       "      <th>pct_rent</th>\n",
       "      <th>pct_vac</th>\n",
       "    </tr>\n",
       "  </thead>\n",
       "  <tbody>\n",
       "    <tr>\n",
       "      <th>count</th>\n",
       "      <td>457.00</td>\n",
       "      <td>457.00</td>\n",
       "      <td>457.00</td>\n",
       "      <td>457.00</td>\n",
       "      <td>457.00</td>\n",
       "      <td>457.00</td>\n",
       "      <td>457.00</td>\n",
       "      <td>457.00</td>\n",
       "    </tr>\n",
       "    <tr>\n",
       "      <th>mean</th>\n",
       "      <td>0.42</td>\n",
       "      <td>-0.09</td>\n",
       "      <td>-0.03</td>\n",
       "      <td>0.08</td>\n",
       "      <td>0.23</td>\n",
       "      <td>0.21</td>\n",
       "      <td>-0.12</td>\n",
       "      <td>0.14</td>\n",
       "    </tr>\n",
       "    <tr>\n",
       "      <th>std</th>\n",
       "      <td>1.41</td>\n",
       "      <td>1.04</td>\n",
       "      <td>0.75</td>\n",
       "      <td>0.81</td>\n",
       "      <td>0.97</td>\n",
       "      <td>0.78</td>\n",
       "      <td>0.61</td>\n",
       "      <td>0.86</td>\n",
       "    </tr>\n",
       "    <tr>\n",
       "      <th>min</th>\n",
       "      <td>-0.49</td>\n",
       "      <td>-1.86</td>\n",
       "      <td>-1.84</td>\n",
       "      <td>-1.59</td>\n",
       "      <td>-0.52</td>\n",
       "      <td>-0.46</td>\n",
       "      <td>-1.06</td>\n",
       "      <td>-0.59</td>\n",
       "    </tr>\n",
       "    <tr>\n",
       "      <th>25%</th>\n",
       "      <td>-0.37</td>\n",
       "      <td>-0.48</td>\n",
       "      <td>-0.55</td>\n",
       "      <td>-0.46</td>\n",
       "      <td>-0.52</td>\n",
       "      <td>-0.46</td>\n",
       "      <td>-0.65</td>\n",
       "      <td>-0.59</td>\n",
       "    </tr>\n",
       "    <tr>\n",
       "      <th>50%</th>\n",
       "      <td>0.00</td>\n",
       "      <td>0.00</td>\n",
       "      <td>0.00</td>\n",
       "      <td>0.00</td>\n",
       "      <td>0.00</td>\n",
       "      <td>0.00</td>\n",
       "      <td>0.00</td>\n",
       "      <td>0.00</td>\n",
       "    </tr>\n",
       "    <tr>\n",
       "      <th>75%</th>\n",
       "      <td>0.63</td>\n",
       "      <td>0.52</td>\n",
       "      <td>0.45</td>\n",
       "      <td>0.54</td>\n",
       "      <td>0.48</td>\n",
       "      <td>0.54</td>\n",
       "      <td>0.35</td>\n",
       "      <td>0.41</td>\n",
       "    </tr>\n",
       "    <tr>\n",
       "      <th>max</th>\n",
       "      <td>15.11</td>\n",
       "      <td>3.56</td>\n",
       "      <td>2.10</td>\n",
       "      <td>2.23</td>\n",
       "      <td>7.81</td>\n",
       "      <td>3.04</td>\n",
       "      <td>0.86</td>\n",
       "      <td>4.16</td>\n",
       "    </tr>\n",
       "  </tbody>\n",
       "</table>\n",
       "</div>"
      ],
      "text/plain": [
       "       POPULATION  MEDIAN_AGE     lng     lat  pct_elder  pct_own  pct_rent  \\\n",
       "count      457.00      457.00  457.00  457.00     457.00   457.00    457.00   \n",
       "mean         0.42       -0.09   -0.03    0.08       0.23     0.21     -0.12   \n",
       "std          1.41        1.04    0.75    0.81       0.97     0.78      0.61   \n",
       "min         -0.49       -1.86   -1.84   -1.59      -0.52    -0.46     -1.06   \n",
       "25%         -0.37       -0.48   -0.55   -0.46      -0.52    -0.46     -0.65   \n",
       "50%          0.00        0.00    0.00    0.00       0.00     0.00      0.00   \n",
       "75%          0.63        0.52    0.45    0.54       0.48     0.54      0.35   \n",
       "max         15.11        3.56    2.10    2.23       7.81     3.04      0.86   \n",
       "\n",
       "       pct_vac  \n",
       "count   457.00  \n",
       "mean      0.14  \n",
       "std       0.86  \n",
       "min      -0.59  \n",
       "25%      -0.59  \n",
       "50%       0.00  \n",
       "75%       0.41  \n",
       "max       4.16  "
      ]
     },
     "execution_count": 6,
     "metadata": {},
     "output_type": "execute_result"
    }
   ],
   "source": [
    "from sklearn.preprocessing import robust_scale\n",
    "\n",
    "db_scaled = robust_scale(cin_df2[new_predictors])\n",
    "\n",
    "pd.DataFrame(db_scaled, columns=cin_df2[new_predictors].columns).describe().round(2)"
   ]
  },
  {
   "cell_type": "code",
   "execution_count": 7,
   "id": "e4ef8ba9",
   "metadata": {
    "slideshow": {
     "slide_type": "subslide"
    }
   },
   "outputs": [
    {
     "data": {
      "text/plain": [
       "array([2, 0, 0, 0, 0])"
      ]
     },
     "execution_count": 7,
     "metadata": {},
     "output_type": "execute_result"
    }
   ],
   "source": [
    "from sklearn.cluster import KMeans\n",
    "import os\n",
    "import warnings\n",
    "\n",
    "os.environ[\"OMP_NUM_THREADS\"] = '2'\n",
    "warnings.filterwarnings('ignore')\n",
    "\n",
    "kmeans = KMeans(n_clusters=5, init='random', n_init=10, max_iter=300, random_state=32)\n",
    "\n",
    "k5cls = kmeans.fit(db_scaled)\n",
    "\n",
    "k5cls.labels_[:5]"
   ]
  },
  {
   "cell_type": "code",
   "execution_count": 8,
   "id": "415b4171",
   "metadata": {
    "slideshow": {
     "slide_type": "subslide"
    }
   },
   "outputs": [
    {
     "data": {
      "image/png": "[encoded data removed]",
      "text/plain": [
       "<Figure size 360x360 with 1 Axes>"
      ]
     },
     "metadata": {
      "filenames": {
       "image/png": "D:\\gits\\ucsb_geog172\\_build\\jupyter_execute\\lectures\\lecture14_17_0.png"
      },
      "needs_background": "light"
     },
     "output_type": "display_data"
    }
   ],
   "source": [
    "cin_df2[\"k5cls\"] = k5cls.labels_\n",
    "f, ax = plt.subplots(1, figsize=(5, 5))\n",
    "cin_df2.plot(column=\"k5cls\", categorical=True, legend=True, linewidth=0, ax=ax)\n",
    "ax.set_axis_off()\n",
    "plt.show()"
   ]
  },
  {
   "cell_type": "code",
   "execution_count": 9,
   "id": "003b61f0",
   "metadata": {
    "slideshow": {
     "slide_type": "subslide"
    }
   },
   "outputs": [
    {
     "data": {
      "text/plain": [
       "0    226\n",
       "1     92\n",
       "4     78\n",
       "2     56\n",
       "3      5\n",
       "Name: k5cls, dtype: int64"
      ]
     },
     "execution_count": 9,
     "metadata": {},
     "output_type": "execute_result"
    }
   ],
   "source": [
    "cin_df2.k5cls.value_counts()"
   ]
  },
  {
   "cell_type": "code",
   "execution_count": 10,
   "id": "95e23c4b",
   "metadata": {
    "slideshow": {
     "slide_type": "subslide"
    }
   },
   "outputs": [],
   "source": [
    "kmeans_kwargs = {\n",
    "    \"init\": \"random\",\n",
    "    \"n_init\": 10,\n",
    "    \"max_iter\": 300,\n",
    "    \"random_state\": 42\n",
    "}\n",
    "\n",
    "# A list holds the SSE values for each k\n",
    "sse = []\n",
    "for k in range(1, 14):\n",
    "    kmeans = KMeans(n_clusters=k, **kmeans_kwargs)\n",
    "    kmeans.fit(db_scaled)\n",
    "    sse.append(kmeans.inertia_)"
   ]
  },
  {
   "cell_type": "code",
   "execution_count": 11,
   "id": "395a306a",
   "metadata": {
    "slideshow": {
     "slide_type": "subslide"
    }
   },
   "outputs": [
    {
     "data": {
      "image/png": "[encoded data removed]",
      "text/plain": [
       "<Figure size 1152x360 with 1 Axes>"
      ]
     },
     "metadata": {
      "filenames": {
       "image/png": "D:\\gits\\ucsb_geog172\\_build\\jupyter_execute\\lectures\\lecture14_20_0.png"
      }
     },
     "output_type": "display_data"
    }
   ],
   "source": [
    "plt.style.use(\"fivethirtyeight\")\n",
    "f,ax=plt.subplots(figsize=(16,5))\n",
    "ax.plot(range(1, 14), sse, 's-', markersize=10)\n",
    "ax.set_xticks(range(1, 14))\n",
    "ax.set_xlabel(\"Number of Clusters\")\n",
    "ax.set_ylabel(\"SSE\")\n",
    "plt.show()"
   ]
  },
  {
   "cell_type": "code",
   "execution_count": 12,
   "id": "6369b371",
   "metadata": {
    "slideshow": {
     "slide_type": "subslide"
    }
   },
   "outputs": [
    {
     "ename": "ModuleNotFoundError",
     "evalue": "No module named 'kneed'",
     "output_type": "error",
     "traceback": [
      "\u001b[1;31m---------------------------------------------------------------------------\u001b[0m",
      "\u001b[1;31mModuleNotFoundError\u001b[0m                       Traceback (most recent call last)",
      "Input \u001b[1;32mIn [12]\u001b[0m, in \u001b[0;36m<cell line: 1>\u001b[1;34m()\u001b[0m\n\u001b[1;32m----> 1\u001b[0m \u001b[38;5;28;01mfrom\u001b[39;00m \u001b[38;5;21;01mkneed\u001b[39;00m \u001b[38;5;28;01mimport\u001b[39;00m KneeLocator\n\u001b[0;32m      2\u001b[0m kl \u001b[38;5;241m=\u001b[39m KneeLocator(\u001b[38;5;28mrange\u001b[39m(\u001b[38;5;241m1\u001b[39m, \u001b[38;5;241m14\u001b[39m), sse, curve\u001b[38;5;241m=\u001b[39m\u001b[38;5;124m\"\u001b[39m\u001b[38;5;124mconvex\u001b[39m\u001b[38;5;124m\"\u001b[39m, direction\u001b[38;5;241m=\u001b[39m\u001b[38;5;124m\"\u001b[39m\u001b[38;5;124mdecreasing\u001b[39m\u001b[38;5;124m\"\u001b[39m)\n\u001b[0;32m      3\u001b[0m f,ax\u001b[38;5;241m=\u001b[39mplt\u001b[38;5;241m.\u001b[39msubplots(figsize\u001b[38;5;241m=\u001b[39m(\u001b[38;5;241m16\u001b[39m,\u001b[38;5;241m5\u001b[39m))\n",
      "\u001b[1;31mModuleNotFoundError\u001b[0m: No module named 'kneed'"
     ]
    }
   ],
   "source": [
    "from kneed import KneeLocator\n",
    "kl = KneeLocator(range(1, 14), sse, curve=\"convex\", direction=\"decreasing\")\n",
    "f,ax=plt.subplots(figsize=(16,5))\n",
    "ax.plot(range(1, 14), sse, 's-', markersize=10)\n",
    "ax.axvline(x=kl.elbow, color='k', linestyle='dashed', lw=1) # add vertical line\n",
    "ax.set_xticks(range(1, 14))\n",
    "ax.set_xlabel(\"Number of Clusters\")\n",
    "ax.set_ylabel(\"SSE\")\n",
    "plt.show()"
   ]
  },
  {
   "cell_type": "markdown",
   "id": "e68ac371",
   "metadata": {
    "slideshow": {
     "slide_type": "slide"
    }
   },
   "source": [
    "# Silhouette Coefficient\n",
    "\n",
    "> The silhouette coefficient is a measure of cluster cohesion and separation. It quantifies how well a data point fits into its assigned cluster based on two factors: closeness within clusters, separation between clusters \n",
    "\n",
    "* ranges from -1 to +1\n",
    "* +1 (good separation), -1 (mismatched clusters) "
   ]
  },
  {
   "cell_type": "code",
   "execution_count": 59,
   "id": "374aa92b",
   "metadata": {
    "slideshow": {
     "slide_type": "subslide"
    }
   },
   "outputs": [],
   "source": [
    "from sklearn.metrics import silhouette_score\n",
    "silhouette_coefficients = []\n",
    "\n",
    "# Notice you start at 2 clusters for silhouette coefficient\n",
    "for k in range(2, 14):\n",
    "    kmeans = KMeans(n_clusters=k, **kmeans_kwargs)\n",
    "    kmeans.fit(db_scaled)\n",
    "    score = silhouette_score(db_scaled, kmeans.labels_)\n",
    "    silhouette_coefficients.append(score)"
   ]
  },
  {
   "cell_type": "code",
   "execution_count": 61,
   "id": "efdd799c",
   "metadata": {
    "slideshow": {
     "slide_type": "subslide"
    }
   },
   "outputs": [
    {
     "data": {
      "image/png": "[encoded data removed]",
      "text/plain": [
       "<Figure size 1600x500 with 1 Axes>"
      ]
     },
     "metadata": {
      "filenames": {
       "image/png": "D:\\gits\\ucsb_geog172\\_build\\jupyter_execute\\lectures\\lecture14_24_0.png"
      }
     },
     "output_type": "display_data"
    }
   ],
   "source": [
    "f,ax = plt.subplots(figsize=(16,5))\n",
    "plt.plot(range(2, 14), silhouette_coefficients)\n",
    "ax.set_xticks(range(2, 14))\n",
    "ax.set_xlabel(\"Number of Clusters\")\n",
    "ax.set_ylabel(\"Silhouette Coefficient\")\n",
    "plt.show()"
   ]
  },
  {
   "cell_type": "code",
   "execution_count": 67,
   "id": "d836307d",
   "metadata": {
    "slideshow": {
     "slide_type": "subslide"
    }
   },
   "outputs": [
    {
     "data": {
      "image/png": "[encoded data removed]",
      "text/plain": [
       "<Figure size 500x500 with 1 Axes>"
      ]
     },
     "metadata": {
      "filenames": {
       "image/png": "D:\\gits\\ucsb_geog172\\_build\\jupyter_execute\\lectures\\lecture14_25_0.png"
      }
     },
     "output_type": "display_data"
    }
   ],
   "source": [
    "kmeans = KMeans(n_clusters=8, init='random', n_init=10, max_iter=300, random_state=32)\n",
    "k8cls = kmeans.fit(db_scaled)\n",
    "cin_df2[\"k8cls\"] = k8cls.labels_\n",
    "f, ax = plt.subplots(1, figsize=(5, 5))\n",
    "cin_df2.plot(column=\"k8cls\", categorical=True, legend=True, linewidth=0, ax=ax)\n",
    "ax.set_axis_off()\n",
    "plt.show()"
   ]
  },
  {
   "cell_type": "markdown",
   "id": "72046d89",
   "metadata": {
    "slideshow": {
     "slide_type": "slide"
    }
   },
   "source": [
    "# Geographic Coherence \n",
    "\n",
    "> Measures the compactness of a given shape \n",
    "\n",
    "* Isoperimetric Quotient. More compact shapes have an IPQ closer to 1, whereas very elongated or spindly shapes will have IPQs closer to zero \n",
    "\n",
    "$$\n",
    "IPQ_i= \\frac{A_i}{A_c} = \\frac{4\\pi A_i}{P_i^2}\n",
    "$$"
   ]
  },
  {
   "cell_type": "code",
   "execution_count": 76,
   "id": "5f1e4ae9",
   "metadata": {
    "slideshow": {
     "slide_type": "subslide"
    }
   },
   "outputs": [],
   "source": [
    "crime_vars = ['BURGLARY', 'ASSAULT', 'THEFT']\n",
    "scaled_crime = robust_scale(cin_df[crime_vars])\n",
    "w = Queen.from_dataframe(cin_df)\n",
    "w_knn = KNN.from_dataframe(cin_df, k=5)\n",
    "\n",
    "km = KMeans(n_clusters=5).fit(scaled_crime)\n",
    "ahc = AgglomerativeClustering(linkage=\"ward\", n_clusters=5).fit(scaled_crime) \n",
    "loccon = AgglomerativeClustering(linkage=\"ward\", connectivity=w.sparse, n_clusters=5).fit(scaled_crime) \n",
    "loccon_knn = AgglomerativeClustering(linkage=\"ward\", connectivity=w_knn.sparse, n_clusters=5).fit(scaled_crime) \n",
    "\n",
    "cin_df[\"hierar\"] = ahc.labels_\n",
    "cin_df[\"kmeans\"] = km.labels_\n",
    "cin_df[\"loc_que\"] = loccon.labels_\n",
    "cin_df['loc_knn'] = loccon_knn.labels_"
   ]
  },
  {
   "cell_type": "code",
   "execution_count": 79,
   "id": "087e1e3f",
   "metadata": {
    "slideshow": {
     "slide_type": "subslide"
    }
   },
   "outputs": [
    {
     "data": {
      "text/html": [
       "<div>\n",
       "<style scoped>\n",
       "    .dataframe tbody tr th:only-of-type {\n",
       "        vertical-align: middle;\n",
       "    }\n",
       "\n",
       "    .dataframe tbody tr th {\n",
       "        vertical-align: top;\n",
       "    }\n",
       "\n",
       "    .dataframe thead th {\n",
       "        text-align: right;\n",
       "    }\n",
       "</style>\n",
       "<table border=\"1\" class=\"dataframe\">\n",
       "  <thead>\n",
       "    <tr style=\"text-align: right;\">\n",
       "      <th></th>\n",
       "      <th>kmeans</th>\n",
       "      <th>hierar</th>\n",
       "      <th>loc_que</th>\n",
       "      <th>loc_knn</th>\n",
       "    </tr>\n",
       "  </thead>\n",
       "  <tbody>\n",
       "    <tr>\n",
       "      <th>0</th>\n",
       "      <td>0.068724</td>\n",
       "      <td>0.042670</td>\n",
       "      <td>0.087802</td>\n",
       "      <td>0.113951</td>\n",
       "    </tr>\n",
       "    <tr>\n",
       "      <th>1</th>\n",
       "      <td>0.018618</td>\n",
       "      <td>0.027901</td>\n",
       "      <td>0.092131</td>\n",
       "      <td>0.292960</td>\n",
       "    </tr>\n",
       "    <tr>\n",
       "      <th>2</th>\n",
       "      <td>0.043537</td>\n",
       "      <td>0.019498</td>\n",
       "      <td>0.320167</td>\n",
       "      <td>0.398854</td>\n",
       "    </tr>\n",
       "    <tr>\n",
       "      <th>3</th>\n",
       "      <td>0.020728</td>\n",
       "      <td>0.060804</td>\n",
       "      <td>0.430195</td>\n",
       "      <td>0.157503</td>\n",
       "    </tr>\n",
       "    <tr>\n",
       "      <th>4</th>\n",
       "      <td>0.022123</td>\n",
       "      <td>0.020271</td>\n",
       "      <td>0.193330</td>\n",
       "      <td>0.430195</td>\n",
       "    </tr>\n",
       "  </tbody>\n",
       "</table>\n",
       "</div>"
      ],
      "text/plain": [
       "     kmeans    hierar   loc_que   loc_knn\n",
       "0  0.068724  0.042670  0.087802  0.113951\n",
       "1  0.018618  0.027901  0.092131  0.292960\n",
       "2  0.043537  0.019498  0.320167  0.398854\n",
       "3  0.020728  0.060804  0.430195  0.157503\n",
       "4  0.022123  0.020271  0.193330  0.430195"
      ]
     },
     "execution_count": 79,
     "metadata": {},
     "output_type": "execute_result"
    }
   ],
   "source": [
    "results = []\n",
    "for cluster_type in (\"kmeans\", \"hierar\", \"loc_que\", \"loc_knn\"):\n",
    "    # compute the region polygons using a dissolve\n",
    "    regions = cin_df[[cluster_type, \"geometry\"]].dissolve(by=cluster_type)\n",
    "    # compute the actual isoperimetric quotient for these regions\n",
    "    ipqs = (\n",
    "        regions.area * 4 * np.pi / (regions.boundary.length ** 2)\n",
    "    )\n",
    "    # cast to a dataframe\n",
    "    result = ipqs.to_frame(cluster_type)\n",
    "    results.append(result)\n",
    "# stack the series together along columns\n",
    "pd.concat(results, axis=1)"
   ]
  },
  {
   "cell_type": "markdown",
   "id": "2c8468f5",
   "metadata": {
    "slideshow": {
     "slide_type": "slide"
    }
   },
   "source": [
    "# Goodness of Fit Measures \n",
    "\n",
    "* Silhoette Score - the average standardized distance from each observation to its “next best fit” cluster\n",
    "* Calinski-Harabasz Score - the within-cluster variance divided by the between-cluster variance"
   ]
  },
  {
   "cell_type": "code",
   "execution_count": 81,
   "id": "6cd8b4e5",
   "metadata": {
    "slideshow": {
     "slide_type": "subslide"
    }
   },
   "outputs": [
    {
     "data": {
      "text/html": [
       "<div>\n",
       "<style scoped>\n",
       "    .dataframe tbody tr th:only-of-type {\n",
       "        vertical-align: middle;\n",
       "    }\n",
       "\n",
       "    .dataframe tbody tr th {\n",
       "        vertical-align: top;\n",
       "    }\n",
       "\n",
       "    .dataframe thead th {\n",
       "        text-align: right;\n",
       "    }\n",
       "</style>\n",
       "<table border=\"1\" class=\"dataframe\">\n",
       "  <thead>\n",
       "    <tr style=\"text-align: right;\">\n",
       "      <th></th>\n",
       "      <th>CH score</th>\n",
       "    </tr>\n",
       "    <tr>\n",
       "      <th>cluster type</th>\n",
       "      <th></th>\n",
       "    </tr>\n",
       "  </thead>\n",
       "  <tbody>\n",
       "    <tr>\n",
       "      <th>kmeans</th>\n",
       "      <td>290.037212</td>\n",
       "    </tr>\n",
       "    <tr>\n",
       "      <th>hierar</th>\n",
       "      <td>260.895779</td>\n",
       "    </tr>\n",
       "    <tr>\n",
       "      <th>loc_que</th>\n",
       "      <td>31.032053</td>\n",
       "    </tr>\n",
       "    <tr>\n",
       "      <th>loc_knn</th>\n",
       "      <td>46.003501</td>\n",
       "    </tr>\n",
       "  </tbody>\n",
       "</table>\n",
       "</div>"
      ],
      "text/plain": [
       "                CH score\n",
       "cluster type            \n",
       "kmeans        290.037212\n",
       "hierar        260.895779\n",
       "loc_que        31.032053\n",
       "loc_knn        46.003501"
      ]
     },
     "execution_count": 81,
     "metadata": {},
     "output_type": "execute_result"
    }
   ],
   "source": [
    "from sklearn import metrics\n",
    "ch_scores = []\n",
    "for cluster_type in (\"kmeans\", \"hierar\", \"loc_que\", \"loc_knn\"):\n",
    "    # compute the CH score\n",
    "    ch_score = metrics.calinski_harabasz_score(\n",
    "        # using scaled variables\n",
    "        robust_scale(cin_df[crime_vars]),\n",
    "        # using these labels\n",
    "        cin_df[cluster_type],\n",
    "    )\n",
    "    # and append the cluster type with the CH score\n",
    "    ch_scores.append((cluster_type, ch_score))\n",
    "\n",
    "# re-arrange the scores into a dataframe for display\n",
    "pd.DataFrame(\n",
    "    ch_scores, columns=[\"cluster type\", \"CH score\"]\n",
    ").set_index(\"cluster type\")"
   ]
  },
  {
   "cell_type": "markdown",
   "id": "8091c7e5",
   "metadata": {
    "slideshow": {
     "slide_type": "subslide"
    }
   },
   "source": [
    "# Interpreting CH score \n",
    "\n",
    "> Higher CH score indicates greater fit. We see that imposing contiguity constraints yields worse fits. "
   ]
  },
  {
   "cell_type": "markdown",
   "id": "a50ae8b8",
   "metadata": {
    "slideshow": {
     "slide_type": "slide"
    }
   },
   "source": [
    "# Clustering as Spatial Optimization\n",
    "\n",
    "### Optimization (Mathematical Programming) \n",
    "\n",
    "> Mathematical programming is the selection of a best element, with regard to some criterion, from some set of available alternatives\n",
    "\n",
    "> Maximizing or minimizing some function relative to some set, often representing a range of choices available in a certain situation"
   ]
  },
  {
   "cell_type": "markdown",
   "id": "cfa17462",
   "metadata": {
    "slideshow": {
     "slide_type": "subslide"
    }
   },
   "source": [
    "# Mathematical Optimization \n",
    "\n",
    "* Manufacturing and Production \n",
    "* Transportation \n",
    "* Scheduling \n",
    "* Networks \n",
    "* etc. "
   ]
  },
  {
   "cell_type": "markdown",
   "id": "1b1def99",
   "metadata": {
    "slideshow": {
     "slide_type": "subslide"
    }
   },
   "source": [
    "# Parts of Optimization Problem \n",
    "\n",
    "1. Objective function $f(x)$ - maximizing or minimizing \n",
    "2. Variables ($x_1, x_2, ..., x_n$) and **decision variables** \n",
    "3. Constraints - puts limits on the magnitude and values of variables (equality or inequaility)"
   ]
  },
  {
   "cell_type": "markdown",
   "id": "340b7cd0",
   "metadata": {
    "slideshow": {
     "slide_type": "subslide"
    }
   },
   "source": [
    "# Spatial Optimization \n",
    "\n",
    "* Deals with locational decisions \n",
    "    * MCLP - maximal covering location problem\n",
    "    * ACLP - anti-covering location problem \n",
    "    * LSCP - location-set covering problem \n",
    "    * Location-Allocation problem "
   ]
  },
  {
   "cell_type": "markdown",
   "id": "c55cf198",
   "metadata": {
    "slideshow": {
     "slide_type": "slide"
    }
   },
   "source": [
    "# MCLP \n",
    "\n",
    "* **Objective**: cover as much of demand as possible \n",
    "* **Variables**: demand points, **Decision Variables**: facility locations \n",
    "* **Constraints**: locate $p$ facilities"
   ]
  },
  {
   "cell_type": "markdown",
   "id": "b7ac50c8",
   "metadata": {
    "slideshow": {
     "slide_type": "subslide"
    }
   },
   "source": [
    "# MCLP \n",
    "\n",
    "Given, $p$ (number of facilities), $a_i$ (service load at location $i$), $y_i$ (1 if demands $i$ is covered, 0 otherwise):\n",
    "\n",
    "$$\n",
    "\\text{Maximize} \\quad \\sum_{i=1}^{n} a_i y_i\n",
    "$$\n",
    "\n",
    "Subject to: \n",
    "\n",
    "$$\n",
    "\\sum_{j \\in N_i}^{} x_j \\geq y_i \\quad \\forall i \\quad \\text{if coverage is provided}\\\\\n",
    "\\sum_{j}^{} x_j \\geq p \\quad \\text{locate at least p facilities} \\\\\n",
    "x_i \\in \\{ 0,1 \\}, y_i \\in \\{ 0,1 \\}\n",
    "$$\n"
   ]
  },
  {
   "cell_type": "markdown",
   "id": "2d4edcce",
   "metadata": {
    "slideshow": {
     "slide_type": "subslide"
    }
   },
   "source": [
    "# k-Means as a Math Optimization Problem\n",
    "\n",
    "Given the set of observations ($x_1, x_2, ..., x_n$) partition $n$ observations into $k$ sets $S$ as as to minimize the within cluster sum of squares (variance): \n",
    "\n",
    "$$\n",
    "\\text{arg min}_s \\sum_{i=1}^{k} \\sum_{x \\in S_i}^{} ||x - \\mu||^2 \n",
    "$$"
   ]
  },
  {
   "cell_type": "markdown",
   "id": "2b5d1c3e",
   "metadata": {
    "slideshow": {
     "slide_type": "slide"
    }
   },
   "source": [
    "# Questions? \n",
    "\n",
    "## Please submit your Interim reports by **Sunday midnight, 11/13**"
   ]
  }
 ],
 "metadata": {
  "celltoolbar": "Slideshow",
  "kernelspec": {
   "display_name": "Python (geo_env)",
   "language": "python",
   "name": "geo_env"
  },
  "language_info": {
   "codemirror_mode": {
    "name": "ipython",
    "version": 3
   },
   "file_extension": ".py",
   "mimetype": "text/x-python",
   "name": "python",
   "nbconvert_exporter": "python",
   "pygments_lexer": "ipython3",
   "version": "3.10.5"
  },
  "varInspector": {
   "cols": {
    "lenName": 16,
    "lenType": 16,
    "lenVar": 40
   },
   "kernels_config": {
    "python": {
     "delete_cmd_postfix": "",
     "delete_cmd_prefix": "del ",
     "library": "var_list.py",
     "varRefreshCmd": "print(var_dic_list())"
    },
    "r": {
     "delete_cmd_postfix": ") ",
     "delete_cmd_prefix": "rm(",
     "library": "var_list.r",
     "varRefreshCmd": "cat(var_dic_list()) "
    }
   },
   "types_to_exclude": [
    "module",
    "function",
    "builtin_function_or_method",
    "instance",
    "_Feature"
   ],
   "window_display": false
  }
 },
 "nbformat": 4,
 "nbformat_minor": 5
}