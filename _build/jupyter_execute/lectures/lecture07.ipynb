{
 "cells": [
  {
   "cell_type": "markdown",
   "id": "f22c0e20",
   "metadata": {
    "slideshow": {
     "slide_type": "slide"
    }
   },
   "source": [
    "<h1> <center> GEOG 172: INTERMEDIATE GEOGRAPHICAL ANALYSIS </h1>\n",
    "    <h2> <center> Evgeny Noi </h2>\n",
    "        <h3> <center> Lecture 07: Inferential Statistics and Hypothesis Testing </h3>"
   ]
  },
  {
   "cell_type": "markdown",
   "id": "5a06f555",
   "metadata": {
    "slideshow": {
     "slide_type": "slide"
    }
   },
   "source": [
    "# Statistical Testing \n",
    "\n",
    "* We are broadly interested in mean of a neighborhood and comparing it to the overall mean of the city\n",
    "* It is expensive to sample / survey entire city, so we would like to develop methdolology that could tell us **how likely** we are to find the values "
   ]
  },
  {
   "cell_type": "markdown",
   "id": "6d4e5ca9",
   "metadata": {
    "slideshow": {
     "slide_type": "subslide"
    }
   },
   "source": [
    "# Setting up our hypotheses \n",
    "\n",
    "* Null hypothesis: the mean of the neighborhood $\\mu=3.1$. \n",
    "* Alternative \n",
    "    * $\\mu > 3.1$ (one sided test) \n",
    "    * $\\mu \\neq 3.1$"
   ]
  },
  {
   "cell_type": "markdown",
   "id": "299d737a",
   "metadata": {
    "slideshow": {
     "slide_type": "subslide"
    }
   },
   "source": [
    "# Sample Probability \n",
    "\n",
    "* We sample 10 households in the neighborhood and find that $\\mu=11.1$ \n",
    "* How can we relate this value to our 'true' mean? \n",
    "    * Null is **TRUE**, but we have obtained an unusual sample \n",
    "    * Null is **FALSE** \n",
    "    \n",
    "> The role of statistic is to quantify how unusual it would be to obtain our sample if the null hypothesis was true"
   ]
  },
  {
   "cell_type": "markdown",
   "id": "d25356a2",
   "metadata": {
    "slideshow": {
     "slide_type": "subslide"
    }
   },
   "source": [
    "# Judge Analogy \n",
    "\n",
    "* Think about a judge judging a defendant. \n",
    "* Judge begins by presuming innocence. The judge must decide whether there is sufficient evidence to reject the presumed innocence of the defendant (beyond a reasonable doubt). \n",
    "* A judge can err, however, by convicting a defendant who is innocent, or by failing to convict one who is actually guilty. \n",
    "* In similar fashion, the investigator starts by presuming the null hypothesis, or no association between the predictor and outcome variables in the population. \n",
    "* Based on the data collected in his sample, the investigator uses statistical tests to determine whether there is sufficient evidence to reject the null hypothesis in favor of the alternative hypothesis that there is an association in the population. The standard for these tests is shown as the level of statistical significance.\n",
    "\n",
    "Source: [Banerjee A, Chitnis UB, Jadhav SL, Bhawalkar JS, Chaudhury S. Hypothesis testing, type I and type II errors. Ind Psychiatry J. 2009 Jul;18(2):127-31. doi: 10.4103/0972-6748.62274. PMID: 21180491; PMCID: PMC2996198.](https://www.ncbi.nlm.nih.gov/pmc/articles/PMC2996198/)"
   ]
  },
  {
   "cell_type": "markdown",
   "id": "a77b8c9f",
   "metadata": {
    "slideshow": {
     "slide_type": "subslide"
    }
   },
   "source": [
    "# Error Types in Hypothesis Testing \n",
    "\n",
    "* Type I - rejecting a true hypothesis (denoted by $\\alpha$, typically set at 0.01, 0.05, and 0.1). *False positive*\n",
    "* Type II - accepting a false hypothesis *False negative*"
   ]
  },
  {
   "cell_type": "markdown",
   "id": "95ec5b26",
   "metadata": {
    "slideshow": {
     "slide_type": "subslide"
    }
   },
   "source": [
    "# Errors \n",
    "\n",
    "<img src=\"https://www.simplypsychology.org/type-1-and-2-errors.jpg\">"
   ]
  },
  {
   "cell_type": "markdown",
   "id": "62f2769e",
   "metadata": {
    "slideshow": {
     "slide_type": "subslide"
    }
   },
   "source": [
    "# Errors (examples) \n",
    "\n",
    "* Null is **true**, the mean in the urban area is indeed 3.1 (as demonstrated on the sample). \n",
    "    * Reject **true** null (Type I error): $\\alpha$ (**False positive**, i.e. 'falsely rejecting true null') \n",
    "    * Accept **true** null: $1 - \\alpha$ (**True Positive**) \n",
    "* Null is **false**, the mean in the urban area is not 3.1 (biased sample, wrong conjecture in the first place, rare event). \n",
    "    * Reject **false** null: $1 - \\beta$ (**True negative**) \n",
    "    * Accept **false** null (Type II error): $\\beta$ (**False negative**, i.e. 'falsely accepting false null') \n",
    "    \n",
    "> **We can decrease the magnitude of errors by increasing a sample size!**"
   ]
  },
  {
   "cell_type": "markdown",
   "id": "84d23872",
   "metadata": {
    "slideshow": {
     "slide_type": "slide"
    }
   },
   "source": [
    "# Inferential Terminology\n",
    "\n",
    "* Random variable (RV) - variable that takes on different values determined by chance. \n",
    "* RVs can be discrete (countable) and continuous (line).\n",
    "* Probability function - mathematical function that provides probabilities for possible outcomes of the RV ($f(x)$) \n",
    "* The probability function for discrete RV is called Probability Mass Function (PMF). $f(x) = P(X=x)$ and $f(x)>0$ and $\\sum f(x)=1$ (sum of probs sum to 1). \n",
    "* The probability function for continuous RV is called Probability Density Function (PDF). $f(x) \\neq P(X=x)$. and $f(x)>0$ with area under curve equal to 1. \n",
    "* Cumulative Density Function ($F(x)$) - probability that RV, $X \\leq x$. "
   ]
  },
  {
   "cell_type": "markdown",
   "id": "fb848811",
   "metadata": {
    "slideshow": {
     "slide_type": "subslide"
    }
   },
   "source": [
    "# Expected Value and Variance \n",
    "\n",
    "* Expected value (mean) and variance. $\\mu = E(X) = \\sum x_i f(x_i)$. Multiply each value $x$ in the support by its respective probability ($f(x)$) and add them up. Average value weighted by the likelihood. \n",
    "* Variance: $\\sigma^2 = Var(X) = \\sum(x_i - \\mu)^2 f(x_i) = \\sum x_i^2 f(x_i) - \\mu^2$\n",
    "* Standard deviation: $\\sigma = SD(X) = \\sqrt{VAR}(X) = \\sqrt{\\sigma^2}$\n",
    "\n",
    "> In statistics, we use $\\sigma$ to denote population SD and $s$ to denote sample SD. "
   ]
  },
  {
   "cell_type": "markdown",
   "id": "b39360ba",
   "metadata": {
    "slideshow": {
     "slide_type": "slide"
    }
   },
   "source": [
    "# Distributions \n",
    "\n",
    "* Each distribution can be defined based on its PMF/PDF. "
   ]
  },
  {
   "cell_type": "markdown",
   "id": "e4edde5c",
   "metadata": {
    "slideshow": {
     "slide_type": "subslide"
    }
   },
   "source": [
    "# Binomial Distribution \n",
    "\n",
    "> RV with two outcomes. We have $n$ trials and $p/\\pi$ - success probability.  \n",
    " \n",
    "* $f(x) = \\frac{n!}{x!(n-x)!}p^x(1-p)^{n-x} \\quad for \\quad x = 0,1,2,...,n$\n",
    "* Mean: $\\mu=np$, \n",
    "* Variance: $\\sigma^2=np(1-p)$ "
   ]
  },
  {
   "cell_type": "code",
   "execution_count": 1,
   "id": "b2b5f38c",
   "metadata": {
    "slideshow": {
     "slide_type": "subslide"
    }
   },
   "outputs": [
    {
     "name": "stdout",
     "output_type": "stream",
     "text": [
      "The probability that all 9 wells fail: 38.9%\n"
     ]
    }
   ],
   "source": [
    "# A company drills 9 wild-cat oil exploration wells, each with an estimated probability \n",
    "# of success of 0.1. All nine wells fail. What is the probability of that happening?\n",
    "import numpy as np\n",
    "\n",
    "n, p, sample = 9, .1, 20000 \n",
    "pct = np.sum(np.random.binomial(n, p, sample) == 0)/20000\n",
    "\n",
    "print(f'The probability that all 9 wells fail: {round(pct,3)*100}%')"
   ]
  },
  {
   "cell_type": "markdown",
   "id": "ce749fb0",
   "metadata": {
    "slideshow": {
     "slide_type": "subslide"
    }
   },
   "source": [
    "# PMF for Binomial Distribution \n",
    "<img src=\"https://upload.wikimedia.org/wikipedia/commons/thumb/7/75/Binomial_distribution_pmf.svg/1280px-Binomial_distribution_pmf.svg.png\"> "
   ]
  },
  {
   "cell_type": "code",
   "execution_count": 2,
   "id": "ad3b46e5",
   "metadata": {
    "slideshow": {
     "slide_type": "skip"
    }
   },
   "outputs": [
    {
     "data": {
      "image/png": "[encoded data removed]",
      "text/plain": [
       "<Figure size 640x480 with 1 Axes>"
      ]
     },
     "metadata": {
      "filenames": {
       "image/png": "C:\\Users\\barguzin\\Documents\\Github\\ucsb_geog172\\_build\\jupyter_execute\\lectures\\lecture07_14_0.png"
      }
     },
     "output_type": "display_data"
    }
   ],
   "source": [
    "from scipy.stats import binom\n",
    "import matplotlib.pyplot as plt\n",
    "\n",
    "n = np.linspace(1,11, num=5) \n",
    "p = np.linspace(0.1, .99, num=5)\n",
    "x = np.arange(0,15)\n",
    "\n",
    "fig, ax = plt.subplots() \n",
    "\n",
    "for nn, pp in zip(n,p):\n",
    "    ax.plot(x, binom(nn,pp).pmf(x), '-*')"
   ]
  },
  {
   "cell_type": "markdown",
   "id": "b9d96c18",
   "metadata": {
    "slideshow": {
     "slide_type": "slide"
    }
   },
   "source": [
    "# Normal Distribution \n",
    "\n",
    "* $N(\\mu, \\sigma^2)$. A standard normal distibution is parameterized by $N(0,1$ and is also known as the $z$ distribution. \n",
    "* $f(x) = \\frac{1}{\\sigma \\sqrt{2\\pi}}e^{-\\frac{1}{2}(\\frac{x-\\mu}{\\sigma})^2}$\n",
    "* Any normal RV can be transformed into a standard normal RV by finding the z-score. Then use [stasndard normal tables](https://online.stat.psu.edu/stat500/sites/stat500/files/Z_Table.pdf). \n",
    "* Z-score can be positive, negative. We can use $z$ to identify outliers (+/-3), max possible $z=\\frac{n-1}{\\sqrt{n}}$\n",
    "\n",
    "$$\n",
    "Z = \\frac{\\text{Observed value - mean}}{SD}\n",
    "$$"
   ]
  },
  {
   "cell_type": "markdown",
   "id": "f8862535",
   "metadata": {
    "slideshow": {
     "slide_type": "subslide"
    }
   },
   "source": [
    "# Plotted PDF for Normal Distribution \n",
    "\n",
    "<img src=\"https://upload.wikimedia.org/wikipedia/commons/thumb/7/74/Normal_Distribution_PDF.svg/1280px-Normal_Distribution_PDF.svg.png\"> "
   ]
  },
  {
   "cell_type": "markdown",
   "id": "aa6be951",
   "metadata": {
    "slideshow": {
     "slide_type": "subslide"
    }
   },
   "source": [
    "# Exercise 1\n",
    "\n",
    "According to Center for Disease Control, heights for US adult males and females are approximately normal \n",
    "\n",
    "* Females ($\\mu=64$ inches and $SD=2$ inches)\n",
    "* Males ($\\mu=69$ inches and $SD=3$ inches)\n",
    "\n",
    "1. Convert your height to $z$-score \n",
    "2. What is the probability of a randomly selected US adult female being shorted than 65 inches? "
   ]
  },
  {
   "cell_type": "markdown",
   "id": "a62c59c5",
   "metadata": {},
   "source": [
    "# Answer \n",
    "\n",
    "Find $P(X<65)$\n",
    "\n",
    "$$\n",
    "z = \\frac{65-64}{2} = 0.5\n",
    "$$\n",
    "\n",
    "Equivalently, find $P(Z<0.50)$ from the table (0.6915). So, roughly there this a 69% chance that a randomly selected U.S. adult female would be shorter than 65 inches."
   ]
  },
  {
   "cell_type": "markdown",
   "id": "cc6423c0",
   "metadata": {
    "slideshow": {
     "slide_type": "slide"
    }
   },
   "source": [
    "# Sampling Distribution\n",
    "\n",
    "> The sampling distribution of a statistic is a probability distribution based on a large number of samples of size from a given population.\n",
    "\n",
    "---\n",
    "\n",
    "Consider a situation. We need to measure the average length of fish in the hatchery. We a certain number of fish into the tank and sample randomly from the tank, measuring and recording mean at each attempt ($\\bar{x_1}, \\bar{x_2}, \\bar{x_3}, ... \\bar{x_n}$). "
   ]
  },
  {
   "cell_type": "code",
   "execution_count": 3,
   "id": "e2439acb",
   "metadata": {
    "slideshow": {
     "slide_type": "subslide"
    }
   },
   "outputs": [
    {
     "data": {
      "image/png": "[encoded data removed]",
      "text/plain": [
       "<Figure size 640x480 with 1 Axes>"
      ]
     },
     "metadata": {
      "filenames": {
       "image/png": "C:\\Users\\barguzin\\Documents\\Github\\ucsb_geog172\\_build\\jupyter_execute\\lectures\\lecture07_20_0.png"
      }
     },
     "output_type": "display_data"
    }
   ],
   "source": [
    "from numpy.random import default_rng\n",
    "rng = default_rng(12345) # ensure replicability with seed\n",
    "list_of_means, list_of_data = [], []\n",
    "\n",
    "for i in np.arange(0,100):\n",
    "    vals = rng.uniform(low=0.5, high=6.0, size=1000)\n",
    "    list_of_means.append(np.mean(vals))\n",
    "    list_of_data.append(vals)\n",
    "    \n",
    "plt.hist(list_of_means);\n",
    "plt.axvline(np.mean(list_of_means), color='red', lw=3, linestyle='dashed', label='mean of means')\n",
    "plt.title('Sampling Distribution of Means \\n drawn from Uniform Distribution', fontsize=16);\n",
    "plt.legend();"
   ]
  },
  {
   "cell_type": "code",
   "execution_count": 4,
   "id": "2d18f1bc",
   "metadata": {
    "slideshow": {
     "slide_type": "subslide"
    }
   },
   "outputs": [
    {
     "ename": "AttributeError",
     "evalue": "module 'seaborn' has no attribute 'histplot'",
     "output_type": "error",
     "traceback": [
      "\u001b[1;31m---------------------------------------------------------------------------\u001b[0m",
      "\u001b[1;31mAttributeError\u001b[0m                            Traceback (most recent call last)",
      "Cell \u001b[1;32mIn [4], line 10\u001b[0m\n\u001b[0;32m      7\u001b[0m fig, ax\u001b[38;5;241m=\u001b[39mplt\u001b[38;5;241m.\u001b[39msubplots(\u001b[38;5;241m1\u001b[39m,\u001b[38;5;241m2\u001b[39m, figsize\u001b[38;5;241m=\u001b[39m(\u001b[38;5;241m12\u001b[39m,\u001b[38;5;241m4\u001b[39m))\n\u001b[0;32m      9\u001b[0m dff\u001b[38;5;241m.\u001b[39mplot(kind\u001b[38;5;241m=\u001b[39m\u001b[38;5;124m'\u001b[39m\u001b[38;5;124mhist\u001b[39m\u001b[38;5;124m'\u001b[39m, color\u001b[38;5;241m=\u001b[39m\u001b[38;5;124m'\u001b[39m\u001b[38;5;124mb\u001b[39m\u001b[38;5;124m'\u001b[39m, alpha\u001b[38;5;241m=\u001b[39m\u001b[38;5;241m.1\u001b[39m, ax\u001b[38;5;241m=\u001b[39max[\u001b[38;5;241m0\u001b[39m], legend\u001b[38;5;241m=\u001b[39m\u001b[38;5;28;01mFalse\u001b[39;00m);\n\u001b[1;32m---> 10\u001b[0m sns\u001b[38;5;241m.\u001b[39mhistplot(list_of_means,ax\u001b[38;5;241m=\u001b[39max[\u001b[38;5;241m1\u001b[39m])\n",
      "\u001b[1;31mAttributeError\u001b[0m: module 'seaborn' has no attribute 'histplot'"
     ]
    },
    {
     "data": {
      "image/png": "[encoded data removed]",
      "text/plain": [
       "<Figure size 1200x400 with 2 Axes>"
      ]
     },
     "metadata": {
      "filenames": {
       "image/png": "C:\\Users\\barguzin\\Documents\\Github\\ucsb_geog172\\_build\\jupyter_execute\\lectures\\lecture07_21_1.png"
      }
     },
     "output_type": "display_data"
    }
   ],
   "source": [
    "import seaborn as sns\n",
    "import pandas as pd\n",
    "\n",
    "dff = pd.DataFrame(list_of_data)\n",
    "dff = dff.T#.to_numpy().flatten()\n",
    "\n",
    "fig, ax=plt.subplots(1,2, figsize=(12,4))\n",
    "\n",
    "dff.plot(kind='hist', color='b', alpha=.1, ax=ax[0], legend=False);\n",
    "sns.histplot(list_of_means,ax=ax[1]);"
   ]
  },
  {
   "cell_type": "markdown",
   "id": "7ba40d11",
   "metadata": {
    "slideshow": {
     "slide_type": "subslide"
    }
   },
   "source": [
    "# Test Statistic\n",
    "\n",
    "* Test statistic will be **normally distributed** for samples drawn from **normal or near normal distribution** \n",
    "\n",
    "$$\n",
    "z = \\frac{\\bar{x}-\\mu}{\\frac{\\sigma}{\\sqrt{n}}}\n",
    "$$\n",
    "\n",
    "where $SD = \\frac{\\sigma}{\\sqrt{n}}$"
   ]
  },
  {
   "cell_type": "markdown",
   "id": "da9a0a60",
   "metadata": {
    "slideshow": {
     "slide_type": "subslide"
    }
   },
   "source": [
    "# Exercise 2 \n",
    "\n",
    "> The engines made by Ford for speedboats have an average power of 220 horsepower (HP) and standard deviation of 15 HP. You can assume the distribution of power follows a normal distribution.\n",
    "\n",
    "> Consumer Reports® is testing the engines and will dispute the company's claim if the sample mean is less than 215 HP. If they take a sample of 4 engines, what is the probability the mean is less than 215?"
   ]
  },
  {
   "cell_type": "markdown",
   "id": "48a2cb78",
   "metadata": {
    "slideshow": {
     "slide_type": "subslide"
    }
   },
   "source": [
    "# How to solve \n",
    "\n",
    "1. Draw a normal distribution \n",
    "2. Find the mean. Which direction do we need to explore? \n",
    "4. Find the $z$ value, look up area under curve for $z$"
   ]
  },
  {
   "cell_type": "markdown",
   "id": "70c6383b",
   "metadata": {
    "slideshow": {
     "slide_type": "subslide"
    }
   },
   "source": [
    "# Answer \n",
    "\n",
    "$$\n",
    "SD = \\frac{15}{\\sqrt{4}}=7.5\n",
    "$$\n",
    "\n",
    "$$\n",
    "P(\\bar{X} < 215) = P \\Big( Z < \\frac{215-220}{7.5} \\Big) = P(Z<-0.67) \\approx 0.2514\n",
    "$$"
   ]
  },
  {
   "cell_type": "markdown",
   "id": "adecf662",
   "metadata": {
    "slideshow": {
     "slide_type": "slide"
    }
   },
   "source": [
    "# Central Limit Theorem (CLT) \n",
    "\n",
    "> For a large sample size $\\bar{x}$ is approximately normally distributed, regardless of the distribution of the population one samples from. If the population has mean $\\mu$ and standard deviation $\\sigma$, then $\\bar{x}$ has mean $\\mu$ and standard deviation $\\frac{\\sigma}{\\sqrt{n}}$\n",
    "\n",
    "> he Central Limit Theorem applies to a sample mean from any distribution. We could have a left-skewed or a right-skewed distribution. As long as the sample size is large, the distribution of the sample means will follow an approximate Normal distribution. Samples size of at least 30 is considered **large**. \n",
    "\n",
    "[Clear explanation at StatQuest](https://www.youtube.com/watch?v=YAlJCEDH2uY)"
   ]
  },
  {
   "cell_type": "markdown",
   "id": "a6d469ac",
   "metadata": {
    "slideshow": {
     "slide_type": "slide"
    }
   },
   "source": [
    "# Types of Statistical Inferences \n",
    "\n",
    "* Estimation - using information from the sample to estimate / predict parameters of interest (estimate median income in urban area) \n",
    "    * point estimates (one value) \n",
    "    * interval estimates (confidence intervals) - An interval of values computed from sample data that is likely to cover the true parameter of interest. Including a measure of confidence with our estimate forms a **margin of error** (the median income in the area is 33,450 $\\pm$ 1,532.\n",
    "* Statistical (Hypothesis) tests - using information from the sample to determine whether a certain statement about the parameter of interest is true (find out if the median income in urban area is above \\$30,000). "
   ]
  },
  {
   "cell_type": "markdown",
   "id": "695dd497",
   "metadata": {
    "slideshow": {
     "slide_type": "subslide"
    }
   },
   "source": [
    "## General form of a confidence intervals and MOE\n",
    "\n",
    "$$\n",
    "\\text{sample statistic} \\pm \\text{margin of error}\n",
    "$$\n",
    "\n",
    "$$ \n",
    "\\text{Margin of Error} = M \\times \\hat{SE}\\text{(estimate)}\n",
    "$$\n",
    "\n",
    "where $M$ is a multiplier, based on how confidence we are in our estimate. \n",
    "\n",
    "> The interpretation of a confidence interval has the basic template of: \"We are 'some level of percent confident' that the 'population of interest' is from 'lower bound to upper bound'."
   ]
  },
  {
   "cell_type": "markdown",
   "id": "11ade53e",
   "metadata": {
    "slideshow": {
     "slide_type": "slide"
    }
   },
   "source": [
    "# Inference for the population mean \n",
    "\n",
    "* We would like to derive a point estimate of the population mean $\\mu$. For this, we need to calculate point estimate of the sample mean $\\bar{x}$. "
   ]
  },
  {
   "cell_type": "markdown",
   "id": "fe137ac3",
   "metadata": {
    "slideshow": {
     "slide_type": "subslide"
    }
   },
   "source": [
    "# Constructing and interpreting CI \n",
    "\n",
    "* When $\\sigma$ is known \n",
    "    * the $(1-\\alpha)$100\\% confidence interval for $\\mu$ is: $\\bar{x} \\pm z_{\\alpha/2} \\frac{\\sigma}{\\sqrt{n}}$\n",
    "* When $\\sigma$ is unknown: \n",
    "    * Estimate statistic via $t$-distribution $t = \\frac{\\bar{X}-\\mu}{\\frac{s}{\\sqrt{n}}}$. [t-Table](https://online.stat.psu.edu/stat500/sites/stat500/files/t_table.pdf)\n",
    "    * the $(1-\\alpha)$100\\% confidence interval for $\\mu$ is: $\\bar{x} \\pm t_{\\alpha/2} \\frac{\\sigma}{\\sqrt{n}}$"
   ]
  },
  {
   "cell_type": "markdown",
   "id": "641b0aec",
   "metadata": {
    "slideshow": {
     "slide_type": "subslide"
    }
   },
   "source": [
    "# Exercise 3 \n",
    "\n",
    "> You are interested in the average emergency room (ER) wait time at your local hospital. You take a random sample of 50 patients who visit the ER over the past week. From this sample, the mean wait time was 30 minutes and the standard deviation was 20 minutes. Find a 95% confidence interval for the average ER wait time for the hospital.\n",
    "\n",
    "1. Is the data normal and is the sample large enough? \n",
    "2. Locate $t$-value in the table and plug into your formula for CI "
   ]
  },
  {
   "cell_type": "markdown",
   "id": "ca21000f",
   "metadata": {
    "slideshow": {
     "slide_type": "subslide"
    }
   },
   "source": [
    "# Answer \n",
    "\n",
    "Use $\\alpha=0.05/2$ for columns in the table and df=40 for rows. The $t$-value is 2.021.\n",
    "\n",
    "$$\n",
    "\\begin{align}\n",
    "    CI &= \\bar{x} \\pm t{\\alpha/2}\\frac{s}{\\sqrt{n}} \\\\\n",
    "        &= 30 \\pm 2.021 \\frac{20}{\\sqrt{50}} \\\\\n",
    "        &= (24.28, 35.72)\n",
    "\\end{align}\n",
    "$$\n",
    "\n",
    "> We are 95% confident that mean emergency room wait time at our local hospital is from 24.28 minutes to 35.72 minutes."
   ]
  },
  {
   "cell_type": "markdown",
   "id": "eed18ddd",
   "metadata": {
    "slideshow": {
     "slide_type": "subslide"
    }
   },
   "source": [
    "# Checking Normality in Python \n",
    "\n",
    "* Use tips dataset from Seaborn \n",
    "\n",
    "> One waiter recorded information about each tip he received over a period of a few months working in one restaurant. He collected several variables: "
   ]
  },
  {
   "cell_type": "code",
   "execution_count": 5,
   "id": "2d9c9384",
   "metadata": {
    "slideshow": {
     "slide_type": "subslide"
    }
   },
   "outputs": [
    {
     "data": {
      "text/html": [
       "<div>\n",
       "<style scoped>\n",
       "    .dataframe tbody tr th:only-of-type {\n",
       "        vertical-align: middle;\n",
       "    }\n",
       "\n",
       "    .dataframe tbody tr th {\n",
       "        vertical-align: top;\n",
       "    }\n",
       "\n",
       "    .dataframe thead th {\n",
       "        text-align: right;\n",
       "    }\n",
       "</style>\n",
       "<table border=\"1\" class=\"dataframe\">\n",
       "  <thead>\n",
       "    <tr style=\"text-align: right;\">\n",
       "      <th></th>\n",
       "      <th>total_bill</th>\n",
       "      <th>tip</th>\n",
       "      <th>sex</th>\n",
       "      <th>smoker</th>\n",
       "      <th>day</th>\n",
       "      <th>time</th>\n",
       "      <th>size</th>\n",
       "    </tr>\n",
       "  </thead>\n",
       "  <tbody>\n",
       "    <tr>\n",
       "      <th>0</th>\n",
       "      <td>16.99</td>\n",
       "      <td>1.01</td>\n",
       "      <td>Female</td>\n",
       "      <td>No</td>\n",
       "      <td>Sun</td>\n",
       "      <td>Dinner</td>\n",
       "      <td>2</td>\n",
       "    </tr>\n",
       "    <tr>\n",
       "      <th>1</th>\n",
       "      <td>10.34</td>\n",
       "      <td>1.66</td>\n",
       "      <td>Male</td>\n",
       "      <td>No</td>\n",
       "      <td>Sun</td>\n",
       "      <td>Dinner</td>\n",
       "      <td>3</td>\n",
       "    </tr>\n",
       "    <tr>\n",
       "      <th>2</th>\n",
       "      <td>21.01</td>\n",
       "      <td>3.50</td>\n",
       "      <td>Male</td>\n",
       "      <td>No</td>\n",
       "      <td>Sun</td>\n",
       "      <td>Dinner</td>\n",
       "      <td>3</td>\n",
       "    </tr>\n",
       "    <tr>\n",
       "      <th>3</th>\n",
       "      <td>23.68</td>\n",
       "      <td>3.31</td>\n",
       "      <td>Male</td>\n",
       "      <td>No</td>\n",
       "      <td>Sun</td>\n",
       "      <td>Dinner</td>\n",
       "      <td>2</td>\n",
       "    </tr>\n",
       "    <tr>\n",
       "      <th>4</th>\n",
       "      <td>24.59</td>\n",
       "      <td>3.61</td>\n",
       "      <td>Female</td>\n",
       "      <td>No</td>\n",
       "      <td>Sun</td>\n",
       "      <td>Dinner</td>\n",
       "      <td>4</td>\n",
       "    </tr>\n",
       "    <tr>\n",
       "      <th>...</th>\n",
       "      <td>...</td>\n",
       "      <td>...</td>\n",
       "      <td>...</td>\n",
       "      <td>...</td>\n",
       "      <td>...</td>\n",
       "      <td>...</td>\n",
       "      <td>...</td>\n",
       "    </tr>\n",
       "    <tr>\n",
       "      <th>239</th>\n",
       "      <td>29.03</td>\n",
       "      <td>5.92</td>\n",
       "      <td>Male</td>\n",
       "      <td>No</td>\n",
       "      <td>Sat</td>\n",
       "      <td>Dinner</td>\n",
       "      <td>3</td>\n",
       "    </tr>\n",
       "    <tr>\n",
       "      <th>240</th>\n",
       "      <td>27.18</td>\n",
       "      <td>2.00</td>\n",
       "      <td>Female</td>\n",
       "      <td>Yes</td>\n",
       "      <td>Sat</td>\n",
       "      <td>Dinner</td>\n",
       "      <td>2</td>\n",
       "    </tr>\n",
       "    <tr>\n",
       "      <th>241</th>\n",
       "      <td>22.67</td>\n",
       "      <td>2.00</td>\n",
       "      <td>Male</td>\n",
       "      <td>Yes</td>\n",
       "      <td>Sat</td>\n",
       "      <td>Dinner</td>\n",
       "      <td>2</td>\n",
       "    </tr>\n",
       "    <tr>\n",
       "      <th>242</th>\n",
       "      <td>17.82</td>\n",
       "      <td>1.75</td>\n",
       "      <td>Male</td>\n",
       "      <td>No</td>\n",
       "      <td>Sat</td>\n",
       "      <td>Dinner</td>\n",
       "      <td>2</td>\n",
       "    </tr>\n",
       "    <tr>\n",
       "      <th>243</th>\n",
       "      <td>18.78</td>\n",
       "      <td>3.00</td>\n",
       "      <td>Female</td>\n",
       "      <td>No</td>\n",
       "      <td>Thur</td>\n",
       "      <td>Dinner</td>\n",
       "      <td>2</td>\n",
       "    </tr>\n",
       "  </tbody>\n",
       "</table>\n",
       "<p>244 rows × 7 columns</p>\n",
       "</div>"
      ],
      "text/plain": [
       "     total_bill   tip     sex smoker   day    time  size\n",
       "0         16.99  1.01  Female     No   Sun  Dinner     2\n",
       "1         10.34  1.66    Male     No   Sun  Dinner     3\n",
       "2         21.01  3.50    Male     No   Sun  Dinner     3\n",
       "3         23.68  3.31    Male     No   Sun  Dinner     2\n",
       "4         24.59  3.61  Female     No   Sun  Dinner     4\n",
       "..          ...   ...     ...    ...   ...     ...   ...\n",
       "239       29.03  5.92    Male     No   Sat  Dinner     3\n",
       "240       27.18  2.00  Female    Yes   Sat  Dinner     2\n",
       "241       22.67  2.00    Male    Yes   Sat  Dinner     2\n",
       "242       17.82  1.75    Male     No   Sat  Dinner     2\n",
       "243       18.78  3.00  Female     No  Thur  Dinner     2\n",
       "\n",
       "[244 rows x 7 columns]"
      ]
     },
     "execution_count": 5,
     "metadata": {},
     "output_type": "execute_result"
    }
   ],
   "source": [
    "tips = sns.load_dataset(\"tips\")\n",
    "tips"
   ]
  },
  {
   "cell_type": "code",
   "execution_count": 6,
   "id": "10f2bc04",
   "metadata": {
    "slideshow": {
     "slide_type": "subslide"
    }
   },
   "outputs": [
    {
     "data": {
      "image/png": "[encoded data removed]",
      "text/plain": [
       "<Figure size 864x288 with 2 Axes>"
      ]
     },
     "metadata": {
      "filenames": {
       "image/png": "C:\\Users\\barguzin\\Documents\\Github\\ucsb_geog172\\_build\\jupyter_execute\\lectures\\lecture07_35_0.png"
      },
      "needs_background": "light"
     },
     "output_type": "display_data"
    }
   ],
   "source": [
    "fig, ax = plt.subplots(1,2, figsize=(12,4))\n",
    "sns.histplot(data=tips, x='total_bill', ax=ax[0]);\n",
    "sns.histplot(data=tips, x='tip', ax=ax[1]);"
   ]
  },
  {
   "cell_type": "code",
   "execution_count": 7,
   "id": "4c4986f2",
   "metadata": {
    "slideshow": {
     "slide_type": "subslide"
    }
   },
   "outputs": [
    {
     "data": {
      "image/png": "[encoded data removed]",
      "text/plain": [
       "<Figure size 864x288 with 2 Axes>"
      ]
     },
     "metadata": {
      "filenames": {
       "image/png": "C:\\Users\\barguzin\\Documents\\Github\\ucsb_geog172\\_build\\jupyter_execute\\lectures\\lecture07_36_0.png"
      },
      "needs_background": "light"
     },
     "output_type": "display_data"
    }
   ],
   "source": [
    "import statsmodels.api as sm\n",
    "import scipy\n",
    "\n",
    "fig, ax = plt.subplots(1,2, figsize=(12,4))\n",
    "\n",
    "sm.qqplot(tips.total_bill, line='45', ax=ax[0], fit=True);\n",
    "sm.qqplot(rng.normal(size=1000), line='45', ax=ax[1]);"
   ]
  },
  {
   "cell_type": "markdown",
   "id": "5dc20702",
   "metadata": {
    "slideshow": {
     "slide_type": "subslide"
    }
   },
   "source": [
    "<img src=\"https://condor.depaul.edu/sjost/it223/documents/nplots.gif\">"
   ]
  },
  {
   "cell_type": "code",
   "execution_count": 8,
   "id": "e1513aa0",
   "metadata": {
    "slideshow": {
     "slide_type": "subslide"
    }
   },
   "outputs": [
    {
     "name": "stdout",
     "output_type": "stream",
     "text": [
      "The confidence interval for tips is (18.663331704358473, 20.908553541543167)\n"
     ]
    }
   ],
   "source": [
    "# calculating cofnidence intervals \n",
    "import statsmodels.stats.api as sms\n",
    "\n",
    "ci = sms.DescrStatsW(tips.total_bill).tconfint_mean()\n",
    "\n",
    "print(f\"The confidence interval for tips is {ci}\")"
   ]
  },
  {
   "cell_type": "markdown",
   "id": "b1c38706",
   "metadata": {
    "slideshow": {
     "slide_type": "slide"
    }
   },
   "source": [
    "# Penguins Data\n",
    "\n",
    "|||\n",
    "|---|---|\n",
    "|<img src=\"https://github.com/allisonhorst/palmerpenguins/raw/main/man/figures/lter_penguins.png\" width=\"300px\">|<img src=\"https://github.com/allisonhorst/palmerpenguins/raw/main/man/figures/culmen_depth.png\" width=\"300px\">|\n",
    "\n",
    "[Source](https://github.com/allisonhorst/palmerpenguins)"
   ]
  },
  {
   "cell_type": "code",
   "execution_count": 9,
   "id": "e3d514e0",
   "metadata": {
    "slideshow": {
     "slide_type": "subslide"
    }
   },
   "outputs": [
    {
     "data": {
      "text/html": [
       "<div>\n",
       "<style scoped>\n",
       "    .dataframe tbody tr th:only-of-type {\n",
       "        vertical-align: middle;\n",
       "    }\n",
       "\n",
       "    .dataframe tbody tr th {\n",
       "        vertical-align: top;\n",
       "    }\n",
       "\n",
       "    .dataframe thead th {\n",
       "        text-align: right;\n",
       "    }\n",
       "</style>\n",
       "<table border=\"1\" class=\"dataframe\">\n",
       "  <thead>\n",
       "    <tr style=\"text-align: right;\">\n",
       "      <th></th>\n",
       "      <th>species</th>\n",
       "      <th>island</th>\n",
       "      <th>bill_length_mm</th>\n",
       "      <th>bill_depth_mm</th>\n",
       "      <th>flipper_length_mm</th>\n",
       "      <th>body_mass_g</th>\n",
       "      <th>sex</th>\n",
       "    </tr>\n",
       "  </thead>\n",
       "  <tbody>\n",
       "    <tr>\n",
       "      <th>0</th>\n",
       "      <td>Adelie</td>\n",
       "      <td>Torgersen</td>\n",
       "      <td>39.1</td>\n",
       "      <td>18.7</td>\n",
       "      <td>181.0</td>\n",
       "      <td>3750.0</td>\n",
       "      <td>Male</td>\n",
       "    </tr>\n",
       "    <tr>\n",
       "      <th>1</th>\n",
       "      <td>Adelie</td>\n",
       "      <td>Torgersen</td>\n",
       "      <td>39.5</td>\n",
       "      <td>17.4</td>\n",
       "      <td>186.0</td>\n",
       "      <td>3800.0</td>\n",
       "      <td>Female</td>\n",
       "    </tr>\n",
       "    <tr>\n",
       "      <th>2</th>\n",
       "      <td>Adelie</td>\n",
       "      <td>Torgersen</td>\n",
       "      <td>40.3</td>\n",
       "      <td>18.0</td>\n",
       "      <td>195.0</td>\n",
       "      <td>3250.0</td>\n",
       "      <td>Female</td>\n",
       "    </tr>\n",
       "    <tr>\n",
       "      <th>3</th>\n",
       "      <td>Adelie</td>\n",
       "      <td>Torgersen</td>\n",
       "      <td>NaN</td>\n",
       "      <td>NaN</td>\n",
       "      <td>NaN</td>\n",
       "      <td>NaN</td>\n",
       "      <td>NaN</td>\n",
       "    </tr>\n",
       "    <tr>\n",
       "      <th>4</th>\n",
       "      <td>Adelie</td>\n",
       "      <td>Torgersen</td>\n",
       "      <td>36.7</td>\n",
       "      <td>19.3</td>\n",
       "      <td>193.0</td>\n",
       "      <td>3450.0</td>\n",
       "      <td>Female</td>\n",
       "    </tr>\n",
       "    <tr>\n",
       "      <th>...</th>\n",
       "      <td>...</td>\n",
       "      <td>...</td>\n",
       "      <td>...</td>\n",
       "      <td>...</td>\n",
       "      <td>...</td>\n",
       "      <td>...</td>\n",
       "      <td>...</td>\n",
       "    </tr>\n",
       "    <tr>\n",
       "      <th>339</th>\n",
       "      <td>Gentoo</td>\n",
       "      <td>Biscoe</td>\n",
       "      <td>NaN</td>\n",
       "      <td>NaN</td>\n",
       "      <td>NaN</td>\n",
       "      <td>NaN</td>\n",
       "      <td>NaN</td>\n",
       "    </tr>\n",
       "    <tr>\n",
       "      <th>340</th>\n",
       "      <td>Gentoo</td>\n",
       "      <td>Biscoe</td>\n",
       "      <td>46.8</td>\n",
       "      <td>14.3</td>\n",
       "      <td>215.0</td>\n",
       "      <td>4850.0</td>\n",
       "      <td>Female</td>\n",
       "    </tr>\n",
       "    <tr>\n",
       "      <th>341</th>\n",
       "      <td>Gentoo</td>\n",
       "      <td>Biscoe</td>\n",
       "      <td>50.4</td>\n",
       "      <td>15.7</td>\n",
       "      <td>222.0</td>\n",
       "      <td>5750.0</td>\n",
       "      <td>Male</td>\n",
       "    </tr>\n",
       "    <tr>\n",
       "      <th>342</th>\n",
       "      <td>Gentoo</td>\n",
       "      <td>Biscoe</td>\n",
       "      <td>45.2</td>\n",
       "      <td>14.8</td>\n",
       "      <td>212.0</td>\n",
       "      <td>5200.0</td>\n",
       "      <td>Female</td>\n",
       "    </tr>\n",
       "    <tr>\n",
       "      <th>343</th>\n",
       "      <td>Gentoo</td>\n",
       "      <td>Biscoe</td>\n",
       "      <td>49.9</td>\n",
       "      <td>16.1</td>\n",
       "      <td>213.0</td>\n",
       "      <td>5400.0</td>\n",
       "      <td>Male</td>\n",
       "    </tr>\n",
       "  </tbody>\n",
       "</table>\n",
       "<p>344 rows × 7 columns</p>\n",
       "</div>"
      ],
      "text/plain": [
       "    species     island  bill_length_mm  bill_depth_mm  flipper_length_mm  \\\n",
       "0    Adelie  Torgersen            39.1           18.7              181.0   \n",
       "1    Adelie  Torgersen            39.5           17.4              186.0   \n",
       "2    Adelie  Torgersen            40.3           18.0              195.0   \n",
       "3    Adelie  Torgersen             NaN            NaN                NaN   \n",
       "4    Adelie  Torgersen            36.7           19.3              193.0   \n",
       "..      ...        ...             ...            ...                ...   \n",
       "339  Gentoo     Biscoe             NaN            NaN                NaN   \n",
       "340  Gentoo     Biscoe            46.8           14.3              215.0   \n",
       "341  Gentoo     Biscoe            50.4           15.7              222.0   \n",
       "342  Gentoo     Biscoe            45.2           14.8              212.0   \n",
       "343  Gentoo     Biscoe            49.9           16.1              213.0   \n",
       "\n",
       "     body_mass_g     sex  \n",
       "0         3750.0    Male  \n",
       "1         3800.0  Female  \n",
       "2         3250.0  Female  \n",
       "3            NaN     NaN  \n",
       "4         3450.0  Female  \n",
       "..           ...     ...  \n",
       "339          NaN     NaN  \n",
       "340       4850.0  Female  \n",
       "341       5750.0    Male  \n",
       "342       5200.0  Female  \n",
       "343       5400.0    Male  \n",
       "\n",
       "[344 rows x 7 columns]"
      ]
     },
     "execution_count": 9,
     "metadata": {},
     "output_type": "execute_result"
    }
   ],
   "source": [
    "pengs = sns.load_dataset(\"penguins\")\n",
    "pengs"
   ]
  },
  {
   "cell_type": "code",
   "execution_count": 10,
   "id": "693ba34f",
   "metadata": {
    "slideshow": {
     "slide_type": "subslide"
    }
   },
   "outputs": [
    {
     "data": {
      "text/plain": [
       "<seaborn.axisgrid.PairGrid at 0x2b4118cab90>"
      ]
     },
     "execution_count": 10,
     "metadata": {},
     "output_type": "execute_result"
    },
    {
     "data": {
      "image/png": "[encoded data removed]",
      "text/plain": [
       "<Figure size 720x720 with 14 Axes>"
      ]
     },
     "metadata": {
      "filenames": {
       "image/png": "C:\\Users\\barguzin\\Documents\\Github\\ucsb_geog172\\_build\\jupyter_execute\\lectures\\lecture07_41_1.png"
      },
      "needs_background": "light"
     },
     "output_type": "display_data"
    }
   ],
   "source": [
    "sns.pairplot(pengs, corner=True, diag_kind='kde')"
   ]
  },
  {
   "cell_type": "code",
   "execution_count": 11,
   "id": "8d83d670",
   "metadata": {
    "slideshow": {
     "slide_type": "subslide"
    }
   },
   "outputs": [
    {
     "data": {
      "text/plain": [
       "<seaborn.axisgrid.FacetGrid at 0x2b40f3a7610>"
      ]
     },
     "execution_count": 11,
     "metadata": {},
     "output_type": "execute_result"
    },
    {
     "data": {
      "image/png": "[encoded data removed]",
      "text/plain": [
       "<Figure size 288x288 with 1 Axes>"
      ]
     },
     "metadata": {
      "filenames": {
       "image/png": "C:\\Users\\barguzin\\Documents\\Github\\ucsb_geog172\\_build\\jupyter_execute\\lectures\\lecture07_42_1.png"
      },
      "needs_background": "light"
     },
     "output_type": "display_data"
    }
   ],
   "source": [
    "from scipy import stats\n",
    "def quantile_plot(x, **kwargs):\n",
    "    quantiles, xr = stats.probplot(x, fit=False)\n",
    "    plt.scatter(xr, quantiles, **kwargs)\n",
    "\n",
    "g = sns.FacetGrid(pengs, height=4)\n",
    "g.map(quantile_plot, \"body_mass_g\")"
   ]
  },
  {
   "cell_type": "code",
   "execution_count": 12,
   "id": "7c3db841",
   "metadata": {
    "slideshow": {
     "slide_type": "subslide"
    }
   },
   "outputs": [
    {
     "data": {
      "text/plain": [
       "4201.754385964912"
      ]
     },
     "execution_count": 12,
     "metadata": {},
     "output_type": "execute_result"
    }
   ],
   "source": [
    "pengs.body_mass_g.mean()"
   ]
  },
  {
   "cell_type": "markdown",
   "id": "c6f054e1",
   "metadata": {
    "slideshow": {
     "slide_type": "slide"
    }
   },
   "source": [
    "# Hypothesis Testing (Continued) \n",
    "\n",
    "1. Check normality and sample size for tips (good on both) \n",
    "2. Set up hypotheses\n",
    "3. Decide on significance level $\\alpha$ \n",
    "4. Calculate test statistic and/or $p$-value\n",
    "5. Make decision about null hypothesis"
   ]
  },
  {
   "cell_type": "markdown",
   "id": "fb454c0a",
   "metadata": {
    "slideshow": {
     "slide_type": "subslide"
    }
   },
   "source": [
    "# P-value\n",
    "\n",
    "> $p$-value is defined to be the smallest Type I error rate ($\\alpha$) that you have to be willing to tolerate if you want to reject the null hypothesis.\n",
    "\n",
    "> $p$-value (or probability value) is the probability that the test statistic equals the observed value or a more extreme value under the assumption that the null hypothesis is true. \n",
    "\n",
    "If our p-value is less than or equal to $\\alpha$, then there is enough evidence to reject the null hypothesis.\n",
    "If our p-value is greater than $\\alpha$, there is not enough evidence to reject the null hypothesis."
   ]
  },
  {
   "cell_type": "markdown",
   "id": "a66010f0",
   "metadata": {
    "slideshow": {
     "slide_type": "subslide"
    }
   },
   "source": [
    "# Demo\n",
    "\n",
    "* Check Normality\n",
    "* Set-up hypotheses: $H_0$: $\\mu = 4201$ AND $H_a$: $\\mu \\neq 4201$ (two-tailed test)\n",
    "* $\\alpha=0.05$\n",
    "\n",
    "<img src=\"https://ethanweed.github.io/pythonbook/_images/04.04-hypothesis-testing_15_1.png\">"
   ]
  },
  {
   "cell_type": "code",
   "execution_count": 13,
   "id": "577f5e1d",
   "metadata": {
    "slideshow": {
     "slide_type": "subslide"
    }
   },
   "outputs": [
    {
     "name": "stdout",
     "output_type": "stream",
     "text": [
      "Ttest_1sampResult(statistic=0.01739630065824133, pvalue=0.9861306342800811)\n",
      "Our p-value is not below alpha, thus we cannot reject the null hypothesis.\n",
      "We are 95% confident, that the population mean body weight of penguins is indeed 4201 grams\n"
     ]
    }
   ],
   "source": [
    "from scipy import stats\n",
    "\n",
    "print(stats.ttest_1samp(pengs.body_mass_g.dropna(), popmean=4201))\n",
    "print('Our p-value is not below alpha, thus we cannot reject the null hypothesis.')\n",
    "print(f'We are 95% confident, that the population mean body weight of penguins is indeed 4201 grams')"
   ]
  },
  {
   "cell_type": "markdown",
   "id": "e4e0b57f",
   "metadata": {
    "slideshow": {
     "slide_type": "subslide"
    }
   },
   "source": [
    "# Demo 2 \n",
    "\n",
    "* $H_0$: $\\mu \\leq 1000$ AND $H_a$: $\\mu > 1000$ (one-tailed test) \n",
    "* $\\alpha=0.05$\n",
    "\n",
    "<img src=\"https://ethanweed.github.io/pythonbook/_images/04.04-hypothesis-testing_20_1.png\">"
   ]
  },
  {
   "cell_type": "code",
   "execution_count": 14,
   "id": "5e804cc4",
   "metadata": {
    "slideshow": {
     "slide_type": "subslide"
    }
   },
   "outputs": [
    {
     "name": "stdout",
     "output_type": "stream",
     "text": [
      "Ttest_1sampResult(statistic=73.83313651463514, pvalue=4.1249540274922355e-212)\n",
      "Our p-value is below **alpha**, thus we cannot accept the null hypothesis.\n",
      "We are 95% confident, that the population mean body weight of penguins is greater than 1000 grams\n"
     ]
    }
   ],
   "source": [
    "from scipy import stats\n",
    "\n",
    "print(stats.ttest_1samp(pengs.body_mass_g.dropna(), popmean=1000, alternative='greater'))\n",
    "print('Our p-value is below **alpha**, thus we cannot accept the null hypothesis.')\n",
    "print('We are 95% confident, that the population mean body weight of penguins is greater than 1000 grams')"
   ]
  },
  {
   "cell_type": "markdown",
   "id": "0d0cec90",
   "metadata": {
    "slideshow": {
     "slide_type": "slide"
    }
   },
   "source": [
    "# Independent Samples $t$-test\n",
    "\n",
    "> Use for comparing the mean of two groups\n",
    "\n",
    "#### Does flipper length vary depending on the sex of the penguin? "
   ]
  },
  {
   "cell_type": "code",
   "execution_count": 15,
   "id": "d29c8c7d",
   "metadata": {
    "slideshow": {
     "slide_type": "subslide"
    }
   },
   "outputs": [
    {
     "data": {
      "text/plain": [
       "<AxesSubplot:xlabel='flipper_length_mm', ylabel='Count'>"
      ]
     },
     "execution_count": 15,
     "metadata": {},
     "output_type": "execute_result"
    },
    {
     "data": {
      "image/png": "[encoded data removed]",
      "text/plain": [
       "<Figure size 432x288 with 1 Axes>"
      ]
     },
     "metadata": {
      "filenames": {
       "image/png": "C:\\Users\\barguzin\\Documents\\Github\\ucsb_geog172\\_build\\jupyter_execute\\lectures\\lecture07_51_1.png"
      },
      "needs_background": "light"
     },
     "output_type": "display_data"
    }
   ],
   "source": [
    "sns.histplot(data=pengs, x=\"flipper_length_mm\", hue=\"sex\", element='step')"
   ]
  },
  {
   "cell_type": "code",
   "execution_count": 16,
   "id": "70cfa238",
   "metadata": {
    "slideshow": {
     "slide_type": "subslide"
    }
   },
   "outputs": [
    {
     "data": {
      "image/png": "[encoded data removed]",
      "text/plain": [
       "<Figure size 360x288 with 1 Axes>"
      ]
     },
     "metadata": {
      "filenames": {
       "image/png": "C:\\Users\\barguzin\\Documents\\Github\\ucsb_geog172\\_build\\jupyter_execute\\lectures\\lecture07_52_0.png"
      },
      "needs_background": "light"
     },
     "output_type": "display_data"
    }
   ],
   "source": [
    "import pingouin as pg\n",
    "\n",
    "ax = pg.qqplot(pengs.flipper_length_mm, dist='norm')"
   ]
  },
  {
   "cell_type": "code",
   "execution_count": 21,
   "id": "8c785b7f",
   "metadata": {
    "slideshow": {
     "slide_type": "subslide"
    }
   },
   "outputs": [
    {
     "data": {
      "text/plain": [
       "ShapiroResult(statistic=0.9517050385475159, pvalue=5.392858604125195e-09)"
      ]
     },
     "execution_count": 21,
     "metadata": {},
     "output_type": "execute_result"
    }
   ],
   "source": [
    "from scipy.stats import shapiro\n",
    "\n",
    "shapiro(pengs.flipper_length_mm.dropna()) # p-val<0.05 - departure from normality"
   ]
  },
  {
   "cell_type": "code",
   "execution_count": 18,
   "id": "2c26cc38",
   "metadata": {
    "slideshow": {
     "slide_type": "subslide"
    }
   },
   "outputs": [
    {
     "data": {
      "image/png": "[encoded data removed]",
      "text/plain": [
       "<Figure size 432x288 with 1 Axes>"
      ]
     },
     "metadata": {
      "filenames": {
       "image/png": "C:\\Users\\barguzin\\Documents\\Github\\ucsb_geog172\\_build\\jupyter_execute\\lectures\\lecture07_54_0.png"
      },
      "needs_background": "light"
     },
     "output_type": "display_data"
    }
   ],
   "source": [
    "sns.pointplot(x = 'sex', y = 'flipper_length_mm', data = pengs)\n",
    "sns.despine()"
   ]
  },
  {
   "cell_type": "code",
   "execution_count": 19,
   "id": "7c451044",
   "metadata": {
    "slideshow": {
     "slide_type": "subslide"
    }
   },
   "outputs": [
    {
     "data": {
      "text/html": [
       "<div>\n",
       "<style scoped>\n",
       "    .dataframe tbody tr th:only-of-type {\n",
       "        vertical-align: middle;\n",
       "    }\n",
       "\n",
       "    .dataframe tbody tr th {\n",
       "        vertical-align: top;\n",
       "    }\n",
       "\n",
       "    .dataframe thead th {\n",
       "        text-align: right;\n",
       "    }\n",
       "</style>\n",
       "<table border=\"1\" class=\"dataframe\">\n",
       "  <thead>\n",
       "    <tr style=\"text-align: right;\">\n",
       "      <th></th>\n",
       "      <th>T</th>\n",
       "      <th>dof</th>\n",
       "      <th>alternative</th>\n",
       "      <th>p-val</th>\n",
       "      <th>CI95%</th>\n",
       "      <th>cohen-d</th>\n",
       "      <th>BF10</th>\n",
       "      <th>power</th>\n",
       "    </tr>\n",
       "  </thead>\n",
       "  <tbody>\n",
       "    <tr>\n",
       "      <th>T-test</th>\n",
       "      <td>4.807866</td>\n",
       "      <td>325.278352</td>\n",
       "      <td>two-sided</td>\n",
       "      <td>0.000002</td>\n",
       "      <td>[4.22, 10.06]</td>\n",
       "      <td>0.526244</td>\n",
       "      <td>5880.711</td>\n",
       "      <td>0.997654</td>\n",
       "    </tr>\n",
       "  </tbody>\n",
       "</table>\n",
       "</div>"
      ],
      "text/plain": [
       "               T         dof alternative     p-val          CI95%   cohen-d  \\\n",
       "T-test  4.807866  325.278352   two-sided  0.000002  [4.22, 10.06]  0.526244   \n",
       "\n",
       "            BF10     power  \n",
       "T-test  5880.711  0.997654  "
      ]
     },
     "execution_count": 19,
     "metadata": {},
     "output_type": "execute_result"
    }
   ],
   "source": [
    "from pingouin import ttest\n",
    "pengs.dropna(inplace=True)\n",
    "\n",
    "ttest(pengs.loc[pengs.sex=='Male', 'flipper_length_mm'], pengs.loc[pengs.sex=='Female', 'flipper_length_mm']) "
   ]
  },
  {
   "cell_type": "code",
   "execution_count": 20,
   "id": "dab6806b",
   "metadata": {
    "slideshow": {
     "slide_type": "subslide"
    }
   },
   "outputs": [
    {
     "data": {
      "text/html": [
       "<div>\n",
       "<style scoped>\n",
       "    .dataframe tbody tr th:only-of-type {\n",
       "        vertical-align: middle;\n",
       "    }\n",
       "\n",
       "    .dataframe tbody tr th {\n",
       "        vertical-align: top;\n",
       "    }\n",
       "\n",
       "    .dataframe thead th {\n",
       "        text-align: right;\n",
       "    }\n",
       "</style>\n",
       "<table border=\"1\" class=\"dataframe\">\n",
       "  <thead>\n",
       "    <tr style=\"text-align: right;\">\n",
       "      <th></th>\n",
       "      <th>U-val</th>\n",
       "      <th>alternative</th>\n",
       "      <th>p-val</th>\n",
       "      <th>RBC</th>\n",
       "      <th>CLES</th>\n",
       "    </tr>\n",
       "  </thead>\n",
       "  <tbody>\n",
       "    <tr>\n",
       "      <th>MWU</th>\n",
       "      <td>18173.0</td>\n",
       "      <td>two-sided</td>\n",
       "      <td>9.011341e-07</td>\n",
       "      <td>-0.311183</td>\n",
       "      <td>0.655592</td>\n",
       "    </tr>\n",
       "  </tbody>\n",
       "</table>\n",
       "</div>"
      ],
      "text/plain": [
       "       U-val alternative         p-val       RBC      CLES\n",
       "MWU  18173.0   two-sided  9.011341e-07 -0.311183  0.655592"
      ]
     },
     "execution_count": 20,
     "metadata": {},
     "output_type": "execute_result"
    }
   ],
   "source": [
    "# amend for normality via Wilcoxon\n",
    "pg.mwu(pengs.loc[pengs.sex=='Male', 'flipper_length_mm'], pengs.loc[pengs.sex=='Female', 'flipper_length_mm'], alternative='two-sided')"
   ]
  },
  {
   "cell_type": "markdown",
   "id": "d1cfc0f6",
   "metadata": {
    "slideshow": {
     "slide_type": "subslide"
    }
   },
   "source": [
    "# Potential Problems\n",
    "\n",
    "* Non-normality of data (bi-modal) \n",
    "* Homogeneity of variance"
   ]
  },
  {
   "cell_type": "markdown",
   "id": "54073633",
   "metadata": {
    "slideshow": {
     "slide_type": "slide"
    }
   },
   "source": [
    "References: \n",
    "\n",
    "[Banerjee, A., Chitnis, U. B., Jadhav, S. L., Bhawalkar, J. S., & Chaudhury, S. (2009). Hypothesis testing, type I and type II errors. Industrial psychiatry journal, 18(2), 127.](https://www.ncbi.nlm.nih.gov/pmc/articles/PMC2996198/)\n",
    "\n",
    "\n",
    "[Rogerson, P. A. (2019). Statistical methods for geography: a student’s guide. Sage.](https://search.library.ucsb.edu/permalink/01UCSB_INST/1aqck9j/alma990022376840203776) \n",
    "\n",
    "[Penn State STAT 500: Applied Statistics Course Materials](https://online.stat.psu.edu/stat500/)\n",
    "\n",
    "[Learning Statistics with Python](https://ethanweed.github.io/pythonbook/landingpage.html)"
   ]
  }
 ],
 "metadata": {
  "celltoolbar": "Slideshow",
  "kernelspec": {
   "display_name": "Python (geo_env)",
   "language": "python",
   "name": "geo_env"
  },
  "language_info": {
   "codemirror_mode": {
    "name": "ipython",
    "version": 3
   },
   "file_extension": ".py",
   "mimetype": "text/x-python",
   "name": "python",
   "nbconvert_exporter": "python",
   "pygments_lexer": "ipython3",
   "version": "3.10.6"
  },
  "varInspector": {
   "cols": {
    "lenName": 16,
    "lenType": 16,
    "lenVar": 40
   },
   "kernels_config": {
    "python": {
     "delete_cmd_postfix": "",
     "delete_cmd_prefix": "del ",
     "library": "var_list.py",
     "varRefreshCmd": "print(var_dic_list())"
    },
    "r": {
     "delete_cmd_postfix": ") ",
     "delete_cmd_prefix": "rm(",
     "library": "var_list.r",
     "varRefreshCmd": "cat(var_dic_list()) "
    }
   },
   "types_to_exclude": [
    "module",
    "function",
    "builtin_function_or_method",
    "instance",
    "_Feature"
   ],
   "window_display": false
  }
 },
 "nbformat": 4,
 "nbformat_minor": 5
}