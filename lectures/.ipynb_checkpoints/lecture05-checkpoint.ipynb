{
 "cells": [
  {
   "cell_type": "markdown",
   "id": "872a627f",
   "metadata": {
    "slideshow": {
     "slide_type": "slide"
    }
   },
   "source": [
    "<h1> <center> GEOG 172: INTERMEDIATE GEOGRAPHICAL ANALYSIS </h1>\n",
    "    <h2> <center> Evgeny Noi </h2>\n",
    "        <h3> <center> Lecture 05: GeoVisualization </h3>"
   ]
  },
  {
   "cell_type": "markdown",
   "id": "fcfffe7e",
   "metadata": {
    "slideshow": {
     "slide_type": "slide"
    }
   },
   "source": [
    "# GeoVisualization \n",
    "\n",
    "* Process of interactively visualizing geographic information in any of the steps in spatial analyses, \n",
    "* Originated in cartography, geovis was pioneered under the ledership of Alan MacEachren (Penn State), who developed tools and methods for interactive exploratory data analysis. \n",
    "* A core argument for geovisualization is that visual thinking using maps is integral to the scientific process and hypothesis generation, and the role of maps grew beyond communicating the end results of an analysis or documentation process. \n",
    "* Geovis interacts with cartography, visual analytics, information visualization, scientific visualization, statistics, computer science, art-and-design, and cognitive science. \n",
    "\n",
    "*Source: https://gistbok.ucgis.org/bok-topics/geovisualization* "
   ]
  },
  {
   "cell_type": "markdown",
   "id": "8cdf435b",
   "metadata": {
    "slideshow": {
     "slide_type": "subslide"
    }
   },
   "source": [
    "|||\n",
    "|---|---|\n",
    "|<img src=\"https://gistbok.ucgis.org/sites/default/files/CV35-Fig1b_350.png\">|<img src=\"https://gistbok.ucgis.org/sites/default/files/CV35-Fig1a-350v.png\">|\n",
    "|Cartography Cube|Swoopy Framework|"
   ]
  },
  {
   "cell_type": "markdown",
   "id": "284db83c",
   "metadata": {
    "slideshow": {
     "slide_type": "subslide"
    }
   },
   "source": [
    "# What does geoviz look like in practice? \n",
    "\n",
    "<img src=\"https://gistbok.ucgis.org/sites/default/files/CV35-Fig3_0.png\">"
   ]
  },
  {
   "cell_type": "markdown",
   "id": "9c7b9644",
   "metadata": {
    "slideshow": {
     "slide_type": "slide"
    }
   },
   "source": [
    "# Skills for GeoVisualization \n",
    "\n",
    "* GUI-based tools and scripting languages (Processing, Python, D3JS)\n",
    "* Data processing skills\n",
    "* Analytical skills (statistics)\n",
    "* Visualization skills"
   ]
  },
  {
   "cell_type": "markdown",
   "id": "69f50b87",
   "metadata": {
    "slideshow": {
     "slide_type": "subslide"
    }
   },
   "source": [
    "# Typical Geovisualization Workflow \n",
    "\n",
    "* Raw data contains more information than we can visualize effectively \n",
    "* Thus, good understanding of visulization techniques is required \n",
    "    * cluttered displays, overplotting\n",
    "    * --> aggregate data, highlighting interesting aspects of data\n",
    "    * if visualization is interative a **user** can explore the data and find **interesting** \n",
    "* visual displays \n",
    "* visual variables (Bertin) \n",
    "* UI and UX design "
   ]
  },
  {
   "cell_type": "markdown",
   "id": "28dfa6ab",
   "metadata": {
    "slideshow": {
     "slide_type": "subslide"
    }
   },
   "source": [
    "# Typical Data Analysis (Lab) Workflow \n",
    "\n",
    "* **Find the data (Cal Fire)**\n",
    "* **Pre-process the data: import, inspect visually, look at missing values, filter, drop.**\n",
    "* **Exploratory Data Analysis (GEOVIZ). Generate visual and pose interesting questions about data (descriptive statistics)**\n",
    "* Data Analysis (inferential statistics) \n",
    "* Present Findings"
   ]
  },
  {
   "cell_type": "markdown",
   "id": "ce345f23",
   "metadata": {
    "slideshow": {
     "slide_type": "subslide"
    }
   },
   "source": [
    "# Data Analysis Example - California Wildfires \n",
    "\n",
    "1. Finding data \n",
    "    1. Calfire publishes data in .gdb format, which is not straight-forward to analyze in Python (What software can we use to analyze it?) \n",
    "    2. Use terminal command 'wget' to download the data via URL from the internet \n",
    "    3. Find and download mannually ([try it now](https://gis.data.ca.gov/maps/CALFIRE-Forestry::california-fire-perimeters-all-1))\n",
    "    4. Host on web services that provide readable url links and read via Pandas 'read_csv' function"
   ]
  },
  {
   "cell_type": "markdown",
   "id": "aaef4ab6",
   "metadata": {},
   "source": [
    "# Brainstorm Exercise\n",
    "\n",
    "> Working with your table, illicit interesting questions about wildfires in CA\n",
    "\n",
    "> Think about variables that are already in the data set \n",
    " \n",
    "> What new variables can we generate that will help us answer the questions "
   ]
  },
  {
   "cell_type": "code",
   "execution_count": 2,
   "id": "69421369",
   "metadata": {
    "slideshow": {
     "slide_type": "subslide"
    }
   },
   "outputs": [],
   "source": [
    "# copied form the lab "
   ]
  },
  {
   "cell_type": "markdown",
   "id": "e4b3bd55",
   "metadata": {
    "slideshow": {
     "slide_type": "slide"
    }
   },
   "source": [
    "# Data Analysis Example - California Wildfires \n",
    "\n",
    "2. Pre-process the data \n",
    "    1. remove variables that you will not be using (if necessary) \n",
    "    2. subset the data to your study area \n",
    "    3. convert variables for calculation (float --> int; string --> datetime; etc.) "
   ]
  },
  {
   "cell_type": "code",
   "execution_count": null,
   "id": "9b8d2e8c",
   "metadata": {
    "slideshow": {
     "slide_type": "subslide"
    }
   },
   "outputs": [],
   "source": [
    "# subset the data to only include one year \n",
    "fires2021 = fires.loc[fires['YEAR_']==2021]\n",
    "print(fires2021.shape) \n",
    "\n",
    "# convert data types \n",
    "fires2021['ALARM_DATE'] = pd.to_datetime(fires2021.ALARM_DATE)\n",
    "fires2021['CONT_DATE'] = pd.to_datetime(fires2021.CONT_DATE)\n",
    "\n",
    "# calculate duration\n",
    "fires2021['dur_days'] = (fires2021.CONT_DATE - fires2021.ALARM_DATE).dt.days\n",
    "\n",
    "# get the month start of fires \n",
    "fires2021['month_started'] = fires2021.ALARM_DATE.dt.month"
   ]
  },
  {
   "cell_type": "markdown",
   "id": "19567c97",
   "metadata": {
    "slideshow": {
     "slide_type": "slide"
    }
   },
   "source": [
    "# Exploratory Data Analysis\n",
    "\n",
    "1. Think about how numbers (statistics), non-spatial plots and geographic maps can help answer the questions you posed in the previous exercise? \n",
    "\n",
    "> useful Python functions: groupby(), reset_index(), set_index(); mean(), median(), sum(); plot(); "
   ]
  },
  {
   "cell_type": "code",
   "execution_count": null,
   "id": "b9c8b64f",
   "metadata": {
    "slideshow": {
     "slide_type": "subslide"
    }
   },
   "outputs": [],
   "source": [
    "# find average dur of fires \n",
    "print('average duration of fires in 2021:' fires2021.dur_days.mean())\n",
    "\n",
    "# which month has the most fire starts \n",
    "fires2021.month_started.value_counts().plot(kind='barh')"
   ]
  },
  {
   "cell_type": "code",
   "execution_count": null,
   "id": "9bcd0e9f",
   "metadata": {
    "slideshow": {
     "slide_type": "subslide"
    }
   },
   "outputs": [],
   "source": [
    "# average number of fires per each month \n",
    "fires_per_month = fires2021.groupby('month')['INC_NUM'].sum().reset_index()\n",
    "fires_per_month.set_index(\"month\", inplace=True)\n",
    "fires_per_month.plot()"
   ]
  }
 ],
 "metadata": {
  "celltoolbar": "Slideshow",
  "kernelspec": {
   "display_name": "Python (geo_env)",
   "language": "python",
   "name": "geo_env"
  },
  "language_info": {
   "codemirror_mode": {
    "name": "ipython",
    "version": 3
   },
   "file_extension": ".py",
   "mimetype": "text/x-python",
   "name": "python",
   "nbconvert_exporter": "python",
   "pygments_lexer": "ipython3",
   "version": "3.10.6"
  },
  "varInspector": {
   "cols": {
    "lenName": 16,
    "lenType": 16,
    "lenVar": 40
   },
   "kernels_config": {
    "python": {
     "delete_cmd_postfix": "",
     "delete_cmd_prefix": "del ",
     "library": "var_list.py",
     "varRefreshCmd": "print(var_dic_list())"
    },
    "r": {
     "delete_cmd_postfix": ") ",
     "delete_cmd_prefix": "rm(",
     "library": "var_list.r",
     "varRefreshCmd": "cat(var_dic_list()) "
    }
   },
   "types_to_exclude": [
    "module",
    "function",
    "builtin_function_or_method",
    "instance",
    "_Feature"
   ],
   "window_display": false
  }
 },
 "nbformat": 4,
 "nbformat_minor": 5
}
