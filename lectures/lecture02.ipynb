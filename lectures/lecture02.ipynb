{
 "cells": [
  {
   "cell_type": "markdown",
   "id": "0a1e1eda",
   "metadata": {
    "slideshow": {
     "slide_type": "slide"
    }
   },
   "source": [
    "<h1> <center> GEOG 172: INTERMEDIATE GEOGRAPHICAL ANALYSIS </h1>\n",
    "    <h2> <center> Evgeny Noi </h2>\n",
    "        <h3> <center> Lecture 02: Basic Statistics </h3>"
   ]
  },
  {
   "cell_type": "markdown",
   "id": "0aba8d53",
   "metadata": {
    "slideshow": {
     "slide_type": "slide"
    }
   },
   "source": [
    "# What is Statistics? \n",
    "\n",
    "* Statistics is the science concerned with developing and studying methods for collecting, analyzing, interpreting and presenting empirical data.\n",
    "* Two fundamental ideas in the field of statistics are uncertainty and variation. Probability is a mathematical language used to discuss uncertain events. \n",
    "* Any measurement or data collection effort is subject to a number of sources of variation (i.e. if we repeat the same measurement, and re-run tests, then the answer would likely change)."
   ]
  },
  {
   "cell_type": "markdown",
   "id": "303a9e23",
   "metadata": {
    "slideshow": {
     "slide_type": "slide"
    }
   },
   "source": [
    "# Different Types of Data \n",
    "\n",
    "* Continuous (interval, float, numeric) - *wind speed, time duration* \n",
    "* Discrete (integer, count) - *count of tornadoes per state* \n",
    "* Categorical (factors, nominal) - *state name* \n",
    "* Binary (logical, boolean) - *true / false* \n",
    "* Ordinal (explicit ordering) - *restaurant rating* "
   ]
  },
  {
   "cell_type": "markdown",
   "id": "e159d229",
   "metadata": {
    "slideshow": {
     "slide_type": "slide"
    }
   },
   "source": [
    "# Why Use Different Data Types \n",
    "\n",
    "* Optimize storage and computations \n",
    "* Optimize predictions (stats procedures)"
   ]
  },
  {
   "cell_type": "markdown",
   "id": "39bbf007",
   "metadata": {
    "slideshow": {
     "slide_type": "slide"
    }
   },
   "source": [
    "# Rectangular Data\n",
    "\n",
    "* Spreadsheet / database table. \n",
    "* Data frame \n",
    "* Feature (columns, independent variables) \n",
    "* Outcome (dependent variable) \n",
    "* Records (rows in a dataframe) "
   ]
  },
  {
   "cell_type": "code",
   "execution_count": null,
   "id": "037a058a",
   "metadata": {},
   "outputs": [],
   "source": [
    "df = pd.read_csv('C:/')"
   ]
  }
 ],
 "metadata": {
  "celltoolbar": "Slideshow",
  "kernelspec": {
   "display_name": "Python (geo_env)",
   "language": "python",
   "name": "geo_env"
  },
  "language_info": {
   "codemirror_mode": {
    "name": "ipython",
    "version": 3
   },
   "file_extension": ".py",
   "mimetype": "text/x-python",
   "name": "python",
   "nbconvert_exporter": "python",
   "pygments_lexer": "ipython3",
   "version": "3.10.6"
  },
  "varInspector": {
   "cols": {
    "lenName": 16,
    "lenType": 16,
    "lenVar": 40
   },
   "kernels_config": {
    "python": {
     "delete_cmd_postfix": "",
     "delete_cmd_prefix": "del ",
     "library": "var_list.py",
     "varRefreshCmd": "print(var_dic_list())"
    },
    "r": {
     "delete_cmd_postfix": ") ",
     "delete_cmd_prefix": "rm(",
     "library": "var_list.r",
     "varRefreshCmd": "cat(var_dic_list()) "
    }
   },
   "types_to_exclude": [
    "module",
    "function",
    "builtin_function_or_method",
    "instance",
    "_Feature"
   ],
   "window_display": false
  }
 },
 "nbformat": 4,
 "nbformat_minor": 5
}
