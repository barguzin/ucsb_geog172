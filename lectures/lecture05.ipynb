{
 "cells": [
  {
   "cell_type": "markdown",
   "id": "872a627f",
   "metadata": {
    "slideshow": {
     "slide_type": "slide"
    }
   },
   "source": [
    "<h1> <center> GEOG 172: INTERMEDIATE GEOGRAPHICAL ANALYSIS </h1>\n",
    "    <h2> <center> Evgeny Noi </h2>\n",
    "        <h3> <center> Lecture 05: GeoVisualization </h3>"
   ]
  },
  {
   "cell_type": "markdown",
   "id": "fcfffe7e",
   "metadata": {
    "slideshow": {
     "slide_type": "slide"
    }
   },
   "source": [
    "# GeoVisualization \n",
    "\n",
    "* Process of interactively visualizing geographic information in any of the steps in spatial analyses, \n",
    "* Originated in cartography, geovis was pioneered under the ledership of Alan MacEachren (Penn State), who developed tools and methods for interactive exploratory data analysis. \n",
    "* A core argument for geovisualization is that visual thinking using maps is integral to the scientific process and hypothesis generation, and the role of maps grew beyond communicating the end results of an analysis or documentation process. \n",
    "* Geovis interacts with cartography, visual analytics, information visualization, scientific visualization, statistics, computer science, art-and-design, and cognitive science. \n",
    "\n",
    "*Source: https://gistbok.ucgis.org/bok-topics/geovisualization* "
   ]
  },
  {
   "cell_type": "markdown",
   "id": "8cdf435b",
   "metadata": {
    "slideshow": {
     "slide_type": "subslide"
    }
   },
   "source": [
    "|||\n",
    "|---|---|\n",
    "|<img src=\"https://gistbok.ucgis.org/sites/default/files/CV35-Fig1b_350.png\">|<img src=\"https://gistbok.ucgis.org/sites/default/files/CV35-Fig1a-350v.png\">|\n",
    "|Cartography Cube|Swoopy Framework|"
   ]
  },
  {
   "cell_type": "markdown",
   "id": "284db83c",
   "metadata": {
    "slideshow": {
     "slide_type": "subslide"
    }
   },
   "source": [
    "# What does geoviz look like in practice? \n",
    "\n",
    "<img src=\"https://gistbok.ucgis.org/sites/default/files/CV35-Fig3_0.png\">"
   ]
  },
  {
   "cell_type": "markdown",
   "id": "9c7b9644",
   "metadata": {
    "slideshow": {
     "slide_type": "slide"
    }
   },
   "source": [
    "# Skills for GeoVisualization \n",
    "\n",
    "* GUI-based tools and scripting languages (Processing, Python, D3JS)\n",
    "* Data processing skills\n",
    "* Analytical skills (statistics)\n",
    "* Visualization skills"
   ]
  },
  {
   "cell_type": "markdown",
   "id": "69f50b87",
   "metadata": {
    "slideshow": {
     "slide_type": "subslide"
    }
   },
   "source": [
    "# Typical Geovisualization Workflow \n",
    "\n",
    "* Raw data contains more information than we can visualize effectively \n",
    "* Thus, good understanding of visulization techniques is required \n",
    "    * cluttered displays, overplotting\n",
    "    * --> aggregate data, highlighting interesting aspects of data\n",
    "    * if visualization is interative a **user** can explore the data and find **interesting** \n",
    "* visual displays \n",
    "* visual variables (Bertin) \n",
    "* UI and UX design "
   ]
  },
  {
   "cell_type": "markdown",
   "id": "28dfa6ab",
   "metadata": {
    "slideshow": {
     "slide_type": "subslide"
    }
   },
   "source": [
    "# Typical Data Analysis (Lab) Workflow \n",
    "\n",
    "* **Find the data (Cal Fire)**\n",
    "* **Pre-process the data: import, inspect visually, look at missing values, filter, drop.**\n",
    "* **Exploratory Data Analysis (GEOVIZ). Generate visual and pose interesting questions about data (descriptive statistics)**\n",
    "* Data Analysis (inferential statistics) \n",
    "* Present Findings"
   ]
  },
  {
   "cell_type": "markdown",
   "id": "ce345f23",
   "metadata": {
    "slideshow": {
     "slide_type": "subslide"
    }
   },
   "source": [
    "# Data Analysis Example - California Wildfires \n",
    "\n",
    "1. Finding data \n",
    "    1. Calfire publishes data in .gdb format, which is not straight-forward to analyze in Python (What software can we use to analyze it?) \n",
    "    2. Use terminal command 'wget' to download the data via URL from the internet \n",
    "    3. Find and download mannually ([try it now](https://gis.data.ca.gov/maps/CALFIRE-Forestry::california-fire-perimeters-all-1))\n",
    "    4. Host on web services that provide readable url links and read via Pandas 'read_csv' function"
   ]
  },
  {
   "cell_type": "markdown",
   "id": "aaef4ab6",
   "metadata": {},
   "source": [
    "# Brainstorm Exercise\n",
    "\n",
    "> Working with your table, illicit interesting questions about wildfires in CA\n",
    "\n",
    "> Think about variables that are already in the data set \n",
    " \n",
    "> What new variables can we generate that will help us answer the questions "
   ]
  },
  {
   "cell_type": "code",
   "execution_count": 1,
   "id": "69421369",
   "metadata": {
    "slideshow": {
     "slide_type": "subslide"
    }
   },
   "outputs": [],
   "source": [
    "# copied form the lab "
   ]
  },
  {
   "cell_type": "markdown",
   "id": "e4b3bd55",
   "metadata": {
    "slideshow": {
     "slide_type": "slide"
    }
   },
   "source": [
    "# Data Analysis Example - California Wildfires \n",
    "\n",
    "2. Pre-process the data \n",
    "    1. remove variables that you will not be using (if necessary) \n",
    "    2. subset the data to your study area \n",
    "    3. convert variables for calculation (float --> int; string --> datetime; etc.) "
   ]
  },
  {
   "cell_type": "markdown",
   "id": "3468a2d8",
   "metadata": {
    "slideshow": {
     "slide_type": "subslide"
    }
   },
   "source": [
    "# Note on naming conventions in Python\n",
    "\n",
    "* Never use the characters ‘l’ (lowercase letter el), ‘O’ (uppercase letter oh), or ‘I’ (uppercase letter eye) as single character variable names. In some fonts, these characters are indistinguishable from the numerals one and zero. When tempted to use ‘l’, use ‘L’ instead.\n",
    "* Class names should normally use the CapWords convention. But we do not use classes in this class! \n",
    "* Function names should be lowercase, with words separated by underscores as necessary to improve readability. Variable names follow the same convention as function names.\n",
    "\n",
    "More info in official [Python docs](https://peps.python.org/pep-0008/#prescriptive-naming-conventions) "
   ]
  },
  {
   "cell_type": "code",
   "execution_count": 3,
   "id": "4b3d88a5",
   "metadata": {
    "slideshow": {
     "slide_type": "subslide"
    }
   },
   "outputs": [],
   "source": [
    "import pandas as pd\n",
    "import geopandas as gpd\n",
    "import numpy as np\n",
    "import matplotlib.pyplot as plt"
   ]
  },
  {
   "cell_type": "code",
   "execution_count": 11,
   "id": "2a034b32",
   "metadata": {
    "slideshow": {
     "slide_type": "subslide"
    }
   },
   "outputs": [
    {
     "name": "stdout",
     "output_type": "stream",
     "text": [
      "(5250, 8)\n",
      "<class 'geopandas.geodataframe.GeoDataFrame'>\n"
     ]
    }
   ],
   "source": [
    "fires = gpd.read_file('https://github.com/barguzin/geo_data/raw/main/fires.zip')\n",
    "print(fires.shape) \n",
    "print(type(fires))"
   ]
  },
  {
   "cell_type": "code",
   "execution_count": 8,
   "id": "fbeece02",
   "metadata": {
    "slideshow": {
     "slide_type": "subslide"
    }
   },
   "outputs": [
    {
     "data": {
      "text/html": [
       "<div>\n",
       "<style scoped>\n",
       "    .dataframe tbody tr th:only-of-type {\n",
       "        vertical-align: middle;\n",
       "    }\n",
       "\n",
       "    .dataframe tbody tr th {\n",
       "        vertical-align: top;\n",
       "    }\n",
       "\n",
       "    .dataframe thead th {\n",
       "        text-align: right;\n",
       "    }\n",
       "</style>\n",
       "<table border=\"1\" class=\"dataframe\">\n",
       "  <thead>\n",
       "    <tr style=\"text-align: right;\">\n",
       "      <th></th>\n",
       "      <th>YEAR_</th>\n",
       "      <th>INC_NUM</th>\n",
       "      <th>UNIT_ID</th>\n",
       "      <th>ALARM_DATE</th>\n",
       "      <th>CONT_DATE</th>\n",
       "      <th>CAUSE</th>\n",
       "      <th>GIS_ACRES</th>\n",
       "      <th>geometry</th>\n",
       "    </tr>\n",
       "  </thead>\n",
       "  <tbody>\n",
       "    <tr>\n",
       "      <th>0</th>\n",
       "      <td>2020</td>\n",
       "      <td>00013212</td>\n",
       "      <td>NEU</td>\n",
       "      <td>2020-06-18</td>\n",
       "      <td>2020-06-23</td>\n",
       "      <td>11.0</td>\n",
       "      <td>109.602280</td>\n",
       "      <td>POLYGON ((-116841.251 97942.565, -116286.032 9...</td>\n",
       "    </tr>\n",
       "    <tr>\n",
       "      <th>1</th>\n",
       "      <td>2020</td>\n",
       "      <td>00011799</td>\n",
       "      <td>NEU</td>\n",
       "      <td>2020-06-01</td>\n",
       "      <td>2020-06-04</td>\n",
       "      <td>2.0</td>\n",
       "      <td>685.585022</td>\n",
       "      <td>POLYGON ((-117328.400 90212.407, -117226.732 8...</td>\n",
       "    </tr>\n",
       "    <tr>\n",
       "      <th>2</th>\n",
       "      <td>2020</td>\n",
       "      <td>00007619</td>\n",
       "      <td>NEU</td>\n",
       "      <td>2020-03-31</td>\n",
       "      <td>2020-04-01</td>\n",
       "      <td>9.0</td>\n",
       "      <td>12.931545</td>\n",
       "      <td>POLYGON ((-110213.270 105975.579, -110066.641 ...</td>\n",
       "    </tr>\n",
       "    <tr>\n",
       "      <th>3</th>\n",
       "      <td>2020</td>\n",
       "      <td>00008471</td>\n",
       "      <td>NEU</td>\n",
       "      <td>2020-04-14</td>\n",
       "      <td>2020-04-19</td>\n",
       "      <td>18.0</td>\n",
       "      <td>10.315964</td>\n",
       "      <td>POLYGON ((-111793.600 164243.615, -111624.716 ...</td>\n",
       "    </tr>\n",
       "    <tr>\n",
       "      <th>4</th>\n",
       "      <td>2020</td>\n",
       "      <td>00015865</td>\n",
       "      <td>BEA</td>\n",
       "      <td>2020-07-15</td>\n",
       "      <td>2020-07-16</td>\n",
       "      <td>14.0</td>\n",
       "      <td>376.910400</td>\n",
       "      <td>POLYGON ((-118955.900 122883.508, -118926.056 ...</td>\n",
       "    </tr>\n",
       "  </tbody>\n",
       "</table>\n",
       "</div>"
      ],
      "text/plain": [
       "  YEAR_   INC_NUM UNIT_ID ALARM_DATE  CONT_DATE  CAUSE   GIS_ACRES  \\\n",
       "0  2020  00013212     NEU 2020-06-18 2020-06-23   11.0  109.602280   \n",
       "1  2020  00011799     NEU 2020-06-01 2020-06-04    2.0  685.585022   \n",
       "2  2020  00007619     NEU 2020-03-31 2020-04-01    9.0   12.931545   \n",
       "3  2020  00008471     NEU 2020-04-14 2020-04-19   18.0   10.315964   \n",
       "4  2020  00015865     BEA 2020-07-15 2020-07-16   14.0  376.910400   \n",
       "\n",
       "                                            geometry  \n",
       "0  POLYGON ((-116841.251 97942.565, -116286.032 9...  \n",
       "1  POLYGON ((-117328.400 90212.407, -117226.732 8...  \n",
       "2  POLYGON ((-110213.270 105975.579, -110066.641 ...  \n",
       "3  POLYGON ((-111793.600 164243.615, -111624.716 ...  \n",
       "4  POLYGON ((-118955.900 122883.508, -118926.056 ...  "
      ]
     },
     "execution_count": 8,
     "metadata": {},
     "output_type": "execute_result"
    }
   ],
   "source": [
    "fires.head()"
   ]
  },
  {
   "cell_type": "code",
   "execution_count": 74,
   "id": "28d11e63",
   "metadata": {
    "slideshow": {
     "slide_type": "subslide"
    }
   },
   "outputs": [
    {
     "data": {
      "text/plain": [
       "<AxesSubplot:xlabel='YEAR_'>"
      ]
     },
     "execution_count": 74,
     "metadata": {},
     "output_type": "execute_result"
    },
    {
     "data": {
      "image/png": "[encoded data removed]",
      "text/plain": [
       "<Figure size 1152x288 with 1 Axes>"
      ]
     },
     "metadata": {
      "needs_background": "light"
     },
     "output_type": "display_data"
    }
   ],
   "source": [
    "fires_per_year = fires.groupby(\"YEAR_\")[\"INC_NUM\"].count().reset_index()\n",
    "fires_per_year.set_index('YEAR_', inplace=True)\n",
    "fires_per_year.plot(figsize=(16,4))"
   ]
  },
  {
   "cell_type": "code",
   "execution_count": 41,
   "id": "9b8d2e8c",
   "metadata": {
    "slideshow": {
     "slide_type": "subslide"
    }
   },
   "outputs": [
    {
     "name": "stdout",
     "output_type": "stream",
     "text": [
      "(207, 8)\n"
     ]
    },
    {
     "name": "stderr",
     "output_type": "stream",
     "text": [
      "C:\\Users\\noibar\\AppData\\Local\\Temp\\ipykernel_12020\\270685699.py:6: SettingWithCopyWarning: \n",
      "A value is trying to be set on a copy of a slice from a DataFrame\n",
      "\n",
      "See the caveats in the documentation: https://pandas.pydata.org/pandas-docs/stable/user_guide/indexing.html#returning-a-view-versus-a-copy\n",
      "  fires2021.drop('UNIT_ID', inplace=True, axis=1)\n",
      "C:\\Users\\noibar\\anaconda3\\envs\\geo_env\\lib\\site-packages\\geopandas\\geodataframe.py:1456: SettingWithCopyWarning: \n",
      "A value is trying to be set on a copy of a slice from a DataFrame.\n",
      "Try using .loc[row_indexer,col_indexer] = value instead\n",
      "\n",
      "See the caveats in the documentation: https://pandas.pydata.org/pandas-docs/stable/user_guide/indexing.html#returning-a-view-versus-a-copy\n",
      "  super().__setitem__(key, value)\n",
      "C:\\Users\\noibar\\anaconda3\\envs\\geo_env\\lib\\site-packages\\geopandas\\geodataframe.py:1456: SettingWithCopyWarning: \n",
      "A value is trying to be set on a copy of a slice from a DataFrame.\n",
      "Try using .loc[row_indexer,col_indexer] = value instead\n",
      "\n",
      "See the caveats in the documentation: https://pandas.pydata.org/pandas-docs/stable/user_guide/indexing.html#returning-a-view-versus-a-copy\n",
      "  super().__setitem__(key, value)\n",
      "C:\\Users\\noibar\\anaconda3\\envs\\geo_env\\lib\\site-packages\\geopandas\\geodataframe.py:1456: SettingWithCopyWarning: \n",
      "A value is trying to be set on a copy of a slice from a DataFrame.\n",
      "Try using .loc[row_indexer,col_indexer] = value instead\n",
      "\n",
      "See the caveats in the documentation: https://pandas.pydata.org/pandas-docs/stable/user_guide/indexing.html#returning-a-view-versus-a-copy\n",
      "  super().__setitem__(key, value)\n",
      "C:\\Users\\noibar\\anaconda3\\envs\\geo_env\\lib\\site-packages\\geopandas\\geodataframe.py:1456: SettingWithCopyWarning: \n",
      "A value is trying to be set on a copy of a slice from a DataFrame.\n",
      "Try using .loc[row_indexer,col_indexer] = value instead\n",
      "\n",
      "See the caveats in the documentation: https://pandas.pydata.org/pandas-docs/stable/user_guide/indexing.html#returning-a-view-versus-a-copy\n",
      "  super().__setitem__(key, value)\n"
     ]
    }
   ],
   "source": [
    "# subset the data to only include one year \n",
    "fires2021 = fires.loc[fires['YEAR_']=='2021']\n",
    "print(fires2021.shape) \n",
    "\n",
    "# drop a variable \n",
    "fires2021.drop('UNIT_ID', inplace=True, axis=1) \n",
    "\n",
    "# convert data types \n",
    "fires2021['ALARM_DATE'] = pd.to_datetime(fires2021.ALARM_DATE)\n",
    "fires2021['CONT_DATE'] = pd.to_datetime(fires2021.CONT_DATE)\n",
    "\n",
    "# calculate duration\n",
    "fires2021['dur_days'] = (fires2021.CONT_DATE - fires2021.ALARM_DATE).dt.days\n",
    "\n",
    "# get the month start of fires \n",
    "fires2021['month_started'] = fires2021.ALARM_DATE.dt.month"
   ]
  },
  {
   "cell_type": "code",
   "execution_count": 43,
   "id": "97c8f134",
   "metadata": {
    "slideshow": {
     "slide_type": "subslide"
    }
   },
   "outputs": [
    {
     "name": "stderr",
     "output_type": "stream",
     "text": [
      "C:\\Users\\noibar\\anaconda3\\envs\\geo_env\\lib\\site-packages\\geopandas\\geodataframe.py:1456: SettingWithCopyWarning: \n",
      "A value is trying to be set on a copy of a slice from a DataFrame.\n",
      "Try using .loc[row_indexer,col_indexer] = value instead\n",
      "\n",
      "See the caveats in the documentation: https://pandas.pydata.org/pandas-docs/stable/user_guide/indexing.html#returning-a-view-versus-a-copy\n",
      "  super().__setitem__(key, value)\n"
     ]
    },
    {
     "data": {
      "text/html": [
       "<div>\n",
       "<style scoped>\n",
       "    .dataframe tbody tr th:only-of-type {\n",
       "        vertical-align: middle;\n",
       "    }\n",
       "\n",
       "    .dataframe tbody tr th {\n",
       "        vertical-align: top;\n",
       "    }\n",
       "\n",
       "    .dataframe thead th {\n",
       "        text-align: right;\n",
       "    }\n",
       "</style>\n",
       "<table border=\"1\" class=\"dataframe\">\n",
       "  <thead>\n",
       "    <tr style=\"text-align: right;\">\n",
       "      <th></th>\n",
       "      <th>YEAR_</th>\n",
       "      <th>INC_NUM</th>\n",
       "      <th>ALARM_DATE</th>\n",
       "      <th>CONT_DATE</th>\n",
       "      <th>CAUSE</th>\n",
       "      <th>GIS_ACRES</th>\n",
       "      <th>geometry</th>\n",
       "      <th>dur_days</th>\n",
       "      <th>month_started</th>\n",
       "      <th>dow</th>\n",
       "    </tr>\n",
       "  </thead>\n",
       "  <tbody>\n",
       "    <tr>\n",
       "      <th>5038</th>\n",
       "      <td>2021</td>\n",
       "      <td>00002246</td>\n",
       "      <td>2021-03-27</td>\n",
       "      <td>2021-03-29</td>\n",
       "      <td>18.0</td>\n",
       "      <td>873.391724</td>\n",
       "      <td>POLYGON ((-134941.882 436471.047, -135837.750 ...</td>\n",
       "      <td>2</td>\n",
       "      <td>3</td>\n",
       "      <td>5</td>\n",
       "    </tr>\n",
       "    <tr>\n",
       "      <th>5039</th>\n",
       "      <td>2021</td>\n",
       "      <td>00000468</td>\n",
       "      <td>2021-01-19</td>\n",
       "      <td>2021-01-22</td>\n",
       "      <td>9.0</td>\n",
       "      <td>20.307356</td>\n",
       "      <td>MULTIPOLYGON (((-189428.399 -101523.942, -1894...</td>\n",
       "      <td>3</td>\n",
       "      <td>1</td>\n",
       "      <td>1</td>\n",
       "    </tr>\n",
       "    <tr>\n",
       "      <th>5040</th>\n",
       "      <td>2021</td>\n",
       "      <td>00000489</td>\n",
       "      <td>2021-01-19</td>\n",
       "      <td>2021-01-22</td>\n",
       "      <td>11.0</td>\n",
       "      <td>33.259224</td>\n",
       "      <td>MULTIPOLYGON (((-163472.149 -114234.730, -1633...</td>\n",
       "      <td>3</td>\n",
       "      <td>1</td>\n",
       "      <td>1</td>\n",
       "    </tr>\n",
       "    <tr>\n",
       "      <th>5041</th>\n",
       "      <td>2021</td>\n",
       "      <td>00000490</td>\n",
       "      <td>2021-01-19</td>\n",
       "      <td>2021-01-22</td>\n",
       "      <td>11.0</td>\n",
       "      <td>19.725822</td>\n",
       "      <td>POLYGON ((-189028.449 -89148.863, -189013.258 ...</td>\n",
       "      <td>3</td>\n",
       "      <td>1</td>\n",
       "      <td>1</td>\n",
       "    </tr>\n",
       "    <tr>\n",
       "      <th>5042</th>\n",
       "      <td>2021</td>\n",
       "      <td>00000508</td>\n",
       "      <td>2021-01-19</td>\n",
       "      <td>2021-01-21</td>\n",
       "      <td>9.0</td>\n",
       "      <td>21.936876</td>\n",
       "      <td>MULTIPOLYGON (((-192632.039 -90258.236, -19255...</td>\n",
       "      <td>2</td>\n",
       "      <td>1</td>\n",
       "      <td>1</td>\n",
       "    </tr>\n",
       "  </tbody>\n",
       "</table>\n",
       "</div>"
      ],
      "text/plain": [
       "     YEAR_   INC_NUM ALARM_DATE  CONT_DATE  CAUSE   GIS_ACRES  \\\n",
       "5038  2021  00002246 2021-03-27 2021-03-29   18.0  873.391724   \n",
       "5039  2021  00000468 2021-01-19 2021-01-22    9.0   20.307356   \n",
       "5040  2021  00000489 2021-01-19 2021-01-22   11.0   33.259224   \n",
       "5041  2021  00000490 2021-01-19 2021-01-22   11.0   19.725822   \n",
       "5042  2021  00000508 2021-01-19 2021-01-21    9.0   21.936876   \n",
       "\n",
       "                                               geometry  dur_days  \\\n",
       "5038  POLYGON ((-134941.882 436471.047, -135837.750 ...         2   \n",
       "5039  MULTIPOLYGON (((-189428.399 -101523.942, -1894...         3   \n",
       "5040  MULTIPOLYGON (((-163472.149 -114234.730, -1633...         3   \n",
       "5041  POLYGON ((-189028.449 -89148.863, -189013.258 ...         3   \n",
       "5042  MULTIPOLYGON (((-192632.039 -90258.236, -19255...         2   \n",
       "\n",
       "      month_started  dow  \n",
       "5038              3    5  \n",
       "5039              1    1  \n",
       "5040              1    1  \n",
       "5041              1    1  \n",
       "5042              1    1  "
      ]
     },
     "execution_count": 43,
     "metadata": {},
     "output_type": "execute_result"
    }
   ],
   "source": [
    "# EXERCISE\n",
    "\n",
    "fires2021['dow'] = fires2021.ALARM_DATE.dt.dayofweek # 0-Monday, 6-Sunday\n",
    "fires2021.head()"
   ]
  },
  {
   "cell_type": "code",
   "execution_count": 46,
   "id": "bf43f10b",
   "metadata": {},
   "outputs": [
    {
     "data": {
      "text/plain": [
       "YEAR_                    object\n",
       "INC_NUM                  object\n",
       "ALARM_DATE       datetime64[ns]\n",
       "CONT_DATE        datetime64[ns]\n",
       "CAUSE                   float64\n",
       "GIS_ACRES               float64\n",
       "geometry               geometry\n",
       "dur_days                  int64\n",
       "month_started             int64\n",
       "dow                       int64\n",
       "dtype: object"
      ]
     },
     "execution_count": 46,
     "metadata": {},
     "output_type": "execute_result"
    }
   ],
   "source": [
    "fires2021.dtypes"
   ]
  },
  {
   "cell_type": "markdown",
   "id": "19567c97",
   "metadata": {
    "slideshow": {
     "slide_type": "slide"
    }
   },
   "source": [
    "# Exploratory Data Analysis\n",
    "\n",
    "1. Think about how numbers (statistics), non-spatial plots and geographic maps can help answer the questions you posed in the previous exercise? \n",
    "\n",
    "> useful Python functions: groupby(), reset_index(), set_index(); mean(), median(), sum(); plot(); "
   ]
  },
  {
   "cell_type": "code",
   "execution_count": 59,
   "id": "b9c8b64f",
   "metadata": {
    "slideshow": {
     "slide_type": "subslide"
    }
   },
   "outputs": [
    {
     "name": "stdout",
     "output_type": "stream",
     "text": [
      "average duration of fires in 2021: 20.40096618357488\n"
     ]
    },
    {
     "data": {
      "image/png": "[encoded data removed]",
      "text/plain": [
       "<Figure size 432x288 with 1 Axes>"
      ]
     },
     "metadata": {
      "needs_background": "light"
     },
     "output_type": "display_data"
    }
   ],
   "source": [
    "# find average dur of fires \n",
    "print('average duration of fires in 2021:', fires2021.dur_days.mean())\n",
    "\n",
    "# add labels \n",
    "labs = ['Jan', 'Feb', 'Mar', 'Apr', 'May', 'Jun', 'Jul', 'Aug', 'Sep', 'Oct', 'Nov', 'Dec']\n",
    "\n",
    "# get unique values and tally them \n",
    "# this works well for count() function \n",
    "# when you need to calculate total number of something\n",
    "ax = fires2021.month_started.value_counts().sort_index().plot(kind='bar')\n",
    "ax.set_xticklabels(labs, rotation=45, fontsize=14);"
   ]
  },
  {
   "cell_type": "code",
   "execution_count": 71,
   "id": "9bcd0e9f",
   "metadata": {
    "slideshow": {
     "slide_type": "subslide"
    }
   },
   "outputs": [
    {
     "data": {
      "image/png": "[encoded data removed]",
      "text/plain": [
       "<Figure size 432x288 with 1 Axes>"
      ]
     },
     "metadata": {
      "needs_background": "light"
     },
     "output_type": "display_data"
    }
   ],
   "source": [
    "from matplotlib.ticker import FormatStrFormatter\n",
    "# another way to aggregate data \n",
    "# when you need mean() or sum()\n",
    "# total acreage by day of week for start of the fire \n",
    "fires_per_dow = fires2021.groupby('dow')['GIS_ACRES'].sum().reset_index()\n",
    "fires_per_dow.set_index(\"dow\", inplace=True)\n",
    "\n",
    "# add labels \n",
    "labs = ['Mon', 'Tue', 'Wed', 'Thu', 'Fri', 'Sat', 'Sun']\n",
    "\n",
    "ax = fires_per_dow.plot(kind='bar')\n",
    "ax.set_xticklabels(labs, rotation=45, fontsize=14);\n",
    "ax.set_xlabel(''); # remove 'dow' label \n",
    "\n",
    "ax.yaxis.set_major_formatter(FormatStrFormatter('%.0f'))"
   ]
  },
  {
   "cell_type": "code",
   "execution_count": null,
   "id": "fa4d944a",
   "metadata": {},
   "outputs": [],
   "source": []
  }
 ],
 "metadata": {
  "celltoolbar": "Slideshow",
  "kernelspec": {
   "display_name": "geo_env",
   "language": "python",
   "name": "geo_env"
  },
  "language_info": {
   "codemirror_mode": {
    "name": "ipython",
    "version": 3
   },
   "file_extension": ".py",
   "mimetype": "text/x-python",
   "name": "python",
   "nbconvert_exporter": "python",
   "pygments_lexer": "ipython3",
   "version": "3.10.5"
  },
  "varInspector": {
   "cols": {
    "lenName": 16,
    "lenType": 16,
    "lenVar": 40
   },
   "kernels_config": {
    "python": {
     "delete_cmd_postfix": "",
     "delete_cmd_prefix": "del ",
     "library": "var_list.py",
     "varRefreshCmd": "print(var_dic_list())"
    },
    "r": {
     "delete_cmd_postfix": ") ",
     "delete_cmd_prefix": "rm(",
     "library": "var_list.r",
     "varRefreshCmd": "cat(var_dic_list()) "
    }
   },
   "types_to_exclude": [
    "module",
    "function",
    "builtin_function_or_method",
    "instance",
    "_Feature"
   ],
   "window_display": false
  }
 },
 "nbformat": 4,
 "nbformat_minor": 5
}
