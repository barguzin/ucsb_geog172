{
 "cells": [
  {
   "cell_type": "markdown",
   "id": "f22c0e20",
   "metadata": {
    "slideshow": {
     "slide_type": "slide"
    }
   },
   "source": [
    "<h1> <center> GEOG 172: INTERMEDIATE GEOGRAPHICAL ANALYSIS </h1>\n",
    "    <h2> <center> Evgeny Noi </h2>\n",
    "        <h3> <center> Lecture 07: Statistical Testing and ANOVA </h3>"
   ]
  },
  {
   "cell_type": "markdown",
   "id": "5a06f555",
   "metadata": {
    "slideshow": {
     "slide_type": "slide"
    }
   },
   "source": [
    "# Statistical Testing \n",
    "\n",
    "* We are broadly interested in mean of a neighborhood and comparing it to the overall mean of the city\n",
    "* It is expensive to sample / survey entire city, so we would like to develop methdolology that could tell us **how likely** we are to find the values "
   ]
  },
  {
   "cell_type": "markdown",
   "id": "6d4e5ca9",
   "metadata": {
    "slideshow": {
     "slide_type": "subslide"
    }
   },
   "source": [
    "# Setting up our hypotheses \n",
    "\n",
    "* Null hypothesis: the mean of the neighborhood $\\mu=3.1$. \n",
    "* Alternative \n",
    "    * $\\mu > 3.1$ (one sided test) \n",
    "    * $\\mu \\neq 3.1$"
   ]
  },
  {
   "cell_type": "markdown",
   "id": "299d737a",
   "metadata": {
    "slideshow": {
     "slide_type": "subslide"
    }
   },
   "source": [
    "# Sample Probability \n",
    "\n",
    "* We sample 10 households in the neighborhood and find that $\\mu=11.1$ \n",
    "* How can we relate this value to our 'true' mean? \n",
    "    * Null is **TRUE**, but we have obtained an unusual sample \n",
    "    * Null is **FALSE** \n",
    "    \n",
    "> The role of statistic is to quantify how unusual it would be to obtain our sample if the null hypothesis was true"
   ]
  },
  {
   "cell_type": "markdown",
   "id": "d25356a2",
   "metadata": {},
   "source": [
    "# Judge Analogy \n",
    "\n",
    "* Think about a judge judging a defendant. \n",
    "* Judge begins by presuming innocence. The judge must decide whether there is sufficient evidence to reject the presumed innocence of the defendant (beyond a reasonable doubt). \n",
    "* A judge can err, however, by convicting a defendant who is innocent, or by failing to convict one who is actually guilty. \n",
    "* In similar fashion, the investigator starts by presuming the null hypothesis, or no association between the predictor and outcome variables in the population. \n",
    "* Based on the data collected in his sample, the investigator uses statistical tests to determine whether there is sufficient evidence to reject the null hypothesis in favor of the alternative hypothesis that there is an association in the population. The standard for these tests is shown as the level of statistical significance.\n",
    "\n",
    "Source: [Banerjee A, Chitnis UB, Jadhav SL, Bhawalkar JS, Chaudhury S. Hypothesis testing, type I and type II errors. Ind Psychiatry J. 2009 Jul;18(2):127-31. doi: 10.4103/0972-6748.62274. PMID: 21180491; PMCID: PMC2996198.](https://www.ncbi.nlm.nih.gov/pmc/articles/PMC2996198/)"
   ]
  },
  {
   "cell_type": "markdown",
   "id": "a77b8c9f",
   "metadata": {
    "slideshow": {
     "slide_type": "subslide"
    }
   },
   "source": [
    "# Error Types in Hypothesis Testing \n",
    "\n",
    "* Type I - rejecting a true hypothesis (denoted by $\\alpha$, typically set at 0.01, 0.05, and 0.1). *False positive*\n",
    "* Type II - accepting a false hypothesis *False negative*"
   ]
  },
  {
   "cell_type": "code",
   "execution_count": null,
   "id": "c69f3015",
   "metadata": {},
   "outputs": [],
   "source": []
  }
 ],
 "metadata": {
  "celltoolbar": "Slideshow",
  "kernelspec": {
   "display_name": "Python (geo_env)",
   "language": "python",
   "name": "geo_env"
  },
  "language_info": {
   "codemirror_mode": {
    "name": "ipython",
    "version": 3
   },
   "file_extension": ".py",
   "mimetype": "text/x-python",
   "name": "python",
   "nbconvert_exporter": "python",
   "pygments_lexer": "ipython3",
   "version": "3.10.6"
  },
  "varInspector": {
   "cols": {
    "lenName": 16,
    "lenType": 16,
    "lenVar": 40
   },
   "kernels_config": {
    "python": {
     "delete_cmd_postfix": "",
     "delete_cmd_prefix": "del ",
     "library": "var_list.py",
     "varRefreshCmd": "print(var_dic_list())"
    },
    "r": {
     "delete_cmd_postfix": ") ",
     "delete_cmd_prefix": "rm(",
     "library": "var_list.r",
     "varRefreshCmd": "cat(var_dic_list()) "
    }
   },
   "types_to_exclude": [
    "module",
    "function",
    "builtin_function_or_method",
    "instance",
    "_Feature"
   ],
   "window_display": false
  }
 },
 "nbformat": 4,
 "nbformat_minor": 5
}
