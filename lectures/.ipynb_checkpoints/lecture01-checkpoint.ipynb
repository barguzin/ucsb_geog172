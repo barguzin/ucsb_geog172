{
 "cells": [
  {
   "cell_type": "markdown",
   "id": "47b9aa1f",
   "metadata": {
    "slideshow": {
     "slide_type": "slide"
    }
   },
   "source": [
    "<h1> <center> GEOG 172: INTERMEDIATE GEOGRAPHICAL ANALYSIS </h1>\n",
    "<h1> <center> FALL 2022 </h1>\n",
    "    <h2> <center> Evgeny Noi </h2>\n",
    "        <p> <center> noi@ucsb.edu </p>"
   ]
  },
  {
   "cell_type": "markdown",
   "id": "def9b39c",
   "metadata": {
    "slideshow": {
     "slide_type": "slide"
    }
   },
   "source": [
    "# About me\n",
    "\n",
    "|||\n",
    "|---|---|\n",
    "|<img src=\"https://www.geog.ucsb.edu/sites/default/files/styles/medium_square/public/2021-01/evgeny-noi.jpg?h=ed0ea6f1&itok=Wn-GHLdG\" width=500px>|Born in Russia. PhD candidate at UCSB Dept of Geography. I specialize in spatio-temporal visualizations that help exploratory spatial data analysis and data-driven knowledge discovery. In my day-to-day tasks I prefer using FOSS (free and open source) tools (e.g. Python, QGIS, GeoDa, R, PostGIS) that help make research more reproducible.|"
   ]
  },
  {
   "cell_type": "markdown",
   "id": "e8ef4cba",
   "metadata": {
    "slideshow": {
     "slide_type": "slide"
    }
   },
   "source": [
    "# The outline of today's lecture\n",
    "\n",
    "1. Course Introduction\n",
    "    1. Syllabus\n",
    "    2. Weekly Patterns \n",
    "    3. Success tips\n",
    "2. GIS versus Geographical Analysis"
   ]
  },
  {
   "cell_type": "markdown",
   "id": "9f631416",
   "metadata": {
    "slideshow": {
     "slide_type": "slide"
    }
   },
   "source": [
    "# Course logistics \n",
    "\n",
    "1. **GauchoSpace** - dropboxes for quizzes and labs + announcements \n",
    "2. [**JupyterBook course page**](https://barguzin.github.io/ucsb_geog172/intro.html) - Syllabus, course materials, lab instructions "
   ]
  },
  {
   "cell_type": "markdown",
   "id": "f46ad4a4",
   "metadata": {
    "slideshow": {
     "slide_type": "slide"
    }
   },
   "source": [
    "# Evaluation \n",
    "\n",
    "1. Labs (40%) - the total of 8 labs. Lab 9 and 10 (as per Syllabus schedule) will be devoted to projects mostly. \n",
    "2. Project (30%) - 4 deliverables. \n",
    "    1. Data Report (5%)\n",
    "    2. Interim Progress Report (5%) \n",
    "    3. Presentation (10%) \n",
    "    4. Final Report (10%) "
   ]
  },
  {
   "cell_type": "markdown",
   "id": "0d5a21eb",
   "metadata": {
    "slideshow": {
     "slide_type": "subslide"
    }
   },
   "source": [
    "3. Weekly quizzes (20%) - multiple choice and short answers. Lowest quiz will be dropped. \n",
    "4. Participation (10%) - labs + lectures. "
   ]
  },
  {
   "cell_type": "markdown",
   "id": "f4ceca9a",
   "metadata": {
    "slideshow": {
     "slide_type": "slide"
    }
   },
   "source": [
    "# Labs \n",
    "\n",
    "* In-person (M/T). Switching Policy. \n",
    "* Python, GeoDa, ArcGIS / QGIS\n",
    "* Due the following week before section! \n",
    "* Late Policy: 1% for each hour late\n",
    "* See schedule in the Syllabus"
   ]
  },
  {
   "cell_type": "markdown",
   "id": "f29dbe14",
   "metadata": {
    "slideshow": {
     "slide_type": "slide"
    }
   },
   "source": [
    "# Why Project\n",
    "\n",
    "1. Projects mimic the on-the-job duties better. \n",
    "2. Spatial data tasks:\n",
    "    1. Acquire data (not part of this course) \n",
    "    2. Process data (partly covered) \n",
    "    3. Explore the data (covered) \n",
    "    4. Generate hypotheses about the data\n",
    "    5. Test hypothesis with statistics"
   ]
  },
  {
   "cell_type": "markdown",
   "id": "d8d8686f",
   "metadata": {
    "slideshow": {
     "slide_type": "slide"
    }
   },
   "source": [
    "# Project structure\n",
    "\n",
    "1. Data report. Find spatial data and describe in Python using code snippets learned in lab sections. \n",
    "2. Interim data report. Utilize spatial statistics to characterize your data spatially. \n",
    "3. Project presentation. Week 10. Sign-up for time either during lecture time or during lab time. \n",
    "4. Final Report. "
   ]
  },
  {
   "cell_type": "markdown",
   "id": "1dff2077",
   "metadata": {
    "slideshow": {
     "slide_type": "slide"
    }
   },
   "source": [
    "# Quizzes \n",
    "\n",
    "* Short answers and mulitple choice. Every Thursday: 8.00 - 23.00. Lowest score - dropped. "
   ]
  },
  {
   "cell_type": "markdown",
   "id": "20377744",
   "metadata": {
    "slideshow": {
     "slide_type": "slide"
    }
   },
   "source": [
    "# Participation \n",
    "\n",
    "* Required for both labs and lectures"
   ]
  },
  {
   "cell_type": "markdown",
   "id": "85987b50",
   "metadata": {
    "slideshow": {
     "slide_type": "slide"
    }
   },
   "source": [
    "|Wk|Date|Topics|Readings|\n",
    "|:-:|:-:|---|:-:|\n",
    "|1|09/26|Introduction/Review of Spatial Analysis|GIA Ch1| \n",
    "|1|09/28|Review of Basic Statistics|TBD|\n",
    "|2|10/3|Geographic Data|[SD](https://geographicdata.science/book/notebooks/03_spatial_data.html)|\n",
    "|2|10/5|Distance, adjacency and MAUP|GIA Ch1|\n",
    "|3|10/10|Geovisualization|GIA Ch3|\n",
    "|3|10/12|Point Pattern Analysis|GIA Ch5,6|\n",
    "|3|10/16|**Data Report Due**|⚠️|\n",
    "|4|10/17|Correlation and Covariance||\n",
    "|4|10/19|ANOVA||\n",
    "|5|10/24|Spatial Autocorrelation 1|GIA Ch7|\n",
    "|5|10/26|Spatial Autocorrelation 2||"
   ]
  },
  {
   "cell_type": "markdown",
   "id": "e63e70d4",
   "metadata": {
    "slideshow": {
     "slide_type": "subslide"
    }
   },
   "source": [
    "|Wk|Date|Topics|Readings|\n",
    "|:-:|:-:|---|:-:|\n",
    "|6|10/31|LISA and Local Moran's $I$|GIA Ch8|\n",
    "|6|11/2|Other Local Statistics|\n",
    "|6|11/6|**Interim Data Report Due**|⚠️|\n",
    "|7|11/7|Spatial Regression 1|[SR](https://geographicdata.science/book/notebooks/11_regression.html)|\n",
    "|7|11/9|Spatial Regression 2||\n",
    "|8|11/14|Spatial Clustering/Regionalization 1|[CR](https://geographicdata.science/book/notebooks/10_clustering_and_regionalization.html)|\n",
    "|8|11/16|Spatial Clustering/Regionalization 2||\n",
    "|9|11/21|Spatial Interpolation|GIA Ch9|\n",
    "|9|11/23|Geostatistics|GIA Ch10|\n",
    "|9|11/27|**Presentation slides due**|⚠️|\n",
    "|10|11/28|Presentations 1||\n",
    "|10|11/30|Presentations 2||\n",
    "|11|12/7|**Final Report Due**|⚠️|"
   ]
  },
  {
   "cell_type": "markdown",
   "id": "f040728b",
   "metadata": {
    "slideshow": {
     "slide_type": "slide"
    }
   },
   "source": [
    "# Weekly Class Schedule \n",
    "\n",
    "1. M/W: lectures (see Syllabus for readings) \n",
    "2. "
   ]
  }
 ],
 "metadata": {
  "celltoolbar": "Slideshow",
  "kernelspec": {
   "display_name": "Python 3 (ipykernel)",
   "language": "python",
   "name": "python3"
  },
  "language_info": {
   "codemirror_mode": {
    "name": "ipython",
    "version": 3
   },
   "file_extension": ".py",
   "mimetype": "text/x-python",
   "name": "python",
   "nbconvert_exporter": "python",
   "pygments_lexer": "ipython3",
   "version": "3.10.6"
  },
  "varInspector": {
   "cols": {
    "lenName": 16,
    "lenType": 16,
    "lenVar": 40
   },
   "kernels_config": {
    "python": {
     "delete_cmd_postfix": "",
     "delete_cmd_prefix": "del ",
     "library": "var_list.py",
     "varRefreshCmd": "print(var_dic_list())"
    },
    "r": {
     "delete_cmd_postfix": ") ",
     "delete_cmd_prefix": "rm(",
     "library": "var_list.r",
     "varRefreshCmd": "cat(var_dic_list()) "
    }
   },
   "types_to_exclude": [
    "module",
    "function",
    "builtin_function_or_method",
    "instance",
    "_Feature"
   ],
   "window_display": false
  }
 },
 "nbformat": 4,
 "nbformat_minor": 5
}
