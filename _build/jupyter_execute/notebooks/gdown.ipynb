{
 "cells": [
  {
   "cell_type": "markdown",
   "metadata": {
    "id": "jKs2r-Dzb1h1"
   },
   "source": [
    "# Instructions on how to upload your working file to Google Drive \n",
    "\n",
    "Once you have created the working file from your data report you can upload it to Google Drive using the procedure outlined below. The procedure utilizes the package *gdown* (so do not forget to 'pip install' it. I am using the guerry.zip file here, so all of the names can be tweaked according to whatever names you are using. \n",
    "\n",
    "Then follow the instructions below: \n",
    "\n",
    "1. Zip your working file (guerry.zip)\n",
    "2. Upload the file to your Google Drive. Right click the file > Share > General Access (Anyone with the link) > Viewer > Copy Link. \n",
    "3. Paste the link below for your convenience \n",
    "```\n",
    "https://drive.google.com/file/d/1DN2jTDbwdGhyIoR1YKkFZrEbode77_VF/view?usp=sharing\n",
    "``` \n",
    "4. Copy only file id from the link above (all symbols bewteen 'file/d/' and '/view?'\n",
    "```\n",
    "1DN2jTDbwdGhyIoR1YKkFZrEbode77_VF\n",
    "```\n",
    "5. Paste copied file id into URL below, like so \n",
    "```\n",
    "https://drive.google.com/uc?id=1DN2jTDbwdGhyIoR1YKkFZrEbode77_VF\n",
    "```\n",
    "6. Use gdown to download the file to content/ directory by copying the link from '5'\n",
    "```bash\n",
    "!gdown https://drive.google.com/uc?id=1DN2jTDbwdGhyIoR1YKkFZrEbode77_VF\n",
    "```\n",
    "7. Unzip the file using CLI. You will need to change the filename here with your own. \n",
    "```bash\n",
    "!unzip guerry.zip\n",
    "```\n",
    "8. Finally, read your data using pandas or geopandas depending on the type of your data.\n",
    "```python\n",
    "import geopandas as gpd\n",
    "guerry = gpd.read_file('guerry/guerry.shp')\n",
    "guerry.plot()\n",
    "```"
   ]
  },
  {
   "cell_type": "code",
   "execution_count": 1,
   "metadata": {
    "colab": {
     "base_uri": "https://localhost:8080/"
    },
    "id": "y1GgEEg8XANT",
    "outputId": "6086d137-9b64-4b67-da92-bda33ed9a0a2"
   },
   "outputs": [
    {
     "name": "stdout",
     "output_type": "stream",
     "text": [
      "Requirement already satisfied: gdown in c:\\users\\barguzin\\anaconda3\\envs\\geo_env\\lib\\site-packages (4.5.3)\n",
      "Requirement already satisfied: geopandas in c:\\users\\barguzin\\anaconda3\\envs\\geo_env\\lib\\site-packages (0.11.1)\n",
      "Requirement already satisfied: fiona in c:\\users\\barguzin\\anaconda3\\envs\\geo_env\\lib\\site-packages (1.8.21)\n",
      "Requirement already satisfied: rtree in c:\\users\\barguzin\\anaconda3\\envs\\geo_env\\lib\\site-packages (1.0.0)\n",
      "Requirement already satisfied: shapely in c:\\users\\barguzin\\anaconda3\\envs\\geo_env\\lib\\site-packages (1.8.4)\n",
      "Requirement already satisfied: pyproj in c:\\users\\barguzin\\anaconda3\\envs\\geo_env\\lib\\site-packages (3.4.0)\n",
      "Requirement already satisfied: beautifulsoup4 in c:\\users\\barguzin\\anaconda3\\envs\\geo_env\\lib\\site-packages (from gdown) (4.11.1)\n",
      "Requirement already satisfied: requests[socks] in c:\\users\\barguzin\\anaconda3\\envs\\geo_env\\lib\\site-packages (from gdown) (2.28.1)\n",
      "Requirement already satisfied: filelock in c:\\users\\barguzin\\anaconda3\\envs\\geo_env\\lib\\site-packages (from gdown) (3.8.0)\n",
      "Requirement already satisfied: six in c:\\users\\barguzin\\anaconda3\\envs\\geo_env\\lib\\site-packages (from gdown) (1.16.0)\n",
      "Requirement already satisfied: tqdm in c:\\users\\barguzin\\anaconda3\\envs\\geo_env\\lib\\site-packages (from gdown) (4.64.1)\n",
      "Requirement already satisfied: packaging in c:\\users\\barguzin\\anaconda3\\envs\\geo_env\\lib\\site-packages (from geopandas) (21.3)\n",
      "Requirement already satisfied: pandas>=1.0.0 in c:\\users\\barguzin\\anaconda3\\envs\\geo_env\\lib\\site-packages (from geopandas) (1.5.0)\n",
      "Requirement already satisfied: attrs>=17 in c:\\users\\barguzin\\anaconda3\\envs\\geo_env\\lib\\site-packages (from fiona) (21.4.0)\n",
      "Requirement already satisfied: certifi in c:\\users\\barguzin\\anaconda3\\envs\\geo_env\\lib\\site-packages (from fiona) (2022.9.24)\n",
      "Requirement already satisfied: click>=4.0 in c:\\users\\barguzin\\anaconda3\\envs\\geo_env\\lib\\site-packages (from fiona) (8.1.3)\n",
      "Requirement already satisfied: cligj>=0.5 in c:\\users\\barguzin\\anaconda3\\envs\\geo_env\\lib\\site-packages (from fiona) (0.7.2)\n",
      "Requirement already satisfied: click-plugins>=1.0 in c:\\users\\barguzin\\anaconda3\\envs\\geo_env\\lib\\site-packages (from fiona) (1.1.1)\n",
      "Requirement already satisfied: munch in c:\\users\\barguzin\\anaconda3\\envs\\geo_env\\lib\\site-packages (from fiona) (2.5.0)\n",
      "Requirement already satisfied: setuptools in c:\\users\\barguzin\\anaconda3\\envs\\geo_env\\lib\\site-packages (from fiona) (65.4.0)\n",
      "Requirement already satisfied: colorama in c:\\users\\barguzin\\anaconda3\\envs\\geo_env\\lib\\site-packages (from click>=4.0->fiona) (0.4.5)\n",
      "Requirement already satisfied: numpy>=1.21.0 in c:\\users\\barguzin\\anaconda3\\envs\\geo_env\\lib\\site-packages (from pandas>=1.0.0->geopandas) (1.23.3)\n",
      "Requirement already satisfied: python-dateutil>=2.8.1 in c:\\users\\barguzin\\anaconda3\\envs\\geo_env\\lib\\site-packages (from pandas>=1.0.0->geopandas) (2.8.2)\n",
      "Requirement already satisfied: pytz>=2020.1 in c:\\users\\barguzin\\anaconda3\\envs\\geo_env\\lib\\site-packages (from pandas>=1.0.0->geopandas) (2022.2.1)\n",
      "Requirement already satisfied: soupsieve>1.2 in c:\\users\\barguzin\\anaconda3\\envs\\geo_env\\lib\\site-packages (from beautifulsoup4->gdown) (2.3.2.post1)\n",
      "Requirement already satisfied: pyparsing!=3.0.5,>=2.0.2 in c:\\users\\barguzin\\anaconda3\\envs\\geo_env\\lib\\site-packages (from packaging->geopandas) (3.0.9)\n",
      "Requirement already satisfied: idna<4,>=2.5 in c:\\users\\barguzin\\anaconda3\\envs\\geo_env\\lib\\site-packages (from requests[socks]->gdown) (3.4)\n",
      "Requirement already satisfied: urllib3<1.27,>=1.21.1 in c:\\users\\barguzin\\anaconda3\\envs\\geo_env\\lib\\site-packages (from requests[socks]->gdown) (1.26.11)\n",
      "Requirement already satisfied: charset-normalizer<3,>=2 in c:\\users\\barguzin\\anaconda3\\envs\\geo_env\\lib\\site-packages (from requests[socks]->gdown) (2.1.1)\n",
      "Requirement already satisfied: PySocks!=1.5.7,>=1.5.6 in c:\\users\\barguzin\\anaconda3\\envs\\geo_env\\lib\\site-packages (from requests[socks]->gdown) (1.7.1)\n"
     ]
    }
   ],
   "source": [
    "!pip install gdown geopandas fiona rtree shapely pyproj"
   ]
  },
  {
   "cell_type": "code",
   "execution_count": 2,
   "metadata": {
    "colab": {
     "base_uri": "https://localhost:8080/"
    },
    "id": "gjeeEpvJX2lQ",
    "outputId": "93efa099-10d3-408e-973d-af0c04d19bd5"
   },
   "outputs": [
    {
     "name": "stderr",
     "output_type": "stream",
     "text": [
      "Downloading...\n",
      "From: https://drive.google.com/uc?id=1DN2jTDbwdGhyIoR1YKkFZrEbode77_VF\n",
      "To: C:\\Users\\barguzin\\Documents\\Github\\ucsb_geog172\\notebooks\\guerry.zip\n",
      "\n",
      "  0%|          | 0.00/572k [00:00<?, ?B/s]\n",
      "100%|##########| 572k/572k [00:00<00:00, 8.05MB/s]\n"
     ]
    }
   ],
   "source": [
    "! gdown https://drive.google.com/uc?id=1DN2jTDbwdGhyIoR1YKkFZrEbode77_VF\n",
    "\n",
    "#https://drive.google.com/file/d/1DN2jTDbwdGhyIoR1YKkFZrEbode77_VF/view?usp=sharing"
   ]
  },
  {
   "cell_type": "code",
   "execution_count": 3,
   "metadata": {
    "colab": {
     "base_uri": "https://localhost:8080/"
    },
    "id": "yALb5jLwYKxM",
    "outputId": "e3378745-f740-49a4-c3e4-ee215a1e8e9a"
   },
   "outputs": [
    {
     "name": "stderr",
     "output_type": "stream",
     "text": [
      "'ls' is not recognized as an internal or external command,\n",
      "operable program or batch file.\n"
     ]
    }
   ],
   "source": [
    "!ls"
   ]
  },
  {
   "cell_type": "code",
   "execution_count": 4,
   "metadata": {
    "colab": {
     "base_uri": "https://localhost:8080/"
    },
    "id": "xuYfGjMBYQIx",
    "outputId": "58d386ed-9fd7-4bcb-97e8-37b93588719c"
   },
   "outputs": [
    {
     "name": "stdout",
     "output_type": "stream",
     "text": [
      "^C\n",
      "Archive:  guerry.zip\n"
     ]
    },
    {
     "name": "stderr",
     "output_type": "stream",
     "text": [
      "replace guerry/guerry.dbf? [y]es, [n]o, [A]ll, [N]one, [r]ename: \n"
     ]
    }
   ],
   "source": [
    "!unzip guerry.zip"
   ]
  },
  {
   "cell_type": "code",
   "execution_count": null,
   "metadata": {
    "colab": {
     "base_uri": "https://localhost:8080/",
     "height": 289
    },
    "id": "OmGt4bkSYqCI",
    "outputId": "3c447400-952b-43fa-a540-9b1f8cd8203e"
   },
   "outputs": [
    {
     "data": {
      "image/png": "[encoded data removed]",
      "text/plain": [
       "<Figure size 432x288 with 1 Axes>"
      ]
     },
     "metadata": {
      "filenames": {
       "image/png": "C:\\Users\\barguzin\\Documents\\Github\\ucsb_geog172\\_build\\jupyter_execute\\notebooks\\gdown_5_0.png"
      },
      "needs_background": "light"
     },
     "output_type": "display_data"
    }
   ],
   "source": [
    "import geopandas as gpd\n",
    "guerry = gpd.read_file('guerry/guerry.shp')\n",
    "guerry.plot();"
   ]
  }
 ],
 "metadata": {
  "colab": {
   "collapsed_sections": [],
   "provenance": []
  },
  "kernelspec": {
   "display_name": "Python 3",
   "name": "python3"
  },
  "language_info": {
   "codemirror_mode": {
    "name": "ipython",
    "version": 3
   },
   "file_extension": ".py",
   "mimetype": "text/x-python",
   "name": "python",
   "nbconvert_exporter": "python",
   "pygments_lexer": "ipython3",
   "version": "3.10.6"
  }
 },
 "nbformat": 4,
 "nbformat_minor": 0
}