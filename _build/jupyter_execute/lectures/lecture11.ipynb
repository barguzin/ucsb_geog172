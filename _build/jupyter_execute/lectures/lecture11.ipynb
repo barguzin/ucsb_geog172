{
 "cells": [
  {
   "cell_type": "markdown",
   "id": "7c1e4c1e",
   "metadata": {
    "slideshow": {
     "slide_type": "slide"
    }
   },
   "source": [
    "<h1> <center> GEOG 172: INTERMEDIATE GEOGRAPHICAL ANALYSIS </h1>\n",
    "    <h2> <center> Evgeny Noi </h2>\n",
    "        <h3> <center> Lecture 11: Local Spatial Autocorrelation </h3>"
   ]
  },
  {
   "cell_type": "markdown",
   "id": "4b9bdb9f",
   "metadata": {
    "slideshow": {
     "slide_type": "slide"
    }
   },
   "source": [
    "# Review \n",
    "\n",
    "* Correlation versus Autocorrelation\n",
    "* Global Spatial Autocorrelation (positive: HH/LL; negative: HL/LH). \n",
    "* Moran's $I$, Geary's $C$ and Getis & Ord's $G$ "
   ]
  },
  {
   "cell_type": "markdown",
   "id": "758313f9",
   "metadata": {
    "slideshow": {
     "slide_type": "slide"
    }
   },
   "source": [
    "# Global versus Local Moran's $I$ \n",
    "\n",
    "$$\n",
    "I = \\frac{\\sum_i \\sum_j w_{ij} z_iz_j}{\\sum_i z_i^2},\n",
    "$$\n",
    "\n",
    "$$\n",
    "I_i = \\frac{\\sum_j w_{ij} z_iz_j}{\\sum_i z_i^2}.\n",
    "$$\n",
    "\n",
    "where $z_i = x_i - \\bar{x}$ (standardized value of the variable)."
   ]
  },
  {
   "cell_type": "markdown",
   "id": "3e8e043c",
   "metadata": {
    "slideshow": {
     "slide_type": "subslide"
    }
   },
   "source": [
    "# Local Moran's $I$ \n",
    "\n",
    "* Originally conceived to define local *spatial clusters* and *spatial outliers* \n",
    "    * spatial clusters (high-high, low-low)\n",
    "    * spatial outliers (high-low, low-high)\n",
    "* The sum of the local statistics is proporational to the global Moran’s I, or, alternatively, that the global Moran’s I corresponds with the average of the local statistics\n",
    "* Significance is assessed via a permutation inference (!!! Multiple Comparisons)"
   ]
  },
  {
   "cell_type": "markdown",
   "id": "8667f3d1",
   "metadata": {
    "slideshow": {
     "slide_type": "subslide"
    }
   },
   "source": [
    "# Multiple Comparisons \n",
    "\n",
    "> Situation when statistical analysis involves multiple simultaneous statistical tests, each of which has a potential to produce a \"discovery.\"). A stated confidence level generally applies only to each test considered individually, but often it is desirable to have a confidence level for the whole family of simultaneous tests. Failure to compensate for multiple comparisons can have important real-world consequences.\n",
    "\n",
    "Take the case of $S = 100$ hypotheses being tested at the same time, all of them being true, with the size and level of each test exactly equal to $\\alpha$. For $\\alpha = 0.05$, one expects five true hypotheses to be rejected. Further, if all tests are mutually independent, then the probability that at least one true null hypothesis will be rejected is given by $1 − 0.95^{100} = 0.994$."
   ]
  },
  {
   "cell_type": "markdown",
   "id": "2069f15f",
   "metadata": {
    "slideshow": {
     "slide_type": "subslide"
    }
   },
   "source": [
    "# Multiple Comparisons and LISA \n",
    "\n",
    "* Traditional choice of 0.05 is likely to lead to many false positives, i.e., rejections of the null when in fact it holds.\n",
    "* Bonferonni bounds ($\\alpha/n$) - very conservative (use to identify cluster centers) \n",
    "* False Discovery Rate - less conservative \n",
    "    * Sort $I_i$ p-values in the increasing order (variable $I$ denotes order) \n",
    "    * $FDR = i \\times \\alpha/n$ (for first observation: $FDR = 1 \\times 0.05/85 = 0.000118$ \n",
    "    * Select all observations where $p_{i_{max}} \\leq i \\times \\alpha / n$"
   ]
  },
  {
   "cell_type": "code",
   "execution_count": 1,
   "id": "fef4f855",
   "metadata": {
    "slideshow": {
     "slide_type": "subslide"
    }
   },
   "outputs": [
    {
     "name": "stdout",
     "output_type": "stream",
     "text": [
      "Example not available: Guerry\n"
     ]
    },
    {
     "name": "stdout",
     "output_type": "stream",
     "text": [
      "Example not downloaded: Chicago parcels\n",
      "Example not downloaded: Chile Migration\n",
      "Example not downloaded: Spirals\n"
     ]
    },
    {
     "name": "stdout",
     "output_type": "stream",
     "text": [
      "(85, 24)\n"
     ]
    },
    {
     "data": {
      "text/html": [
       "<div>\n",
       "<style scoped>\n",
       "    .dataframe tbody tr th:only-of-type {\n",
       "        vertical-align: middle;\n",
       "    }\n",
       "\n",
       "    .dataframe tbody tr th {\n",
       "        vertical-align: top;\n",
       "    }\n",
       "\n",
       "    .dataframe thead th {\n",
       "        text-align: right;\n",
       "    }\n",
       "</style>\n",
       "<table border=\"1\" class=\"dataframe\">\n",
       "  <thead>\n",
       "    <tr style=\"text-align: right;\">\n",
       "      <th></th>\n",
       "      <th>dept</th>\n",
       "      <th>Region</th>\n",
       "      <th>Dprtmnt</th>\n",
       "      <th>Crm_prs</th>\n",
       "      <th>Crm_prp</th>\n",
       "      <th>Litercy</th>\n",
       "      <th>Donatns</th>\n",
       "      <th>Infants</th>\n",
       "      <th>Suicids</th>\n",
       "      <th>MainCty</th>\n",
       "      <th>...</th>\n",
       "      <th>Infntcd</th>\n",
       "      <th>Dntn_cl</th>\n",
       "      <th>Lottery</th>\n",
       "      <th>Desertn</th>\n",
       "      <th>Instrct</th>\n",
       "      <th>Prsttts</th>\n",
       "      <th>Distanc</th>\n",
       "      <th>Area</th>\n",
       "      <th>Pop1831</th>\n",
       "      <th>geometry</th>\n",
       "    </tr>\n",
       "  </thead>\n",
       "  <tbody>\n",
       "    <tr>\n",
       "      <th>0</th>\n",
       "      <td>1</td>\n",
       "      <td>E</td>\n",
       "      <td>Ain</td>\n",
       "      <td>28870</td>\n",
       "      <td>15890</td>\n",
       "      <td>37</td>\n",
       "      <td>5098</td>\n",
       "      <td>33120</td>\n",
       "      <td>35039</td>\n",
       "      <td>2</td>\n",
       "      <td>...</td>\n",
       "      <td>60</td>\n",
       "      <td>69</td>\n",
       "      <td>41</td>\n",
       "      <td>55</td>\n",
       "      <td>46</td>\n",
       "      <td>13</td>\n",
       "      <td>218.372</td>\n",
       "      <td>5762</td>\n",
       "      <td>346.03</td>\n",
       "      <td>MULTIPOLYGON (((801150.00000 2092615.00000, 80...</td>\n",
       "    </tr>\n",
       "    <tr>\n",
       "      <th>1</th>\n",
       "      <td>2</td>\n",
       "      <td>N</td>\n",
       "      <td>Aisne</td>\n",
       "      <td>26226</td>\n",
       "      <td>5521</td>\n",
       "      <td>51</td>\n",
       "      <td>8901</td>\n",
       "      <td>14572</td>\n",
       "      <td>12831</td>\n",
       "      <td>2</td>\n",
       "      <td>...</td>\n",
       "      <td>82</td>\n",
       "      <td>36</td>\n",
       "      <td>38</td>\n",
       "      <td>82</td>\n",
       "      <td>24</td>\n",
       "      <td>327</td>\n",
       "      <td>65.945</td>\n",
       "      <td>7369</td>\n",
       "      <td>513.00</td>\n",
       "      <td>MULTIPOLYGON (((729326.00000 2521619.00000, 72...</td>\n",
       "    </tr>\n",
       "    <tr>\n",
       "      <th>2</th>\n",
       "      <td>3</td>\n",
       "      <td>C</td>\n",
       "      <td>Allier</td>\n",
       "      <td>26747</td>\n",
       "      <td>7925</td>\n",
       "      <td>13</td>\n",
       "      <td>10973</td>\n",
       "      <td>17044</td>\n",
       "      <td>114121</td>\n",
       "      <td>2</td>\n",
       "      <td>...</td>\n",
       "      <td>42</td>\n",
       "      <td>76</td>\n",
       "      <td>66</td>\n",
       "      <td>16</td>\n",
       "      <td>85</td>\n",
       "      <td>34</td>\n",
       "      <td>161.927</td>\n",
       "      <td>7340</td>\n",
       "      <td>298.26</td>\n",
       "      <td>MULTIPOLYGON (((710830.00000 2137350.00000, 71...</td>\n",
       "    </tr>\n",
       "    <tr>\n",
       "      <th>3</th>\n",
       "      <td>4</td>\n",
       "      <td>E</td>\n",
       "      <td>Basses-Alpes</td>\n",
       "      <td>12935</td>\n",
       "      <td>7289</td>\n",
       "      <td>46</td>\n",
       "      <td>2733</td>\n",
       "      <td>23018</td>\n",
       "      <td>14238</td>\n",
       "      <td>1</td>\n",
       "      <td>...</td>\n",
       "      <td>12</td>\n",
       "      <td>37</td>\n",
       "      <td>80</td>\n",
       "      <td>32</td>\n",
       "      <td>29</td>\n",
       "      <td>2</td>\n",
       "      <td>351.399</td>\n",
       "      <td>6925</td>\n",
       "      <td>155.90</td>\n",
       "      <td>MULTIPOLYGON (((882701.00000 1920024.00000, 88...</td>\n",
       "    </tr>\n",
       "    <tr>\n",
       "      <th>4</th>\n",
       "      <td>5</td>\n",
       "      <td>E</td>\n",
       "      <td>Hautes-Alpes</td>\n",
       "      <td>17488</td>\n",
       "      <td>8174</td>\n",
       "      <td>69</td>\n",
       "      <td>6962</td>\n",
       "      <td>23076</td>\n",
       "      <td>16171</td>\n",
       "      <td>1</td>\n",
       "      <td>...</td>\n",
       "      <td>23</td>\n",
       "      <td>64</td>\n",
       "      <td>79</td>\n",
       "      <td>35</td>\n",
       "      <td>7</td>\n",
       "      <td>1</td>\n",
       "      <td>320.280</td>\n",
       "      <td>5549</td>\n",
       "      <td>129.10</td>\n",
       "      <td>MULTIPOLYGON (((886504.00000 1922890.00000, 88...</td>\n",
       "    </tr>\n",
       "  </tbody>\n",
       "</table>\n",
       "<p>5 rows × 24 columns</p>\n",
       "</div>"
      ],
      "text/plain": [
       "   dept Region       Dprtmnt  Crm_prs  Crm_prp  Litercy  Donatns  Infants  \\\n",
       "0     1      E           Ain    28870    15890       37     5098    33120   \n",
       "1     2      N         Aisne    26226     5521       51     8901    14572   \n",
       "2     3      C        Allier    26747     7925       13    10973    17044   \n",
       "3     4      E  Basses-Alpes    12935     7289       46     2733    23018   \n",
       "4     5      E  Hautes-Alpes    17488     8174       69     6962    23076   \n",
       "\n",
       "   Suicids  MainCty  ...  Infntcd  Dntn_cl  Lottery  Desertn  Instrct  \\\n",
       "0    35039        2  ...       60       69       41       55       46   \n",
       "1    12831        2  ...       82       36       38       82       24   \n",
       "2   114121        2  ...       42       76       66       16       85   \n",
       "3    14238        1  ...       12       37       80       32       29   \n",
       "4    16171        1  ...       23       64       79       35        7   \n",
       "\n",
       "   Prsttts  Distanc  Area  Pop1831  \\\n",
       "0       13  218.372  5762   346.03   \n",
       "1      327   65.945  7369   513.00   \n",
       "2       34  161.927  7340   298.26   \n",
       "3        2  351.399  6925   155.90   \n",
       "4        1  320.280  5549   129.10   \n",
       "\n",
       "                                            geometry  \n",
       "0  MULTIPOLYGON (((801150.00000 2092615.00000, 80...  \n",
       "1  MULTIPOLYGON (((729326.00000 2521619.00000, 72...  \n",
       "2  MULTIPOLYGON (((710830.00000 2137350.00000, 71...  \n",
       "3  MULTIPOLYGON (((882701.00000 1920024.00000, 88...  \n",
       "4  MULTIPOLYGON (((886504.00000 1922890.00000, 88...  \n",
       "\n",
       "[5 rows x 24 columns]"
      ]
     },
     "execution_count": 1,
     "metadata": {},
     "output_type": "execute_result"
    }
   ],
   "source": [
    "from libpysal.examples import load_example\n",
    "import geopandas as gpd\n",
    "guerry_loc = load_example('Guerry')\n",
    "guerry = gpd.read_file(guerry_loc.get_path('guerry.geojson'))\n",
    "print(guerry.shape)\n",
    "guerry.head()"
   ]
  },
  {
   "cell_type": "code",
   "execution_count": 2,
   "id": "5e708bbb",
   "metadata": {
    "slideshow": {
     "slide_type": "subslide"
    }
   },
   "outputs": [
    {
     "name": "stderr",
     "output_type": "stream",
     "text": [
      "C:\\Users\\noibar\\anaconda3\\envs\\geo_env\\lib\\site-packages\\spaghetti\\network.py:36: FutureWarning: The next major release of pysal/spaghetti (2.0.0) will drop support for all ``libpysal.cg`` geometries. This change is a first step in refactoring ``spaghetti`` that is expected to result in dramatically reduced runtimes for network instantiation and operations. Users currently requiring network and point pattern input as ``libpysal.cg`` geometries should prepare for this simply by converting to ``shapely`` geometries.\n",
      "  warnings.warn(f\"{dep_msg}\", FutureWarning)\n"
     ]
    }
   ],
   "source": [
    "from pysal.explore import esda  # Exploratory Spatial analytics\n",
    "from pysal.lib import weights  # Spatial weights\n",
    "from splot.esda import moran_scatterplot, lisa_cluster\n",
    "from esda.moran import Moran, Moran_Local\n",
    "from splot.esda import plot_local_autocorrelation\n",
    "from splot.esda import plot_moran\n",
    "import matplotlib.pyplot as plt"
   ]
  },
  {
   "cell_type": "code",
   "execution_count": 3,
   "id": "77a84fbe",
   "metadata": {
    "slideshow": {
     "slide_type": "subslide"
    }
   },
   "outputs": [
    {
     "name": "stdout",
     "output_type": "stream",
     "text": [
      "Moran's I: 0.26355334031776523\n",
      "Moran's p-val: 0.001\n"
     ]
    }
   ],
   "source": [
    "y = guerry['Crm_prp'].values\n",
    "w = weights.Queen.from_dataframe(guerry)\n",
    "w.transform = 'r'\n",
    "\n",
    "# calculate global\n",
    "moran = Moran(y, w)\n",
    "print(\"Moran's I:\", moran.I)\n",
    "print(\"Moran's p-val:\", moran.p_sim)"
   ]
  },
  {
   "cell_type": "code",
   "execution_count": 4,
   "id": "4b41750a",
   "metadata": {
    "slideshow": {
     "slide_type": "subslide"
    }
   },
   "outputs": [
    {
     "data": {
      "image/png": "[encoded data removed]",
      "text/plain": [
       "<Figure size 720x288 with 2 Axes>"
      ]
     },
     "metadata": {
      "filenames": {
       "image/png": "D:\\gits\\ucsb_geog172\\_build\\jupyter_execute\\lectures\\lecture11_9_0.png"
      },
      "needs_background": "light"
     },
     "output_type": "display_data"
    }
   ],
   "source": [
    "plot_moran(moran, zstandard=True, figsize=(10,4))\n",
    "plt.show()"
   ]
  },
  {
   "cell_type": "markdown",
   "id": "f1722c5a",
   "metadata": {
    "slideshow": {
     "slide_type": "subslide"
    }
   },
   "source": [
    "<img src=\"https://geographicdata.science/book/_images/07_local_autocorrelation_21_0.png\">"
   ]
  },
  {
   "cell_type": "code",
   "execution_count": 5,
   "id": "accde1a7",
   "metadata": {
    "slideshow": {
     "slide_type": "subslide"
    }
   },
   "outputs": [],
   "source": [
    "# calculate Moran_Local and plot\n",
    "moran_loc = Moran_Local(y, w)"
   ]
  },
  {
   "cell_type": "code",
   "execution_count": 6,
   "id": "9902b1cf",
   "metadata": {
    "slideshow": {
     "slide_type": "subslide"
    }
   },
   "outputs": [
    {
     "data": {
      "image/png": "[encoded data removed]",
      "text/plain": [
       "<Figure size 504x504 with 1 Axes>"
      ]
     },
     "metadata": {
      "filenames": {
       "image/png": "D:\\gits\\ucsb_geog172\\_build\\jupyter_execute\\lectures\\lecture11_12_0.png"
      },
      "needs_background": "light"
     },
     "output_type": "display_data"
    }
   ],
   "source": [
    "fig, ax = moran_scatterplot(moran_loc, p=0.05)\n",
    "ax.set_xlabel('Crimes Againts Property')\n",
    "ax.set_ylabel('Spatial Lag of Crimes Against Property')\n",
    "plt.show()"
   ]
  },
  {
   "cell_type": "code",
   "execution_count": 7,
   "id": "ac0254e6",
   "metadata": {
    "slideshow": {
     "slide_type": "subslide"
    }
   },
   "outputs": [
    {
     "data": {
      "image/png": "[encoded data removed]",
      "text/plain": [
       "<Figure size 360x360 with 1 Axes>"
      ]
     },
     "metadata": {
      "filenames": {
       "image/png": "D:\\gits\\ucsb_geog172\\_build\\jupyter_execute\\lectures\\lecture11_13_0.png"
      },
      "needs_background": "light"
     },
     "output_type": "display_data"
    }
   ],
   "source": [
    "lisa_cluster(moran_loc, guerry, p=0.05, figsize = (5,5), aspect=1)\n",
    "plt.show()"
   ]
  },
  {
   "cell_type": "code",
   "execution_count": 8,
   "id": "8959723d",
   "metadata": {
    "slideshow": {
     "slide_type": "subslide"
    }
   },
   "outputs": [
    {
     "name": "stdout",
     "output_type": "stream",
     "text": [
      "0.005294117647058823\n",
      "0.011764705882352941\n"
     ]
    }
   ],
   "source": [
    "# Calculate the p-value cut-off to control \n",
    "# for the false discovery rate (FDR) for multiple testing.\n",
    "print(esda.fdr(moran_loc.p_sim, 0.05)) # Bonferonni\n",
    "print(esda.fdr(moran_loc.p_sim, 0.1)) # FDF cut-off"
   ]
  },
  {
   "cell_type": "markdown",
   "id": "3fb2adb2",
   "metadata": {
    "slideshow": {
     "slide_type": "slide"
    }
   },
   "source": [
    "# Extensions to Local Moran's $I$ \n",
    "\n",
    "* Bivariate Local Moran's $I$ \n",
    "* Differential Local Moran's $I$ \n",
    "* Local Moran's $I$ with EB rates"
   ]
  },
  {
   "cell_type": "markdown",
   "id": "2c538813",
   "metadata": {
    "slideshow": {
     "slide_type": "slide"
    }
   },
   "source": [
    "# Local Geary's $c$ \n",
    "\n",
    "$$\n",
    "LG_i = \\sum_j w_{ij}(x_i - x_j)^2\n",
    "$$\n",
    "\n",
    "While calculating Geary's c is possible in Python the plots are not yet automated. Use GeoDa for comparisons! "
   ]
  },
  {
   "cell_type": "markdown",
   "id": "4183887a",
   "metadata": {
    "slideshow": {
     "slide_type": "slide"
    }
   },
   "source": [
    "# Local Getis & Ord's $G$\n",
    "\n",
    "$$\n",
    "G_i = \\frac{\\sum_{j \\neq i} w_{ij} x_j}{\\sum_{j \\neq i} x_j} \\quad \\text{not including value at location i} \n",
    "$$\n",
    "\n",
    "$$\n",
    "G_i^* = \\frac{\\sum_j w_{ij} x_j}{\\sum_j x_j}\n",
    "$$\n",
    "\n",
    "In contrast to the Local Moran and Local Geary statistics, the Getis-Ord approach does not consider spatial outliers. Calculations similar to Local Geary's $C$"
   ]
  },
  {
   "cell_type": "markdown",
   "id": "57f9870a",
   "metadata": {
    "slideshow": {
     "slide_type": "slide"
    }
   },
   "source": [
    "# Interim Data Report\n",
    "\n",
    "## Class exercise \n",
    "\n",
    "> Work in pairs. Tell one another what data you are working in and what questions you hope to answer with the methods we've learned in class. \n",
    "\n",
    "### Due: Sunday (Nov 6, 2022) "
   ]
  },
  {
   "cell_type": "markdown",
   "id": "44149bbb",
   "metadata": {
    "slideshow": {
     "slide_type": "slide"
    }
   },
   "source": [
    "# Questions? "
   ]
  }
 ],
 "metadata": {
  "celltoolbar": "Slideshow",
  "kernelspec": {
   "display_name": "Python (geo_env)",
   "language": "python",
   "name": "geo_env"
  },
  "language_info": {
   "codemirror_mode": {
    "name": "ipython",
    "version": 3
   },
   "file_extension": ".py",
   "mimetype": "text/x-python",
   "name": "python",
   "nbconvert_exporter": "python",
   "pygments_lexer": "ipython3",
   "version": "3.10.5"
  },
  "varInspector": {
   "cols": {
    "lenName": 16,
    "lenType": 16,
    "lenVar": 40
   },
   "kernels_config": {
    "python": {
     "delete_cmd_postfix": "",
     "delete_cmd_prefix": "del ",
     "library": "var_list.py",
     "varRefreshCmd": "print(var_dic_list())"
    },
    "r": {
     "delete_cmd_postfix": ") ",
     "delete_cmd_prefix": "rm(",
     "library": "var_list.r",
     "varRefreshCmd": "cat(var_dic_list()) "
    }
   },
   "types_to_exclude": [
    "module",
    "function",
    "builtin_function_or_method",
    "instance",
    "_Feature"
   ],
   "window_display": false
  }
 },
 "nbformat": 4,
 "nbformat_minor": 5
}